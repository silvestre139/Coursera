{
 "cells": [
  {
   "cell_type": "markdown",
   "metadata": {},
   "source": [
    "# Capstone Project - The Battle of Neighborhoods (Week 1)"
   ]
  },
  {
   "cell_type": "markdown",
   "metadata": {},
   "source": [
    "## Table of contents\n",
    "* **Introduction: Business Problem**\n",
    "* **Data**\n",
    "* **Methodology and Analysis**\n",
    "* **Results**\n",
    "* **Discussion**\n",
    "* **Conclusion**"
   ]
  },
  {
   "cell_type": "markdown",
   "metadata": {},
   "source": [
    "# 1- Introduction: Business Problem <a name=\"introduction\"></a>"
   ]
  },
  {
   "cell_type": "markdown",
   "metadata": {},
   "source": [
    "#### Where you discuss the business problem and who would be interested in this project."
   ]
  },
  {
   "cell_type": "markdown",
   "metadata": {},
   "source": [
    "**Description :** In this project we will try to find an optimal location for a restaurant specialized in Dominican Food, the stakeholders owns two locations in Patterson NJ(USA) already, but she is interested in expanding her business to another state, in this case Georgia."
   ]
  },
  {
   "cell_type": "markdown",
   "metadata": {},
   "source": [
    "**Background:** The stakeholder knows there is a lot of people traveling through Georgia, due to Atlanta having an international airport, and being a busy city, she wants to make sure to get an ideal place, not too far from the airport, and where this type of restaurant is not common.  \n",
    "\n",
    "We will use our Data Science skills to find the ideal place that meets with these criteria, close to the airport, and in an area where restaurants are common, but here are not Dominican Restaurants yet, is OK any other type of Caribbean restaurants."
   ]
  },
  {
   "cell_type": "markdown",
   "metadata": {},
   "source": [
    "# 2- Data <a name=\"data\"></a>"
   ]
  },
  {
   "cell_type": "markdown",
   "metadata": {},
   "source": [
    "We were given 3 specific cities closed to the Airport to look into (**Atlanta, Decatur and Kennesaw**), and then select the best place for our Dominican Restaurant.  \n",
    "\n",
    "- First I used Foresquare API to collect the venues within 10 miles of each city center.  \n",
    "- Second I filtered the results and collected just the restaurants found within 10 miles of each city center.\n",
    "\n",
    "- Third I performed a search to make sure there were no other Dominican restaurants in the area.\n",
    "\n",
    "- Finally, I generated a plot with each restaurant found in each city center, to have a visual of how close are these restaurants to each other, this will give us an overview of the data that we're working with to find the best city to place our Dominican Restaurant."
   ]
  },
  {
   "cell_type": "code",
   "execution_count": 1,
   "metadata": {},
   "outputs": [],
   "source": [
    "import requests # library to handle requests\n",
    "import pandas as pd # library for data analsysis\n",
    "import numpy as np # library to handle data in a vectorized manner\n",
    "import random # library for random number generation\n",
    "import matplotlib.pyplot as plt\n",
    "from sklearn import metrics\n",
    "from sklearn.cluster import KMeans\n",
    "from sklearn.preprocessing import StandardScaler\n",
    "\n",
    "#!conda install -c conda-forge geopy --yes \n",
    "from geopy.geocoders import Nominatim # module to convert an address into latitude and longitude values\n",
    "\n",
    "# libraries for displaying images\n",
    "from IPython.display import Image \n",
    "from IPython.core.display import HTML \n",
    "    \n",
    "# tranforming json file into a pandas dataframe library\n",
    "from pandas.io.json import json_normalize\n",
    "\n",
    "#!conda install -c conda-forge folium=0.5.0 --yes\n",
    "import folium # plotting library\n",
    "from folium.plugins import MarkerCluster"
   ]
  },
  {
   "cell_type": "code",
   "execution_count": 2,
   "metadata": {},
   "outputs": [],
   "source": [
    "def get_category_type(row):\n",
    "    try:\n",
    "        categories_list = row['categories']\n",
    "    except:\n",
    "        categories_list = row['venue.categories']\n",
    "        \n",
    "    if len(categories_list) == 0:\n",
    "        return None\n",
    "    else:\n",
    "        return categories_list[0]['name']\n",
    "\n",
    "\n",
    "def json_to_dataframe(items):\n",
    "    dataframe = json_normalize(items) # flatten JSON\n",
    "\n",
    "    # filter columns\n",
    "    filtered_columns = ['venue.name', 'venue.categories'] + [col for col in dataframe.columns if col.startswith('venue.location.')] + ['venue.id']\n",
    "    dataframe_filtered = dataframe.loc[:, filtered_columns]\n",
    "\n",
    "    # filter the category for each row\n",
    "    dataframe_filtered['venue.categories'] = dataframe_filtered.apply(get_category_type, axis=1)\n",
    "\n",
    "    # clean columns\n",
    "    dataframe_filtered.columns = [col.split('.')[-1] for col in dataframe_filtered.columns]\n",
    "\n",
    "    return dataframe_filtered"
   ]
  },
  {
   "cell_type": "markdown",
   "metadata": {},
   "source": [
    "**Fourtsquare Credentials**"
   ]
  },
  {
   "cell_type": "code",
   "execution_count": 3,
   "metadata": {},
   "outputs": [],
   "source": [
    "# Fourtsquare Credentials\n",
    "CLIENT_ID = '0SNZYNIMMXS2QECV0POPXLWQNXYC4DIPSFARJEYD1TBSCLTA' # your Foursquare ID\n",
    "CLIENT_SECRET = 'SEZBRZ1VRC0PKCUTBSZUXTS021LBV5TZLIBU2UJX1YW5KM1H' # your Foursquare Secret\n",
    "VERSION = '20180604'\n",
    "RADIUS = 16093.4  # 10 miles\n",
    "LIMIT = 100\n",
    "# print('Your credentails:')\n",
    "# print('CLIENT_ID: ' + CLIENT_ID)\n",
    "# print('CLIENT_SECRET:' + CLIENT_SECRET)"
   ]
  },
  {
   "cell_type": "markdown",
   "metadata": {},
   "source": [
    "### Exploring our 3 locations"
   ]
  },
  {
   "cell_type": "markdown",
   "metadata": {},
   "source": [
    "**Atlanta Data Collection**"
   ]
  },
  {
   "cell_type": "code",
   "execution_count": 4,
   "metadata": {},
   "outputs": [
    {
     "data": {
      "text/plain": [
       "'There are 100 venues within 10 miles of Atlanta center.'"
      ]
     },
     "execution_count": 4,
     "metadata": {},
     "output_type": "execute_result"
    }
   ],
   "source": [
    "# Atlanta Coordinates\n",
    "atlanta = {'lat':33.749, 'lng':-84.388}\n",
    "\n",
    "# Atlanta URL to perform venew search\n",
    "url_atlanta = 'https://api.foursquare.com/v2/venues/explore?client_id={}&client_secret={}&ll={},{}&v={}&radius={}&limit={}'.format(CLIENT_ID, CLIENT_SECRET, atlanta['lat'], atlanta['lng'], VERSION, RADIUS, LIMIT)\n",
    "results_atlanta = requests.get(url_atlanta).json()\n",
    "\n",
    "\n",
    "# Collecting venue items into a DataFrame\n",
    "items_atlanta = results_atlanta['response']['groups'][0]['items']\n",
    "df_atlanta = json_to_dataframe(items_atlanta)\n",
    "\n",
    "'There are {} venues within 10 miles of Atlanta center.'.format(len(results_atlanta['response']['groups'][0]['items']))"
   ]
  },
  {
   "cell_type": "code",
   "execution_count": 5,
   "metadata": {},
   "outputs": [
    {
     "data": {
      "text/html": [
       "<div>\n",
       "<style scoped>\n",
       "    .dataframe tbody tr th:only-of-type {\n",
       "        vertical-align: middle;\n",
       "    }\n",
       "\n",
       "    .dataframe tbody tr th {\n",
       "        vertical-align: top;\n",
       "    }\n",
       "\n",
       "    .dataframe thead th {\n",
       "        text-align: right;\n",
       "    }\n",
       "</style>\n",
       "<table border=\"1\" class=\"dataframe\">\n",
       "  <thead>\n",
       "    <tr style=\"text-align: right;\">\n",
       "      <th></th>\n",
       "      <th>name</th>\n",
       "      <th>categories</th>\n",
       "      <th>address</th>\n",
       "      <th>cc</th>\n",
       "      <th>city</th>\n",
       "      <th>country</th>\n",
       "      <th>crossStreet</th>\n",
       "      <th>distance</th>\n",
       "      <th>formattedAddress</th>\n",
       "      <th>labeledLatLngs</th>\n",
       "      <th>lat</th>\n",
       "      <th>lng</th>\n",
       "      <th>neighborhood</th>\n",
       "      <th>postalCode</th>\n",
       "      <th>state</th>\n",
       "      <th>id</th>\n",
       "    </tr>\n",
       "  </thead>\n",
       "  <tbody>\n",
       "    <tr>\n",
       "      <th>0</th>\n",
       "      <td>Aviva by Kameel</td>\n",
       "      <td>Mediterranean Restaurant</td>\n",
       "      <td>225 Peachtree St NE</td>\n",
       "      <td>US</td>\n",
       "      <td>Atlanta</td>\n",
       "      <td>United States</td>\n",
       "      <td>In the Mall at Peachtree Center</td>\n",
       "      <td>1297</td>\n",
       "      <td>[225 Peachtree St NE (In the Mall at Peachtree...</td>\n",
       "      <td>[{'label': 'display', 'lat': 33.7605969735783,...</td>\n",
       "      <td>33.760597</td>\n",
       "      <td>-84.386548</td>\n",
       "      <td>NaN</td>\n",
       "      <td>30303</td>\n",
       "      <td>GA</td>\n",
       "      <td>50731cc9e4b06489e10a354d</td>\n",
       "    </tr>\n",
       "    <tr>\n",
       "      <th>3</th>\n",
       "      <td>Nick's Food To Go</td>\n",
       "      <td>Greek Restaurant</td>\n",
       "      <td>240 MLK Dr SE</td>\n",
       "      <td>US</td>\n",
       "      <td>Atlanta</td>\n",
       "      <td>United States</td>\n",
       "      <td>at Hill St</td>\n",
       "      <td>781</td>\n",
       "      <td>[240 MLK Dr SE (at Hill St), Atlanta, GA 30312...</td>\n",
       "      <td>[{'label': 'display', 'lat': 33.7474921065436,...</td>\n",
       "      <td>33.747492</td>\n",
       "      <td>-84.379749</td>\n",
       "      <td>NaN</td>\n",
       "      <td>30312</td>\n",
       "      <td>GA</td>\n",
       "      <td>4abbf3d9f964a520a28520e3</td>\n",
       "    </tr>\n",
       "    <tr>\n",
       "      <th>25</th>\n",
       "      <td>Atlanta Breakfast Club</td>\n",
       "      <td>American Restaurant</td>\n",
       "      <td>249 Ivan Allen Jr Blvd NW</td>\n",
       "      <td>US</td>\n",
       "      <td>Atlanta</td>\n",
       "      <td>United States</td>\n",
       "      <td>at Venable St NW</td>\n",
       "      <td>1888</td>\n",
       "      <td>[249 Ivan Allen Jr Blvd NW (at Venable St NW),...</td>\n",
       "      <td>[{'label': 'display', 'lat': 33.76479891528359...</td>\n",
       "      <td>33.764799</td>\n",
       "      <td>-84.395432</td>\n",
       "      <td>NaN</td>\n",
       "      <td>30313</td>\n",
       "      <td>GA</td>\n",
       "      <td>53298b6b498e04fb57694aae</td>\n",
       "    </tr>\n",
       "    <tr>\n",
       "      <th>31</th>\n",
       "      <td>Superica</td>\n",
       "      <td>Mexican Restaurant</td>\n",
       "      <td>99 Krog St NE</td>\n",
       "      <td>US</td>\n",
       "      <td>Atlanta</td>\n",
       "      <td>United States</td>\n",
       "      <td>NaN</td>\n",
       "      <td>2367</td>\n",
       "      <td>[99 Krog St NE, Atlanta, GA 30307, United States]</td>\n",
       "      <td>[{'label': 'display', 'lat': 33.75700282446537...</td>\n",
       "      <td>33.757003</td>\n",
       "      <td>-84.364299</td>\n",
       "      <td>NaN</td>\n",
       "      <td>30307</td>\n",
       "      <td>GA</td>\n",
       "      <td>54deafbf498eab5eadfd5319</td>\n",
       "    </tr>\n",
       "    <tr>\n",
       "      <th>32</th>\n",
       "      <td>Poor Calvin's</td>\n",
       "      <td>Thai Restaurant</td>\n",
       "      <td>510 Piedmont Ave NE</td>\n",
       "      <td>US</td>\n",
       "      <td>Atlanta</td>\n",
       "      <td>United States</td>\n",
       "      <td>Renaissance Pkwy. NE</td>\n",
       "      <td>2223</td>\n",
       "      <td>[510 Piedmont Ave NE (Renaissance Pkwy. NE), A...</td>\n",
       "      <td>[{'label': 'display', 'lat': 33.7684, 'lng': -...</td>\n",
       "      <td>33.768400</td>\n",
       "      <td>-84.382260</td>\n",
       "      <td>NaN</td>\n",
       "      <td>30308</td>\n",
       "      <td>GA</td>\n",
       "      <td>50a570e38aca7f0bfeca898c</td>\n",
       "    </tr>\n",
       "  </tbody>\n",
       "</table>\n",
       "</div>"
      ],
      "text/plain": [
       "                      name                categories  \\\n",
       "0          Aviva by Kameel  Mediterranean Restaurant   \n",
       "3        Nick's Food To Go          Greek Restaurant   \n",
       "25  Atlanta Breakfast Club       American Restaurant   \n",
       "31                Superica        Mexican Restaurant   \n",
       "32           Poor Calvin's           Thai Restaurant   \n",
       "\n",
       "                      address  cc     city        country  \\\n",
       "0         225 Peachtree St NE  US  Atlanta  United States   \n",
       "3               240 MLK Dr SE  US  Atlanta  United States   \n",
       "25  249 Ivan Allen Jr Blvd NW  US  Atlanta  United States   \n",
       "31              99 Krog St NE  US  Atlanta  United States   \n",
       "32        510 Piedmont Ave NE  US  Atlanta  United States   \n",
       "\n",
       "                        crossStreet  distance  \\\n",
       "0   In the Mall at Peachtree Center      1297   \n",
       "3                        at Hill St       781   \n",
       "25                 at Venable St NW      1888   \n",
       "31                              NaN      2367   \n",
       "32             Renaissance Pkwy. NE      2223   \n",
       "\n",
       "                                     formattedAddress  \\\n",
       "0   [225 Peachtree St NE (In the Mall at Peachtree...   \n",
       "3   [240 MLK Dr SE (at Hill St), Atlanta, GA 30312...   \n",
       "25  [249 Ivan Allen Jr Blvd NW (at Venable St NW),...   \n",
       "31  [99 Krog St NE, Atlanta, GA 30307, United States]   \n",
       "32  [510 Piedmont Ave NE (Renaissance Pkwy. NE), A...   \n",
       "\n",
       "                                       labeledLatLngs        lat        lng  \\\n",
       "0   [{'label': 'display', 'lat': 33.7605969735783,...  33.760597 -84.386548   \n",
       "3   [{'label': 'display', 'lat': 33.7474921065436,...  33.747492 -84.379749   \n",
       "25  [{'label': 'display', 'lat': 33.76479891528359...  33.764799 -84.395432   \n",
       "31  [{'label': 'display', 'lat': 33.75700282446537...  33.757003 -84.364299   \n",
       "32  [{'label': 'display', 'lat': 33.7684, 'lng': -...  33.768400 -84.382260   \n",
       "\n",
       "   neighborhood postalCode state                        id  \n",
       "0           NaN      30303    GA  50731cc9e4b06489e10a354d  \n",
       "3           NaN      30312    GA  4abbf3d9f964a520a28520e3  \n",
       "25          NaN      30313    GA  53298b6b498e04fb57694aae  \n",
       "31          NaN      30307    GA  54deafbf498eab5eadfd5319  \n",
       "32          NaN      30308    GA  50a570e38aca7f0bfeca898c  "
      ]
     },
     "execution_count": 5,
     "metadata": {},
     "output_type": "execute_result"
    }
   ],
   "source": [
    "# Collecting restaurants in our Dataframe\n",
    "df_atl_rest = df_atlanta[df_atlanta[\"categories\"].str.contains('Restaurant')]\n",
    "df_atl_rest.head()"
   ]
  },
  {
   "cell_type": "code",
   "execution_count": 6,
   "metadata": {},
   "outputs": [
    {
     "data": {
      "text/plain": [
       "23"
      ]
     },
     "execution_count": 6,
     "metadata": {},
     "output_type": "execute_result"
    }
   ],
   "source": [
    "# Amount of restaurants found within 10 miles of Atlanta center.\n",
    "df_atl_rest[\"categories\"].count()"
   ]
  },
  {
   "cell_type": "code",
   "execution_count": 7,
   "metadata": {},
   "outputs": [
    {
     "data": {
      "text/plain": [
       "0"
      ]
     },
     "execution_count": 7,
     "metadata": {},
     "output_type": "execute_result"
    }
   ],
   "source": [
    "# Amount of restaurants with the word Dominican in their name found within 10 miles of Atlanta center.\n",
    "df_atl_rest[\"categories\"][df_atl_rest[\"categories\"].str.contains('Dominican|Dominicano')].count()"
   ]
  },
  {
   "cell_type": "code",
   "execution_count": 8,
   "metadata": {},
   "outputs": [
    {
     "data": {
      "text/html": [
       "<div style=\"width:100%;\"><div style=\"position:relative;width:100%;height:0;padding-bottom:60%;\"><iframe src=\"data:text/html;charset=utf-8;base64,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\" style=\"position:absolute;width:100%;height:100%;left:0;top:0;border:none !important;\" allowfullscreen webkitallowfullscreen mozallowfullscreen></iframe></div></div>"
      ],
      "text/plain": [
       "<folium.folium.Map at 0x7f4f1ac29400>"
      ]
     },
     "execution_count": 8,
     "metadata": {},
     "output_type": "execute_result"
    }
   ],
   "source": [
    "atlanta_map = folium.Map(location=[atlanta['lat'], atlanta['lng']], zoom_start=13)\n",
    "\n",
    "# Add restaurants to the map\n",
    "for lat, lng, label in zip(df_atl_rest.lat, df_atl_rest.lng, df_atl_rest.categories):\n",
    "    folium.features.CircleMarker(\n",
    "        [lat, lng],\n",
    "        radius=5,\n",
    "        popup=label,\n",
    "        fill=True,\n",
    "        color='blue',\n",
    "        fill_color='yellow',\n",
    "        fill_opacity=0.6\n",
    "        ).add_to(atlanta_map)\n",
    "\n",
    "# display map\n",
    "atlanta_map"
   ]
  },
  {
   "cell_type": "markdown",
   "metadata": {},
   "source": [
    "**Decatur Data Collection**"
   ]
  },
  {
   "cell_type": "code",
   "execution_count": 9,
   "metadata": {},
   "outputs": [
    {
     "data": {
      "text/plain": [
       "'There are 100 venues within 10 miles of Decatur center.'"
      ]
     },
     "execution_count": 9,
     "metadata": {},
     "output_type": "execute_result"
    }
   ],
   "source": [
    "decatur = {'lat':33.774, 'lng':-84.296}\n",
    "\n",
    "# Decatur URL to perform venew search\n",
    "url_decatur = 'https://api.foursquare.com/v2/venues/explore?client_id={}&client_secret={}&ll={},{}&v={}&radius={}&limit={}'.format(CLIENT_ID, CLIENT_SECRET, decatur['lat'], decatur['lng'], VERSION, RADIUS, LIMIT)\n",
    "results_decatur = requests.get(url_decatur).json()\n",
    "\n",
    "# Collecting venue items into a DataFrame\n",
    "items_decatur = results_decatur['response']['groups'][0]['items']\n",
    "df_decatur = json_to_dataframe(items_decatur)\n",
    "\n",
    "'There are {} venues within 10 miles of Decatur center.'.format(len(results_decatur['response']['groups'][0]['items']))"
   ]
  },
  {
   "cell_type": "code",
   "execution_count": 10,
   "metadata": {},
   "outputs": [
    {
     "data": {
      "text/html": [
       "<div>\n",
       "<style scoped>\n",
       "    .dataframe tbody tr th:only-of-type {\n",
       "        vertical-align: middle;\n",
       "    }\n",
       "\n",
       "    .dataframe tbody tr th {\n",
       "        vertical-align: top;\n",
       "    }\n",
       "\n",
       "    .dataframe thead th {\n",
       "        text-align: right;\n",
       "    }\n",
       "</style>\n",
       "<table border=\"1\" class=\"dataframe\">\n",
       "  <thead>\n",
       "    <tr style=\"text-align: right;\">\n",
       "      <th></th>\n",
       "      <th>name</th>\n",
       "      <th>categories</th>\n",
       "      <th>address</th>\n",
       "      <th>cc</th>\n",
       "      <th>city</th>\n",
       "      <th>country</th>\n",
       "      <th>crossStreet</th>\n",
       "      <th>distance</th>\n",
       "      <th>formattedAddress</th>\n",
       "      <th>labeledLatLngs</th>\n",
       "      <th>lat</th>\n",
       "      <th>lng</th>\n",
       "      <th>neighborhood</th>\n",
       "      <th>postalCode</th>\n",
       "      <th>state</th>\n",
       "      <th>id</th>\n",
       "    </tr>\n",
       "  </thead>\n",
       "  <tbody>\n",
       "    <tr>\n",
       "      <th>1</th>\n",
       "      <td>The Iberian Pig</td>\n",
       "      <td>Spanish Restaurant</td>\n",
       "      <td>121 Sycamore St</td>\n",
       "      <td>US</td>\n",
       "      <td>Decatur</td>\n",
       "      <td>United States</td>\n",
       "      <td>NaN</td>\n",
       "      <td>42</td>\n",
       "      <td>[121 Sycamore St, Decatur, GA 30030, United St...</td>\n",
       "      <td>[{'label': 'display', 'lat': 33.77438, 'lng': ...</td>\n",
       "      <td>33.774380</td>\n",
       "      <td>-84.296000</td>\n",
       "      <td>NaN</td>\n",
       "      <td>30030</td>\n",
       "      <td>GA</td>\n",
       "      <td>4aa2b2f8f964a520164220e3</td>\n",
       "    </tr>\n",
       "    <tr>\n",
       "      <th>4</th>\n",
       "      <td>No. 246</td>\n",
       "      <td>Italian Restaurant</td>\n",
       "      <td>129 E Ponce de Leon Ave</td>\n",
       "      <td>US</td>\n",
       "      <td>Decatur</td>\n",
       "      <td>United States</td>\n",
       "      <td>btwn Church St &amp; E Court Sq</td>\n",
       "      <td>181</td>\n",
       "      <td>[129 E Ponce de Leon Ave (btwn Church St &amp; E C...</td>\n",
       "      <td>[{'label': 'display', 'lat': 33.77553761696676...</td>\n",
       "      <td>33.775538</td>\n",
       "      <td>-84.295349</td>\n",
       "      <td>NaN</td>\n",
       "      <td>30030</td>\n",
       "      <td>GA</td>\n",
       "      <td>4daf0acab3dcd1a46a0b5e57</td>\n",
       "    </tr>\n",
       "    <tr>\n",
       "      <th>10</th>\n",
       "      <td>The Pinewood</td>\n",
       "      <td>American Restaurant</td>\n",
       "      <td>254 W Ponce de Leon Ave</td>\n",
       "      <td>US</td>\n",
       "      <td>Decatur</td>\n",
       "      <td>United States</td>\n",
       "      <td>at Ponce de Leon Pl.</td>\n",
       "      <td>401</td>\n",
       "      <td>[254 W Ponce de Leon Ave (at Ponce de Leon Pl....</td>\n",
       "      <td>[{'label': 'display', 'lat': 33.77548088894041...</td>\n",
       "      <td>33.775481</td>\n",
       "      <td>-84.299958</td>\n",
       "      <td>Downtown Decatur</td>\n",
       "      <td>30030</td>\n",
       "      <td>GA</td>\n",
       "      <td>4fa5cb03e4b094b946a36158</td>\n",
       "    </tr>\n",
       "    <tr>\n",
       "      <th>13</th>\n",
       "      <td>Las Brasas</td>\n",
       "      <td>South American Restaurant</td>\n",
       "      <td>614 Church St</td>\n",
       "      <td>US</td>\n",
       "      <td>Decatur</td>\n",
       "      <td>United States</td>\n",
       "      <td>near Commerce Dr</td>\n",
       "      <td>477</td>\n",
       "      <td>[614 Church St (near Commerce Dr), Decatur, GA...</td>\n",
       "      <td>[{'label': 'display', 'lat': 33.77822440726790...</td>\n",
       "      <td>33.778224</td>\n",
       "      <td>-84.295098</td>\n",
       "      <td>NaN</td>\n",
       "      <td>30030</td>\n",
       "      <td>GA</td>\n",
       "      <td>49dd2c1ef964a520ef5f1fe3</td>\n",
       "    </tr>\n",
       "    <tr>\n",
       "      <th>27</th>\n",
       "      <td>Madras Mantra</td>\n",
       "      <td>South Indian Restaurant</td>\n",
       "      <td>2179 Lawrenceville Hwy Ste A</td>\n",
       "      <td>US</td>\n",
       "      <td>Decatur</td>\n",
       "      <td>United States</td>\n",
       "      <td>NaN</td>\n",
       "      <td>4673</td>\n",
       "      <td>[2179 Lawrenceville Hwy Ste A, Decatur, GA 300...</td>\n",
       "      <td>[{'label': 'display', 'lat': 33.81060798417284...</td>\n",
       "      <td>33.810608</td>\n",
       "      <td>-84.271270</td>\n",
       "      <td>NaN</td>\n",
       "      <td>30033</td>\n",
       "      <td>GA</td>\n",
       "      <td>55679b78498efa7eb6a22221</td>\n",
       "    </tr>\n",
       "  </tbody>\n",
       "</table>\n",
       "</div>"
      ],
      "text/plain": [
       "               name                 categories                       address  \\\n",
       "1   The Iberian Pig         Spanish Restaurant               121 Sycamore St   \n",
       "4           No. 246         Italian Restaurant       129 E Ponce de Leon Ave   \n",
       "10     The Pinewood        American Restaurant       254 W Ponce de Leon Ave   \n",
       "13       Las Brasas  South American Restaurant                 614 Church St   \n",
       "27    Madras Mantra    South Indian Restaurant  2179 Lawrenceville Hwy Ste A   \n",
       "\n",
       "    cc     city        country                  crossStreet  distance  \\\n",
       "1   US  Decatur  United States                          NaN        42   \n",
       "4   US  Decatur  United States  btwn Church St & E Court Sq       181   \n",
       "10  US  Decatur  United States         at Ponce de Leon Pl.       401   \n",
       "13  US  Decatur  United States             near Commerce Dr       477   \n",
       "27  US  Decatur  United States                          NaN      4673   \n",
       "\n",
       "                                     formattedAddress  \\\n",
       "1   [121 Sycamore St, Decatur, GA 30030, United St...   \n",
       "4   [129 E Ponce de Leon Ave (btwn Church St & E C...   \n",
       "10  [254 W Ponce de Leon Ave (at Ponce de Leon Pl....   \n",
       "13  [614 Church St (near Commerce Dr), Decatur, GA...   \n",
       "27  [2179 Lawrenceville Hwy Ste A, Decatur, GA 300...   \n",
       "\n",
       "                                       labeledLatLngs        lat        lng  \\\n",
       "1   [{'label': 'display', 'lat': 33.77438, 'lng': ...  33.774380 -84.296000   \n",
       "4   [{'label': 'display', 'lat': 33.77553761696676...  33.775538 -84.295349   \n",
       "10  [{'label': 'display', 'lat': 33.77548088894041...  33.775481 -84.299958   \n",
       "13  [{'label': 'display', 'lat': 33.77822440726790...  33.778224 -84.295098   \n",
       "27  [{'label': 'display', 'lat': 33.81060798417284...  33.810608 -84.271270   \n",
       "\n",
       "        neighborhood postalCode state                        id  \n",
       "1                NaN      30030    GA  4aa2b2f8f964a520164220e3  \n",
       "4                NaN      30030    GA  4daf0acab3dcd1a46a0b5e57  \n",
       "10  Downtown Decatur      30030    GA  4fa5cb03e4b094b946a36158  \n",
       "13               NaN      30030    GA  49dd2c1ef964a520ef5f1fe3  \n",
       "27               NaN      30033    GA  55679b78498efa7eb6a22221  "
      ]
     },
     "execution_count": 10,
     "metadata": {},
     "output_type": "execute_result"
    }
   ],
   "source": [
    "# Collecting restaurants in our Dataframe\n",
    "df_dec_rest = df_decatur[df_decatur[\"categories\"].str.contains('Restaurant')]\n",
    "df_dec_rest.head()"
   ]
  },
  {
   "cell_type": "code",
   "execution_count": 11,
   "metadata": {},
   "outputs": [
    {
     "data": {
      "text/plain": [
       "20"
      ]
     },
     "execution_count": 11,
     "metadata": {},
     "output_type": "execute_result"
    }
   ],
   "source": [
    "# Amount of restaurants found within 10 miles of Atlanta center.\n",
    "df_dec_rest[\"categories\"].count()"
   ]
  },
  {
   "cell_type": "code",
   "execution_count": 12,
   "metadata": {},
   "outputs": [
    {
     "data": {
      "text/plain": [
       "0"
      ]
     },
     "execution_count": 12,
     "metadata": {},
     "output_type": "execute_result"
    }
   ],
   "source": [
    "# Amount of restaurants with the word Dominican in their name found within 10 miles of Atlanta center.\n",
    "df_dec_rest[\"categories\"][df_dec_rest[\"categories\"].str.contains('Dominican|Dominicano')].count()"
   ]
  },
  {
   "cell_type": "code",
   "execution_count": 13,
   "metadata": {},
   "outputs": [
    {
     "data": {
      "text/html": [
       "<div style=\"width:100%;\"><div style=\"position:relative;width:100%;height:0;padding-bottom:60%;\"><iframe src=\"data:text/html;charset=utf-8;base64,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\" style=\"position:absolute;width:100%;height:100%;left:0;top:0;border:none !important;\" allowfullscreen webkitallowfullscreen mozallowfullscreen></iframe></div></div>"
      ],
      "text/plain": [
       "<folium.folium.Map at 0x7f4f1a439588>"
      ]
     },
     "execution_count": 13,
     "metadata": {},
     "output_type": "execute_result"
    }
   ],
   "source": [
    "decatur_map = folium.Map(location=[decatur['lat'], decatur['lng']], zoom_start=13)\n",
    "\n",
    "# Add restaurants to the map\n",
    "for lat, lng, label in zip(df_dec_rest.lat, df_dec_rest.lng, df_dec_rest.categories):\n",
    "    folium.features.CircleMarker(\n",
    "        [lat, lng],\n",
    "        radius=5,\n",
    "        popup=label,\n",
    "        fill=True,\n",
    "        color='blue',\n",
    "        fill_color='yellow',\n",
    "        fill_opacity=0.6\n",
    "        ).add_to(decatur_map)\n",
    "\n",
    "# display map\n",
    "decatur_map"
   ]
  },
  {
   "cell_type": "markdown",
   "metadata": {},
   "source": [
    "**Kennesaw Data Collection**"
   ]
  },
  {
   "cell_type": "code",
   "execution_count": 14,
   "metadata": {},
   "outputs": [
    {
     "data": {
      "text/plain": [
       "'There are 100 venues within 10 miles of Kennesaw center.'"
      ]
     },
     "execution_count": 14,
     "metadata": {},
     "output_type": "execute_result"
    }
   ],
   "source": [
    "kennesaw = {'lat':34.023, 'lng':-84.615}\n",
    "\n",
    "# Atlanta URL to perform venew search\n",
    "url_kennesaw = 'https://api.foursquare.com/v2/venues/explore?client_id={}&client_secret={}&ll={},{}&v={}&radius={}&limit={}'.format(CLIENT_ID, CLIENT_SECRET, kennesaw['lat'], kennesaw['lng'], VERSION, RADIUS, LIMIT)\n",
    "results_kennesaw = requests.get(url_kennesaw).json()\n",
    "\n",
    "\n",
    "# Collecting venue items into a DataFrame\n",
    "items_kennesaw = results_kennesaw['response']['groups'][0]['items']\n",
    "df_kennesaw = json_to_dataframe(items_kennesaw)\n",
    "\n",
    "'There are {} venues within 10 miles of Kennesaw center.'.format(len(results_kennesaw['response']['groups'][0]['items']))"
   ]
  },
  {
   "cell_type": "code",
   "execution_count": 15,
   "metadata": {},
   "outputs": [
    {
     "data": {
      "text/html": [
       "<div>\n",
       "<style scoped>\n",
       "    .dataframe tbody tr th:only-of-type {\n",
       "        vertical-align: middle;\n",
       "    }\n",
       "\n",
       "    .dataframe tbody tr th {\n",
       "        vertical-align: top;\n",
       "    }\n",
       "\n",
       "    .dataframe thead th {\n",
       "        text-align: right;\n",
       "    }\n",
       "</style>\n",
       "<table border=\"1\" class=\"dataframe\">\n",
       "  <thead>\n",
       "    <tr style=\"text-align: right;\">\n",
       "      <th></th>\n",
       "      <th>name</th>\n",
       "      <th>categories</th>\n",
       "      <th>address</th>\n",
       "      <th>cc</th>\n",
       "      <th>city</th>\n",
       "      <th>country</th>\n",
       "      <th>crossStreet</th>\n",
       "      <th>distance</th>\n",
       "      <th>formattedAddress</th>\n",
       "      <th>labeledLatLngs</th>\n",
       "      <th>lat</th>\n",
       "      <th>lng</th>\n",
       "      <th>postalCode</th>\n",
       "      <th>state</th>\n",
       "      <th>id</th>\n",
       "    </tr>\n",
       "  </thead>\n",
       "  <tbody>\n",
       "    <tr>\n",
       "      <th>13</th>\n",
       "      <td>Capers</td>\n",
       "      <td>American Restaurant</td>\n",
       "      <td>1659-1705 Old U.S. 41 NW</td>\n",
       "      <td>US</td>\n",
       "      <td>Acworth-Kennesaw</td>\n",
       "      <td>United States</td>\n",
       "      <td>NaN</td>\n",
       "      <td>3555</td>\n",
       "      <td>[1659-1705 Old U.S. 41 NW, Acworth-Kennesaw, G...</td>\n",
       "      <td>[{'label': 'display', 'lat': 33.99405415284648...</td>\n",
       "      <td>33.994054</td>\n",
       "      <td>-84.598705</td>\n",
       "      <td>30152</td>\n",
       "      <td>GA</td>\n",
       "      <td>4b857420f964a520f75e31e3</td>\n",
       "    </tr>\n",
       "    <tr>\n",
       "      <th>16</th>\n",
       "      <td>Carrabba's Italian Grill</td>\n",
       "      <td>Italian Restaurant</td>\n",
       "      <td>1160 Ernest W Barrett Pkwy NW</td>\n",
       "      <td>US</td>\n",
       "      <td>Kennesaw</td>\n",
       "      <td>United States</td>\n",
       "      <td>NaN</td>\n",
       "      <td>3785</td>\n",
       "      <td>[1160 Ernest W Barrett Pkwy NW, Kennesaw, GA 3...</td>\n",
       "      <td>[{'label': 'display', 'lat': 34.00108100441834...</td>\n",
       "      <td>34.001081</td>\n",
       "      <td>-84.583639</td>\n",
       "      <td>30144</td>\n",
       "      <td>GA</td>\n",
       "      <td>4b2abebdf964a520bcae24e3</td>\n",
       "    </tr>\n",
       "    <tr>\n",
       "      <th>19</th>\n",
       "      <td>Marlow's Tavern</td>\n",
       "      <td>New American Restaurant</td>\n",
       "      <td>745 Chastain Road NW, Suite 1160</td>\n",
       "      <td>US</td>\n",
       "      <td>Kennesaw</td>\n",
       "      <td>United States</td>\n",
       "      <td>at George Busbee Pkwy</td>\n",
       "      <td>4274</td>\n",
       "      <td>[745 Chastain Road NW, Suite 1160 (at George B...</td>\n",
       "      <td>[{'label': 'display', 'lat': 34.0348057, 'lng'...</td>\n",
       "      <td>34.034806</td>\n",
       "      <td>-84.570914</td>\n",
       "      <td>30144</td>\n",
       "      <td>GA</td>\n",
       "      <td>4a7cbf12f964a52073ed1fe3</td>\n",
       "    </tr>\n",
       "    <tr>\n",
       "      <th>21</th>\n",
       "      <td>Copeland's of New Orleans</td>\n",
       "      <td>Cajun / Creole Restaurant</td>\n",
       "      <td>1142 Ernest W Barrett Pkwy NW</td>\n",
       "      <td>US</td>\n",
       "      <td>Kennesaw</td>\n",
       "      <td>United States</td>\n",
       "      <td>at Roberts Blvd NW</td>\n",
       "      <td>3811</td>\n",
       "      <td>[1142 Ernest W Barrett Pkwy NW (at Roberts Blv...</td>\n",
       "      <td>[{'label': 'display', 'lat': 34.00161679569724...</td>\n",
       "      <td>34.001617</td>\n",
       "      <td>-84.582746</td>\n",
       "      <td>30144</td>\n",
       "      <td>GA</td>\n",
       "      <td>4ab0469ff964a520ca6620e3</td>\n",
       "    </tr>\n",
       "    <tr>\n",
       "      <th>22</th>\n",
       "      <td>Chick-fil-A</td>\n",
       "      <td>Fast Food Restaurant</td>\n",
       "      <td>830 Ernest W Barrett Pkwy Nw</td>\n",
       "      <td>US</td>\n",
       "      <td>Kennesaw</td>\n",
       "      <td>United States</td>\n",
       "      <td>NaN</td>\n",
       "      <td>4182</td>\n",
       "      <td>[830 Ernest W Barrett Pkwy Nw, Kennesaw, GA 30...</td>\n",
       "      <td>[{'label': 'display', 'lat': 34.0070494, 'lng'...</td>\n",
       "      <td>34.007049</td>\n",
       "      <td>-84.573964</td>\n",
       "      <td>30144</td>\n",
       "      <td>GA</td>\n",
       "      <td>4b4bd76af964a52049a926e3</td>\n",
       "    </tr>\n",
       "  </tbody>\n",
       "</table>\n",
       "</div>"
      ],
      "text/plain": [
       "                         name                 categories  \\\n",
       "13                     Capers        American Restaurant   \n",
       "16   Carrabba's Italian Grill         Italian Restaurant   \n",
       "19            Marlow's Tavern    New American Restaurant   \n",
       "21  Copeland's of New Orleans  Cajun / Creole Restaurant   \n",
       "22                Chick-fil-A       Fast Food Restaurant   \n",
       "\n",
       "                             address  cc              city        country  \\\n",
       "13          1659-1705 Old U.S. 41 NW  US  Acworth-Kennesaw  United States   \n",
       "16     1160 Ernest W Barrett Pkwy NW  US          Kennesaw  United States   \n",
       "19  745 Chastain Road NW, Suite 1160  US          Kennesaw  United States   \n",
       "21     1142 Ernest W Barrett Pkwy NW  US          Kennesaw  United States   \n",
       "22      830 Ernest W Barrett Pkwy Nw  US          Kennesaw  United States   \n",
       "\n",
       "              crossStreet  distance  \\\n",
       "13                    NaN      3555   \n",
       "16                    NaN      3785   \n",
       "19  at George Busbee Pkwy      4274   \n",
       "21     at Roberts Blvd NW      3811   \n",
       "22                    NaN      4182   \n",
       "\n",
       "                                     formattedAddress  \\\n",
       "13  [1659-1705 Old U.S. 41 NW, Acworth-Kennesaw, G...   \n",
       "16  [1160 Ernest W Barrett Pkwy NW, Kennesaw, GA 3...   \n",
       "19  [745 Chastain Road NW, Suite 1160 (at George B...   \n",
       "21  [1142 Ernest W Barrett Pkwy NW (at Roberts Blv...   \n",
       "22  [830 Ernest W Barrett Pkwy Nw, Kennesaw, GA 30...   \n",
       "\n",
       "                                       labeledLatLngs        lat        lng  \\\n",
       "13  [{'label': 'display', 'lat': 33.99405415284648...  33.994054 -84.598705   \n",
       "16  [{'label': 'display', 'lat': 34.00108100441834...  34.001081 -84.583639   \n",
       "19  [{'label': 'display', 'lat': 34.0348057, 'lng'...  34.034806 -84.570914   \n",
       "21  [{'label': 'display', 'lat': 34.00161679569724...  34.001617 -84.582746   \n",
       "22  [{'label': 'display', 'lat': 34.0070494, 'lng'...  34.007049 -84.573964   \n",
       "\n",
       "   postalCode state                        id  \n",
       "13      30152    GA  4b857420f964a520f75e31e3  \n",
       "16      30144    GA  4b2abebdf964a520bcae24e3  \n",
       "19      30144    GA  4a7cbf12f964a52073ed1fe3  \n",
       "21      30144    GA  4ab0469ff964a520ca6620e3  \n",
       "22      30144    GA  4b4bd76af964a52049a926e3  "
      ]
     },
     "execution_count": 15,
     "metadata": {},
     "output_type": "execute_result"
    }
   ],
   "source": [
    "# Collecting restaurants in our Dataframe\n",
    "df_ken_rest = df_kennesaw[df_kennesaw[\"categories\"].str.contains('Restaurant')]\n",
    "df_ken_rest.head()"
   ]
  },
  {
   "cell_type": "code",
   "execution_count": 16,
   "metadata": {},
   "outputs": [
    {
     "data": {
      "text/plain": [
       "30"
      ]
     },
     "execution_count": 16,
     "metadata": {},
     "output_type": "execute_result"
    }
   ],
   "source": [
    "# Amount of restaurants found within 10 miles of Atlanta center.\n",
    "df_ken_rest[\"categories\"].count()"
   ]
  },
  {
   "cell_type": "code",
   "execution_count": 17,
   "metadata": {},
   "outputs": [
    {
     "data": {
      "text/plain": [
       "0"
      ]
     },
     "execution_count": 17,
     "metadata": {},
     "output_type": "execute_result"
    }
   ],
   "source": [
    "# Amount of restaurants with the word Dominican in their name found within 10 miles of Atlanta center.\n",
    "df_ken_rest[\"categories\"][df_ken_rest[\"categories\"].str.contains('Dominican|Dominicano')].count()"
   ]
  },
  {
   "cell_type": "code",
   "execution_count": 18,
   "metadata": {},
   "outputs": [
    {
     "data": {
      "text/html": [
       "<div style=\"width:100%;\"><div style=\"position:relative;width:100%;height:0;padding-bottom:60%;\"><iframe src=\"data:text/html;charset=utf-8;base64,PCFET0NUWVBFIGh0bWw+CjxoZWFkPiAgICAKICAgIDxtZXRhIGh0dHAtZXF1aXY9ImNvbnRlbnQtdHlwZSIgY29udGVudD0idGV4dC9odG1sOyBjaGFyc2V0PVVURi04IiAvPgogICAgPHNjcmlwdD5MX1BSRUZFUl9DQU5WQVMgPSBmYWxzZTsgTF9OT19UT1VDSCA9IGZhbHNlOyBMX0RJU0FCTEVfM0QgPSBmYWxzZTs8L3NjcmlwdD4KICAgIDxzY3JpcHQgc3JjPSJodHRwczovL2Nkbi5qc2RlbGl2ci5uZXQvbnBtL2xlYWZsZXRAMS4yLjAvZGlzdC9sZWFmbGV0LmpzIj48L3NjcmlwdD4KICAgIDxzY3JpcHQgc3JjPSJodHRwczovL2FqYXguZ29vZ2xlYXBpcy5jb20vYWpheC9saWJzL2pxdWVyeS8xLjExLjEvanF1ZXJ5Lm1pbi5qcyI+PC9zY3JpcHQ+CiAgICA8c2NyaXB0IHNyYz0iaHR0cHM6Ly9tYXhjZG4uYm9vdHN0cmFwY2RuLmNvbS9ib290c3RyYXAvMy4yLjAvanMvYm9vdHN0cmFwLm1pbi5qcyI+PC9zY3JpcHQ+CiAgICA8c2NyaXB0IHNyYz0iaHR0cHM6Ly9jZG5qcy5jbG91ZGZsYXJlLmNvbS9hamF4L2xpYnMvTGVhZmxldC5hd2Vzb21lLW1hcmtlcnMvMi4wLjIvbGVhZmxldC5hd2Vzb21lLW1hcmtlcnMuanMiPjwvc2NyaXB0PgogICAgPGxpbmsgcmVsPSJzdHlsZXNoZWV0IiBocmVmPSJodHRwczovL2Nkbi5qc2RlbGl2ci5uZXQvbnBtL2xlYWZsZXRAMS4yLjAvZGlzdC9sZWFmbGV0LmNzcyIvPgogICAgPGxpbmsgcmVsPSJzdHlsZXNoZWV0IiBocmVmPSJodHRwczovL21heGNkbi5ib290c3RyYXBjZG4uY29tL2Jvb3RzdHJhcC8zLjIuMC9jc3MvYm9vdHN0cmFwLm1pbi5jc3MiLz4KICAgIDxsaW5rIHJlbD0ic3R5bGVzaGVldCIgaHJlZj0iaHR0cHM6Ly9tYXhjZG4uYm9vdHN0cmFwY2RuLmNvbS9ib290c3RyYXAvMy4yLjAvY3NzL2Jvb3RzdHJhcC10aGVtZS5taW4uY3NzIi8+CiAgICA8bGluayByZWw9InN0eWxlc2hlZXQiIGhyZWY9Imh0dHBzOi8vbWF4Y2RuLmJvb3RzdHJhcGNkbi5jb20vZm9udC1hd2Vzb21lLzQuNi4zL2Nzcy9mb250LWF3ZXNvbWUubWluLmNzcyIvPgogICAgPGxpbmsgcmVsPSJzdHlsZXNoZWV0IiBocmVmPSJodHRwczovL2NkbmpzLmNsb3VkZmxhcmUuY29tL2FqYXgvbGlicy9MZWFmbGV0LmF3ZXNvbWUtbWFya2Vycy8yLjAuMi9sZWFmbGV0LmF3ZXNvbWUtbWFya2Vycy5jc3MiLz4KICAgIDxsaW5rIHJlbD0ic3R5bGVzaGVldCIgaHJlZj0iaHR0cHM6Ly9yYXdnaXQuY29tL3B5dGhvbi12aXN1YWxpemF0aW9uL2ZvbGl1bS9tYXN0ZXIvZm9saXVtL3RlbXBsYXRlcy9sZWFmbGV0LmF3ZXNvbWUucm90YXRlLmNzcyIvPgogICAgPHN0eWxlPmh0bWwsIGJvZHkge3dpZHRoOiAxMDAlO2hlaWdodDogMTAwJTttYXJnaW46IDA7cGFkZGluZzogMDt9PC9zdHlsZT4KICAgIDxzdHlsZT4jbWFwIHtwb3NpdGlvbjphYnNvbHV0ZTt0b3A6MDtib3R0b206MDtyaWdodDowO2xlZnQ6MDt9PC9zdHlsZT4KICAgIAogICAgICAgICAgICA8c3R5bGU+ICNtYXBfNjVjZGIwMGI5ZmYwNDRlOGJiZmI2M2Q3NTQxYjQ5ZDUgewogICAgICAgICAgICAgICAgcG9zaXRpb24gOiByZWxhdGl2ZTsKICAgICAgICAgICAgICAgIHdpZHRoIDogMTAwLjAlOwogICAgICAgICAgICAgICAgaGVpZ2h0OiAxMDAuMCU7CiAgICAgICAgICAgICAgICBsZWZ0OiAwLjAlOwogICAgICAgICAgICAgICAgdG9wOiAwLjAlOwogICAgICAgICAgICAgICAgfQogICAgICAgICAgICA8L3N0eWxlPgogICAgICAgIAo8L2hlYWQ+Cjxib2R5PiAgICAKICAgIAogICAgICAgICAgICA8ZGl2IGNsYXNzPSJmb2xpdW0tbWFwIiBpZD0ibWFwXzY1Y2RiMDBiOWZmMDQ0ZThiYmZiNjNkNzU0MWI0OWQ1IiA+PC9kaXY+CiAgICAgICAgCjwvYm9keT4KPHNjcmlwdD4gICAgCiAgICAKCiAgICAgICAgICAgIAogICAgICAgICAgICAgICAgdmFyIGJvdW5kcyA9IG51bGw7CiAgICAgICAgICAgIAoKICAgICAgICAgICAgdmFyIG1hcF82NWNkYjAwYjlmZjA0NGU4YmJmYjYzZDc1NDFiNDlkNSA9IEwubWFwKAogICAgICAgICAgICAgICAgICAgICAgICAgICAgICAgICAgJ21hcF82NWNkYjAwYjlmZjA0NGU4YmJmYjYzZDc1NDFiNDlkNScsCiAgICAgICAgICAgICAgICAgICAgICAgICAgICAgICAgICB7Y2VudGVyOiBbMzQuMDIzLC04NC42MTVdLAogICAgICAgICAgICAgICAgICAgICAgICAgICAgICAgICAgem9vbTogMTMsCiAgICAgICAgICAgICAgICAgICAgICAgICAgICAgICAgICBtYXhCb3VuZHM6IGJvdW5kcywKICAgICAgICAgICAgICAgICAgICAgICAgICAgICAgICAgIGxheWVyczogW10sCiAgICAgICAgICAgICAgICAgICAgICAgICAgICAgICAgICB3b3JsZENvcHlKdW1wOiBmYWxzZSwKICAgICAgICAgICAgICAgICAgICAgICAgICAgICAgICAgIGNyczogTC5DUlMuRVBTRzM4NTcKICAgICAgICAgICAgICAgICAgICAgICAgICAgICAgICAgfSk7CiAgICAgICAgICAgIAogICAgICAgIAogICAgCiAgICAgICAgICAgIHZhciB0aWxlX2xheWVyXzBiN2RlZjVkYzU4ODQ3MjFiZTIwM2I5MDNkZjk3NjhlID0gTC50aWxlTGF5ZXIoCiAgICAgICAgICAgICAgICAnaHR0cHM6Ly97c30udGlsZS5vcGVuc3RyZWV0bWFwLm9yZy97en0ve3h9L3t5fS5wbmcnLAogICAgICAgICAgICAgICAgewogICJhdHRyaWJ1dGlvbiI6IG51bGwsCiAgImRldGVjdFJldGluYSI6IGZhbHNlLAogICJtYXhab29tIjogMTgsCiAgIm1pblpvb20iOiAxLAogICJub1dyYXAiOiBmYWxzZSwKICAic3ViZG9tYWlucyI6ICJhYmMiCn0KICAgICAgICAgICAgICAgICkuYWRkVG8obWFwXzY1Y2RiMDBiOWZmMDQ0ZThiYmZiNjNkNzU0MWI0OWQ1KTsKICAgICAgICAKICAgIAogICAgICAgICAgICB2YXIgY2lyY2xlX21hcmtlcl9lNzVmMjE0Y2RmMGI0ZjEzYWZlYzRmZDRmN2IyMTQ5MyA9IEwuY2lyY2xlTWFya2VyKAogICAgICAgICAgICAgICAgWzMzLjk5NDA1NDE1Mjg0NjQ4LC04NC41OTg3MDQ2MTEwMjI3NV0sCiAgICAgICAgICAgICAgICB7CiAgImJ1YmJsaW5nTW91c2VFdmVudHMiOiB0cnVlLAogICJjb2xvciI6ICJibHVlIiwKICAiZGFzaEFycmF5IjogbnVsbCwKICAiZGFzaE9mZnNldCI6IG51bGwsCiAgImZpbGwiOiB0cnVlLAogICJmaWxsQ29sb3IiOiAieWVsbG93IiwKICAiZmlsbE9wYWNpdHkiOiAwLjYsCiAgImZpbGxSdWxlIjogImV2ZW5vZGQiLAogICJsaW5lQ2FwIjogInJvdW5kIiwKICAibGluZUpvaW4iOiAicm91bmQiLAogICJvcGFjaXR5IjogMS4wLAogICJyYWRpdXMiOiA1LAogICJzdHJva2UiOiB0cnVlLAogICJ3ZWlnaHQiOiAzCn0KICAgICAgICAgICAgICAgICkuYWRkVG8obWFwXzY1Y2RiMDBiOWZmMDQ0ZThiYmZiNjNkNzU0MWI0OWQ1KTsKICAgICAgICAgICAgCiAgICAKICAgICAgICAgICAgdmFyIHBvcHVwXzRlYzNjNjI5MzkzYzRkZDhiNmE3Y2ViODRjYzVmY2ZiID0gTC5wb3B1cCh7bWF4V2lkdGg6ICczMDAnfSk7CgogICAgICAgICAgICAKICAgICAgICAgICAgICAgIHZhciBodG1sX2VlNWYzMTY4NjY5ZDQ4YTI5MDJjMjdkMTQzNGEwZGY4ID0gJCgnPGRpdiBpZD0iaHRtbF9lZTVmMzE2ODY2OWQ0OGEyOTAyYzI3ZDE0MzRhMGRmOCIgc3R5bGU9IndpZHRoOiAxMDAuMCU7IGhlaWdodDogMTAwLjAlOyI+QW1lcmljYW4gUmVzdGF1cmFudDwvZGl2PicpWzBdOwogICAgICAgICAgICAgICAgcG9wdXBfNGVjM2M2MjkzOTNjNGRkOGI2YTdjZWI4NGNjNWZjZmIuc2V0Q29udGVudChodG1sX2VlNWYzMTY4NjY5ZDQ4YTI5MDJjMjdkMTQzNGEwZGY4KTsKICAgICAgICAgICAgCgogICAgICAgICAgICBjaXJjbGVfbWFya2VyX2U3NWYyMTRjZGYwYjRmMTNhZmVjNGZkNGY3YjIxNDkzLmJpbmRQb3B1cChwb3B1cF80ZWMzYzYyOTM5M2M0ZGQ4YjZhN2NlYjg0Y2M1ZmNmYik7CgogICAgICAgICAgICAKICAgICAgICAKICAgIAogICAgICAgICAgICB2YXIgY2lyY2xlX21hcmtlcl82OWZjNjMzNjVhNzc0OGQ3YmU5MTM4OGFjYjc3Yzg2NyA9IEwuY2lyY2xlTWFya2VyKAogICAgICAgICAgICAgICAgWzM0LjAwMTA4MTAwNDQxODM0NiwtODQuNTgzNjM4OTI1MjEzNzJdLAogICAgICAgICAgICAgICAgewogICJidWJibGluZ01vdXNlRXZlbnRzIjogdHJ1ZSwKICAiY29sb3IiOiAiYmx1ZSIsCiAgImRhc2hBcnJheSI6IG51bGwsCiAgImRhc2hPZmZzZXQiOiBudWxsLAogICJmaWxsIjogdHJ1ZSwKICAiZmlsbENvbG9yIjogInllbGxvdyIsCiAgImZpbGxPcGFjaXR5IjogMC42LAogICJmaWxsUnVsZSI6ICJldmVub2RkIiwKICAibGluZUNhcCI6ICJyb3VuZCIsCiAgImxpbmVKb2luIjogInJvdW5kIiwKICAib3BhY2l0eSI6IDEuMCwKICAicmFkaXVzIjogNSwKICAic3Ryb2tlIjogdHJ1ZSwKICAid2VpZ2h0IjogMwp9CiAgICAgICAgICAgICAgICApLmFkZFRvKG1hcF82NWNkYjAwYjlmZjA0NGU4YmJmYjYzZDc1NDFiNDlkNSk7CiAgICAgICAgICAgIAogICAgCiAgICAgICAgICAgIHZhciBwb3B1cF83YjM0NjgyYjhiNDk0YzI5Yjc2YWUxM2ZjMjE5NWQ2YyA9IEwucG9wdXAoe21heFdpZHRoOiAnMzAwJ30pOwoKICAgICAgICAgICAgCiAgICAgICAgICAgICAgICB2YXIgaHRtbF8zZDQ3YzM3NTdmMDg0OWQwOGVjMGIwOTZmNGUxNDc3NyA9ICQoJzxkaXYgaWQ9Imh0bWxfM2Q0N2MzNzU3ZjA4NDlkMDhlYzBiMDk2ZjRlMTQ3NzciIHN0eWxlPSJ3aWR0aDogMTAwLjAlOyBoZWlnaHQ6IDEwMC4wJTsiPkl0YWxpYW4gUmVzdGF1cmFudDwvZGl2PicpWzBdOwogICAgICAgICAgICAgICAgcG9wdXBfN2IzNDY4MmI4YjQ5NGMyOWI3NmFlMTNmYzIxOTVkNmMuc2V0Q29udGVudChodG1sXzNkNDdjMzc1N2YwODQ5ZDA4ZWMwYjA5NmY0ZTE0Nzc3KTsKICAgICAgICAgICAgCgogICAgICAgICAgICBjaXJjbGVfbWFya2VyXzY5ZmM2MzM2NWE3NzQ4ZDdiZTkxMzg4YWNiNzdjODY3LmJpbmRQb3B1cChwb3B1cF83YjM0NjgyYjhiNDk0YzI5Yjc2YWUxM2ZjMjE5NWQ2Yyk7CgogICAgICAgICAgICAKICAgICAgICAKICAgIAogICAgICAgICAgICB2YXIgY2lyY2xlX21hcmtlcl84YWQ4MmNhYmZjOGI0ZDM0OGYxNjVhNTZlNWYyZGQ3NSA9IEwuY2lyY2xlTWFya2VyKAogICAgICAgICAgICAgICAgWzM0LjAzNDgwNTcsLTg0LjU3MDkxMzldLAogICAgICAgICAgICAgICAgewogICJidWJibGluZ01vdXNlRXZlbnRzIjogdHJ1ZSwKICAiY29sb3IiOiAiYmx1ZSIsCiAgImRhc2hBcnJheSI6IG51bGwsCiAgImRhc2hPZmZzZXQiOiBudWxsLAogICJmaWxsIjogdHJ1ZSwKICAiZmlsbENvbG9yIjogInllbGxvdyIsCiAgImZpbGxPcGFjaXR5IjogMC42LAogICJmaWxsUnVsZSI6ICJldmVub2RkIiwKICAibGluZUNhcCI6ICJyb3VuZCIsCiAgImxpbmVKb2luIjogInJvdW5kIiwKICAib3BhY2l0eSI6IDEuMCwKICAicmFkaXVzIjogNSwKICAic3Ryb2tlIjogdHJ1ZSwKICAid2VpZ2h0IjogMwp9CiAgICAgICAgICAgICAgICApLmFkZFRvKG1hcF82NWNkYjAwYjlmZjA0NGU4YmJmYjYzZDc1NDFiNDlkNSk7CiAgICAgICAgICAgIAogICAgCiAgICAgICAgICAgIHZhciBwb3B1cF9mMDZhM2EyZDZiNDI0NzY4OGY2Y2Y0YWM5MGNjNjkzMSA9IEwucG9wdXAoe21heFdpZHRoOiAnMzAwJ30pOwoKICAgICAgICAgICAgCiAgICAgICAgICAgICAgICB2YXIgaHRtbF84OTEwMDViYjMzMWE0MDQ3YTY0NTlmZDBlZDZhOGM5ZSA9ICQoJzxkaXYgaWQ9Imh0bWxfODkxMDA1YmIzMzFhNDA0N2E2NDU5ZmQwZWQ2YThjOWUiIHN0eWxlPSJ3aWR0aDogMTAwLjAlOyBoZWlnaHQ6IDEwMC4wJTsiPk5ldyBBbWVyaWNhbiBSZXN0YXVyYW50PC9kaXY+JylbMF07CiAgICAgICAgICAgICAgICBwb3B1cF9mMDZhM2EyZDZiNDI0NzY4OGY2Y2Y0YWM5MGNjNjkzMS5zZXRDb250ZW50KGh0bWxfODkxMDA1YmIzMzFhNDA0N2E2NDU5ZmQwZWQ2YThjOWUpOwogICAgICAgICAgICAKCiAgICAgICAgICAgIGNpcmNsZV9tYXJrZXJfOGFkODJjYWJmYzhiNGQzNDhmMTY1YTU2ZTVmMmRkNzUuYmluZFBvcHVwKHBvcHVwX2YwNmEzYTJkNmI0MjQ3Njg4ZjZjZjRhYzkwY2M2OTMxKTsKCiAgICAgICAgICAgIAogICAgICAgIAogICAgCiAgICAgICAgICAgIHZhciBjaXJjbGVfbWFya2VyX2NkYWNjMDFjYjg5ZTQ3Y2FhNTY5NTdmNGNlNDMwMWZlID0gTC5jaXJjbGVNYXJrZXIoCiAgICAgICAgICAgICAgICBbMzQuMDAxNjE2Nzk1Njk3MjQ1LC04NC41ODI3NDU5NTU2MDI0OV0sCiAgICAgICAgICAgICAgICB7CiAgImJ1YmJsaW5nTW91c2VFdmVudHMiOiB0cnVlLAogICJjb2xvciI6ICJibHVlIiwKICAiZGFzaEFycmF5IjogbnVsbCwKICAiZGFzaE9mZnNldCI6IG51bGwsCiAgImZpbGwiOiB0cnVlLAogICJmaWxsQ29sb3IiOiAieWVsbG93IiwKICAiZmlsbE9wYWNpdHkiOiAwLjYsCiAgImZpbGxSdWxlIjogImV2ZW5vZGQiLAogICJsaW5lQ2FwIjogInJvdW5kIiwKICAibGluZUpvaW4iOiAicm91bmQiLAogICJvcGFjaXR5IjogMS4wLAogICJyYWRpdXMiOiA1LAogICJzdHJva2UiOiB0cnVlLAogICJ3ZWlnaHQiOiAzCn0KICAgICAgICAgICAgICAgICkuYWRkVG8obWFwXzY1Y2RiMDBiOWZmMDQ0ZThiYmZiNjNkNzU0MWI0OWQ1KTsKICAgICAgICAgICAgCiAgICAKICAgICAgICAgICAgdmFyIHBvcHVwX2M3ZjU1OGNmMzM0NjQ1YTlhYTVmZjdiNDliMjlmODczID0gTC5wb3B1cCh7bWF4V2lkdGg6ICczMDAnfSk7CgogICAgICAgICAgICAKICAgICAgICAgICAgICAgIHZhciBodG1sXzdjMzZlYmNhNWI2ZDRjYjFhMDRkYzIzOTA1MmI1MDk1ID0gJCgnPGRpdiBpZD0iaHRtbF83YzM2ZWJjYTViNmQ0Y2IxYTA0ZGMyMzkwNTJiNTA5NSIgc3R5bGU9IndpZHRoOiAxMDAuMCU7IGhlaWdodDogMTAwLjAlOyI+Q2FqdW4gLyBDcmVvbGUgUmVzdGF1cmFudDwvZGl2PicpWzBdOwogICAgICAgICAgICAgICAgcG9wdXBfYzdmNTU4Y2YzMzQ2NDVhOWFhNWZmN2I0OWIyOWY4NzMuc2V0Q29udGVudChodG1sXzdjMzZlYmNhNWI2ZDRjYjFhMDRkYzIzOTA1MmI1MDk1KTsKICAgICAgICAgICAgCgogICAgICAgICAgICBjaXJjbGVfbWFya2VyX2NkYWNjMDFjYjg5ZTQ3Y2FhNTY5NTdmNGNlNDMwMWZlLmJpbmRQb3B1cChwb3B1cF9jN2Y1NThjZjMzNDY0NWE5YWE1ZmY3YjQ5YjI5Zjg3Myk7CgogICAgICAgICAgICAKICAgICAgICAKICAgIAogICAgICAgICAgICB2YXIgY2lyY2xlX21hcmtlcl84MmYwYTQxYTQ5NTk0ZDJhODIzZWRmMmFmMDI3NDJhOSA9IEwuY2lyY2xlTWFya2VyKAogICAgICAgICAgICAgICAgWzM0LjAwNzA0OTQsLTg0LjU3Mzk2NDRdLAogICAgICAgICAgICAgICAgewogICJidWJibGluZ01vdXNlRXZlbnRzIjogdHJ1ZSwKICAiY29sb3IiOiAiYmx1ZSIsCiAgImRhc2hBcnJheSI6IG51bGwsCiAgImRhc2hPZmZzZXQiOiBudWxsLAogICJmaWxsIjogdHJ1ZSwKICAiZmlsbENvbG9yIjogInllbGxvdyIsCiAgImZpbGxPcGFjaXR5IjogMC42LAogICJmaWxsUnVsZSI6ICJldmVub2RkIiwKICAibGluZUNhcCI6ICJyb3VuZCIsCiAgImxpbmVKb2luIjogInJvdW5kIiwKICAib3BhY2l0eSI6IDEuMCwKICAicmFkaXVzIjogNSwKICAic3Ryb2tlIjogdHJ1ZSwKICAid2VpZ2h0IjogMwp9CiAgICAgICAgICAgICAgICApLmFkZFRvKG1hcF82NWNkYjAwYjlmZjA0NGU4YmJmYjYzZDc1NDFiNDlkNSk7CiAgICAgICAgICAgIAogICAgCiAgICAgICAgICAgIHZhciBwb3B1cF83MzFhOWNhZWY2YzA0ZDAxYjczNDVlYmZiMDdmODQwNiA9IEwucG9wdXAoe21heFdpZHRoOiAnMzAwJ30pOwoKICAgICAgICAgICAgCiAgICAgICAgICAgICAgICB2YXIgaHRtbF8xNjBiN2QwZWU1ZmM0MDY3YTcwZmU2ZjFkZWQ4NWYyNiA9ICQoJzxkaXYgaWQ9Imh0bWxfMTYwYjdkMGVlNWZjNDA2N2E3MGZlNmYxZGVkODVmMjYiIHN0eWxlPSJ3aWR0aDogMTAwLjAlOyBoZWlnaHQ6IDEwMC4wJTsiPkZhc3QgRm9vZCBSZXN0YXVyYW50PC9kaXY+JylbMF07CiAgICAgICAgICAgICAgICBwb3B1cF83MzFhOWNhZWY2YzA0ZDAxYjczNDVlYmZiMDdmODQwNi5zZXRDb250ZW50KGh0bWxfMTYwYjdkMGVlNWZjNDA2N2E3MGZlNmYxZGVkODVmMjYpOwogICAgICAgICAgICAKCiAgICAgICAgICAgIGNpcmNsZV9tYXJrZXJfODJmMGE0MWE0OTU5NGQyYTgyM2VkZjJhZjAyNzQyYTkuYmluZFBvcHVwKHBvcHVwXzczMWE5Y2FlZjZjMDRkMDFiNzM0NWViZmIwN2Y4NDA2KTsKCiAgICAgICAgICAgIAogICAgICAgIAogICAgCiAgICAgICAgICAgIHZhciBjaXJjbGVfbWFya2VyXzM2NGU5NTM5NDMyZTRjMmU4ZTE2NWI3N2ZkMmRlMjljID0gTC5jaXJjbGVNYXJrZXIoCiAgICAgICAgICAgICAgICBbMzQuMDA2MjY0MjcyOTc3MTg0LC04NC41NzI5NjgwNzI1ODU4Ml0sCiAgICAgICAgICAgICAgICB7CiAgImJ1YmJsaW5nTW91c2VFdmVudHMiOiB0cnVlLAogICJjb2xvciI6ICJibHVlIiwKICAiZGFzaEFycmF5IjogbnVsbCwKICAiZGFzaE9mZnNldCI6IG51bGwsCiAgImZpbGwiOiB0cnVlLAogICJmaWxsQ29sb3IiOiAieWVsbG93IiwKICAiZmlsbE9wYWNpdHkiOiAwLjYsCiAgImZpbGxSdWxlIjogImV2ZW5vZGQiLAogICJsaW5lQ2FwIjogInJvdW5kIiwKICAibGluZUpvaW4iOiAicm91bmQiLAogICJvcGFjaXR5IjogMS4wLAogICJyYWRpdXMiOiA1LAogICJzdHJva2UiOiB0cnVlLAogICJ3ZWlnaHQiOiAzCn0KICAgICAgICAgICAgICAgICkuYWRkVG8obWFwXzY1Y2RiMDBiOWZmMDQ0ZThiYmZiNjNkNzU0MWI0OWQ1KTsKICAgICAgICAgICAgCiAgICAKICAgICAgICAgICAgdmFyIHBvcHVwXzJiNTVlZTM4YzQxNzRmNDNhMTcxMmU5NjZkYTIwYzNlID0gTC5wb3B1cCh7bWF4V2lkdGg6ICczMDAnfSk7CgogICAgICAgICAgICAKICAgICAgICAgICAgICAgIHZhciBodG1sXzQ5MWU5ODc2NTc5ODQwMTNiMzY3OWYzY2Y2MmFkN2RjID0gJCgnPGRpdiBpZD0iaHRtbF80OTFlOTg3NjU3OTg0MDEzYjM2NzlmM2NmNjJhZDdkYyIgc3R5bGU9IndpZHRoOiAxMDAuMCU7IGhlaWdodDogMTAwLjAlOyI+Q2FyaWJiZWFuIFJlc3RhdXJhbnQ8L2Rpdj4nKVswXTsKICAgICAgICAgICAgICAgIHBvcHVwXzJiNTVlZTM4YzQxNzRmNDNhMTcxMmU5NjZkYTIwYzNlLnNldENvbnRlbnQoaHRtbF80OTFlOTg3NjU3OTg0MDEzYjM2NzlmM2NmNjJhZDdkYyk7CiAgICAgICAgICAgIAoKICAgICAgICAgICAgY2lyY2xlX21hcmtlcl8zNjRlOTUzOTQzMmU0YzJlOGUxNjViNzdmZDJkZTI5Yy5iaW5kUG9wdXAocG9wdXBfMmI1NWVlMzhjNDE3NGY0M2ExNzEyZTk2NmRhMjBjM2UpOwoKICAgICAgICAgICAgCiAgICAgICAgCiAgICAKICAgICAgICAgICAgdmFyIGNpcmNsZV9tYXJrZXJfMDEyYzdkZjViZDk4NGEwZWE1YWFlNmQ4NzZkOGMzN2YgPSBMLmNpcmNsZU1hcmtlcigKICAgICAgICAgICAgICAgIFszNC4wMzQ2MDY1NjE4MjUxMSwtODQuNTcxMTQ4NjExNjk4MjNdLAogICAgICAgICAgICAgICAgewogICJidWJibGluZ01vdXNlRXZlbnRzIjogdHJ1ZSwKICAiY29sb3IiOiAiYmx1ZSIsCiAgImRhc2hBcnJheSI6IG51bGwsCiAgImRhc2hPZmZzZXQiOiBudWxsLAogICJmaWxsIjogdHJ1ZSwKICAiZmlsbENvbG9yIjogInllbGxvdyIsCiAgImZpbGxPcGFjaXR5IjogMC42LAogICJmaWxsUnVsZSI6ICJldmVub2RkIiwKICAibGluZUNhcCI6ICJyb3VuZCIsCiAgImxpbmVKb2luIjogInJvdW5kIiwKICAib3BhY2l0eSI6IDEuMCwKICAicmFkaXVzIjogNSwKICAic3Ryb2tlIjogdHJ1ZSwKICAid2VpZ2h0IjogMwp9CiAgICAgICAgICAgICAgICApLmFkZFRvKG1hcF82NWNkYjAwYjlmZjA0NGU4YmJmYjYzZDc1NDFiNDlkNSk7CiAgICAgICAgICAgIAogICAgCiAgICAgICAgICAgIHZhciBwb3B1cF8xY2JiZjAyMDZhZDk0YmZmYjAzY2Y3NTNkZjk5ZDAxMCA9IEwucG9wdXAoe21heFdpZHRoOiAnMzAwJ30pOwoKICAgICAgICAgICAgCiAgICAgICAgICAgICAgICB2YXIgaHRtbF9iYWM1OWZkNmVkNjM0M2Y0OWEyODNhNmFmMGExNDcxOSA9ICQoJzxkaXYgaWQ9Imh0bWxfYmFjNTlmZDZlZDYzNDNmNDlhMjgzYTZhZjBhMTQ3MTkiIHN0eWxlPSJ3aWR0aDogMTAwLjAlOyBoZWlnaHQ6IDEwMC4wJTsiPkN1YmFuIFJlc3RhdXJhbnQ8L2Rpdj4nKVswXTsKICAgICAgICAgICAgICAgIHBvcHVwXzFjYmJmMDIwNmFkOTRiZmZiMDNjZjc1M2RmOTlkMDEwLnNldENvbnRlbnQoaHRtbF9iYWM1OWZkNmVkNjM0M2Y0OWEyODNhNmFmMGExNDcxOSk7CiAgICAgICAgICAgIAoKICAgICAgICAgICAgY2lyY2xlX21hcmtlcl8wMTJjN2RmNWJkOTg0YTBlYTVhYWU2ZDg3NmQ4YzM3Zi5iaW5kUG9wdXAocG9wdXBfMWNiYmYwMjA2YWQ5NGJmZmIwM2NmNzUzZGY5OWQwMTApOwoKICAgICAgICAgICAgCiAgICAgICAgCiAgICAKICAgICAgICAgICAgdmFyIGNpcmNsZV9tYXJrZXJfMjUyYjFkMzI4NzRjNDI4MmIxNzYyNjJmYTM2MDViMGEgPSBMLmNpcmNsZU1hcmtlcigKICAgICAgICAgICAgICAgIFszNC4wMDkyODI2MTI2OTA5NCwtODQuNTc2MTM0NTAwMDQ1NDNdLAogICAgICAgICAgICAgICAgewogICJidWJibGluZ01vdXNlRXZlbnRzIjogdHJ1ZSwKICAiY29sb3IiOiAiYmx1ZSIsCiAgImRhc2hBcnJheSI6IG51bGwsCiAgImRhc2hPZmZzZXQiOiBudWxsLAogICJmaWxsIjogdHJ1ZSwKICAiZmlsbENvbG9yIjogInllbGxvdyIsCiAgImZpbGxPcGFjaXR5IjogMC42LAogICJmaWxsUnVsZSI6ICJldmVub2RkIiwKICAibGluZUNhcCI6ICJyb3VuZCIsCiAgImxpbmVKb2luIjogInJvdW5kIiwKICAib3BhY2l0eSI6IDEuMCwKICAicmFkaXVzIjogNSwKICAic3Ryb2tlIjogdHJ1ZSwKICAid2VpZ2h0IjogMwp9CiAgICAgICAgICAgICAgICApLmFkZFRvKG1hcF82NWNkYjAwYjlmZjA0NGU4YmJmYjYzZDc1NDFiNDlkNSk7CiAgICAgICAgICAgIAogICAgCiAgICAgICAgICAgIHZhciBwb3B1cF9iODhiN2U5MGVjZWI0ZGNiODlkNTIwMzFiMTI4NzcxZSA9IEwucG9wdXAoe21heFdpZHRoOiAnMzAwJ30pOwoKICAgICAgICAgICAgCiAgICAgICAgICAgICAgICB2YXIgaHRtbF8yMjg5YTRkMjdjODE0NjdlYjkyN2Y3NjEyNDk3NmVjMCA9ICQoJzxkaXYgaWQ9Imh0bWxfMjI4OWE0ZDI3YzgxNDY3ZWI5MjdmNzYxMjQ5NzZlYzAiIHN0eWxlPSJ3aWR0aDogMTAwLjAlOyBoZWlnaHQ6IDEwMC4wJTsiPlN1c2hpIFJlc3RhdXJhbnQ8L2Rpdj4nKVswXTsKICAgICAgICAgICAgICAgIHBvcHVwX2I4OGI3ZTkwZWNlYjRkY2I4OWQ1MjAzMWIxMjg3NzFlLnNldENvbnRlbnQoaHRtbF8yMjg5YTRkMjdjODE0NjdlYjkyN2Y3NjEyNDk3NmVjMCk7CiAgICAgICAgICAgIAoKICAgICAgICAgICAgY2lyY2xlX21hcmtlcl8yNTJiMWQzMjg3NGM0MjgyYjE3NjI2MmZhMzYwNWIwYS5iaW5kUG9wdXAocG9wdXBfYjg4YjdlOTBlY2ViNGRjYjg5ZDUyMDMxYjEyODc3MWUpOwoKICAgICAgICAgICAgCiAgICAgICAgCiAgICAKICAgICAgICAgICAgdmFyIGNpcmNsZV9tYXJrZXJfYzJiNzRlOTc5YmEyNGEzYWExYTc5ZTVhZmRhMGQwYjYgPSBMLmNpcmNsZU1hcmtlcigKICAgICAgICAgICAgICAgIFszNC4wMzUzMDgzNDQ0MDEzMSwtODQuNTczMjIwMDUzOTY0MDVdLAogICAgICAgICAgICAgICAgewogICJidWJibGluZ01vdXNlRXZlbnRzIjogdHJ1ZSwKICAiY29sb3IiOiAiYmx1ZSIsCiAgImRhc2hBcnJheSI6IG51bGwsCiAgImRhc2hPZmZzZXQiOiBudWxsLAogICJmaWxsIjogdHJ1ZSwKICAiZmlsbENvbG9yIjogInllbGxvdyIsCiAgImZpbGxPcGFjaXR5IjogMC42LAogICJmaWxsUnVsZSI6ICJldmVub2RkIiwKICAibGluZUNhcCI6ICJyb3VuZCIsCiAgImxpbmVKb2luIjogInJvdW5kIiwKICAib3BhY2l0eSI6IDEuMCwKICAicmFkaXVzIjogNSwKICAic3Ryb2tlIjogdHJ1ZSwKICAid2VpZ2h0IjogMwp9CiAgICAgICAgICAgICAgICApLmFkZFRvKG1hcF82NWNkYjAwYjlmZjA0NGU4YmJmYjYzZDc1NDFiNDlkNSk7CiAgICAgICAgICAgIAogICAgCiAgICAgICAgICAgIHZhciBwb3B1cF8xMzU3YTAwMDYzZmI0OWNkOTEwMTcyNzRlYTc5YzNmNyA9IEwucG9wdXAoe21heFdpZHRoOiAnMzAwJ30pOwoKICAgICAgICAgICAgCiAgICAgICAgICAgICAgICB2YXIgaHRtbF9lNDE4YTllNTM2YWQ0MjU4YTJjNTE0MmQwZjRkZGI5YSA9ICQoJzxkaXYgaWQ9Imh0bWxfZTQxOGE5ZTUzNmFkNDI1OGEyYzUxNDJkMGY0ZGRiOWEiIHN0eWxlPSJ3aWR0aDogMTAwLjAlOyBoZWlnaHQ6IDEwMC4wJTsiPkdyZWVrIFJlc3RhdXJhbnQ8L2Rpdj4nKVswXTsKICAgICAgICAgICAgICAgIHBvcHVwXzEzNTdhMDAwNjNmYjQ5Y2Q5MTAxNzI3NGVhNzljM2Y3LnNldENvbnRlbnQoaHRtbF9lNDE4YTllNTM2YWQ0MjU4YTJjNTE0MmQwZjRkZGI5YSk7CiAgICAgICAgICAgIAoKICAgICAgICAgICAgY2lyY2xlX21hcmtlcl9jMmI3NGU5NzliYTI0YTNhYTFhNzllNWFmZGEwZDBiNi5iaW5kUG9wdXAocG9wdXBfMTM1N2EwMDA2M2ZiNDljZDkxMDE3Mjc0ZWE3OWMzZjcpOwoKICAgICAgICAgICAgCiAgICAgICAgCiAgICAKICAgICAgICAgICAgdmFyIGNpcmNsZV9tYXJrZXJfMjExMTQ0YjY0OWQ5NDMzZDllMTlmYjcxYmRhYjVhYWQgPSBMLmNpcmNsZU1hcmtlcigKICAgICAgICAgICAgICAgIFszNC4wMDU4MTcsLTg0LjU3NTY1XSwKICAgICAgICAgICAgICAgIHsKICAiYnViYmxpbmdNb3VzZUV2ZW50cyI6IHRydWUsCiAgImNvbG9yIjogImJsdWUiLAogICJkYXNoQXJyYXkiOiBudWxsLAogICJkYXNoT2Zmc2V0IjogbnVsbCwKICAiZmlsbCI6IHRydWUsCiAgImZpbGxDb2xvciI6ICJ5ZWxsb3ciLAogICJmaWxsT3BhY2l0eSI6IDAuNiwKICAiZmlsbFJ1bGUiOiAiZXZlbm9kZCIsCiAgImxpbmVDYXAiOiAicm91bmQiLAogICJsaW5lSm9pbiI6ICJyb3VuZCIsCiAgIm9wYWNpdHkiOiAxLjAsCiAgInJhZGl1cyI6IDUsCiAgInN0cm9rZSI6IHRydWUsCiAgIndlaWdodCI6IDMKfQogICAgICAgICAgICAgICAgKS5hZGRUbyhtYXBfNjVjZGIwMGI5ZmYwNDRlOGJiZmI2M2Q3NTQxYjQ5ZDUpOwogICAgICAgICAgICAKICAgIAogICAgICAgICAgICB2YXIgcG9wdXBfYjIxZDA2OWZmZTVlNGI5Yzk5NWQ5ZWVjYWFjZjg2ZmYgPSBMLnBvcHVwKHttYXhXaWR0aDogJzMwMCd9KTsKCiAgICAgICAgICAgIAogICAgICAgICAgICAgICAgdmFyIGh0bWxfMWY1OGVkMDkwYjEzNGY1ZDg4N2FhODZkYTg4ZjM5MWUgPSAkKCc8ZGl2IGlkPSJodG1sXzFmNThlZDA5MGIxMzRmNWQ4ODdhYTg2ZGE4OGYzOTFlIiBzdHlsZT0id2lkdGg6IDEwMC4wJTsgaGVpZ2h0OiAxMDAuMCU7Ij5DaGluZXNlIFJlc3RhdXJhbnQ8L2Rpdj4nKVswXTsKICAgICAgICAgICAgICAgIHBvcHVwX2IyMWQwNjlmZmU1ZTRiOWM5OTVkOWVlY2FhY2Y4NmZmLnNldENvbnRlbnQoaHRtbF8xZjU4ZWQwOTBiMTM0ZjVkODg3YWE4NmRhODhmMzkxZSk7CiAgICAgICAgICAgIAoKICAgICAgICAgICAgY2lyY2xlX21hcmtlcl8yMTExNDRiNjQ5ZDk0MzNkOWUxOWZiNzFiZGFiNWFhZC5iaW5kUG9wdXAocG9wdXBfYjIxZDA2OWZmZTVlNGI5Yzk5NWQ5ZWVjYWFjZjg2ZmYpOwoKICAgICAgICAgICAgCiAgICAgICAgCiAgICAKICAgICAgICAgICAgdmFyIGNpcmNsZV9tYXJrZXJfMTg1NGE3MzA1ZTRiNDk0MTgwNThlN2M3ZDI4YzU2OWYgPSBMLmNpcmNsZU1hcmtlcigKICAgICAgICAgICAgICAgIFszNC4wMTE5OTM5LC04NC41NjE3MjEyXSwKICAgICAgICAgICAgICAgIHsKICAiYnViYmxpbmdNb3VzZUV2ZW50cyI6IHRydWUsCiAgImNvbG9yIjogImJsdWUiLAogICJkYXNoQXJyYXkiOiBudWxsLAogICJkYXNoT2Zmc2V0IjogbnVsbCwKICAiZmlsbCI6IHRydWUsCiAgImZpbGxDb2xvciI6ICJ5ZWxsb3ciLAogICJmaWxsT3BhY2l0eSI6IDAuNiwKICAiZmlsbFJ1bGUiOiAiZXZlbm9kZCIsCiAgImxpbmVDYXAiOiAicm91bmQiLAogICJsaW5lSm9pbiI6ICJyb3VuZCIsCiAgIm9wYWNpdHkiOiAxLjAsCiAgInJhZGl1cyI6IDUsCiAgInN0cm9rZSI6IHRydWUsCiAgIndlaWdodCI6IDMKfQogICAgICAgICAgICAgICAgKS5hZGRUbyhtYXBfNjVjZGIwMGI5ZmYwNDRlOGJiZmI2M2Q3NTQxYjQ5ZDUpOwogICAgICAgICAgICAKICAgIAogICAgICAgICAgICB2YXIgcG9wdXBfYmMyMDRkNGY3MDQ3NGE0MGEwZjVmNzk1YWQyNmY1ZTEgPSBMLnBvcHVwKHttYXhXaWR0aDogJzMwMCd9KTsKCiAgICAgICAgICAgIAogICAgICAgICAgICAgICAgdmFyIGh0bWxfYzYyMDMzNDZkZjk1NGNmZjk5YzI5N2Q0ZDU2YTlkN2IgPSAkKCc8ZGl2IGlkPSJodG1sX2M2MjAzMzQ2ZGY5NTRjZmY5OWMyOTdkNGQ1NmE5ZDdiIiBzdHlsZT0id2lkdGg6IDEwMC4wJTsgaGVpZ2h0OiAxMDAuMCU7Ij5Tb3V0aGVybiAvIFNvdWwgRm9vZCBSZXN0YXVyYW50PC9kaXY+JylbMF07CiAgICAgICAgICAgICAgICBwb3B1cF9iYzIwNGQ0ZjcwNDc0YTQwYTBmNWY3OTVhZDI2ZjVlMS5zZXRDb250ZW50KGh0bWxfYzYyMDMzNDZkZjk1NGNmZjk5YzI5N2Q0ZDU2YTlkN2IpOwogICAgICAgICAgICAKCiAgICAgICAgICAgIGNpcmNsZV9tYXJrZXJfMTg1NGE3MzA1ZTRiNDk0MTgwNThlN2M3ZDI4YzU2OWYuYmluZFBvcHVwKHBvcHVwX2JjMjA0ZDRmNzA0NzRhNDBhMGY1Zjc5NWFkMjZmNWUxKTsKCiAgICAgICAgICAgIAogICAgICAgIAogICAgCiAgICAgICAgICAgIHZhciBjaXJjbGVfbWFya2VyX2VjZDY4NTc2ZjhjMDRjNGI5MzE1MGE3ZDQxZTY0MTgzID0gTC5jaXJjbGVNYXJrZXIoCiAgICAgICAgICAgICAgICBbMzQuMDMyODQxNDc3MDQ0MDIsLTg0LjU3NTA0MDcxODgyMTcxXSwKICAgICAgICAgICAgICAgIHsKICAiYnViYmxpbmdNb3VzZUV2ZW50cyI6IHRydWUsCiAgImNvbG9yIjogImJsdWUiLAogICJkYXNoQXJyYXkiOiBudWxsLAogICJkYXNoT2Zmc2V0IjogbnVsbCwKICAiZmlsbCI6IHRydWUsCiAgImZpbGxDb2xvciI6ICJ5ZWxsb3ciLAogICJmaWxsT3BhY2l0eSI6IDAuNiwKICAiZmlsbFJ1bGUiOiAiZXZlbm9kZCIsCiAgImxpbmVDYXAiOiAicm91bmQiLAogICJsaW5lSm9pbiI6ICJyb3VuZCIsCiAgIm9wYWNpdHkiOiAxLjAsCiAgInJhZGl1cyI6IDUsCiAgInN0cm9rZSI6IHRydWUsCiAgIndlaWdodCI6IDMKfQogICAgICAgICAgICAgICAgKS5hZGRUbyhtYXBfNjVjZGIwMGI5ZmYwNDRlOGJiZmI2M2Q3NTQxYjQ5ZDUpOwogICAgICAgICAgICAKICAgIAogICAgICAgICAgICB2YXIgcG9wdXBfYThkNjRmZDkyMTYyNDFjN2FiNDk0YThhMjc2ZmIzODIgPSBMLnBvcHVwKHttYXhXaWR0aDogJzMwMCd9KTsKCiAgICAgICAgICAgIAogICAgICAgICAgICAgICAgdmFyIGh0bWxfZWU0NjQ2NDRhZjJlNDZlNzhhMzMzMWEwODkyNThiNDQgPSAkKCc8ZGl2IGlkPSJodG1sX2VlNDY0NjQ0YWYyZTQ2ZTc4YTMzMzFhMDg5MjU4YjQ0IiBzdHlsZT0id2lkdGg6IDEwMC4wJTsgaGVpZ2h0OiAxMDAuMCU7Ij5BbWVyaWNhbiBSZXN0YXVyYW50PC9kaXY+JylbMF07CiAgICAgICAgICAgICAgICBwb3B1cF9hOGQ2NGZkOTIxNjI0MWM3YWI0OTRhOGEyNzZmYjM4Mi5zZXRDb250ZW50KGh0bWxfZWU0NjQ2NDRhZjJlNDZlNzhhMzMzMWEwODkyNThiNDQpOwogICAgICAgICAgICAKCiAgICAgICAgICAgIGNpcmNsZV9tYXJrZXJfZWNkNjg1NzZmOGMwNGM0YjkzMTUwYTdkNDFlNjQxODMuYmluZFBvcHVwKHBvcHVwX2E4ZDY0ZmQ5MjE2MjQxYzdhYjQ5NGE4YTI3NmZiMzgyKTsKCiAgICAgICAgICAgIAogICAgICAgIAogICAgCiAgICAgICAgICAgIHZhciBjaXJjbGVfbWFya2VyXzEzMDE0NWRmNTM0OTRmODNhMzk0MWM1MjI4ZDVjZjRkID0gTC5jaXJjbGVNYXJrZXIoCiAgICAgICAgICAgICAgICBbMzQuMDUwNDU2NTQ3NDQ4NzI1LC04NC42NjMzNjg3OTk0NjAwNl0sCiAgICAgICAgICAgICAgICB7CiAgImJ1YmJsaW5nTW91c2VFdmVudHMiOiB0cnVlLAogICJjb2xvciI6ICJibHVlIiwKICAiZGFzaEFycmF5IjogbnVsbCwKICAiZGFzaE9mZnNldCI6IG51bGwsCiAgImZpbGwiOiB0cnVlLAogICJmaWxsQ29sb3IiOiAieWVsbG93IiwKICAiZmlsbE9wYWNpdHkiOiAwLjYsCiAgImZpbGxSdWxlIjogImV2ZW5vZGQiLAogICJsaW5lQ2FwIjogInJvdW5kIiwKICAibGluZUpvaW4iOiAicm91bmQiLAogICJvcGFjaXR5IjogMS4wLAogICJyYWRpdXMiOiA1LAogICJzdHJva2UiOiB0cnVlLAogICJ3ZWlnaHQiOiAzCn0KICAgICAgICAgICAgICAgICkuYWRkVG8obWFwXzY1Y2RiMDBiOWZmMDQ0ZThiYmZiNjNkNzU0MWI0OWQ1KTsKICAgICAgICAgICAgCiAgICAKICAgICAgICAgICAgdmFyIHBvcHVwXzgwMjU0ZmY2NmUxYzRiM2M4MmViYzg4ZmUwM2UxMzQ1ID0gTC5wb3B1cCh7bWF4V2lkdGg6ICczMDAnfSk7CgogICAgICAgICAgICAKICAgICAgICAgICAgICAgIHZhciBodG1sXzJkNGZkMDNmYmRlNDQzNjI5NmIxY2I5YzkyYWQzYTM4ID0gJCgnPGRpdiBpZD0iaHRtbF8yZDRmZDAzZmJkZTQ0MzYyOTZiMWNiOWM5MmFkM2EzOCIgc3R5bGU9IndpZHRoOiAxMDAuMCU7IGhlaWdodDogMTAwLjAlOyI+U2VhZm9vZCBSZXN0YXVyYW50PC9kaXY+JylbMF07CiAgICAgICAgICAgICAgICBwb3B1cF84MDI1NGZmNjZlMWM0YjNjODJlYmM4OGZlMDNlMTM0NS5zZXRDb250ZW50KGh0bWxfMmQ0ZmQwM2ZiZGU0NDM2Mjk2YjFjYjljOTJhZDNhMzgpOwogICAgICAgICAgICAKCiAgICAgICAgICAgIGNpcmNsZV9tYXJrZXJfMTMwMTQ1ZGY1MzQ5NGY4M2EzOTQxYzUyMjhkNWNmNGQuYmluZFBvcHVwKHBvcHVwXzgwMjU0ZmY2NmUxYzRiM2M4MmViYzg4ZmUwM2UxMzQ1KTsKCiAgICAgICAgICAgIAogICAgICAgIAogICAgCiAgICAgICAgICAgIHZhciBjaXJjbGVfbWFya2VyX2UzMjRkZDYyYThlNzQ3Y2E5NWQ3MGIyZmI4ODkxOTNkID0gTC5jaXJjbGVNYXJrZXIoCiAgICAgICAgICAgICAgICBbMzQuMDM3NzExOTA0MDAzMjIsLTg0LjU3MDMxMTU4ODEyNTU5XSwKICAgICAgICAgICAgICAgIHsKICAiYnViYmxpbmdNb3VzZUV2ZW50cyI6IHRydWUsCiAgImNvbG9yIjogImJsdWUiLAogICJkYXNoQXJyYXkiOiBudWxsLAogICJkYXNoT2Zmc2V0IjogbnVsbCwKICAiZmlsbCI6IHRydWUsCiAgImZpbGxDb2xvciI6ICJ5ZWxsb3ciLAogICJmaWxsT3BhY2l0eSI6IDAuNiwKICAiZmlsbFJ1bGUiOiAiZXZlbm9kZCIsCiAgImxpbmVDYXAiOiAicm91bmQiLAogICJsaW5lSm9pbiI6ICJyb3VuZCIsCiAgIm9wYWNpdHkiOiAxLjAsCiAgInJhZGl1cyI6IDUsCiAgInN0cm9rZSI6IHRydWUsCiAgIndlaWdodCI6IDMKfQogICAgICAgICAgICAgICAgKS5hZGRUbyhtYXBfNjVjZGIwMGI5ZmYwNDRlOGJiZmI2M2Q3NTQxYjQ5ZDUpOwogICAgICAgICAgICAKICAgIAogICAgICAgICAgICB2YXIgcG9wdXBfZjAyYjY5YWVjMmM3NDhhZjlhYTJiNDI0OGNiZDg1ZTIgPSBMLnBvcHVwKHttYXhXaWR0aDogJzMwMCd9KTsKCiAgICAgICAgICAgIAogICAgICAgICAgICAgICAgdmFyIGh0bWxfMGU4NGY0NTZhZTY0NDMwOGIwYzU4ZmMzNDM2OGNiMTEgPSAkKCc8ZGl2IGlkPSJodG1sXzBlODRmNDU2YWU2NDQzMDhiMGM1OGZjMzQzNjhjYjExIiBzdHlsZT0id2lkdGg6IDEwMC4wJTsgaGVpZ2h0OiAxMDAuMCU7Ij5NZXhpY2FuIFJlc3RhdXJhbnQ8L2Rpdj4nKVswXTsKICAgICAgICAgICAgICAgIHBvcHVwX2YwMmI2OWFlYzJjNzQ4YWY5YWEyYjQyNDhjYmQ4NWUyLnNldENvbnRlbnQoaHRtbF8wZTg0ZjQ1NmFlNjQ0MzA4YjBjNThmYzM0MzY4Y2IxMSk7CiAgICAgICAgICAgIAoKICAgICAgICAgICAgY2lyY2xlX21hcmtlcl9lMzI0ZGQ2MmE4ZTc0N2NhOTVkNzBiMmZiODg5MTkzZC5iaW5kUG9wdXAocG9wdXBfZjAyYjY5YWVjMmM3NDhhZjlhYTJiNDI0OGNiZDg1ZTIpOwoKICAgICAgICAgICAgCiAgICAgICAgCiAgICAKICAgICAgICAgICAgdmFyIGNpcmNsZV9tYXJrZXJfYTQyZjdhYmVkNjg0NGMxZmIzZTI0MTE5MjhhNzc0MjMgPSBMLmNpcmNsZU1hcmtlcigKICAgICAgICAgICAgICAgIFszNC4wMTI3OTM0NDY3MzI1NSwtODQuNTY2MTQ1NDYxNzcxNzVdLAogICAgICAgICAgICAgICAgewogICJidWJibGluZ01vdXNlRXZlbnRzIjogdHJ1ZSwKICAiY29sb3IiOiAiYmx1ZSIsCiAgImRhc2hBcnJheSI6IG51bGwsCiAgImRhc2hPZmZzZXQiOiBudWxsLAogICJmaWxsIjogdHJ1ZSwKICAiZmlsbENvbG9yIjogInllbGxvdyIsCiAgImZpbGxPcGFjaXR5IjogMC42LAogICJmaWxsUnVsZSI6ICJldmVub2RkIiwKICAibGluZUNhcCI6ICJyb3VuZCIsCiAgImxpbmVKb2luIjogInJvdW5kIiwKICAib3BhY2l0eSI6IDEuMCwKICAicmFkaXVzIjogNSwKICAic3Ryb2tlIjogdHJ1ZSwKICAid2VpZ2h0IjogMwp9CiAgICAgICAgICAgICAgICApLmFkZFRvKG1hcF82NWNkYjAwYjlmZjA0NGU4YmJmYjYzZDc1NDFiNDlkNSk7CiAgICAgICAgICAgIAogICAgCiAgICAgICAgICAgIHZhciBwb3B1cF84ZGE4OWY2ZTFjZmM0NThkYTVmNWZlYmFlNTg3NzY4MCA9IEwucG9wdXAoe21heFdpZHRoOiAnMzAwJ30pOwoKICAgICAgICAgICAgCiAgICAgICAgICAgICAgICB2YXIgaHRtbF80Zjk4ZWE2ZWFjYjU0NjAyYTlkZmQ5YjYzOGUzMjFjMCA9ICQoJzxkaXYgaWQ9Imh0bWxfNGY5OGVhNmVhY2I1NDYwMmE5ZGZkOWI2MzhlMzIxYzAiIHN0eWxlPSJ3aWR0aDogMTAwLjAlOyBoZWlnaHQ6IDEwMC4wJTsiPk1hbGF5IFJlc3RhdXJhbnQ8L2Rpdj4nKVswXTsKICAgICAgICAgICAgICAgIHBvcHVwXzhkYTg5ZjZlMWNmYzQ1OGRhNWY1ZmViYWU1ODc3NjgwLnNldENvbnRlbnQoaHRtbF80Zjk4ZWE2ZWFjYjU0NjAyYTlkZmQ5YjYzOGUzMjFjMCk7CiAgICAgICAgICAgIAoKICAgICAgICAgICAgY2lyY2xlX21hcmtlcl9hNDJmN2FiZWQ2ODQ0YzFmYjNlMjQxMTkyOGE3NzQyMy5iaW5kUG9wdXAocG9wdXBfOGRhODlmNmUxY2ZjNDU4ZGE1ZjVmZWJhZTU4Nzc2ODApOwoKICAgICAgICAgICAgCiAgICAgICAgCiAgICAKICAgICAgICAgICAgdmFyIGNpcmNsZV9tYXJrZXJfMDQzYzI1MWZhNWFiNGY2ZDgwZDFjNzljMWZjODUwNGMgPSBMLmNpcmNsZU1hcmtlcigKICAgICAgICAgICAgICAgIFszNC4wMTI4NzEsLTg0LjU3MTkzOF0sCiAgICAgICAgICAgICAgICB7CiAgImJ1YmJsaW5nTW91c2VFdmVudHMiOiB0cnVlLAogICJjb2xvciI6ICJibHVlIiwKICAiZGFzaEFycmF5IjogbnVsbCwKICAiZGFzaE9mZnNldCI6IG51bGwsCiAgImZpbGwiOiB0cnVlLAogICJmaWxsQ29sb3IiOiAieWVsbG93IiwKICAiZmlsbE9wYWNpdHkiOiAwLjYsCiAgImZpbGxSdWxlIjogImV2ZW5vZGQiLAogICJsaW5lQ2FwIjogInJvdW5kIiwKICAibGluZUpvaW4iOiAicm91bmQiLAogICJvcGFjaXR5IjogMS4wLAogICJyYWRpdXMiOiA1LAogICJzdHJva2UiOiB0cnVlLAogICJ3ZWlnaHQiOiAzCn0KICAgICAgICAgICAgICAgICkuYWRkVG8obWFwXzY1Y2RiMDBiOWZmMDQ0ZThiYmZiNjNkNzU0MWI0OWQ1KTsKICAgICAgICAgICAgCiAgICAKICAgICAgICAgICAgdmFyIHBvcHVwXzk1ODZmOWE5ODI2NDRjOTViNzU5MmQyOGJmODA2MWE4ID0gTC5wb3B1cCh7bWF4V2lkdGg6ICczMDAnfSk7CgogICAgICAgICAgICAKICAgICAgICAgICAgICAgIHZhciBodG1sXzBlODVkMzU2Y2E4NzQxNzU4NWY1MzllYzM1NWQ5OWNmID0gJCgnPGRpdiBpZD0iaHRtbF8wZTg1ZDM1NmNhODc0MTc1ODVmNTM5ZWMzNTVkOTljZiIgc3R5bGU9IndpZHRoOiAxMDAuMCU7IGhlaWdodDogMTAwLjAlOyI+QW1lcmljYW4gUmVzdGF1cmFudDwvZGl2PicpWzBdOwogICAgICAgICAgICAgICAgcG9wdXBfOTU4NmY5YTk4MjY0NGM5NWI3NTkyZDI4YmY4MDYxYTguc2V0Q29udGVudChodG1sXzBlODVkMzU2Y2E4NzQxNzU4NWY1MzllYzM1NWQ5OWNmKTsKICAgICAgICAgICAgCgogICAgICAgICAgICBjaXJjbGVfbWFya2VyXzA0M2MyNTFmYTVhYjRmNmQ4MGQxYzc5YzFmYzg1MDRjLmJpbmRQb3B1cChwb3B1cF85NTg2ZjlhOTgyNjQ0Yzk1Yjc1OTJkMjhiZjgwNjFhOCk7CgogICAgICAgICAgICAKICAgICAgICAKICAgIAogICAgICAgICAgICB2YXIgY2lyY2xlX21hcmtlcl9lMDNhMjUyNjAyMDg0MWJhODdhNDE4YjBmZGQ1NTgxMCA9IEwuY2lyY2xlTWFya2VyKAogICAgICAgICAgICAgICAgWzM0LjAwOTkwMDgsLTg0LjU3NDg1OTgwMDAwMDAxXSwKICAgICAgICAgICAgICAgIHsKICAiYnViYmxpbmdNb3VzZUV2ZW50cyI6IHRydWUsCiAgImNvbG9yIjogImJsdWUiLAogICJkYXNoQXJyYXkiOiBudWxsLAogICJkYXNoT2Zmc2V0IjogbnVsbCwKICAiZmlsbCI6IHRydWUsCiAgImZpbGxDb2xvciI6ICJ5ZWxsb3ciLAogICJmaWxsT3BhY2l0eSI6IDAuNiwKICAiZmlsbFJ1bGUiOiAiZXZlbm9kZCIsCiAgImxpbmVDYXAiOiAicm91bmQiLAogICJsaW5lSm9pbiI6ICJyb3VuZCIsCiAgIm9wYWNpdHkiOiAxLjAsCiAgInJhZGl1cyI6IDUsCiAgInN0cm9rZSI6IHRydWUsCiAgIndlaWdodCI6IDMKfQogICAgICAgICAgICAgICAgKS5hZGRUbyhtYXBfNjVjZGIwMGI5ZmYwNDRlOGJiZmI2M2Q3NTQxYjQ5ZDUpOwogICAgICAgICAgICAKICAgIAogICAgICAgICAgICB2YXIgcG9wdXBfOGM2YTE0OWE2ODgwNGVhNWJkMTI0YzA5ZGNkYzYzNTUgPSBMLnBvcHVwKHttYXhXaWR0aDogJzMwMCd9KTsKCiAgICAgICAgICAgIAogICAgICAgICAgICAgICAgdmFyIGh0bWxfMjI2YjQ5YTU4MWY5NDRjMjkzZTliN2JkZjc3YTY4MTUgPSAkKCc8ZGl2IGlkPSJodG1sXzIyNmI0OWE1ODFmOTQ0YzI5M2U5YjdiZGY3N2E2ODE1IiBzdHlsZT0id2lkdGg6IDEwMC4wJTsgaGVpZ2h0OiAxMDAuMCU7Ij5Bc2lhbiBSZXN0YXVyYW50PC9kaXY+JylbMF07CiAgICAgICAgICAgICAgICBwb3B1cF84YzZhMTQ5YTY4ODA0ZWE1YmQxMjRjMDlkY2RjNjM1NS5zZXRDb250ZW50KGh0bWxfMjI2YjQ5YTU4MWY5NDRjMjkzZTliN2JkZjc3YTY4MTUpOwogICAgICAgICAgICAKCiAgICAgICAgICAgIGNpcmNsZV9tYXJrZXJfZTAzYTI1MjYwMjA4NDFiYTg3YTQxOGIwZmRkNTU4MTAuYmluZFBvcHVwKHBvcHVwXzhjNmExNDlhNjg4MDRlYTViZDEyNGMwOWRjZGM2MzU1KTsKCiAgICAgICAgICAgIAogICAgICAgIAogICAgCiAgICAgICAgICAgIHZhciBjaXJjbGVfbWFya2VyX2Q4N2Q0ODVjMWYyOTQ0ZTlhNWUzZTBjM2I5MTczYjcyID0gTC5jaXJjbGVNYXJrZXIoCiAgICAgICAgICAgICAgICBbMzQuMDExNzMxNDEyOTQzMjksLTg0LjU2MzUyMDAyMDY5ODM5XSwKICAgICAgICAgICAgICAgIHsKICAiYnViYmxpbmdNb3VzZUV2ZW50cyI6IHRydWUsCiAgImNvbG9yIjogImJsdWUiLAogICJkYXNoQXJyYXkiOiBudWxsLAogICJkYXNoT2Zmc2V0IjogbnVsbCwKICAiZmlsbCI6IHRydWUsCiAgImZpbGxDb2xvciI6ICJ5ZWxsb3ciLAogICJmaWxsT3BhY2l0eSI6IDAuNiwKICAiZmlsbFJ1bGUiOiAiZXZlbm9kZCIsCiAgImxpbmVDYXAiOiAicm91bmQiLAogICJsaW5lSm9pbiI6ICJyb3VuZCIsCiAgIm9wYWNpdHkiOiAxLjAsCiAgInJhZGl1cyI6IDUsCiAgInN0cm9rZSI6IHRydWUsCiAgIndlaWdodCI6IDMKfQogICAgICAgICAgICAgICAgKS5hZGRUbyhtYXBfNjVjZGIwMGI5ZmYwNDRlOGJiZmI2M2Q3NTQxYjQ5ZDUpOwogICAgICAgICAgICAKICAgIAogICAgICAgICAgICB2YXIgcG9wdXBfOGE3ODUwYzIwYzVhNDg5NjllYzU2ZGFlMDIzZmE0NTUgPSBMLnBvcHVwKHttYXhXaWR0aDogJzMwMCd9KTsKCiAgICAgICAgICAgIAogICAgICAgICAgICAgICAgdmFyIGh0bWxfOWJkZWY0MzkyMGJhNDExZGIyYTdkOWY3NjVlMjdlYWIgPSAkKCc8ZGl2IGlkPSJodG1sXzliZGVmNDM5MjBiYTQxMWRiMmE3ZDlmNzY1ZTI3ZWFiIiBzdHlsZT0id2lkdGg6IDEwMC4wJTsgaGVpZ2h0OiAxMDAuMCU7Ij5JdGFsaWFuIFJlc3RhdXJhbnQ8L2Rpdj4nKVswXTsKICAgICAgICAgICAgICAgIHBvcHVwXzhhNzg1MGMyMGM1YTQ4OTY5ZWM1NmRhZTAyM2ZhNDU1LnNldENvbnRlbnQoaHRtbF85YmRlZjQzOTIwYmE0MTFkYjJhN2Q5Zjc2NWUyN2VhYik7CiAgICAgICAgICAgIAoKICAgICAgICAgICAgY2lyY2xlX21hcmtlcl9kODdkNDg1YzFmMjk0NGU5YTVlM2UwYzNiOTE3M2I3Mi5iaW5kUG9wdXAocG9wdXBfOGE3ODUwYzIwYzVhNDg5NjllYzU2ZGFlMDIzZmE0NTUpOwoKICAgICAgICAgICAgCiAgICAgICAgCiAgICAKICAgICAgICAgICAgdmFyIGNpcmNsZV9tYXJrZXJfOGMwM2NlMzRiYTQ0NGJmOWFkYzRjZmMwYmM4ZDUyNTIgPSBMLmNpcmNsZU1hcmtlcigKICAgICAgICAgICAgICAgIFszNC4wMzQxOTc5LC04NC42Nzg3NTE4XSwKICAgICAgICAgICAgICAgIHsKICAiYnViYmxpbmdNb3VzZUV2ZW50cyI6IHRydWUsCiAgImNvbG9yIjogImJsdWUiLAogICJkYXNoQXJyYXkiOiBudWxsLAogICJkYXNoT2Zmc2V0IjogbnVsbCwKICAiZmlsbCI6IHRydWUsCiAgImZpbGxDb2xvciI6ICJ5ZWxsb3ciLAogICJmaWxsT3BhY2l0eSI6IDAuNiwKICAiZmlsbFJ1bGUiOiAiZXZlbm9kZCIsCiAgImxpbmVDYXAiOiAicm91bmQiLAogICJsaW5lSm9pbiI6ICJyb3VuZCIsCiAgIm9wYWNpdHkiOiAxLjAsCiAgInJhZGl1cyI6IDUsCiAgInN0cm9rZSI6IHRydWUsCiAgIndlaWdodCI6IDMKfQogICAgICAgICAgICAgICAgKS5hZGRUbyhtYXBfNjVjZGIwMGI5ZmYwNDRlOGJiZmI2M2Q3NTQxYjQ5ZDUpOwogICAgICAgICAgICAKICAgIAogICAgICAgICAgICB2YXIgcG9wdXBfZWY1NzY0NTcxN2MxNDI3ZWIxNTg5Y2VlYTBiOWQyM2IgPSBMLnBvcHVwKHttYXhXaWR0aDogJzMwMCd9KTsKCiAgICAgICAgICAgIAogICAgICAgICAgICAgICAgdmFyIGh0bWxfNThiZTYyNjczMGE2NDc0YjkzNzY5M2M2NTFlZjY4MjggPSAkKCc8ZGl2IGlkPSJodG1sXzU4YmU2MjY3MzBhNjQ3NGI5Mzc2OTNjNjUxZWY2ODI4IiBzdHlsZT0id2lkdGg6IDEwMC4wJTsgaGVpZ2h0OiAxMDAuMCU7Ij5GYXN0IEZvb2QgUmVzdGF1cmFudDwvZGl2PicpWzBdOwogICAgICAgICAgICAgICAgcG9wdXBfZWY1NzY0NTcxN2MxNDI3ZWIxNTg5Y2VlYTBiOWQyM2Iuc2V0Q29udGVudChodG1sXzU4YmU2MjY3MzBhNjQ3NGI5Mzc2OTNjNjUxZWY2ODI4KTsKICAgICAgICAgICAgCgogICAgICAgICAgICBjaXJjbGVfbWFya2VyXzhjMDNjZTM0YmE0NDRiZjlhZGM0Y2ZjMGJjOGQ1MjUyLmJpbmRQb3B1cChwb3B1cF9lZjU3NjQ1NzE3YzE0MjdlYjE1ODljZWVhMGI5ZDIzYik7CgogICAgICAgICAgICAKICAgICAgICAKICAgIAogICAgICAgICAgICB2YXIgY2lyY2xlX21hcmtlcl9jODY4NTBiZmQ0M2I0OTQ5OWYyNjkyMTczMTRjMTJhNCA9IEwuY2lyY2xlTWFya2VyKAogICAgICAgICAgICAgICAgWzM0LjAzNjkxODcwMDAwMDAxLC04NC41Njk2NzAzMTM0OTE4M10sCiAgICAgICAgICAgICAgICB7CiAgImJ1YmJsaW5nTW91c2VFdmVudHMiOiB0cnVlLAogICJjb2xvciI6ICJibHVlIiwKICAiZGFzaEFycmF5IjogbnVsbCwKICAiZGFzaE9mZnNldCI6IG51bGwsCiAgImZpbGwiOiB0cnVlLAogICJmaWxsQ29sb3IiOiAieWVsbG93IiwKICAiZmlsbE9wYWNpdHkiOiAwLjYsCiAgImZpbGxSdWxlIjogImV2ZW5vZGQiLAogICJsaW5lQ2FwIjogInJvdW5kIiwKICAibGluZUpvaW4iOiAicm91bmQiLAogICJvcGFjaXR5IjogMS4wLAogICJyYWRpdXMiOiA1LAogICJzdHJva2UiOiB0cnVlLAogICJ3ZWlnaHQiOiAzCn0KICAgICAgICAgICAgICAgICkuYWRkVG8obWFwXzY1Y2RiMDBiOWZmMDQ0ZThiYmZiNjNkNzU0MWI0OWQ1KTsKICAgICAgICAgICAgCiAgICAKICAgICAgICAgICAgdmFyIHBvcHVwXzkzM2RmMzRhY2UwNTQzMjM4MzMyMGFlZjRjOThhNjA5ID0gTC5wb3B1cCh7bWF4V2lkdGg6ICczMDAnfSk7CgogICAgICAgICAgICAKICAgICAgICAgICAgICAgIHZhciBodG1sXzdhOTIzMWJmZGU1MTQyZWY5ODIyYjMwZmYzN2FkMjc5ID0gJCgnPGRpdiBpZD0iaHRtbF83YTkyMzFiZmRlNTE0MmVmOTgyMmIzMGZmMzdhZDI3OSIgc3R5bGU9IndpZHRoOiAxMDAuMCU7IGhlaWdodDogMTAwLjAlOyI+RmFzdCBGb29kIFJlc3RhdXJhbnQ8L2Rpdj4nKVswXTsKICAgICAgICAgICAgICAgIHBvcHVwXzkzM2RmMzRhY2UwNTQzMjM4MzMyMGFlZjRjOThhNjA5LnNldENvbnRlbnQoaHRtbF83YTkyMzFiZmRlNTE0MmVmOTgyMmIzMGZmMzdhZDI3OSk7CiAgICAgICAgICAgIAoKICAgICAgICAgICAgY2lyY2xlX21hcmtlcl9jODY4NTBiZmQ0M2I0OTQ5OWYyNjkyMTczMTRjMTJhNC5iaW5kUG9wdXAocG9wdXBfOTMzZGYzNGFjZTA1NDMyMzgzMzIwYWVmNGM5OGE2MDkpOwoKICAgICAgICAgICAgCiAgICAgICAgCiAgICAKICAgICAgICAgICAgdmFyIGNpcmNsZV9tYXJrZXJfMjMzMzY4ZDFlNWY2NDA2NWIwNmZjMzcyZjEzNzE1YjcgPSBMLmNpcmNsZU1hcmtlcigKICAgICAgICAgICAgICAgIFszNC4wMzY5MzY5Mjk2MDQ0MiwtODQuNjc5NjE2NTY0NzUxOV0sCiAgICAgICAgICAgICAgICB7CiAgImJ1YmJsaW5nTW91c2VFdmVudHMiOiB0cnVlLAogICJjb2xvciI6ICJibHVlIiwKICAiZGFzaEFycmF5IjogbnVsbCwKICAiZGFzaE9mZnNldCI6IG51bGwsCiAgImZpbGwiOiB0cnVlLAogICJmaWxsQ29sb3IiOiAieWVsbG93IiwKICAiZmlsbE9wYWNpdHkiOiAwLjYsCiAgImZpbGxSdWxlIjogImV2ZW5vZGQiLAogICJsaW5lQ2FwIjogInJvdW5kIiwKICAibGluZUpvaW4iOiAicm91bmQiLAogICJvcGFjaXR5IjogMS4wLAogICJyYWRpdXMiOiA1LAogICJzdHJva2UiOiB0cnVlLAogICJ3ZWlnaHQiOiAzCn0KICAgICAgICAgICAgICAgICkuYWRkVG8obWFwXzY1Y2RiMDBiOWZmMDQ0ZThiYmZiNjNkNzU0MWI0OWQ1KTsKICAgICAgICAgICAgCiAgICAKICAgICAgICAgICAgdmFyIHBvcHVwX2JhYjU0ZmE3MTNjYzRiNzFhMjE0M2UwNDgyNzdiY2YxID0gTC5wb3B1cCh7bWF4V2lkdGg6ICczMDAnfSk7CgogICAgICAgICAgICAKICAgICAgICAgICAgICAgIHZhciBodG1sXzAyM2Q2ZTdhMThmMzRkNDRhZGIwZjU4YzA2N2M5ZmJkID0gJCgnPGRpdiBpZD0iaHRtbF8wMjNkNmU3YTE4ZjM0ZDQ0YWRiMGY1OGMwNjdjOWZiZCIgc3R5bGU9IndpZHRoOiAxMDAuMCU7IGhlaWdodDogMTAwLjAlOyI+TWV4aWNhbiBSZXN0YXVyYW50PC9kaXY+JylbMF07CiAgICAgICAgICAgICAgICBwb3B1cF9iYWI1NGZhNzEzY2M0YjcxYTIxNDNlMDQ4Mjc3YmNmMS5zZXRDb250ZW50KGh0bWxfMDIzZDZlN2ExOGYzNGQ0NGFkYjBmNThjMDY3YzlmYmQpOwogICAgICAgICAgICAKCiAgICAgICAgICAgIGNpcmNsZV9tYXJrZXJfMjMzMzY4ZDFlNWY2NDA2NWIwNmZjMzcyZjEzNzE1YjcuYmluZFBvcHVwKHBvcHVwX2JhYjU0ZmE3MTNjYzRiNzFhMjE0M2UwNDgyNzdiY2YxKTsKCiAgICAgICAgICAgIAogICAgICAgIAogICAgCiAgICAgICAgICAgIHZhciBjaXJjbGVfbWFya2VyX2ViYmI3ODIxMjlkYzQ1ZDc4MjdmNjlmZDExMDRkNDIxID0gTC5jaXJjbGVNYXJrZXIoCiAgICAgICAgICAgICAgICBbMzQuMDY2MDEwNjkyMDkyNDI2LC04NC42Nzc3Mjc1MDc1MTY4XSwKICAgICAgICAgICAgICAgIHsKICAiYnViYmxpbmdNb3VzZUV2ZW50cyI6IHRydWUsCiAgImNvbG9yIjogImJsdWUiLAogICJkYXNoQXJyYXkiOiBudWxsLAogICJkYXNoT2Zmc2V0IjogbnVsbCwKICAiZmlsbCI6IHRydWUsCiAgImZpbGxDb2xvciI6ICJ5ZWxsb3ciLAogICJmaWxsT3BhY2l0eSI6IDAuNiwKICAiZmlsbFJ1bGUiOiAiZXZlbm9kZCIsCiAgImxpbmVDYXAiOiAicm91bmQiLAogICJsaW5lSm9pbiI6ICJyb3VuZCIsCiAgIm9wYWNpdHkiOiAxLjAsCiAgInJhZGl1cyI6IDUsCiAgInN0cm9rZSI6IHRydWUsCiAgIndlaWdodCI6IDMKfQogICAgICAgICAgICAgICAgKS5hZGRUbyhtYXBfNjVjZGIwMGI5ZmYwNDRlOGJiZmI2M2Q3NTQxYjQ5ZDUpOwogICAgICAgICAgICAKICAgIAogICAgICAgICAgICB2YXIgcG9wdXBfMjRkYzYzNWRkZDgwNDM0YTkyZTJkNTI5MThjMDljZTAgPSBMLnBvcHVwKHttYXhXaWR0aDogJzMwMCd9KTsKCiAgICAgICAgICAgIAogICAgICAgICAgICAgICAgdmFyIGh0bWxfYjI1YmJiNGMwOGQ2NDM2NzljZjQwMmMwNjAyNzVkOTkgPSAkKCc8ZGl2IGlkPSJodG1sX2IyNWJiYjRjMDhkNjQzNjc5Y2Y0MDJjMDYwMjc1ZDk5IiBzdHlsZT0id2lkdGg6IDEwMC4wJTsgaGVpZ2h0OiAxMDAuMCU7Ij5DYWp1biAvIENyZW9sZSBSZXN0YXVyYW50PC9kaXY+JylbMF07CiAgICAgICAgICAgICAgICBwb3B1cF8yNGRjNjM1ZGRkODA0MzRhOTJlMmQ1MjkxOGMwOWNlMC5zZXRDb250ZW50KGh0bWxfYjI1YmJiNGMwOGQ2NDM2NzljZjQwMmMwNjAyNzVkOTkpOwogICAgICAgICAgICAKCiAgICAgICAgICAgIGNpcmNsZV9tYXJrZXJfZWJiYjc4MjEyOWRjNDVkNzgyN2Y2OWZkMTEwNGQ0MjEuYmluZFBvcHVwKHBvcHVwXzI0ZGM2MzVkZGQ4MDQzNGE5MmUyZDUyOTE4YzA5Y2UwKTsKCiAgICAgICAgICAgIAogICAgICAgIAogICAgCiAgICAgICAgICAgIHZhciBjaXJjbGVfbWFya2VyXzA4NWZiM2U1ZDk5OTQwYTM5NDA1MmFkY2E1ZGE1ODUyID0gTC5jaXJjbGVNYXJrZXIoCiAgICAgICAgICAgICAgICBbMzQuMDM1ODgyNTUyNjAwMDg2LC04NC42NzkxMjgxMDAwNjc4XSwKICAgICAgICAgICAgICAgIHsKICAiYnViYmxpbmdNb3VzZUV2ZW50cyI6IHRydWUsCiAgImNvbG9yIjogImJsdWUiLAogICJkYXNoQXJyYXkiOiBudWxsLAogICJkYXNoT2Zmc2V0IjogbnVsbCwKICAiZmlsbCI6IHRydWUsCiAgImZpbGxDb2xvciI6ICJ5ZWxsb3ciLAogICJmaWxsT3BhY2l0eSI6IDAuNiwKICAiZmlsbFJ1bGUiOiAiZXZlbm9kZCIsCiAgImxpbmVDYXAiOiAicm91bmQiLAogICJsaW5lSm9pbiI6ICJyb3VuZCIsCiAgIm9wYWNpdHkiOiAxLjAsCiAgInJhZGl1cyI6IDUsCiAgInN0cm9rZSI6IHRydWUsCiAgIndlaWdodCI6IDMKfQogICAgICAgICAgICAgICAgKS5hZGRUbyhtYXBfNjVjZGIwMGI5ZmYwNDRlOGJiZmI2M2Q3NTQxYjQ5ZDUpOwogICAgICAgICAgICAKICAgIAogICAgICAgICAgICB2YXIgcG9wdXBfYjY4OWJmZDhlZmMxNGY4MWE5Y2Y1YjAzYzM2ZTdiYTMgPSBMLnBvcHVwKHttYXhXaWR0aDogJzMwMCd9KTsKCiAgICAgICAgICAgIAogICAgICAgICAgICAgICAgdmFyIGh0bWxfNDRmZjhjNjllMDMxNDUwYTljNjMyMWI1NDFmZGRiNWQgPSAkKCc8ZGl2IGlkPSJodG1sXzQ0ZmY4YzY5ZTAzMTQ1MGE5YzYzMjFiNTQxZmRkYjVkIiBzdHlsZT0id2lkdGg6IDEwMC4wJTsgaGVpZ2h0OiAxMDAuMCU7Ij5NZXhpY2FuIFJlc3RhdXJhbnQ8L2Rpdj4nKVswXTsKICAgICAgICAgICAgICAgIHBvcHVwX2I2ODliZmQ4ZWZjMTRmODFhOWNmNWIwM2MzNmU3YmEzLnNldENvbnRlbnQoaHRtbF80NGZmOGM2OWUwMzE0NTBhOWM2MzIxYjU0MWZkZGI1ZCk7CiAgICAgICAgICAgIAoKICAgICAgICAgICAgY2lyY2xlX21hcmtlcl8wODVmYjNlNWQ5OTk0MGEzOTQwNTJhZGNhNWRhNTg1Mi5iaW5kUG9wdXAocG9wdXBfYjY4OWJmZDhlZmMxNGY4MWE5Y2Y1YjAzYzM2ZTdiYTMpOwoKICAgICAgICAgICAgCiAgICAgICAgCiAgICAKICAgICAgICAgICAgdmFyIGNpcmNsZV9tYXJrZXJfNDgyODc0YjZlMTJkNDIzOTlkNDA0ZTA5MDRjOWM0MjIgPSBMLmNpcmNsZU1hcmtlcigKICAgICAgICAgICAgICAgIFszMy45NzYyNjE0MDc0ODA1NiwtODQuNTQ2NTg4NzUyNDE3MjZdLAogICAgICAgICAgICAgICAgewogICJidWJibGluZ01vdXNlRXZlbnRzIjogdHJ1ZSwKICAiY29sb3IiOiAiYmx1ZSIsCiAgImRhc2hBcnJheSI6IG51bGwsCiAgImRhc2hPZmZzZXQiOiBudWxsLAogICJmaWxsIjogdHJ1ZSwKICAiZmlsbENvbG9yIjogInllbGxvdyIsCiAgImZpbGxPcGFjaXR5IjogMC42LAogICJmaWxsUnVsZSI6ICJldmVub2RkIiwKICAibGluZUNhcCI6ICJyb3VuZCIsCiAgImxpbmVKb2luIjogInJvdW5kIiwKICAib3BhY2l0eSI6IDEuMCwKICAicmFkaXVzIjogNSwKICAic3Ryb2tlIjogdHJ1ZSwKICAid2VpZ2h0IjogMwp9CiAgICAgICAgICAgICAgICApLmFkZFRvKG1hcF82NWNkYjAwYjlmZjA0NGU4YmJmYjYzZDc1NDFiNDlkNSk7CiAgICAgICAgICAgIAogICAgCiAgICAgICAgICAgIHZhciBwb3B1cF83YmQ0ZTNmYzUzN2Y0YTQ2OTMzMGYwZGFlZTVlZmU3YyA9IEwucG9wdXAoe21heFdpZHRoOiAnMzAwJ30pOwoKICAgICAgICAgICAgCiAgICAgICAgICAgICAgICB2YXIgaHRtbF83ODdkMjAwNDZhODk0MTQ3YjI2OGI4NzExNDA1OGRjNyA9ICQoJzxkaXYgaWQ9Imh0bWxfNzg3ZDIwMDQ2YTg5NDE0N2IyNjhiODcxMTQwNThkYzciIHN0eWxlPSJ3aWR0aDogMTAwLjAlOyBoZWlnaHQ6IDEwMC4wJTsiPktvcmVhbiBSZXN0YXVyYW50PC9kaXY+JylbMF07CiAgICAgICAgICAgICAgICBwb3B1cF83YmQ0ZTNmYzUzN2Y0YTQ2OTMzMGYwZGFlZTVlZmU3Yy5zZXRDb250ZW50KGh0bWxfNzg3ZDIwMDQ2YTg5NDE0N2IyNjhiODcxMTQwNThkYzcpOwogICAgICAgICAgICAKCiAgICAgICAgICAgIGNpcmNsZV9tYXJrZXJfNDgyODc0YjZlMTJkNDIzOTlkNDA0ZTA5MDRjOWM0MjIuYmluZFBvcHVwKHBvcHVwXzdiZDRlM2ZjNTM3ZjRhNDY5MzMwZjBkYWVlNWVmZTdjKTsKCiAgICAgICAgICAgIAogICAgICAgIAogICAgCiAgICAgICAgICAgIHZhciBjaXJjbGVfbWFya2VyX2FjOTkwNmMyM2NiMzQyNGFiMjMwNjk0MTc2YTYxM2I4ID0gTC5jaXJjbGVNYXJrZXIoCiAgICAgICAgICAgICAgICBbMzQuMDEzMjA5NjU4NjU0MTIsLTg0LjU1MjkxNTIyMzc5ODVdLAogICAgICAgICAgICAgICAgewogICJidWJibGluZ01vdXNlRXZlbnRzIjogdHJ1ZSwKICAiY29sb3IiOiAiYmx1ZSIsCiAgImRhc2hBcnJheSI6IG51bGwsCiAgImRhc2hPZmZzZXQiOiBudWxsLAogICJmaWxsIjogdHJ1ZSwKICAiZmlsbENvbG9yIjogInllbGxvdyIsCiAgImZpbGxPcGFjaXR5IjogMC42LAogICJmaWxsUnVsZSI6ICJldmVub2RkIiwKICAibGluZUNhcCI6ICJyb3VuZCIsCiAgImxpbmVKb2luIjogInJvdW5kIiwKICAib3BhY2l0eSI6IDEuMCwKICAicmFkaXVzIjogNSwKICAic3Ryb2tlIjogdHJ1ZSwKICAid2VpZ2h0IjogMwp9CiAgICAgICAgICAgICAgICApLmFkZFRvKG1hcF82NWNkYjAwYjlmZjA0NGU4YmJmYjYzZDc1NDFiNDlkNSk7CiAgICAgICAgICAgIAogICAgCiAgICAgICAgICAgIHZhciBwb3B1cF84ZjM5YTcwM2NjODU0YzQyOThmYTU3YzI3YWQ2MTBlNyA9IEwucG9wdXAoe21heFdpZHRoOiAnMzAwJ30pOwoKICAgICAgICAgICAgCiAgICAgICAgICAgICAgICB2YXIgaHRtbF82MzNkYTJmMGNlMTk0ZjFiODIzODBhNGQxYTFmOTU3ZSA9ICQoJzxkaXYgaWQ9Imh0bWxfNjMzZGEyZjBjZTE5NGYxYjgyMzgwYTRkMWExZjk1N2UiIHN0eWxlPSJ3aWR0aDogMTAwLjAlOyBoZWlnaHQ6IDEwMC4wJTsiPk1leGljYW4gUmVzdGF1cmFudDwvZGl2PicpWzBdOwogICAgICAgICAgICAgICAgcG9wdXBfOGYzOWE3MDNjYzg1NGM0Mjk4ZmE1N2MyN2FkNjEwZTcuc2V0Q29udGVudChodG1sXzYzM2RhMmYwY2UxOTRmMWI4MjM4MGE0ZDFhMWY5NTdlKTsKICAgICAgICAgICAgCgogICAgICAgICAgICBjaXJjbGVfbWFya2VyX2FjOTkwNmMyM2NiMzQyNGFiMjMwNjk0MTc2YTYxM2I4LmJpbmRQb3B1cChwb3B1cF84ZjM5YTcwM2NjODU0YzQyOThmYTU3YzI3YWQ2MTBlNyk7CgogICAgICAgICAgICAKICAgICAgICAKICAgIAogICAgICAgICAgICB2YXIgY2lyY2xlX21hcmtlcl9lZjk4YWJjZGE0OWQ0OGMyOWFmMDc0NmU2OTVlODk1NSA9IEwuY2lyY2xlTWFya2VyKAogICAgICAgICAgICAgICAgWzM0LjA2NTc4MDU2NTE0NDU4LC04NC42NzcxNjM0NDE3OTk0XSwKICAgICAgICAgICAgICAgIHsKICAiYnViYmxpbmdNb3VzZUV2ZW50cyI6IHRydWUsCiAgImNvbG9yIjogImJsdWUiLAogICJkYXNoQXJyYXkiOiBudWxsLAogICJkYXNoT2Zmc2V0IjogbnVsbCwKICAiZmlsbCI6IHRydWUsCiAgImZpbGxDb2xvciI6ICJ5ZWxsb3ciLAogICJmaWxsT3BhY2l0eSI6IDAuNiwKICAiZmlsbFJ1bGUiOiAiZXZlbm9kZCIsCiAgImxpbmVDYXAiOiAicm91bmQiLAogICJsaW5lSm9pbiI6ICJyb3VuZCIsCiAgIm9wYWNpdHkiOiAxLjAsCiAgInJhZGl1cyI6IDUsCiAgInN0cm9rZSI6IHRydWUsCiAgIndlaWdodCI6IDMKfQogICAgICAgICAgICAgICAgKS5hZGRUbyhtYXBfNjVjZGIwMGI5ZmYwNDRlOGJiZmI2M2Q3NTQxYjQ5ZDUpOwogICAgICAgICAgICAKICAgIAogICAgICAgICAgICB2YXIgcG9wdXBfMzU1Mjc3OTM1ZDBmNGRhNjkyMTY1OTIyYTE0YzliMGYgPSBMLnBvcHVwKHttYXhXaWR0aDogJzMwMCd9KTsKCiAgICAgICAgICAgIAogICAgICAgICAgICAgICAgdmFyIGh0bWxfOTM2M2MyNzU2OTk1NGNiYzk0Yjk1NjVhNGU2NDYzMjkgPSAkKCc8ZGl2IGlkPSJodG1sXzkzNjNjMjc1Njk5NTRjYmM5NGI5NTY1YTRlNjQ2MzI5IiBzdHlsZT0id2lkdGg6IDEwMC4wJTsgaGVpZ2h0OiAxMDAuMCU7Ij5JdGFsaWFuIFJlc3RhdXJhbnQ8L2Rpdj4nKVswXTsKICAgICAgICAgICAgICAgIHBvcHVwXzM1NTI3NzkzNWQwZjRkYTY5MjE2NTkyMmExNGM5YjBmLnNldENvbnRlbnQoaHRtbF85MzYzYzI3NTY5OTU0Y2JjOTRiOTU2NWE0ZTY0NjMyOSk7CiAgICAgICAgICAgIAoKICAgICAgICAgICAgY2lyY2xlX21hcmtlcl9lZjk4YWJjZGE0OWQ0OGMyOWFmMDc0NmU2OTVlODk1NS5iaW5kUG9wdXAocG9wdXBfMzU1Mjc3OTM1ZDBmNGRhNjkyMTY1OTIyYTE0YzliMGYpOwoKICAgICAgICAgICAgCiAgICAgICAgCiAgICAKICAgICAgICAgICAgdmFyIGNpcmNsZV9tYXJrZXJfYjAzNmMxMDY4ZTU4NDQ0YWI0M2QxZDQzNWVmZGI1NDEgPSBMLmNpcmNsZU1hcmtlcigKICAgICAgICAgICAgICAgIFszNC4wODE5Mjk5NzM5OTEyMywtODQuNTc0OTc1NDczMjk5MDVdLAogICAgICAgICAgICAgICAgewogICJidWJibGluZ01vdXNlRXZlbnRzIjogdHJ1ZSwKICAiY29sb3IiOiAiYmx1ZSIsCiAgImRhc2hBcnJheSI6IG51bGwsCiAgImRhc2hPZmZzZXQiOiBudWxsLAogICJmaWxsIjogdHJ1ZSwKICAiZmlsbENvbG9yIjogInllbGxvdyIsCiAgImZpbGxPcGFjaXR5IjogMC42LAogICJmaWxsUnVsZSI6ICJldmVub2RkIiwKICAibGluZUNhcCI6ICJyb3VuZCIsCiAgImxpbmVKb2luIjogInJvdW5kIiwKICAib3BhY2l0eSI6IDEuMCwKICAicmFkaXVzIjogNSwKICAic3Ryb2tlIjogdHJ1ZSwKICAid2VpZ2h0IjogMwp9CiAgICAgICAgICAgICAgICApLmFkZFRvKG1hcF82NWNkYjAwYjlmZjA0NGU4YmJmYjYzZDc1NDFiNDlkNSk7CiAgICAgICAgICAgIAogICAgCiAgICAgICAgICAgIHZhciBwb3B1cF8yMmNhNzU0ZTRiZGI0Y2RjOWQzODZiNjM1ZTUyNDhhOSA9IEwucG9wdXAoe21heFdpZHRoOiAnMzAwJ30pOwoKICAgICAgICAgICAgCiAgICAgICAgICAgICAgICB2YXIgaHRtbF85MDg3OTY3YWViYzM0NDMwYTAyZGQwNGEwNDA4NWYyZiA9ICQoJzxkaXYgaWQ9Imh0bWxfOTA4Nzk2N2FlYmMzNDQzMGEwMmRkMDRhMDQwODVmMmYiIHN0eWxlPSJ3aWR0aDogMTAwLjAlOyBoZWlnaHQ6IDEwMC4wJTsiPlRoYWkgUmVzdGF1cmFudDwvZGl2PicpWzBdOwogICAgICAgICAgICAgICAgcG9wdXBfMjJjYTc1NGU0YmRiNGNkYzlkMzg2YjYzNWU1MjQ4YTkuc2V0Q29udGVudChodG1sXzkwODc5NjdhZWJjMzQ0MzBhMDJkZDA0YTA0MDg1ZjJmKTsKICAgICAgICAgICAgCgogICAgICAgICAgICBjaXJjbGVfbWFya2VyX2IwMzZjMTA2OGU1ODQ0NGFiNDNkMWQ0MzVlZmRiNTQxLmJpbmRQb3B1cChwb3B1cF8yMmNhNzU0ZTRiZGI0Y2RjOWQzODZiNjM1ZTUyNDhhOSk7CgogICAgICAgICAgICAKICAgICAgICAKICAgIAogICAgICAgICAgICB2YXIgY2lyY2xlX21hcmtlcl9mM2YwNTQyZmNhMzc0Y2ZiYTg4N2E2M2FkZThlOTEwNCA9IEwuY2lyY2xlTWFya2VyKAogICAgICAgICAgICAgICAgWzMzLjk0Nzk1NTI3MDgzMDM2LC04NC42MjYyNzgyMTM1NTc2XSwKICAgICAgICAgICAgICAgIHsKICAiYnViYmxpbmdNb3VzZUV2ZW50cyI6IHRydWUsCiAgImNvbG9yIjogImJsdWUiLAogICJkYXNoQXJyYXkiOiBudWxsLAogICJkYXNoT2Zmc2V0IjogbnVsbCwKICAiZmlsbCI6IHRydWUsCiAgImZpbGxDb2xvciI6ICJ5ZWxsb3ciLAogICJmaWxsT3BhY2l0eSI6IDAuNiwKICAiZmlsbFJ1bGUiOiAiZXZlbm9kZCIsCiAgImxpbmVDYXAiOiAicm91bmQiLAogICJsaW5lSm9pbiI6ICJyb3VuZCIsCiAgIm9wYWNpdHkiOiAxLjAsCiAgInJhZGl1cyI6IDUsCiAgInN0cm9rZSI6IHRydWUsCiAgIndlaWdodCI6IDMKfQogICAgICAgICAgICAgICAgKS5hZGRUbyhtYXBfNjVjZGIwMGI5ZmYwNDRlOGJiZmI2M2Q3NTQxYjQ5ZDUpOwogICAgICAgICAgICAKICAgIAogICAgICAgICAgICB2YXIgcG9wdXBfZDY4ZDI0Y2Q3ZWE2NGMxZmExNjU2MDFhNjM5OGUyYjIgPSBMLnBvcHVwKHttYXhXaWR0aDogJzMwMCd9KTsKCiAgICAgICAgICAgIAogICAgICAgICAgICAgICAgdmFyIGh0bWxfNzQ1NGI3ODQxN2Y2NDNlZDlhYzM0N2Y3MzNkNTg5ZTggPSAkKCc8ZGl2IGlkPSJodG1sXzc0NTRiNzg0MTdmNjQzZWQ5YWMzNDdmNzMzZDU4OWU4IiBzdHlsZT0id2lkdGg6IDEwMC4wJTsgaGVpZ2h0OiAxMDAuMCU7Ij5NZXhpY2FuIFJlc3RhdXJhbnQ8L2Rpdj4nKVswXTsKICAgICAgICAgICAgICAgIHBvcHVwX2Q2OGQyNGNkN2VhNjRjMWZhMTY1NjAxYTYzOThlMmIyLnNldENvbnRlbnQoaHRtbF83NDU0Yjc4NDE3ZjY0M2VkOWFjMzQ3ZjczM2Q1ODllOCk7CiAgICAgICAgICAgIAoKICAgICAgICAgICAgY2lyY2xlX21hcmtlcl9mM2YwNTQyZmNhMzc0Y2ZiYTg4N2E2M2FkZThlOTEwNC5iaW5kUG9wdXAocG9wdXBfZDY4ZDI0Y2Q3ZWE2NGMxZmExNjU2MDFhNjM5OGUyYjIpOwoKICAgICAgICAgICAgCiAgICAgICAgCiAgICAKICAgICAgICAgICAgdmFyIGNpcmNsZV9tYXJrZXJfMjBhZWU4MGUzZDg4NGJlMzg5ZGI3ZDBjYTRlZDkwYjQgPSBMLmNpcmNsZU1hcmtlcigKICAgICAgICAgICAgICAgIFszMy45OTg1NzE1LC04NC43MDQ0MjQ5XSwKICAgICAgICAgICAgICAgIHsKICAiYnViYmxpbmdNb3VzZUV2ZW50cyI6IHRydWUsCiAgImNvbG9yIjogImJsdWUiLAogICJkYXNoQXJyYXkiOiBudWxsLAogICJkYXNoT2Zmc2V0IjogbnVsbCwKICAiZmlsbCI6IHRydWUsCiAgImZpbGxDb2xvciI6ICJ5ZWxsb3ciLAogICJmaWxsT3BhY2l0eSI6IDAuNiwKICAiZmlsbFJ1bGUiOiAiZXZlbm9kZCIsCiAgImxpbmVDYXAiOiAicm91bmQiLAogICJsaW5lSm9pbiI6ICJyb3VuZCIsCiAgIm9wYWNpdHkiOiAxLjAsCiAgInJhZGl1cyI6IDUsCiAgInN0cm9rZSI6IHRydWUsCiAgIndlaWdodCI6IDMKfQogICAgICAgICAgICAgICAgKS5hZGRUbyhtYXBfNjVjZGIwMGI5ZmYwNDRlOGJiZmI2M2Q3NTQxYjQ5ZDUpOwogICAgICAgICAgICAKICAgIAogICAgICAgICAgICB2YXIgcG9wdXBfZDcxM2ZkNzk2ZDhmNDc2N2JkOGE1MzZhYjhiMTZiYmEgPSBMLnBvcHVwKHttYXhXaWR0aDogJzMwMCd9KTsKCiAgICAgICAgICAgIAogICAgICAgICAgICAgICAgdmFyIGh0bWxfMzc1Mjk2ZjM3MjBlNGRlNjgwYjE5YTUzZTc0NTljMjggPSAkKCc8ZGl2IGlkPSJodG1sXzM3NTI5NmYzNzIwZTRkZTY4MGIxOWE1M2U3NDU5YzI4IiBzdHlsZT0id2lkdGg6IDEwMC4wJTsgaGVpZ2h0OiAxMDAuMCU7Ij5GYXN0IEZvb2QgUmVzdGF1cmFudDwvZGl2PicpWzBdOwogICAgICAgICAgICAgICAgcG9wdXBfZDcxM2ZkNzk2ZDhmNDc2N2JkOGE1MzZhYjhiMTZiYmEuc2V0Q29udGVudChodG1sXzM3NTI5NmYzNzIwZTRkZTY4MGIxOWE1M2U3NDU5YzI4KTsKICAgICAgICAgICAgCgogICAgICAgICAgICBjaXJjbGVfbWFya2VyXzIwYWVlODBlM2Q4ODRiZTM4OWRiN2QwY2E0ZWQ5MGI0LmJpbmRQb3B1cChwb3B1cF9kNzEzZmQ3OTZkOGY0NzY3YmQ4YTUzNmFiOGIxNmJiYSk7CgogICAgICAgICAgICAKICAgICAgICAKICAgIAogICAgICAgICAgICB2YXIgY2lyY2xlX21hcmtlcl9mZWMzNjU0YTRmNzk0MDU0OWFkYTMzNGNiMDk2OTc1NiA9IEwuY2lyY2xlTWFya2VyKAogICAgICAgICAgICAgICAgWzMzLjk3NzcwNTY1MTE3NDA2LC04NC41NTU5MDY2NDI1MjczNV0sCiAgICAgICAgICAgICAgICB7CiAgImJ1YmJsaW5nTW91c2VFdmVudHMiOiB0cnVlLAogICJjb2xvciI6ICJibHVlIiwKICAiZGFzaEFycmF5IjogbnVsbCwKICAiZGFzaE9mZnNldCI6IG51bGwsCiAgImZpbGwiOiB0cnVlLAogICJmaWxsQ29sb3IiOiAieWVsbG93IiwKICAiZmlsbE9wYWNpdHkiOiAwLjYsCiAgImZpbGxSdWxlIjogImV2ZW5vZGQiLAogICJsaW5lQ2FwIjogInJvdW5kIiwKICAibGluZUpvaW4iOiAicm91bmQiLAogICJvcGFjaXR5IjogMS4wLAogICJyYWRpdXMiOiA1LAogICJzdHJva2UiOiB0cnVlLAogICJ3ZWlnaHQiOiAzCn0KICAgICAgICAgICAgICAgICkuYWRkVG8obWFwXzY1Y2RiMDBiOWZmMDQ0ZThiYmZiNjNkNzU0MWI0OWQ1KTsKICAgICAgICAgICAgCiAgICAKICAgICAgICAgICAgdmFyIHBvcHVwXzg3OTUwODBhYTMyNzQ0ZmU4N2ZhODEwNTYyODRjMjgwID0gTC5wb3B1cCh7bWF4V2lkdGg6ICczMDAnfSk7CgogICAgICAgICAgICAKICAgICAgICAgICAgICAgIHZhciBodG1sXzU3YWM4YjMxMjc4NDRmNTI5N2NmODdjNzkzZmJhMDA3ID0gJCgnPGRpdiBpZD0iaHRtbF81N2FjOGIzMTI3ODQ0ZjUyOTdjZjg3Yzc5M2ZiYTAwNyIgc3R5bGU9IndpZHRoOiAxMDAuMCU7IGhlaWdodDogMTAwLjAlOyI+U291dGhlcm4gLyBTb3VsIEZvb2QgUmVzdGF1cmFudDwvZGl2PicpWzBdOwogICAgICAgICAgICAgICAgcG9wdXBfODc5NTA4MGFhMzI3NDRmZTg3ZmE4MTA1NjI4NGMyODAuc2V0Q29udGVudChodG1sXzU3YWM4YjMxMjc4NDRmNTI5N2NmODdjNzkzZmJhMDA3KTsKICAgICAgICAgICAgCgogICAgICAgICAgICBjaXJjbGVfbWFya2VyX2ZlYzM2NTRhNGY3OTQwNTQ5YWRhMzM0Y2IwOTY5NzU2LmJpbmRQb3B1cChwb3B1cF84Nzk1MDgwYWEzMjc0NGZlODdmYTgxMDU2Mjg0YzI4MCk7CgogICAgICAgICAgICAKICAgICAgICAKPC9zY3JpcHQ+\" style=\"position:absolute;width:100%;height:100%;left:0;top:0;border:none !important;\" allowfullscreen webkitallowfullscreen mozallowfullscreen></iframe></div></div>"
      ],
      "text/plain": [
       "<folium.folium.Map at 0x7f4f1a443048>"
      ]
     },
     "execution_count": 18,
     "metadata": {},
     "output_type": "execute_result"
    }
   ],
   "source": [
    "kennesaw_map = folium.Map(location=[kennesaw['lat'], kennesaw['lng']], zoom_start=13) \n",
    "# Add restaurants to the map\n",
    "for lat, lng, label in zip(df_ken_rest.lat, df_ken_rest.lng, df_ken_rest.categories):\n",
    "    folium.features.CircleMarker(\n",
    "        [lat, lng],\n",
    "        radius=5,\n",
    "        popup=label,\n",
    "        fill=True,\n",
    "        color='blue',\n",
    "        fill_color='yellow',\n",
    "        fill_opacity=0.6\n",
    "        ).add_to(kennesaw_map)\n",
    "\n",
    "# display map\n",
    "kennesaw_map"
   ]
  },
  {
   "cell_type": "markdown",
   "metadata": {},
   "source": [
    "<hr size=30px></hr>"
   ]
  },
  {
   "cell_type": "markdown",
   "metadata": {},
   "source": [
    "# Capstone Project - The Battle of Neighborhoods (Week 2)"
   ]
  },
  {
   "cell_type": "markdown",
   "metadata": {},
   "source": [
    "# 3- Methodology and Analysis"
   ]
  },
  {
   "cell_type": "markdown",
   "metadata": {},
   "source": [
    "### Section which represents the main component of the report where you discuss and describe any exploratory data analysis that you did, any inferential statistical testing that you performed, if any, and what machine learnings were used and why."
   ]
  },
  {
   "cell_type": "markdown",
   "metadata": {},
   "source": [
    "I applied the same analytics and Model implementation to each city, to understand how close are the restaurants in relationship to each city center and the proximity between restaurants.\n",
    "\n",
    "**First** - I grouped the restaurants by categories and distance to understand the types of restaurants I was dealing with, the variety of restaurants in the areas, and how far are these located form the city center.\n",
    "\n",
    "**Second** - I filtered how many restaurants were within 2 miles of each city center, just to get an overview of the locations and amount of restaurants close to the city centers.\n",
    "\n",
    "**Third** - I plotted the restaurants by categories and distance from the city centers, to get a visual of the distance for each restaurant we found for each city.\n",
    "\n",
    "**Fourth** - I ran a Kmeans cluster on each city to get a visual of the restaurant's density, also plot a cluster on each city map."
   ]
  },
  {
   "cell_type": "markdown",
   "metadata": {},
   "source": [
    "**Atlanta restaurant exploration data.**"
   ]
  },
  {
   "cell_type": "code",
   "execution_count": 19,
   "metadata": {},
   "outputs": [
    {
     "data": {
      "text/html": [
       "<div>\n",
       "<style scoped>\n",
       "    .dataframe tbody tr th:only-of-type {\n",
       "        vertical-align: middle;\n",
       "    }\n",
       "\n",
       "    .dataframe tbody tr th {\n",
       "        vertical-align: top;\n",
       "    }\n",
       "\n",
       "    .dataframe thead th {\n",
       "        text-align: right;\n",
       "    }\n",
       "</style>\n",
       "<table border=\"1\" class=\"dataframe\">\n",
       "  <thead>\n",
       "    <tr style=\"text-align: right;\">\n",
       "      <th></th>\n",
       "      <th></th>\n",
       "      <th>categories</th>\n",
       "    </tr>\n",
       "    <tr>\n",
       "      <th>categories</th>\n",
       "      <th>distance</th>\n",
       "      <th></th>\n",
       "    </tr>\n",
       "  </thead>\n",
       "  <tbody>\n",
       "    <tr>\n",
       "      <th rowspan=\"4\" valign=\"top\">American Restaurant</th>\n",
       "      <th>1888</th>\n",
       "      <td>1</td>\n",
       "    </tr>\n",
       "    <tr>\n",
       "      <th>2505</th>\n",
       "      <td>1</td>\n",
       "    </tr>\n",
       "    <tr>\n",
       "      <th>3292</th>\n",
       "      <td>1</td>\n",
       "    </tr>\n",
       "    <tr>\n",
       "      <th>3790</th>\n",
       "      <td>1</td>\n",
       "    </tr>\n",
       "    <tr>\n",
       "      <th>Asian Restaurant</th>\n",
       "      <th>4133</th>\n",
       "      <td>1</td>\n",
       "    </tr>\n",
       "    <tr>\n",
       "      <th>Cuban Restaurant</th>\n",
       "      <th>2743</th>\n",
       "      <td>1</td>\n",
       "    </tr>\n",
       "    <tr>\n",
       "      <th>Fast Food Restaurant</th>\n",
       "      <th>3700</th>\n",
       "      <td>1</td>\n",
       "    </tr>\n",
       "    <tr>\n",
       "      <th>French Restaurant</th>\n",
       "      <th>3679</th>\n",
       "      <td>1</td>\n",
       "    </tr>\n",
       "    <tr>\n",
       "      <th>Greek Restaurant</th>\n",
       "      <th>781</th>\n",
       "      <td>1</td>\n",
       "    </tr>\n",
       "    <tr>\n",
       "      <th>Italian Restaurant</th>\n",
       "      <th>4324</th>\n",
       "      <td>1</td>\n",
       "    </tr>\n",
       "    <tr>\n",
       "      <th rowspan=\"3\" valign=\"top\">Mediterranean Restaurant</th>\n",
       "      <th>1297</th>\n",
       "      <td>1</td>\n",
       "    </tr>\n",
       "    <tr>\n",
       "      <th>3325</th>\n",
       "      <td>1</td>\n",
       "    </tr>\n",
       "    <tr>\n",
       "      <th>3569</th>\n",
       "      <td>1</td>\n",
       "    </tr>\n",
       "    <tr>\n",
       "      <th rowspan=\"3\" valign=\"top\">Mexican Restaurant</th>\n",
       "      <th>2367</th>\n",
       "      <td>1</td>\n",
       "    </tr>\n",
       "    <tr>\n",
       "      <th>3109</th>\n",
       "      <td>1</td>\n",
       "    </tr>\n",
       "    <tr>\n",
       "      <th>3853</th>\n",
       "      <td>1</td>\n",
       "    </tr>\n",
       "    <tr>\n",
       "      <th>Restaurant</th>\n",
       "      <th>2919</th>\n",
       "      <td>1</td>\n",
       "    </tr>\n",
       "    <tr>\n",
       "      <th>Seafood Restaurant</th>\n",
       "      <th>4024</th>\n",
       "      <td>1</td>\n",
       "    </tr>\n",
       "    <tr>\n",
       "      <th rowspan=\"2\" valign=\"top\">Southern / Soul Food Restaurant</th>\n",
       "      <th>2977</th>\n",
       "      <td>1</td>\n",
       "    </tr>\n",
       "    <tr>\n",
       "      <th>4129</th>\n",
       "      <td>1</td>\n",
       "    </tr>\n",
       "    <tr>\n",
       "      <th>Thai Restaurant</th>\n",
       "      <th>2223</th>\n",
       "      <td>1</td>\n",
       "    </tr>\n",
       "    <tr>\n",
       "      <th>Vegetarian / Vegan Restaurant</th>\n",
       "      <th>2361</th>\n",
       "      <td>1</td>\n",
       "    </tr>\n",
       "    <tr>\n",
       "      <th>Vietnamese Restaurant</th>\n",
       "      <th>3789</th>\n",
       "      <td>1</td>\n",
       "    </tr>\n",
       "  </tbody>\n",
       "</table>\n",
       "</div>"
      ],
      "text/plain": [
       "                                          categories\n",
       "categories                      distance            \n",
       "American Restaurant             1888               1\n",
       "                                2505               1\n",
       "                                3292               1\n",
       "                                3790               1\n",
       "Asian Restaurant                4133               1\n",
       "Cuban Restaurant                2743               1\n",
       "Fast Food Restaurant            3700               1\n",
       "French Restaurant               3679               1\n",
       "Greek Restaurant                781                1\n",
       "Italian Restaurant              4324               1\n",
       "Mediterranean Restaurant        1297               1\n",
       "                                3325               1\n",
       "                                3569               1\n",
       "Mexican Restaurant              2367               1\n",
       "                                3109               1\n",
       "                                3853               1\n",
       "Restaurant                      2919               1\n",
       "Seafood Restaurant              4024               1\n",
       "Southern / Soul Food Restaurant 2977               1\n",
       "                                4129               1\n",
       "Thai Restaurant                 2223               1\n",
       "Vegetarian / Vegan Restaurant   2361               1\n",
       "Vietnamese Restaurant           3789               1"
      ]
     },
     "execution_count": 19,
     "metadata": {},
     "output_type": "execute_result"
    }
   ],
   "source": [
    "# Restaurants grouped by Category and Distance\n",
    "pd.DataFrame(df_atl_rest.groupby(['categories','distance'])['categories'].count())"
   ]
  },
  {
   "cell_type": "code",
   "execution_count": 20,
   "metadata": {},
   "outputs": [
    {
     "data": {
      "text/plain": [
       "categories    12\n",
       "distance      12\n",
       "dtype: int64"
      ]
     },
     "execution_count": 20,
     "metadata": {},
     "output_type": "execute_result"
    }
   ],
   "source": [
    "# Restaurants in less than 2 miles around the center\n",
    "df_atl_rest[['categories', 'distance']][df_atl_rest['distance'] < 3300].count()"
   ]
  },
  {
   "cell_type": "code",
   "execution_count": 21,
   "metadata": {},
   "outputs": [
    {
     "data": {
      "text/html": [
       "<div>\n",
       "<style scoped>\n",
       "    .dataframe tbody tr th:only-of-type {\n",
       "        vertical-align: middle;\n",
       "    }\n",
       "\n",
       "    .dataframe tbody tr th {\n",
       "        vertical-align: top;\n",
       "    }\n",
       "\n",
       "    .dataframe thead th {\n",
       "        text-align: right;\n",
       "    }\n",
       "</style>\n",
       "<table border=\"1\" class=\"dataframe\">\n",
       "  <thead>\n",
       "    <tr style=\"text-align: right;\">\n",
       "      <th></th>\n",
       "      <th>categories</th>\n",
       "      <th>distance</th>\n",
       "    </tr>\n",
       "  </thead>\n",
       "  <tbody>\n",
       "    <tr>\n",
       "      <th>0</th>\n",
       "      <td>Mediterranean Restaurant</td>\n",
       "      <td>1297</td>\n",
       "    </tr>\n",
       "    <tr>\n",
       "      <th>3</th>\n",
       "      <td>Greek Restaurant</td>\n",
       "      <td>781</td>\n",
       "    </tr>\n",
       "    <tr>\n",
       "      <th>25</th>\n",
       "      <td>American Restaurant</td>\n",
       "      <td>1888</td>\n",
       "    </tr>\n",
       "    <tr>\n",
       "      <th>31</th>\n",
       "      <td>Mexican Restaurant</td>\n",
       "      <td>2367</td>\n",
       "    </tr>\n",
       "    <tr>\n",
       "      <th>32</th>\n",
       "      <td>Thai Restaurant</td>\n",
       "      <td>2223</td>\n",
       "    </tr>\n",
       "    <tr>\n",
       "      <th>36</th>\n",
       "      <td>American Restaurant</td>\n",
       "      <td>2505</td>\n",
       "    </tr>\n",
       "    <tr>\n",
       "      <th>40</th>\n",
       "      <td>Vegetarian / Vegan Restaurant</td>\n",
       "      <td>2361</td>\n",
       "    </tr>\n",
       "    <tr>\n",
       "      <th>44</th>\n",
       "      <td>Mexican Restaurant</td>\n",
       "      <td>3109</td>\n",
       "    </tr>\n",
       "    <tr>\n",
       "      <th>45</th>\n",
       "      <td>Restaurant</td>\n",
       "      <td>2919</td>\n",
       "    </tr>\n",
       "    <tr>\n",
       "      <th>51</th>\n",
       "      <td>Cuban Restaurant</td>\n",
       "      <td>2743</td>\n",
       "    </tr>\n",
       "    <tr>\n",
       "      <th>54</th>\n",
       "      <td>Southern / Soul Food Restaurant</td>\n",
       "      <td>2977</td>\n",
       "    </tr>\n",
       "    <tr>\n",
       "      <th>68</th>\n",
       "      <td>American Restaurant</td>\n",
       "      <td>3292</td>\n",
       "    </tr>\n",
       "  </tbody>\n",
       "</table>\n",
       "</div>"
      ],
      "text/plain": [
       "                         categories  distance\n",
       "0          Mediterranean Restaurant      1297\n",
       "3                  Greek Restaurant       781\n",
       "25              American Restaurant      1888\n",
       "31               Mexican Restaurant      2367\n",
       "32                  Thai Restaurant      2223\n",
       "36              American Restaurant      2505\n",
       "40    Vegetarian / Vegan Restaurant      2361\n",
       "44               Mexican Restaurant      3109\n",
       "45                       Restaurant      2919\n",
       "51                 Cuban Restaurant      2743\n",
       "54  Southern / Soul Food Restaurant      2977\n",
       "68              American Restaurant      3292"
      ]
     },
     "execution_count": 21,
     "metadata": {},
     "output_type": "execute_result"
    }
   ],
   "source": [
    "# Restaurants in less than 2 miles around the center\n",
    "df_atl_rest[['categories', 'distance']][df_atl_rest['distance'] < 3300]"
   ]
  },
  {
   "cell_type": "code",
   "execution_count": 22,
   "metadata": {},
   "outputs": [
    {
     "data": {
      "text/plain": [
       "<matplotlib.axes._subplots.AxesSubplot at 0x7f4f1a354048>"
      ]
     },
     "execution_count": 22,
     "metadata": {},
     "output_type": "execute_result"
    },
    {
     "data": {
      "image/png": "[encoded data removed]",
      "text/plain": [
       "<Figure size 1440x720 with 1 Axes>"
      ]
     },
     "metadata": {
      "needs_background": "light"
     },
     "output_type": "display_data"
    }
   ],
   "source": [
    "df_atl_rest.plot(x='categories',kind='bar', figsize=(20, 10), stacked=True )"
   ]
  },
  {
   "cell_type": "code",
   "execution_count": 23,
   "metadata": {},
   "outputs": [
    {
     "name": "stderr",
     "output_type": "stream",
     "text": [
      "/home/jrodriguez/anaconda3/lib/python3.7/site-packages/sklearn/preprocessing/data.py:645: DataConversionWarning: Data with input dtype int64, float64, object were all converted to float64 by StandardScaler.\n",
      "  return self.partial_fit(X, y)\n"
     ]
    },
    {
     "name": "stdout",
     "output_type": "stream",
     "text": [
      "Silhouette Score: 0.4833584046505372\n"
     ]
    },
    {
     "data": {
      "image/png": "[encoded data removed]",
      "text/plain": [
       "<Figure size 720x432 with 1 Axes>"
      ]
     },
     "metadata": {
      "needs_background": "light"
     },
     "output_type": "display_data"
    }
   ],
   "source": [
    "X = df_atl_rest[['distance', 'lat', 'lng', 'postalCode']]\n",
    "X = StandardScaler().fit(X).transform(X.astype(float))\n",
    "\n",
    "kmeans_model = KMeans(n_clusters=5, random_state=20, max_iter=25).fit(X)\n",
    "labels = kmeans_model.labels_\n",
    "centers = kmeans_model.cluster_centers_\n",
    "score = metrics.silhouette_score(X, kmeans_model.labels_, metric='euclidean')\n",
    "print(f'Silhouette Score: {score}')\n",
    "\n",
    "fig = plt.figure(figsize=(10, 6))\n",
    "ax = fig.add_subplot(1, 1, 1)\n",
    "\n",
    "ax.scatter(df_atl_rest['lat'], df_atl_rest['lng'], s=200, c=labels, cmap='viridis')\n",
    "plt.show()"
   ]
  },
  {
   "cell_type": "code",
   "execution_count": 24,
   "metadata": {},
   "outputs": [
    {
     "data": {
      "text/html": [
       "<div style=\"width:100%;\"><div style=\"position:relative;width:100%;height:0;padding-bottom:60%;\"><iframe src=\"data:text/html;charset=utf-8;base64,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\" style=\"position:absolute;width:100%;height:100%;left:0;top:0;border:none !important;\" allowfullscreen webkitallowfullscreen mozallowfullscreen></iframe></div></div>"
      ],
      "text/plain": [
       "<folium.folium.Map at 0x7f4f199075f8>"
      ]
     },
     "execution_count": 24,
     "metadata": {},
     "output_type": "execute_result"
    }
   ],
   "source": [
    "atlanta_map = folium.Map(location=[atlanta['lat'], atlanta['lng']], zoom_start=13)\n",
    "\n",
    "mc = MarkerCluster()\n",
    "\n",
    "#creating a Marker for each point \n",
    "for row in df_atl_rest.itertuples():\n",
    "    mc.add_child(folium.Marker(location=[row.lat,  row.lng],\n",
    "                 popup=row.categories))\n",
    "\n",
    "atlanta_map.add_child(mc)\n",
    "\n",
    "\n",
    "atlanta_map"
   ]
  },
  {
   "cell_type": "markdown",
   "metadata": {},
   "source": [
    "**Decatur restaurant exploration data.**"
   ]
  },
  {
   "cell_type": "code",
   "execution_count": 25,
   "metadata": {},
   "outputs": [
    {
     "data": {
      "text/html": [
       "<div>\n",
       "<style scoped>\n",
       "    .dataframe tbody tr th:only-of-type {\n",
       "        vertical-align: middle;\n",
       "    }\n",
       "\n",
       "    .dataframe tbody tr th {\n",
       "        vertical-align: top;\n",
       "    }\n",
       "\n",
       "    .dataframe thead th {\n",
       "        text-align: right;\n",
       "    }\n",
       "</style>\n",
       "<table border=\"1\" class=\"dataframe\">\n",
       "  <thead>\n",
       "    <tr style=\"text-align: right;\">\n",
       "      <th></th>\n",
       "      <th></th>\n",
       "      <th>categories</th>\n",
       "    </tr>\n",
       "    <tr>\n",
       "      <th>categories</th>\n",
       "      <th>distance</th>\n",
       "      <th></th>\n",
       "    </tr>\n",
       "  </thead>\n",
       "  <tbody>\n",
       "    <tr>\n",
       "      <th rowspan=\"6\" valign=\"top\">American Restaurant</th>\n",
       "      <th>401</th>\n",
       "      <td>1</td>\n",
       "    </tr>\n",
       "    <tr>\n",
       "      <th>5334</th>\n",
       "      <td>1</td>\n",
       "    </tr>\n",
       "    <tr>\n",
       "      <th>5501</th>\n",
       "      <td>1</td>\n",
       "    </tr>\n",
       "    <tr>\n",
       "      <th>5787</th>\n",
       "      <td>1</td>\n",
       "    </tr>\n",
       "    <tr>\n",
       "      <th>6074</th>\n",
       "      <td>1</td>\n",
       "    </tr>\n",
       "    <tr>\n",
       "      <th>6506</th>\n",
       "      <td>1</td>\n",
       "    </tr>\n",
       "    <tr>\n",
       "      <th>Ethiopian Restaurant</th>\n",
       "      <th>7225</th>\n",
       "      <td>1</td>\n",
       "    </tr>\n",
       "    <tr>\n",
       "      <th>Fast Food Restaurant</th>\n",
       "      <th>6085</th>\n",
       "      <td>1</td>\n",
       "    </tr>\n",
       "    <tr>\n",
       "      <th>French Restaurant</th>\n",
       "      <th>6059</th>\n",
       "      <td>1</td>\n",
       "    </tr>\n",
       "    <tr>\n",
       "      <th>Hawaiian Restaurant</th>\n",
       "      <th>5993</th>\n",
       "      <td>1</td>\n",
       "    </tr>\n",
       "    <tr>\n",
       "      <th rowspan=\"2\" valign=\"top\">Italian Restaurant</th>\n",
       "      <th>181</th>\n",
       "      <td>1</td>\n",
       "    </tr>\n",
       "    <tr>\n",
       "      <th>5518</th>\n",
       "      <td>1</td>\n",
       "    </tr>\n",
       "    <tr>\n",
       "      <th rowspan=\"2\" valign=\"top\">Mexican Restaurant</th>\n",
       "      <th>5931</th>\n",
       "      <td>1</td>\n",
       "    </tr>\n",
       "    <tr>\n",
       "      <th>6597</th>\n",
       "      <td>1</td>\n",
       "    </tr>\n",
       "    <tr>\n",
       "      <th>Restaurant</th>\n",
       "      <th>6839</th>\n",
       "      <td>1</td>\n",
       "    </tr>\n",
       "    <tr>\n",
       "      <th>South American Restaurant</th>\n",
       "      <th>477</th>\n",
       "      <td>1</td>\n",
       "    </tr>\n",
       "    <tr>\n",
       "      <th>South Indian Restaurant</th>\n",
       "      <th>4673</th>\n",
       "      <td>1</td>\n",
       "    </tr>\n",
       "    <tr>\n",
       "      <th>Southern / Soul Food Restaurant</th>\n",
       "      <th>6323</th>\n",
       "      <td>1</td>\n",
       "    </tr>\n",
       "    <tr>\n",
       "      <th>Spanish Restaurant</th>\n",
       "      <th>42</th>\n",
       "      <td>1</td>\n",
       "    </tr>\n",
       "    <tr>\n",
       "      <th>Thai Restaurant</th>\n",
       "      <th>5252</th>\n",
       "      <td>1</td>\n",
       "    </tr>\n",
       "  </tbody>\n",
       "</table>\n",
       "</div>"
      ],
      "text/plain": [
       "                                          categories\n",
       "categories                      distance            \n",
       "American Restaurant             401                1\n",
       "                                5334               1\n",
       "                                5501               1\n",
       "                                5787               1\n",
       "                                6074               1\n",
       "                                6506               1\n",
       "Ethiopian Restaurant            7225               1\n",
       "Fast Food Restaurant            6085               1\n",
       "French Restaurant               6059               1\n",
       "Hawaiian Restaurant             5993               1\n",
       "Italian Restaurant              181                1\n",
       "                                5518               1\n",
       "Mexican Restaurant              5931               1\n",
       "                                6597               1\n",
       "Restaurant                      6839               1\n",
       "South American Restaurant       477                1\n",
       "South Indian Restaurant         4673               1\n",
       "Southern / Soul Food Restaurant 6323               1\n",
       "Spanish Restaurant              42                 1\n",
       "Thai Restaurant                 5252               1"
      ]
     },
     "execution_count": 25,
     "metadata": {},
     "output_type": "execute_result"
    }
   ],
   "source": [
    "# Restaurants grouped by Category and Distance\n",
    "pd.DataFrame(df_dec_rest.groupby(['categories','distance'])['categories'].count())"
   ]
  },
  {
   "cell_type": "code",
   "execution_count": 26,
   "metadata": {},
   "outputs": [
    {
     "data": {
      "text/plain": [
       "categories    4\n",
       "distance      4\n",
       "dtype: int64"
      ]
     },
     "execution_count": 26,
     "metadata": {},
     "output_type": "execute_result"
    }
   ],
   "source": [
    "# Restaurants in less than 2 miles around the center\n",
    "df_dec_rest[['categories', 'distance']][df_dec_rest['distance'] < 3300].count()"
   ]
  },
  {
   "cell_type": "code",
   "execution_count": 27,
   "metadata": {},
   "outputs": [
    {
     "data": {
      "text/html": [
       "<div>\n",
       "<style scoped>\n",
       "    .dataframe tbody tr th:only-of-type {\n",
       "        vertical-align: middle;\n",
       "    }\n",
       "\n",
       "    .dataframe tbody tr th {\n",
       "        vertical-align: top;\n",
       "    }\n",
       "\n",
       "    .dataframe thead th {\n",
       "        text-align: right;\n",
       "    }\n",
       "</style>\n",
       "<table border=\"1\" class=\"dataframe\">\n",
       "  <thead>\n",
       "    <tr style=\"text-align: right;\">\n",
       "      <th></th>\n",
       "      <th>categories</th>\n",
       "      <th>distance</th>\n",
       "    </tr>\n",
       "  </thead>\n",
       "  <tbody>\n",
       "    <tr>\n",
       "      <th>1</th>\n",
       "      <td>Spanish Restaurant</td>\n",
       "      <td>42</td>\n",
       "    </tr>\n",
       "    <tr>\n",
       "      <th>4</th>\n",
       "      <td>Italian Restaurant</td>\n",
       "      <td>181</td>\n",
       "    </tr>\n",
       "    <tr>\n",
       "      <th>10</th>\n",
       "      <td>American Restaurant</td>\n",
       "      <td>401</td>\n",
       "    </tr>\n",
       "    <tr>\n",
       "      <th>13</th>\n",
       "      <td>South American Restaurant</td>\n",
       "      <td>477</td>\n",
       "    </tr>\n",
       "  </tbody>\n",
       "</table>\n",
       "</div>"
      ],
      "text/plain": [
       "                   categories  distance\n",
       "1          Spanish Restaurant        42\n",
       "4          Italian Restaurant       181\n",
       "10        American Restaurant       401\n",
       "13  South American Restaurant       477"
      ]
     },
     "execution_count": 27,
     "metadata": {},
     "output_type": "execute_result"
    }
   ],
   "source": [
    "# Restaurants in less than 2 miles around the center\n",
    "df_dec_rest[['categories', 'distance']][df_dec_rest['distance'] < 3300]"
   ]
  },
  {
   "cell_type": "code",
   "execution_count": 28,
   "metadata": {},
   "outputs": [
    {
     "data": {
      "text/plain": [
       "<matplotlib.axes._subplots.AxesSubplot at 0x7f4f19810940>"
      ]
     },
     "execution_count": 28,
     "metadata": {},
     "output_type": "execute_result"
    },
    {
     "data": {
      "image/png": "[encoded data removed]",
      "text/plain": [
       "<Figure size 1440x720 with 1 Axes>"
      ]
     },
     "metadata": {
      "needs_background": "light"
     },
     "output_type": "display_data"
    }
   ],
   "source": [
    "df_dec_rest.plot(x='categories',kind='bar', figsize=(20, 10), stacked=True )"
   ]
  },
  {
   "cell_type": "code",
   "execution_count": 29,
   "metadata": {},
   "outputs": [
    {
     "name": "stderr",
     "output_type": "stream",
     "text": [
      "/home/jrodriguez/anaconda3/lib/python3.7/site-packages/sklearn/preprocessing/data.py:645: DataConversionWarning: Data with input dtype int64, float64, object were all converted to float64 by StandardScaler.\n",
      "  return self.partial_fit(X, y)\n"
     ]
    },
    {
     "name": "stdout",
     "output_type": "stream",
     "text": [
      "Silhouette Score: 0.5918779224879334\n"
     ]
    },
    {
     "data": {
      "image/png": "[encoded data removed]",
      "text/plain": [
       "<Figure size 720x432 with 1 Axes>"
      ]
     },
     "metadata": {
      "needs_background": "light"
     },
     "output_type": "display_data"
    }
   ],
   "source": [
    "X = df_dec_rest[['distance', 'lat', 'lng', 'postalCode']]\n",
    "X = StandardScaler().fit(X).transform(X.astype(float))\n",
    "\n",
    "kmeans_model = KMeans(n_clusters=5, random_state=20, max_iter=25).fit(X)\n",
    "labels = kmeans_model.labels_\n",
    "centers = kmeans_model.cluster_centers_\n",
    "score = metrics.silhouette_score(X, kmeans_model.labels_, metric='euclidean')\n",
    "print(f'Silhouette Score: {score}')\n",
    "\n",
    "fig = plt.figure(figsize=(10, 6))\n",
    "ax = fig.add_subplot(1, 1, 1)\n",
    "\n",
    "ax.scatter(df_dec_rest['lat'], df_dec_rest['lng'], s=200, c=labels, cmap='viridis')\n",
    "plt.show()"
   ]
  },
  {
   "cell_type": "code",
   "execution_count": 30,
   "metadata": {},
   "outputs": [
    {
     "data": {
      "text/html": [
       "<div style=\"width:100%;\"><div style=\"position:relative;width:100%;height:0;padding-bottom:60%;\"><iframe src=\"data:text/html;charset=utf-8;base64,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\" style=\"position:absolute;width:100%;height:100%;left:0;top:0;border:none !important;\" allowfullscreen webkitallowfullscreen mozallowfullscreen></iframe></div></div>"
      ],
      "text/plain": [
       "<folium.folium.Map at 0x7f4f19635c18>"
      ]
     },
     "execution_count": 30,
     "metadata": {},
     "output_type": "execute_result"
    }
   ],
   "source": [
    "decatur_map = folium.Map(location=[decatur['lat'], decatur['lng']], zoom_start=12)\n",
    "\n",
    "mc = MarkerCluster()\n",
    "\n",
    "#creating a Marker for each point \n",
    "for row in df_dec_rest.itertuples():\n",
    "    mc.add_child(folium.Marker(location=[row.lat,  row.lng],\n",
    "                 popup=row.categories))\n",
    "\n",
    "decatur_map.add_child(mc)\n",
    "\n",
    "\n",
    "decatur_map"
   ]
  },
  {
   "cell_type": "markdown",
   "metadata": {},
   "source": [
    "**Kennesaw restaurant exploration data.**"
   ]
  },
  {
   "cell_type": "code",
   "execution_count": 31,
   "metadata": {},
   "outputs": [
    {
     "data": {
      "text/html": [
       "<div>\n",
       "<style scoped>\n",
       "    .dataframe tbody tr th:only-of-type {\n",
       "        vertical-align: middle;\n",
       "    }\n",
       "\n",
       "    .dataframe tbody tr th {\n",
       "        vertical-align: top;\n",
       "    }\n",
       "\n",
       "    .dataframe thead th {\n",
       "        text-align: right;\n",
       "    }\n",
       "</style>\n",
       "<table border=\"1\" class=\"dataframe\">\n",
       "  <thead>\n",
       "    <tr style=\"text-align: right;\">\n",
       "      <th></th>\n",
       "      <th></th>\n",
       "      <th>categories</th>\n",
       "    </tr>\n",
       "    <tr>\n",
       "      <th>categories</th>\n",
       "      <th>distance</th>\n",
       "      <th></th>\n",
       "    </tr>\n",
       "  </thead>\n",
       "  <tbody>\n",
       "    <tr>\n",
       "      <th rowspan=\"3\" valign=\"top\">American Restaurant</th>\n",
       "      <th>3555</th>\n",
       "      <td>1</td>\n",
       "    </tr>\n",
       "    <tr>\n",
       "      <th>3845</th>\n",
       "      <td>1</td>\n",
       "    </tr>\n",
       "    <tr>\n",
       "      <th>4130</th>\n",
       "      <td>1</td>\n",
       "    </tr>\n",
       "    <tr>\n",
       "      <th>Asian Restaurant</th>\n",
       "      <th>3980</th>\n",
       "      <td>1</td>\n",
       "    </tr>\n",
       "    <tr>\n",
       "      <th rowspan=\"2\" valign=\"top\">Cajun / Creole Restaurant</th>\n",
       "      <th>3811</th>\n",
       "      <td>1</td>\n",
       "    </tr>\n",
       "    <tr>\n",
       "      <th>7510</th>\n",
       "      <td>1</td>\n",
       "    </tr>\n",
       "    <tr>\n",
       "      <th>Caribbean Restaurant</th>\n",
       "      <th>4302</th>\n",
       "      <td>1</td>\n",
       "    </tr>\n",
       "    <tr>\n",
       "      <th>Chinese Restaurant</th>\n",
       "      <th>4103</th>\n",
       "      <td>1</td>\n",
       "    </tr>\n",
       "    <tr>\n",
       "      <th>Cuban Restaurant</th>\n",
       "      <th>4246</th>\n",
       "      <td>1</td>\n",
       "    </tr>\n",
       "    <tr>\n",
       "      <th rowspan=\"4\" valign=\"top\">Fast Food Restaurant</th>\n",
       "      <th>4182</th>\n",
       "      <td>1</td>\n",
       "    </tr>\n",
       "    <tr>\n",
       "      <th>4459</th>\n",
       "      <td>1</td>\n",
       "    </tr>\n",
       "    <tr>\n",
       "      <th>6012</th>\n",
       "      <td>1</td>\n",
       "    </tr>\n",
       "    <tr>\n",
       "      <th>8688</th>\n",
       "      <td>1</td>\n",
       "    </tr>\n",
       "    <tr>\n",
       "      <th>Greek Restaurant</th>\n",
       "      <th>4090</th>\n",
       "      <td>1</td>\n",
       "    </tr>\n",
       "    <tr>\n",
       "      <th rowspan=\"3\" valign=\"top\">Italian Restaurant</th>\n",
       "      <th>3785</th>\n",
       "      <td>1</td>\n",
       "    </tr>\n",
       "    <tr>\n",
       "      <th>4912</th>\n",
       "      <td>1</td>\n",
       "    </tr>\n",
       "    <tr>\n",
       "      <th>7453</th>\n",
       "      <td>1</td>\n",
       "    </tr>\n",
       "    <tr>\n",
       "      <th>Korean Restaurant</th>\n",
       "      <th>8181</th>\n",
       "      <td>1</td>\n",
       "    </tr>\n",
       "    <tr>\n",
       "      <th>Malay Restaurant</th>\n",
       "      <th>4648</th>\n",
       "      <td>1</td>\n",
       "    </tr>\n",
       "    <tr>\n",
       "      <th rowspan=\"5\" valign=\"top\">Mexican Restaurant</th>\n",
       "      <th>4436</th>\n",
       "      <td>1</td>\n",
       "    </tr>\n",
       "    <tr>\n",
       "      <th>5831</th>\n",
       "      <td>1</td>\n",
       "    </tr>\n",
       "    <tr>\n",
       "      <th>6087</th>\n",
       "      <td>1</td>\n",
       "    </tr>\n",
       "    <tr>\n",
       "      <th>6159</th>\n",
       "      <td>1</td>\n",
       "    </tr>\n",
       "    <tr>\n",
       "      <th>8418</th>\n",
       "      <td>1</td>\n",
       "    </tr>\n",
       "    <tr>\n",
       "      <th>New American Restaurant</th>\n",
       "      <th>4274</th>\n",
       "      <td>1</td>\n",
       "    </tr>\n",
       "    <tr>\n",
       "      <th>Seafood Restaurant</th>\n",
       "      <th>5408</th>\n",
       "      <td>1</td>\n",
       "    </tr>\n",
       "    <tr>\n",
       "      <th rowspan=\"2\" valign=\"top\">Southern / Soul Food Restaurant</th>\n",
       "      <th>5066</th>\n",
       "      <td>1</td>\n",
       "    </tr>\n",
       "    <tr>\n",
       "      <th>7427</th>\n",
       "      <td>1</td>\n",
       "    </tr>\n",
       "    <tr>\n",
       "      <th>Sushi Restaurant</th>\n",
       "      <th>3897</th>\n",
       "      <td>1</td>\n",
       "    </tr>\n",
       "    <tr>\n",
       "      <th>Thai Restaurant</th>\n",
       "      <th>7527</th>\n",
       "      <td>1</td>\n",
       "    </tr>\n",
       "  </tbody>\n",
       "</table>\n",
       "</div>"
      ],
      "text/plain": [
       "                                          categories\n",
       "categories                      distance            \n",
       "American Restaurant             3555               1\n",
       "                                3845               1\n",
       "                                4130               1\n",
       "Asian Restaurant                3980               1\n",
       "Cajun / Creole Restaurant       3811               1\n",
       "                                7510               1\n",
       "Caribbean Restaurant            4302               1\n",
       "Chinese Restaurant              4103               1\n",
       "Cuban Restaurant                4246               1\n",
       "Fast Food Restaurant            4182               1\n",
       "                                4459               1\n",
       "                                6012               1\n",
       "                                8688               1\n",
       "Greek Restaurant                4090               1\n",
       "Italian Restaurant              3785               1\n",
       "                                4912               1\n",
       "                                7453               1\n",
       "Korean Restaurant               8181               1\n",
       "Malay Restaurant                4648               1\n",
       "Mexican Restaurant              4436               1\n",
       "                                5831               1\n",
       "                                6087               1\n",
       "                                6159               1\n",
       "                                8418               1\n",
       "New American Restaurant         4274               1\n",
       "Seafood Restaurant              5408               1\n",
       "Southern / Soul Food Restaurant 5066               1\n",
       "                                7427               1\n",
       "Sushi Restaurant                3897               1\n",
       "Thai Restaurant                 7527               1"
      ]
     },
     "execution_count": 31,
     "metadata": {},
     "output_type": "execute_result"
    }
   ],
   "source": [
    "# Restaurants grouped by Category and Distance\n",
    "pd.DataFrame(df_ken_rest.groupby(['categories','distance'])['categories'].count())"
   ]
  },
  {
   "cell_type": "code",
   "execution_count": 32,
   "metadata": {},
   "outputs": [
    {
     "data": {
      "text/plain": [
       "categories    0\n",
       "distance      0\n",
       "dtype: int64"
      ]
     },
     "execution_count": 32,
     "metadata": {},
     "output_type": "execute_result"
    }
   ],
   "source": [
    "# Restaurants in less than 2 miles around the center\n",
    "df_ken_rest[['categories', 'distance']][df_ken_rest['distance'] < 3300].count()"
   ]
  },
  {
   "cell_type": "code",
   "execution_count": 33,
   "metadata": {},
   "outputs": [
    {
     "data": {
      "text/html": [
       "<div>\n",
       "<style scoped>\n",
       "    .dataframe tbody tr th:only-of-type {\n",
       "        vertical-align: middle;\n",
       "    }\n",
       "\n",
       "    .dataframe tbody tr th {\n",
       "        vertical-align: top;\n",
       "    }\n",
       "\n",
       "    .dataframe thead th {\n",
       "        text-align: right;\n",
       "    }\n",
       "</style>\n",
       "<table border=\"1\" class=\"dataframe\">\n",
       "  <thead>\n",
       "    <tr style=\"text-align: right;\">\n",
       "      <th></th>\n",
       "      <th>categories</th>\n",
       "      <th>distance</th>\n",
       "    </tr>\n",
       "  </thead>\n",
       "  <tbody>\n",
       "  </tbody>\n",
       "</table>\n",
       "</div>"
      ],
      "text/plain": [
       "Empty DataFrame\n",
       "Columns: [categories, distance]\n",
       "Index: []"
      ]
     },
     "execution_count": 33,
     "metadata": {},
     "output_type": "execute_result"
    }
   ],
   "source": [
    "# Restaurants in less than 2 miles around the center\n",
    "df_ken_rest[['categories', 'distance']][df_ken_rest['distance'] < 3300]"
   ]
  },
  {
   "cell_type": "code",
   "execution_count": 34,
   "metadata": {},
   "outputs": [
    {
     "data": {
      "text/plain": [
       "<matplotlib.axes._subplots.AxesSubplot at 0x7f4f1a44e1d0>"
      ]
     },
     "execution_count": 34,
     "metadata": {},
     "output_type": "execute_result"
    },
    {
     "data": {
      "image/png": "[encoded data removed]",
      "text/plain": [
       "<Figure size 1440x720 with 1 Axes>"
      ]
     },
     "metadata": {
      "needs_background": "light"
     },
     "output_type": "display_data"
    }
   ],
   "source": [
    "df_ken_rest.plot(x='categories',kind='bar', figsize=(20, 10), stacked=True )"
   ]
  },
  {
   "cell_type": "code",
   "execution_count": 35,
   "metadata": {},
   "outputs": [],
   "source": [
    "df_ken_rest_clean = df_ken_rest[['distance', 'lat', 'lng', 'postalCode']].copy()"
   ]
  },
  {
   "cell_type": "code",
   "execution_count": 36,
   "metadata": {},
   "outputs": [],
   "source": [
    "df_ken_rest_clean.dropna(inplace=True)"
   ]
  },
  {
   "cell_type": "code",
   "execution_count": 37,
   "metadata": {},
   "outputs": [
    {
     "name": "stderr",
     "output_type": "stream",
     "text": [
      "/home/jrodriguez/anaconda3/lib/python3.7/site-packages/sklearn/preprocessing/data.py:645: DataConversionWarning: Data with input dtype int64, float64, object were all converted to float64 by StandardScaler.\n",
      "  return self.partial_fit(X, y)\n"
     ]
    },
    {
     "name": "stdout",
     "output_type": "stream",
     "text": [
      "Silhouette Score: 0.6220912730227707\n"
     ]
    },
    {
     "data": {
      "image/png": "[encoded data removed]",
      "text/plain": [
       "<Figure size 720x432 with 1 Axes>"
      ]
     },
     "metadata": {
      "needs_background": "light"
     },
     "output_type": "display_data"
    }
   ],
   "source": [
    "X = df_ken_rest_clean\n",
    "X = StandardScaler().fit(X).transform(X.astype(float))\n",
    "\n",
    "kmeans_model = KMeans(n_clusters=5, random_state=20, max_iter=25).fit(X)\n",
    "labels = kmeans_model.labels_\n",
    "centers = kmeans_model.cluster_centers_\n",
    "score = metrics.silhouette_score(X, kmeans_model.labels_, metric='euclidean')\n",
    "print(f'Silhouette Score: {score}')\n",
    "\n",
    "fig = plt.figure(figsize=(10, 6))\n",
    "ax = fig.add_subplot(1, 1, 1)\n",
    "\n",
    "ax.scatter(df_ken_rest_clean['lat'], df_ken_rest_clean['lng'], s=200, c=labels, cmap='viridis')\n",
    "plt.show()"
   ]
  },
  {
   "cell_type": "code",
   "execution_count": 38,
   "metadata": {},
   "outputs": [
    {
     "data": {
      "text/html": [
       "<div style=\"width:100%;\"><div style=\"position:relative;width:100%;height:0;padding-bottom:60%;\"><iframe src=\"data:text/html;charset=utf-8;base64,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\" style=\"position:absolute;width:100%;height:100%;left:0;top:0;border:none !important;\" allowfullscreen webkitallowfullscreen mozallowfullscreen></iframe></div></div>"
      ],
      "text/plain": [
       "<folium.folium.Map at 0x7f4f1885b898>"
      ]
     },
     "execution_count": 38,
     "metadata": {},
     "output_type": "execute_result"
    }
   ],
   "source": [
    "kennesaw_map = folium.Map(location=[kennesaw['lat'], kennesaw['lng']], zoom_start=12)\n",
    "\n",
    "mc = MarkerCluster()\n",
    "\n",
    "#creating a Marker for each point \n",
    "for row in df_ken_rest.itertuples():\n",
    "    mc.add_child(folium.Marker(location=[row.lat,  row.lng],\n",
    "                 popup=row.categories))\n",
    "\n",
    "kennesaw_map.add_child(mc)\n",
    "\n",
    "\n",
    "kennesaw_map"
   ]
  },
  {
   "cell_type": "markdown",
   "metadata": {},
   "source": [
    "# 4- Results"
   ]
  },
  {
   "cell_type": "markdown",
   "metadata": {},
   "source": [
    "### Section where you discuss the results."
   ]
  },
  {
   "cell_type": "markdown",
   "metadata": {},
   "source": [
    "### **Atlanta:**\n",
    "\n",
    "These are all the type of restaurants we found in the area of Atlanta within 10 miles from the city center."
   ]
  },
  {
   "cell_type": "code",
   "execution_count": 39,
   "metadata": {},
   "outputs": [
    {
     "data": {
      "text/plain": [
       "categories\n",
       "American Restaurant                4\n",
       "Asian Restaurant                   1\n",
       "Cuban Restaurant                   1\n",
       "Fast Food Restaurant               1\n",
       "French Restaurant                  1\n",
       "Greek Restaurant                   1\n",
       "Italian Restaurant                 1\n",
       "Mediterranean Restaurant           3\n",
       "Mexican Restaurant                 3\n",
       "Restaurant                         1\n",
       "Seafood Restaurant                 1\n",
       "Southern / Soul Food Restaurant    2\n",
       "Thai Restaurant                    1\n",
       "Vegetarian / Vegan Restaurant      1\n",
       "Vietnamese Restaurant              1\n",
       "Name: categories, dtype: int64"
      ]
     },
     "execution_count": 39,
     "metadata": {},
     "output_type": "execute_result"
    }
   ],
   "source": [
    "df_atl_rest.groupby(['categories'])['categories'].count()"
   ]
  },
  {
   "cell_type": "markdown",
   "metadata": {},
   "source": [
    "Within 2 miles from the city center, we found 12 restaurants."
   ]
  },
  {
   "cell_type": "code",
   "execution_count": 40,
   "metadata": {},
   "outputs": [
    {
     "data": {
      "text/plain": [
       "categories    12\n",
       "distance      12\n",
       "dtype: int64"
      ]
     },
     "execution_count": 40,
     "metadata": {},
     "output_type": "execute_result"
    }
   ],
   "source": [
    "df_atl_rest[['categories', 'distance']][df_atl_rest['distance'] < 3300].count()"
   ]
  },
  {
   "cell_type": "markdown",
   "metadata": {},
   "source": [
    "From the 12 restaurants the further one is Vegetarian / Vegan Restaurant, located 3292 meters from the city center."
   ]
  },
  {
   "cell_type": "code",
   "execution_count": 41,
   "metadata": {},
   "outputs": [
    {
     "data": {
      "text/plain": [
       "categories    Vegetarian / Vegan Restaurant\n",
       "distance                               3292\n",
       "dtype: object"
      ]
     },
     "execution_count": 41,
     "metadata": {},
     "output_type": "execute_result"
    }
   ],
   "source": [
    "df_atl_rest[['categories', 'distance']][df_atl_rest['distance'] < 3300].max()"
   ]
  },
  {
   "cell_type": "markdown",
   "metadata": {},
   "source": [
    "The closes one is an American Restaurant, located within 781 meters from the city center."
   ]
  },
  {
   "cell_type": "code",
   "execution_count": 42,
   "metadata": {},
   "outputs": [
    {
     "data": {
      "text/plain": [
       "categories    American Restaurant\n",
       "distance                      781\n",
       "dtype: object"
      ]
     },
     "execution_count": 42,
     "metadata": {},
     "output_type": "execute_result"
    }
   ],
   "source": [
    "df_atl_rest[['categories', 'distance']][df_atl_rest['distance'] < 3300].min()"
   ]
  },
  {
   "cell_type": "markdown",
   "metadata": {},
   "source": [
    "### **Decatur**"
   ]
  },
  {
   "cell_type": "markdown",
   "metadata": {},
   "source": [
    "These are all the type of restaurants we found in the area of Decatur within 10 miles from the city center."
   ]
  },
  {
   "cell_type": "code",
   "execution_count": 43,
   "metadata": {},
   "outputs": [
    {
     "data": {
      "text/plain": [
       "categories\n",
       "American Restaurant                6\n",
       "Ethiopian Restaurant               1\n",
       "Fast Food Restaurant               1\n",
       "French Restaurant                  1\n",
       "Hawaiian Restaurant                1\n",
       "Italian Restaurant                 2\n",
       "Mexican Restaurant                 2\n",
       "Restaurant                         1\n",
       "South American Restaurant          1\n",
       "South Indian Restaurant            1\n",
       "Southern / Soul Food Restaurant    1\n",
       "Spanish Restaurant                 1\n",
       "Thai Restaurant                    1\n",
       "Name: categories, dtype: int64"
      ]
     },
     "execution_count": 43,
     "metadata": {},
     "output_type": "execute_result"
    }
   ],
   "source": [
    "df_dec_rest.groupby(['categories'])['categories'].count()"
   ]
  },
  {
   "cell_type": "markdown",
   "metadata": {},
   "source": [
    "Within 2 miles from the city center, we found 4 restaurants."
   ]
  },
  {
   "cell_type": "code",
   "execution_count": 44,
   "metadata": {},
   "outputs": [
    {
     "data": {
      "text/plain": [
       "categories    4\n",
       "distance      4\n",
       "dtype: int64"
      ]
     },
     "execution_count": 44,
     "metadata": {},
     "output_type": "execute_result"
    }
   ],
   "source": [
    "df_dec_rest[['categories', 'distance']][df_dec_rest['distance'] < 3300].count()"
   ]
  },
  {
   "cell_type": "markdown",
   "metadata": {},
   "source": [
    "From the 4 restaurants the further one is Spanish Restaurantt, located 477 meters from the city center."
   ]
  },
  {
   "cell_type": "code",
   "execution_count": 45,
   "metadata": {},
   "outputs": [
    {
     "data": {
      "text/plain": [
       "categories    Spanish Restaurant\n",
       "distance                     477\n",
       "dtype: object"
      ]
     },
     "execution_count": 45,
     "metadata": {},
     "output_type": "execute_result"
    }
   ],
   "source": [
    "df_dec_rest[['categories', 'distance']][df_dec_rest['distance'] < 3300].max()"
   ]
  },
  {
   "cell_type": "markdown",
   "metadata": {},
   "source": [
    "The closes one is an American Restaurant, located within 42 meters from the city center."
   ]
  },
  {
   "cell_type": "code",
   "execution_count": 46,
   "metadata": {},
   "outputs": [
    {
     "data": {
      "text/plain": [
       "categories    American Restaurant\n",
       "distance                       42\n",
       "dtype: object"
      ]
     },
     "execution_count": 46,
     "metadata": {},
     "output_type": "execute_result"
    }
   ],
   "source": [
    "df_dec_rest[['categories', 'distance']][df_dec_rest['distance'] < 3300].min()"
   ]
  },
  {
   "cell_type": "markdown",
   "metadata": {},
   "source": [
    "### Kennesaw"
   ]
  },
  {
   "cell_type": "markdown",
   "metadata": {},
   "source": [
    "These are all the type of restaurants we found in the area of Kennesaw within 10 miles away from the city center."
   ]
  },
  {
   "cell_type": "code",
   "execution_count": 47,
   "metadata": {},
   "outputs": [
    {
     "data": {
      "text/plain": [
       "categories\n",
       "American Restaurant                3\n",
       "Asian Restaurant                   1\n",
       "Cajun / Creole Restaurant          2\n",
       "Caribbean Restaurant               1\n",
       "Chinese Restaurant                 1\n",
       "Cuban Restaurant                   1\n",
       "Fast Food Restaurant               4\n",
       "Greek Restaurant                   1\n",
       "Italian Restaurant                 3\n",
       "Korean Restaurant                  1\n",
       "Malay Restaurant                   1\n",
       "Mexican Restaurant                 5\n",
       "New American Restaurant            1\n",
       "Seafood Restaurant                 1\n",
       "Southern / Soul Food Restaurant    2\n",
       "Sushi Restaurant                   1\n",
       "Thai Restaurant                    1\n",
       "Name: categories, dtype: int64"
      ]
     },
     "execution_count": 47,
     "metadata": {},
     "output_type": "execute_result"
    }
   ],
   "source": [
    "df_ken_rest.groupby(['categories'])['categories'].count()"
   ]
  },
  {
   "cell_type": "markdown",
   "metadata": {},
   "source": [
    "No restaurants where found within 2 miles from the city center."
   ]
  },
  {
   "cell_type": "code",
   "execution_count": 48,
   "metadata": {},
   "outputs": [
    {
     "data": {
      "text/plain": [
       "categories    0\n",
       "distance      0\n",
       "dtype: int64"
      ]
     },
     "execution_count": 48,
     "metadata": {},
     "output_type": "execute_result"
    }
   ],
   "source": [
    "df_ken_rest[['categories', 'distance']][df_ken_rest['distance'] < 3300].count()"
   ]
  },
  {
   "cell_type": "markdown",
   "metadata": {},
   "source": [
    "### 5- Discussion section where you discuss any observations you noted and any recommendations you can make based on the results."
   ]
  },
  {
   "cell_type": "markdown",
   "metadata": {},
   "source": [
    "Base on the Data Analysis and after implementing clusters to the restaurants for each city, there are some interesting things to pay attention to. \n",
    "\n",
    "Our Stakeholder wants to open the restaurant in one of these 3 cities because they are closer to the Atlanta Airport, which may attract a new type of customers to the restaurant.\n",
    "\n",
    "Base on the observation, Atlanta besides being closer to the airport, has more variety of restaurants, but even though it has the biggest variety, it does not have a Dominican restaurant nearby, which gives us a good advantage.\n",
    "\n",
    "We could see that in Atlanta the restaurants are closer to each other, making it easier for the customer to find out about the Dominican Restaurant while visiting another one, or even while visiting another type of venneu, with Atlanta having 12 restaurants within two miles of the city center, while Decatur had 4 and Kennesaw none, this tells us that Atlanta is a walking city, which might impact the number of people visiting the restaurant.\n",
    "\n",
    "The last thing we could perceive base on the clustering process was, how close where the restaurants in relationship to another restaurant, also we got the closer clusters in Atlanta, then Decatur and Kennesaw had sparse clusters, which means there is a high chance that if a customer visits a restaurant in one of these cities, they might not see the Dominican restaurant while wondering on the nearby areas, not as if they were in Atlanta, base on the clusters information."
   ]
  },
  {
   "cell_type": "markdown",
   "metadata": {},
   "source": [
    "### 6- Conclusion section where you conclude the report."
   ]
  },
  {
   "cell_type": "markdown",
   "metadata": {},
   "source": [
    "In conclusion, due to the probabilities of getting new customers, the good place within walking distance from other restaurants, the variety of restaurants, which could decide that in this city we might see a big variety of customers with different likes that might be interested in trying food from the Dominican Restaurant, taking in consideration that it will be the first restaurant offering this type of food in the area, and the fact that is the closes city to the Airport, in conclusion,  Atlanta is the best city from the 3 cities provided by our Stakeholder, if she wants to open a Dominican restaurant in Georgia."
   ]
  }
 ],
 "metadata": {
  "kernelspec": {
   "display_name": "Python 3",
   "language": "python",
   "name": "python3"
  },
  "language_info": {
   "codemirror_mode": {
    "name": "ipython",
    "version": 3
   },
   "file_extension": ".py",
   "mimetype": "text/x-python",
   "name": "python",
   "nbconvert_exporter": "python",
   "pygments_lexer": "ipython3",
   "version": "3.7.3"
  }
 },
 "nbformat": 4,
 "nbformat_minor": 4
}
