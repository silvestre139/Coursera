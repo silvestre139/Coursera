{
 "cells": [
  {
   "cell_type": "markdown",
   "metadata": {},
   "source": [
    "# Capstone Project - The Battle of Neighborhoods (Week 1)"
   ]
  },
  {
   "cell_type": "markdown",
   "metadata": {},
   "source": [
    "## Table of contents\n",
    "* [Introduction: Business Problem](#introduction)\n",
    "* [Data](#data)\n",
    "* [Methodology](#methodology)\n",
    "* [Analysis](#analysis)\n",
    "* [Results and Discussion](#results)\n",
    "* [Conclusion](#conclusion)"
   ]
  },
  {
   "cell_type": "markdown",
   "metadata": {},
   "source": [
    "# 1- Introduction: Business Problem <a name=\"introduction\"></a>"
   ]
  },
  {
   "cell_type": "markdown",
   "metadata": {},
   "source": [
    "#### Where you discuss the business problem and who would be interested in this project."
   ]
  },
  {
   "cell_type": "markdown",
   "metadata": {},
   "source": [
    "**Description :** In this project we will try to find an optimal location for a restaurant specialized in Dominican Food, the stakeholders owns two locations in Patterson NJ(USA) already, but she is interested in expanding her business to another state, in this case Georgia."
   ]
  },
  {
   "cell_type": "markdown",
   "metadata": {},
   "source": [
    "**Background:** The stakeholder knows there is a lot of people traveling through Georgia, due to Atlanta having an international airport, and being a busy city, she wants to make sure to get an ideal place, not too far from the airport, and where this type of restaurant is not common.  \n",
    "\n",
    "We will use our Data Science skills to find the ideal place that meets with these criteria, close to the airport, and in an area where restaurants are common, but here are not Dominican Restaurants yet, is OK any other type of Caribbean restaurants."
   ]
  },
  {
   "cell_type": "markdown",
   "metadata": {},
   "source": [
    "# 2- Data <a name=\"data\"></a>"
   ]
  },
  {
   "cell_type": "markdown",
   "metadata": {},
   "source": [
    "We were given 3 specific cities closed to the Airport to look into (**Atlanta, Decatur and Kennesaw**), and then select the best place for our Dominican Restaurant.  \n",
    "\n",
    "- First I used Foresquare API to collect the venues within 10 miles of each city center.  \n",
    "- Second I filtered the results and collected just the restaurants found within 10 miles of each city center.\n",
    "\n",
    "- Third I performed a search to make sure there were no other Dominican restaurants in the area.\n",
    "\n",
    "- Finally, I generated a plot with each restaurant found in each city center, to have a visual of how close are these restaurants to each other, this will give us an overview of the data that we're working with to find the best city to place our Dominican Restaurant."
   ]
  },
  {
   "cell_type": "code",
   "execution_count": 1,
   "metadata": {},
   "outputs": [],
   "source": [
    "import requests # library to handle requests\n",
    "import pandas as pd # library for data analsysis\n",
    "import numpy as np # library to handle data in a vectorized manner\n",
    "import random # library for random number generation\n",
    "\n",
    "#!conda install -c conda-forge geopy --yes \n",
    "from geopy.geocoders import Nominatim # module to convert an address into latitude and longitude values\n",
    "\n",
    "# libraries for displaying images\n",
    "from IPython.display import Image \n",
    "from IPython.core.display import HTML \n",
    "    \n",
    "# tranforming json file into a pandas dataframe library\n",
    "from pandas.io.json import json_normalize\n",
    "\n",
    "#!conda install -c conda-forge folium=0.5.0 --yes\n",
    "import folium # plotting library"
   ]
  },
  {
   "cell_type": "code",
   "execution_count": 2,
   "metadata": {},
   "outputs": [],
   "source": [
    "def get_category_type(row):\n",
    "    try:\n",
    "        categories_list = row['categories']\n",
    "    except:\n",
    "        categories_list = row['venue.categories']\n",
    "        \n",
    "    if len(categories_list) == 0:\n",
    "        return None\n",
    "    else:\n",
    "        return categories_list[0]['name']\n",
    "\n",
    "\n",
    "def json_to_dataframe(items):\n",
    "    dataframe = json_normalize(items) # flatten JSON\n",
    "\n",
    "    # filter columns\n",
    "    filtered_columns = ['venue.name', 'venue.categories'] + [col for col in dataframe.columns if col.startswith('venue.location.')] + ['venue.id']\n",
    "    dataframe_filtered = dataframe.loc[:, filtered_columns]\n",
    "\n",
    "    # filter the category for each row\n",
    "    dataframe_filtered['venue.categories'] = dataframe_filtered.apply(get_category_type, axis=1)\n",
    "\n",
    "    # clean columns\n",
    "    dataframe_filtered.columns = [col.split('.')[-1] for col in dataframe_filtered.columns]\n",
    "\n",
    "    return dataframe_filtered"
   ]
  },
  {
   "cell_type": "markdown",
   "metadata": {},
   "source": [
    "**Fourtsquare Credentials**"
   ]
  },
  {
   "cell_type": "code",
   "execution_count": 3,
   "metadata": {},
   "outputs": [],
   "source": [
    "# Fourtsquare Credentials\n",
    "CLIENT_ID = '0SNZYNIMMXS2QECV0POPXLWQNXYC4DIPSFARJEYD1TBSCLTA' # your Foursquare ID\n",
    "CLIENT_SECRET = 'SEZBRZ1VRC0PKCUTBSZUXTS021LBV5TZLIBU2UJX1YW5KM1H' # your Foursquare Secret\n",
    "VERSION = '20180604'\n",
    "RADIUS = 16093.4  # 10 miles\n",
    "LIMIT = 100\n",
    "# print('Your credentails:')\n",
    "# print('CLIENT_ID: ' + CLIENT_ID)\n",
    "# print('CLIENT_SECRET:' + CLIENT_SECRET)"
   ]
  },
  {
   "cell_type": "markdown",
   "metadata": {},
   "source": [
    "### Exploring our 3 locations"
   ]
  },
  {
   "cell_type": "markdown",
   "metadata": {},
   "source": [
    "**Atlanta Data Collection**"
   ]
  },
  {
   "cell_type": "code",
   "execution_count": 4,
   "metadata": {},
   "outputs": [
    {
     "data": {
      "text/plain": [
       "'There are 100 venues within 10 miles of Atlanta center.'"
      ]
     },
     "execution_count": 4,
     "metadata": {},
     "output_type": "execute_result"
    }
   ],
   "source": [
    "# Atlanta Coordinates\n",
    "atlanta = {'lat':33.749, 'lng':-84.388}\n",
    "\n",
    "# Atlanta URL to perform venew search\n",
    "url_atlanta = 'https://api.foursquare.com/v2/venues/explore?client_id={}&client_secret={}&ll={},{}&v={}&radius={}&limit={}'.format(CLIENT_ID, CLIENT_SECRET, atlanta['lat'], atlanta['lng'], VERSION, RADIUS, LIMIT)\n",
    "results_atlanta = requests.get(url_atlanta).json()\n",
    "\n",
    "\n",
    "# Collecting venue items into a DataFrame\n",
    "items_atlanta = results_atlanta['response']['groups'][0]['items']\n",
    "df_atlanta = json_to_dataframe(items_atlanta)\n",
    "\n",
    "'There are {} venues within 10 miles of Atlanta center.'.format(len(results_atlanta['response']['groups'][0]['items']))"
   ]
  },
  {
   "cell_type": "code",
   "execution_count": 5,
   "metadata": {},
   "outputs": [
    {
     "data": {
      "text/html": [
       "<div>\n",
       "<style scoped>\n",
       "    .dataframe tbody tr th:only-of-type {\n",
       "        vertical-align: middle;\n",
       "    }\n",
       "\n",
       "    .dataframe tbody tr th {\n",
       "        vertical-align: top;\n",
       "    }\n",
       "\n",
       "    .dataframe thead th {\n",
       "        text-align: right;\n",
       "    }\n",
       "</style>\n",
       "<table border=\"1\" class=\"dataframe\">\n",
       "  <thead>\n",
       "    <tr style=\"text-align: right;\">\n",
       "      <th></th>\n",
       "      <th>name</th>\n",
       "      <th>categories</th>\n",
       "      <th>address</th>\n",
       "      <th>cc</th>\n",
       "      <th>city</th>\n",
       "      <th>country</th>\n",
       "      <th>crossStreet</th>\n",
       "      <th>distance</th>\n",
       "      <th>formattedAddress</th>\n",
       "      <th>labeledLatLngs</th>\n",
       "      <th>lat</th>\n",
       "      <th>lng</th>\n",
       "      <th>neighborhood</th>\n",
       "      <th>postalCode</th>\n",
       "      <th>state</th>\n",
       "      <th>id</th>\n",
       "    </tr>\n",
       "  </thead>\n",
       "  <tbody>\n",
       "    <tr>\n",
       "      <th>0</th>\n",
       "      <td>Nick's Food To Go</td>\n",
       "      <td>Greek Restaurant</td>\n",
       "      <td>240 MLK Dr SE</td>\n",
       "      <td>US</td>\n",
       "      <td>Atlanta</td>\n",
       "      <td>United States</td>\n",
       "      <td>at Hill St</td>\n",
       "      <td>781</td>\n",
       "      <td>[240 MLK Dr SE (at Hill St), Atlanta, GA 30312...</td>\n",
       "      <td>[{'label': 'display', 'lat': 33.7474921065436,...</td>\n",
       "      <td>33.747492</td>\n",
       "      <td>-84.379749</td>\n",
       "      <td>NaN</td>\n",
       "      <td>30312</td>\n",
       "      <td>GA</td>\n",
       "      <td>4abbf3d9f964a520a28520e3</td>\n",
       "    </tr>\n",
       "    <tr>\n",
       "      <th>1</th>\n",
       "      <td>Aviva by Kameel</td>\n",
       "      <td>Mediterranean Restaurant</td>\n",
       "      <td>225 Peachtree St NE</td>\n",
       "      <td>US</td>\n",
       "      <td>Atlanta</td>\n",
       "      <td>United States</td>\n",
       "      <td>In the Mall at Peachtree Center</td>\n",
       "      <td>1297</td>\n",
       "      <td>[225 Peachtree St NE (In the Mall at Peachtree...</td>\n",
       "      <td>[{'label': 'display', 'lat': 33.7605969735783,...</td>\n",
       "      <td>33.760597</td>\n",
       "      <td>-84.386548</td>\n",
       "      <td>NaN</td>\n",
       "      <td>30303</td>\n",
       "      <td>GA</td>\n",
       "      <td>50731cc9e4b06489e10a354d</td>\n",
       "    </tr>\n",
       "    <tr>\n",
       "      <th>25</th>\n",
       "      <td>Atlanta Breakfast Club</td>\n",
       "      <td>American Restaurant</td>\n",
       "      <td>249 Ivan Allen Jr Blvd NW</td>\n",
       "      <td>US</td>\n",
       "      <td>Atlanta</td>\n",
       "      <td>United States</td>\n",
       "      <td>at Venable St NW</td>\n",
       "      <td>1888</td>\n",
       "      <td>[249 Ivan Allen Jr Blvd NW (at Venable St NW),...</td>\n",
       "      <td>[{'label': 'display', 'lat': 33.76479891528359...</td>\n",
       "      <td>33.764799</td>\n",
       "      <td>-84.395432</td>\n",
       "      <td>NaN</td>\n",
       "      <td>30313</td>\n",
       "      <td>GA</td>\n",
       "      <td>53298b6b498e04fb57694aae</td>\n",
       "    </tr>\n",
       "    <tr>\n",
       "      <th>31</th>\n",
       "      <td>Superica</td>\n",
       "      <td>Mexican Restaurant</td>\n",
       "      <td>99 Krog St NE</td>\n",
       "      <td>US</td>\n",
       "      <td>Atlanta</td>\n",
       "      <td>United States</td>\n",
       "      <td>NaN</td>\n",
       "      <td>2367</td>\n",
       "      <td>[99 Krog St NE, Atlanta, GA 30307, United States]</td>\n",
       "      <td>[{'label': 'display', 'lat': 33.75700282446537...</td>\n",
       "      <td>33.757003</td>\n",
       "      <td>-84.364299</td>\n",
       "      <td>NaN</td>\n",
       "      <td>30307</td>\n",
       "      <td>GA</td>\n",
       "      <td>54deafbf498eab5eadfd5319</td>\n",
       "    </tr>\n",
       "    <tr>\n",
       "      <th>32</th>\n",
       "      <td>Poor Calvin's</td>\n",
       "      <td>Thai Restaurant</td>\n",
       "      <td>510 Piedmont Ave NE</td>\n",
       "      <td>US</td>\n",
       "      <td>Atlanta</td>\n",
       "      <td>United States</td>\n",
       "      <td>Renaissance Pkwy. NE</td>\n",
       "      <td>2223</td>\n",
       "      <td>[510 Piedmont Ave NE (Renaissance Pkwy. NE), A...</td>\n",
       "      <td>[{'label': 'display', 'lat': 33.7684, 'lng': -...</td>\n",
       "      <td>33.768400</td>\n",
       "      <td>-84.382260</td>\n",
       "      <td>NaN</td>\n",
       "      <td>30308</td>\n",
       "      <td>GA</td>\n",
       "      <td>50a570e38aca7f0bfeca898c</td>\n",
       "    </tr>\n",
       "  </tbody>\n",
       "</table>\n",
       "</div>"
      ],
      "text/plain": [
       "                      name                categories  \\\n",
       "0        Nick's Food To Go          Greek Restaurant   \n",
       "1          Aviva by Kameel  Mediterranean Restaurant   \n",
       "25  Atlanta Breakfast Club       American Restaurant   \n",
       "31                Superica        Mexican Restaurant   \n",
       "32           Poor Calvin's           Thai Restaurant   \n",
       "\n",
       "                      address  cc     city        country  \\\n",
       "0               240 MLK Dr SE  US  Atlanta  United States   \n",
       "1         225 Peachtree St NE  US  Atlanta  United States   \n",
       "25  249 Ivan Allen Jr Blvd NW  US  Atlanta  United States   \n",
       "31              99 Krog St NE  US  Atlanta  United States   \n",
       "32        510 Piedmont Ave NE  US  Atlanta  United States   \n",
       "\n",
       "                        crossStreet  distance  \\\n",
       "0                        at Hill St       781   \n",
       "1   In the Mall at Peachtree Center      1297   \n",
       "25                 at Venable St NW      1888   \n",
       "31                              NaN      2367   \n",
       "32             Renaissance Pkwy. NE      2223   \n",
       "\n",
       "                                     formattedAddress  \\\n",
       "0   [240 MLK Dr SE (at Hill St), Atlanta, GA 30312...   \n",
       "1   [225 Peachtree St NE (In the Mall at Peachtree...   \n",
       "25  [249 Ivan Allen Jr Blvd NW (at Venable St NW),...   \n",
       "31  [99 Krog St NE, Atlanta, GA 30307, United States]   \n",
       "32  [510 Piedmont Ave NE (Renaissance Pkwy. NE), A...   \n",
       "\n",
       "                                       labeledLatLngs        lat        lng  \\\n",
       "0   [{'label': 'display', 'lat': 33.7474921065436,...  33.747492 -84.379749   \n",
       "1   [{'label': 'display', 'lat': 33.7605969735783,...  33.760597 -84.386548   \n",
       "25  [{'label': 'display', 'lat': 33.76479891528359...  33.764799 -84.395432   \n",
       "31  [{'label': 'display', 'lat': 33.75700282446537...  33.757003 -84.364299   \n",
       "32  [{'label': 'display', 'lat': 33.7684, 'lng': -...  33.768400 -84.382260   \n",
       "\n",
       "   neighborhood postalCode state                        id  \n",
       "0           NaN      30312    GA  4abbf3d9f964a520a28520e3  \n",
       "1           NaN      30303    GA  50731cc9e4b06489e10a354d  \n",
       "25          NaN      30313    GA  53298b6b498e04fb57694aae  \n",
       "31          NaN      30307    GA  54deafbf498eab5eadfd5319  \n",
       "32          NaN      30308    GA  50a570e38aca7f0bfeca898c  "
      ]
     },
     "execution_count": 5,
     "metadata": {},
     "output_type": "execute_result"
    }
   ],
   "source": [
    "# Collecting restaurants in our Dataframe\n",
    "df_atl_rest = df_atlanta[df_atlanta[\"categories\"].str.contains('Restaurant')]\n",
    "df_atl_rest.head()"
   ]
  },
  {
   "cell_type": "code",
   "execution_count": 6,
   "metadata": {},
   "outputs": [
    {
     "data": {
      "text/plain": [
       "23"
      ]
     },
     "execution_count": 6,
     "metadata": {},
     "output_type": "execute_result"
    }
   ],
   "source": [
    "# Amount of restaurants found within 10 miles of Atlanta center.\n",
    "df_atl_rest[\"categories\"].count()"
   ]
  },
  {
   "cell_type": "code",
   "execution_count": 25,
   "metadata": {},
   "outputs": [
    {
     "data": {
      "text/plain": [
       "0"
      ]
     },
     "execution_count": 25,
     "metadata": {},
     "output_type": "execute_result"
    }
   ],
   "source": [
    "# Amount of restaurants with the word Dominican in their name found within 10 miles of Atlanta center.\n",
    "df_atl_rest[\"categories\"][df_atl_rest[\"categories\"].str.contains('Dominican|Dominicano')].count()"
   ]
  },
  {
   "cell_type": "code",
   "execution_count": 8,
   "metadata": {},
   "outputs": [
    {
     "data": {
      "text/html": [
       "<div style=\"width:100%;\"><div style=\"position:relative;width:100%;height:0;padding-bottom:60%;\"><iframe src=\"data:text/html;charset=utf-8;base64,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\" style=\"position:absolute;width:100%;height:100%;left:0;top:0;border:none !important;\" allowfullscreen webkitallowfullscreen mozallowfullscreen></iframe></div></div>"
      ],
      "text/plain": [
       "<folium.folium.Map at 0x7f09d1146278>"
      ]
     },
     "execution_count": 8,
     "metadata": {},
     "output_type": "execute_result"
    }
   ],
   "source": [
    "atlanta_map = folium.Map(location=[atlanta['lat'], atlanta['lng']], zoom_start=13)\n",
    "\n",
    "# Add restaurants to the map\n",
    "for lat, lng, label in zip(df_atl_rest.lat, df_atl_rest.lng, df_atl_rest.categories):\n",
    "    folium.features.CircleMarker(\n",
    "        [lat, lng],\n",
    "        radius=5,\n",
    "        popup=label,\n",
    "        fill=True,\n",
    "        color='blue',\n",
    "        fill_color='yellow',\n",
    "        fill_opacity=0.6\n",
    "        ).add_to(atlanta_map)\n",
    "\n",
    "# display map\n",
    "atlanta_map"
   ]
  },
  {
   "cell_type": "markdown",
   "metadata": {},
   "source": [
    "**Decatur Data Collection**"
   ]
  },
  {
   "cell_type": "code",
   "execution_count": 9,
   "metadata": {},
   "outputs": [
    {
     "data": {
      "text/plain": [
       "'There are 100 venues within 10 miles of Decatur center.'"
      ]
     },
     "execution_count": 9,
     "metadata": {},
     "output_type": "execute_result"
    }
   ],
   "source": [
    "decatur = {'lat':33.774, 'lng':-84.296}\n",
    "\n",
    "# Decatur URL to perform venew search\n",
    "url_decatur = 'https://api.foursquare.com/v2/venues/explore?client_id={}&client_secret={}&ll={},{}&v={}&radius={}&limit={}'.format(CLIENT_ID, CLIENT_SECRET, decatur['lat'], decatur['lng'], VERSION, RADIUS, LIMIT)\n",
    "results_decatur = requests.get(url_decatur).json()\n",
    "\n",
    "# Collecting venue items into a DataFrame\n",
    "items_decatur = results_decatur['response']['groups'][0]['items']\n",
    "df_decatur = json_to_dataframe(items_decatur)\n",
    "\n",
    "'There are {} venues within 10 miles of Decatur center.'.format(len(results_decatur['response']['groups'][0]['items']))"
   ]
  },
  {
   "cell_type": "code",
   "execution_count": 10,
   "metadata": {},
   "outputs": [
    {
     "data": {
      "text/html": [
       "<div>\n",
       "<style scoped>\n",
       "    .dataframe tbody tr th:only-of-type {\n",
       "        vertical-align: middle;\n",
       "    }\n",
       "\n",
       "    .dataframe tbody tr th {\n",
       "        vertical-align: top;\n",
       "    }\n",
       "\n",
       "    .dataframe thead th {\n",
       "        text-align: right;\n",
       "    }\n",
       "</style>\n",
       "<table border=\"1\" class=\"dataframe\">\n",
       "  <thead>\n",
       "    <tr style=\"text-align: right;\">\n",
       "      <th></th>\n",
       "      <th>name</th>\n",
       "      <th>categories</th>\n",
       "      <th>address</th>\n",
       "      <th>cc</th>\n",
       "      <th>city</th>\n",
       "      <th>country</th>\n",
       "      <th>crossStreet</th>\n",
       "      <th>distance</th>\n",
       "      <th>formattedAddress</th>\n",
       "      <th>labeledLatLngs</th>\n",
       "      <th>lat</th>\n",
       "      <th>lng</th>\n",
       "      <th>neighborhood</th>\n",
       "      <th>postalCode</th>\n",
       "      <th>state</th>\n",
       "      <th>id</th>\n",
       "    </tr>\n",
       "  </thead>\n",
       "  <tbody>\n",
       "    <tr>\n",
       "      <th>1</th>\n",
       "      <td>The Iberian Pig</td>\n",
       "      <td>Spanish Restaurant</td>\n",
       "      <td>121 Sycamore St</td>\n",
       "      <td>US</td>\n",
       "      <td>Decatur</td>\n",
       "      <td>United States</td>\n",
       "      <td>NaN</td>\n",
       "      <td>42</td>\n",
       "      <td>[121 Sycamore St, Decatur, GA 30030, United St...</td>\n",
       "      <td>[{'label': 'display', 'lat': 33.77438, 'lng': ...</td>\n",
       "      <td>33.774380</td>\n",
       "      <td>-84.296000</td>\n",
       "      <td>NaN</td>\n",
       "      <td>30030</td>\n",
       "      <td>GA</td>\n",
       "      <td>4aa2b2f8f964a520164220e3</td>\n",
       "    </tr>\n",
       "    <tr>\n",
       "      <th>5</th>\n",
       "      <td>No. 246</td>\n",
       "      <td>Italian Restaurant</td>\n",
       "      <td>129 E Ponce de Leon Ave</td>\n",
       "      <td>US</td>\n",
       "      <td>Decatur</td>\n",
       "      <td>United States</td>\n",
       "      <td>btwn Church St &amp; E Court Sq</td>\n",
       "      <td>181</td>\n",
       "      <td>[129 E Ponce de Leon Ave (btwn Church St &amp; E C...</td>\n",
       "      <td>[{'label': 'display', 'lat': 33.77553761696676...</td>\n",
       "      <td>33.775538</td>\n",
       "      <td>-84.295349</td>\n",
       "      <td>NaN</td>\n",
       "      <td>30030</td>\n",
       "      <td>GA</td>\n",
       "      <td>4daf0acab3dcd1a46a0b5e57</td>\n",
       "    </tr>\n",
       "    <tr>\n",
       "      <th>10</th>\n",
       "      <td>The Pinewood</td>\n",
       "      <td>American Restaurant</td>\n",
       "      <td>254 W Ponce de Leon Ave</td>\n",
       "      <td>US</td>\n",
       "      <td>Decatur</td>\n",
       "      <td>United States</td>\n",
       "      <td>at Ponce de Leon Pl.</td>\n",
       "      <td>401</td>\n",
       "      <td>[254 W Ponce de Leon Ave (at Ponce de Leon Pl....</td>\n",
       "      <td>[{'label': 'display', 'lat': 33.77548088894041...</td>\n",
       "      <td>33.775481</td>\n",
       "      <td>-84.299958</td>\n",
       "      <td>Downtown Decatur</td>\n",
       "      <td>30030</td>\n",
       "      <td>GA</td>\n",
       "      <td>4fa5cb03e4b094b946a36158</td>\n",
       "    </tr>\n",
       "    <tr>\n",
       "      <th>26</th>\n",
       "      <td>Madras Mantra</td>\n",
       "      <td>South Indian Restaurant</td>\n",
       "      <td>2179 Lawrenceville Hwy Ste A</td>\n",
       "      <td>US</td>\n",
       "      <td>Decatur</td>\n",
       "      <td>United States</td>\n",
       "      <td>NaN</td>\n",
       "      <td>4673</td>\n",
       "      <td>[2179 Lawrenceville Hwy Ste A, Decatur, GA 300...</td>\n",
       "      <td>[{'label': 'display', 'lat': 33.81060798417284...</td>\n",
       "      <td>33.810608</td>\n",
       "      <td>-84.271270</td>\n",
       "      <td>NaN</td>\n",
       "      <td>30033</td>\n",
       "      <td>GA</td>\n",
       "      <td>55679b78498efa7eb6a22221</td>\n",
       "    </tr>\n",
       "    <tr>\n",
       "      <th>33</th>\n",
       "      <td>Surin of Thailand</td>\n",
       "      <td>Thai Restaurant</td>\n",
       "      <td>810 N Highland Ave NE</td>\n",
       "      <td>US</td>\n",
       "      <td>Atlanta</td>\n",
       "      <td>United States</td>\n",
       "      <td>NaN</td>\n",
       "      <td>5252</td>\n",
       "      <td>[810 N Highland Ave NE, Atlanta, GA 30306, Uni...</td>\n",
       "      <td>[{'label': 'display', 'lat': 33.7765778, 'lng'...</td>\n",
       "      <td>33.776578</td>\n",
       "      <td>-84.352685</td>\n",
       "      <td>NaN</td>\n",
       "      <td>30306</td>\n",
       "      <td>GA</td>\n",
       "      <td>49dff3f8f964a5202e611fe3</td>\n",
       "    </tr>\n",
       "  </tbody>\n",
       "</table>\n",
       "</div>"
      ],
      "text/plain": [
       "                 name               categories                       address  \\\n",
       "1     The Iberian Pig       Spanish Restaurant               121 Sycamore St   \n",
       "5             No. 246       Italian Restaurant       129 E Ponce de Leon Ave   \n",
       "10       The Pinewood      American Restaurant       254 W Ponce de Leon Ave   \n",
       "26      Madras Mantra  South Indian Restaurant  2179 Lawrenceville Hwy Ste A   \n",
       "33  Surin of Thailand          Thai Restaurant         810 N Highland Ave NE   \n",
       "\n",
       "    cc     city        country                  crossStreet  distance  \\\n",
       "1   US  Decatur  United States                          NaN        42   \n",
       "5   US  Decatur  United States  btwn Church St & E Court Sq       181   \n",
       "10  US  Decatur  United States         at Ponce de Leon Pl.       401   \n",
       "26  US  Decatur  United States                          NaN      4673   \n",
       "33  US  Atlanta  United States                          NaN      5252   \n",
       "\n",
       "                                     formattedAddress  \\\n",
       "1   [121 Sycamore St, Decatur, GA 30030, United St...   \n",
       "5   [129 E Ponce de Leon Ave (btwn Church St & E C...   \n",
       "10  [254 W Ponce de Leon Ave (at Ponce de Leon Pl....   \n",
       "26  [2179 Lawrenceville Hwy Ste A, Decatur, GA 300...   \n",
       "33  [810 N Highland Ave NE, Atlanta, GA 30306, Uni...   \n",
       "\n",
       "                                       labeledLatLngs        lat        lng  \\\n",
       "1   [{'label': 'display', 'lat': 33.77438, 'lng': ...  33.774380 -84.296000   \n",
       "5   [{'label': 'display', 'lat': 33.77553761696676...  33.775538 -84.295349   \n",
       "10  [{'label': 'display', 'lat': 33.77548088894041...  33.775481 -84.299958   \n",
       "26  [{'label': 'display', 'lat': 33.81060798417284...  33.810608 -84.271270   \n",
       "33  [{'label': 'display', 'lat': 33.7765778, 'lng'...  33.776578 -84.352685   \n",
       "\n",
       "        neighborhood postalCode state                        id  \n",
       "1                NaN      30030    GA  4aa2b2f8f964a520164220e3  \n",
       "5                NaN      30030    GA  4daf0acab3dcd1a46a0b5e57  \n",
       "10  Downtown Decatur      30030    GA  4fa5cb03e4b094b946a36158  \n",
       "26               NaN      30033    GA  55679b78498efa7eb6a22221  \n",
       "33               NaN      30306    GA  49dff3f8f964a5202e611fe3  "
      ]
     },
     "execution_count": 10,
     "metadata": {},
     "output_type": "execute_result"
    }
   ],
   "source": [
    "# Collecting restaurants in our Dataframe\n",
    "df_dec_rest = df_decatur[df_decatur[\"categories\"].str.contains('Restaurant')]\n",
    "df_dec_rest.head()"
   ]
  },
  {
   "cell_type": "code",
   "execution_count": 11,
   "metadata": {},
   "outputs": [
    {
     "data": {
      "text/plain": [
       "19"
      ]
     },
     "execution_count": 11,
     "metadata": {},
     "output_type": "execute_result"
    }
   ],
   "source": [
    "# Amount of restaurants found within 10 miles of Atlanta center.\n",
    "df_dec_rest[\"categories\"].count()"
   ]
  },
  {
   "cell_type": "code",
   "execution_count": 24,
   "metadata": {},
   "outputs": [
    {
     "data": {
      "text/plain": [
       "0"
      ]
     },
     "execution_count": 24,
     "metadata": {},
     "output_type": "execute_result"
    }
   ],
   "source": [
    "# Amount of restaurants with the word Dominican in their name found within 10 miles of Atlanta center.\n",
    "df_dec_rest[\"categories\"][df_dec_rest[\"categories\"].str.contains('Dominican|Dominicano')].count()"
   ]
  },
  {
   "cell_type": "code",
   "execution_count": 13,
   "metadata": {},
   "outputs": [
    {
     "data": {
      "text/html": [
       "<div style=\"width:100%;\"><div style=\"position:relative;width:100%;height:0;padding-bottom:60%;\"><iframe src=\"data:text/html;charset=utf-8;base64,PCFET0NUWVBFIGh0bWw+CjxoZWFkPiAgICAKICAgIDxtZXRhIGh0dHAtZXF1aXY9ImNvbnRlbnQtdHlwZSIgY29udGVudD0idGV4dC9odG1sOyBjaGFyc2V0PVVURi04IiAvPgogICAgPHNjcmlwdD5MX1BSRUZFUl9DQU5WQVMgPSBmYWxzZTsgTF9OT19UT1VDSCA9IGZhbHNlOyBMX0RJU0FCTEVfM0QgPSBmYWxzZTs8L3NjcmlwdD4KICAgIDxzY3JpcHQgc3JjPSJodHRwczovL2Nkbi5qc2RlbGl2ci5uZXQvbnBtL2xlYWZsZXRAMS4yLjAvZGlzdC9sZWFmbGV0LmpzIj48L3NjcmlwdD4KICAgIDxzY3JpcHQgc3JjPSJodHRwczovL2FqYXguZ29vZ2xlYXBpcy5jb20vYWpheC9saWJzL2pxdWVyeS8xLjExLjEvanF1ZXJ5Lm1pbi5qcyI+PC9zY3JpcHQ+CiAgICA8c2NyaXB0IHNyYz0iaHR0cHM6Ly9tYXhjZG4uYm9vdHN0cmFwY2RuLmNvbS9ib290c3RyYXAvMy4yLjAvanMvYm9vdHN0cmFwLm1pbi5qcyI+PC9zY3JpcHQ+CiAgICA8c2NyaXB0IHNyYz0iaHR0cHM6Ly9jZG5qcy5jbG91ZGZsYXJlLmNvbS9hamF4L2xpYnMvTGVhZmxldC5hd2Vzb21lLW1hcmtlcnMvMi4wLjIvbGVhZmxldC5hd2Vzb21lLW1hcmtlcnMuanMiPjwvc2NyaXB0PgogICAgPGxpbmsgcmVsPSJzdHlsZXNoZWV0IiBocmVmPSJodHRwczovL2Nkbi5qc2RlbGl2ci5uZXQvbnBtL2xlYWZsZXRAMS4yLjAvZGlzdC9sZWFmbGV0LmNzcyIvPgogICAgPGxpbmsgcmVsPSJzdHlsZXNoZWV0IiBocmVmPSJodHRwczovL21heGNkbi5ib290c3RyYXBjZG4uY29tL2Jvb3RzdHJhcC8zLjIuMC9jc3MvYm9vdHN0cmFwLm1pbi5jc3MiLz4KICAgIDxsaW5rIHJlbD0ic3R5bGVzaGVldCIgaHJlZj0iaHR0cHM6Ly9tYXhjZG4uYm9vdHN0cmFwY2RuLmNvbS9ib290c3RyYXAvMy4yLjAvY3NzL2Jvb3RzdHJhcC10aGVtZS5taW4uY3NzIi8+CiAgICA8bGluayByZWw9InN0eWxlc2hlZXQiIGhyZWY9Imh0dHBzOi8vbWF4Y2RuLmJvb3RzdHJhcGNkbi5jb20vZm9udC1hd2Vzb21lLzQuNi4zL2Nzcy9mb250LWF3ZXNvbWUubWluLmNzcyIvPgogICAgPGxpbmsgcmVsPSJzdHlsZXNoZWV0IiBocmVmPSJodHRwczovL2NkbmpzLmNsb3VkZmxhcmUuY29tL2FqYXgvbGlicy9MZWFmbGV0LmF3ZXNvbWUtbWFya2Vycy8yLjAuMi9sZWFmbGV0LmF3ZXNvbWUtbWFya2Vycy5jc3MiLz4KICAgIDxsaW5rIHJlbD0ic3R5bGVzaGVldCIgaHJlZj0iaHR0cHM6Ly9yYXdnaXQuY29tL3B5dGhvbi12aXN1YWxpemF0aW9uL2ZvbGl1bS9tYXN0ZXIvZm9saXVtL3RlbXBsYXRlcy9sZWFmbGV0LmF3ZXNvbWUucm90YXRlLmNzcyIvPgogICAgPHN0eWxlPmh0bWwsIGJvZHkge3dpZHRoOiAxMDAlO2hlaWdodDogMTAwJTttYXJnaW46IDA7cGFkZGluZzogMDt9PC9zdHlsZT4KICAgIDxzdHlsZT4jbWFwIHtwb3NpdGlvbjphYnNvbHV0ZTt0b3A6MDtib3R0b206MDtyaWdodDowO2xlZnQ6MDt9PC9zdHlsZT4KICAgIAogICAgICAgICAgICA8c3R5bGU+ICNtYXBfMjM3NmZkMmU5ODA0NDQwMWJhNWUwNzRmZTE4OTRkNDUgewogICAgICAgICAgICAgICAgcG9zaXRpb24gOiByZWxhdGl2ZTsKICAgICAgICAgICAgICAgIHdpZHRoIDogMTAwLjAlOwogICAgICAgICAgICAgICAgaGVpZ2h0OiAxMDAuMCU7CiAgICAgICAgICAgICAgICBsZWZ0OiAwLjAlOwogICAgICAgICAgICAgICAgdG9wOiAwLjAlOwogICAgICAgICAgICAgICAgfQogICAgICAgICAgICA8L3N0eWxlPgogICAgICAgIAo8L2hlYWQ+Cjxib2R5PiAgICAKICAgIAogICAgICAgICAgICA8ZGl2IGNsYXNzPSJmb2xpdW0tbWFwIiBpZD0ibWFwXzIzNzZmZDJlOTgwNDQ0MDFiYTVlMDc0ZmUxODk0ZDQ1IiA+PC9kaXY+CiAgICAgICAgCjwvYm9keT4KPHNjcmlwdD4gICAgCiAgICAKCiAgICAgICAgICAgIAogICAgICAgICAgICAgICAgdmFyIGJvdW5kcyA9IG51bGw7CiAgICAgICAgICAgIAoKICAgICAgICAgICAgdmFyIG1hcF8yMzc2ZmQyZTk4MDQ0NDAxYmE1ZTA3NGZlMTg5NGQ0NSA9IEwubWFwKAogICAgICAgICAgICAgICAgICAgICAgICAgICAgICAgICAgJ21hcF8yMzc2ZmQyZTk4MDQ0NDAxYmE1ZTA3NGZlMTg5NGQ0NScsCiAgICAgICAgICAgICAgICAgICAgICAgICAgICAgICAgICB7Y2VudGVyOiBbMzMuNzc0LC04NC4yOTZdLAogICAgICAgICAgICAgICAgICAgICAgICAgICAgICAgICAgem9vbTogMTMsCiAgICAgICAgICAgICAgICAgICAgICAgICAgICAgICAgICBtYXhCb3VuZHM6IGJvdW5kcywKICAgICAgICAgICAgICAgICAgICAgICAgICAgICAgICAgIGxheWVyczogW10sCiAgICAgICAgICAgICAgICAgICAgICAgICAgICAgICAgICB3b3JsZENvcHlKdW1wOiBmYWxzZSwKICAgICAgICAgICAgICAgICAgICAgICAgICAgICAgICAgIGNyczogTC5DUlMuRVBTRzM4NTcKICAgICAgICAgICAgICAgICAgICAgICAgICAgICAgICAgfSk7CiAgICAgICAgICAgIAogICAgICAgIAogICAgCiAgICAgICAgICAgIHZhciB0aWxlX2xheWVyXzcxZTI2YWY1YzQ2OTRkYjZhZTgyZTVjN2YwNDBkOGQ3ID0gTC50aWxlTGF5ZXIoCiAgICAgICAgICAgICAgICAnaHR0cHM6Ly97c30udGlsZS5vcGVuc3RyZWV0bWFwLm9yZy97en0ve3h9L3t5fS5wbmcnLAogICAgICAgICAgICAgICAgewogICJhdHRyaWJ1dGlvbiI6IG51bGwsCiAgImRldGVjdFJldGluYSI6IGZhbHNlLAogICJtYXhab29tIjogMTgsCiAgIm1pblpvb20iOiAxLAogICJub1dyYXAiOiBmYWxzZSwKICAic3ViZG9tYWlucyI6ICJhYmMiCn0KICAgICAgICAgICAgICAgICkuYWRkVG8obWFwXzIzNzZmZDJlOTgwNDQ0MDFiYTVlMDc0ZmUxODk0ZDQ1KTsKICAgICAgICAKICAgIAogICAgICAgICAgICB2YXIgY2lyY2xlX21hcmtlcl81MGZiZDJiMGIyOGY0ZjRkOWIxNDZjOTIwODEyNDhlYiA9IEwuY2lyY2xlTWFya2VyKAogICAgICAgICAgICAgICAgWzMzLjc3NDM4LC04NC4yOTZdLAogICAgICAgICAgICAgICAgewogICJidWJibGluZ01vdXNlRXZlbnRzIjogdHJ1ZSwKICAiY29sb3IiOiAiYmx1ZSIsCiAgImRhc2hBcnJheSI6IG51bGwsCiAgImRhc2hPZmZzZXQiOiBudWxsLAogICJmaWxsIjogdHJ1ZSwKICAiZmlsbENvbG9yIjogInllbGxvdyIsCiAgImZpbGxPcGFjaXR5IjogMC42LAogICJmaWxsUnVsZSI6ICJldmVub2RkIiwKICAibGluZUNhcCI6ICJyb3VuZCIsCiAgImxpbmVKb2luIjogInJvdW5kIiwKICAib3BhY2l0eSI6IDEuMCwKICAicmFkaXVzIjogNSwKICAic3Ryb2tlIjogdHJ1ZSwKICAid2VpZ2h0IjogMwp9CiAgICAgICAgICAgICAgICApLmFkZFRvKG1hcF8yMzc2ZmQyZTk4MDQ0NDAxYmE1ZTA3NGZlMTg5NGQ0NSk7CiAgICAgICAgICAgIAogICAgCiAgICAgICAgICAgIHZhciBwb3B1cF9hMDg4NTZlOWUzNWM0OWMxOGNhYzQ4OTNhZmEyNjE3NiA9IEwucG9wdXAoe21heFdpZHRoOiAnMzAwJ30pOwoKICAgICAgICAgICAgCiAgICAgICAgICAgICAgICB2YXIgaHRtbF80NDkzZDcyMTE2MzI0MzNjYmVjMzIxOWI0NzE2NGVlYyA9ICQoJzxkaXYgaWQ9Imh0bWxfNDQ5M2Q3MjExNjMyNDMzY2JlYzMyMTliNDcxNjRlZWMiIHN0eWxlPSJ3aWR0aDogMTAwLjAlOyBoZWlnaHQ6IDEwMC4wJTsiPlNwYW5pc2ggUmVzdGF1cmFudDwvZGl2PicpWzBdOwogICAgICAgICAgICAgICAgcG9wdXBfYTA4ODU2ZTllMzVjNDljMThjYWM0ODkzYWZhMjYxNzYuc2V0Q29udGVudChodG1sXzQ0OTNkNzIxMTYzMjQzM2NiZWMzMjE5YjQ3MTY0ZWVjKTsKICAgICAgICAgICAgCgogICAgICAgICAgICBjaXJjbGVfbWFya2VyXzUwZmJkMmIwYjI4ZjRmNGQ5YjE0NmM5MjA4MTI0OGViLmJpbmRQb3B1cChwb3B1cF9hMDg4NTZlOWUzNWM0OWMxOGNhYzQ4OTNhZmEyNjE3Nik7CgogICAgICAgICAgICAKICAgICAgICAKICAgIAogICAgICAgICAgICB2YXIgY2lyY2xlX21hcmtlcl82YjkwMjFlMDU1NjA0ZTQ5YTk2YWIwZGMyZDE0MzE3YyA9IEwuY2lyY2xlTWFya2VyKAogICAgICAgICAgICAgICAgWzMzLjc3NTUzNzYxNjk2Njc2LC04NC4yOTUzNDk0NTEzNTU0Nl0sCiAgICAgICAgICAgICAgICB7CiAgImJ1YmJsaW5nTW91c2VFdmVudHMiOiB0cnVlLAogICJjb2xvciI6ICJibHVlIiwKICAiZGFzaEFycmF5IjogbnVsbCwKICAiZGFzaE9mZnNldCI6IG51bGwsCiAgImZpbGwiOiB0cnVlLAogICJmaWxsQ29sb3IiOiAieWVsbG93IiwKICAiZmlsbE9wYWNpdHkiOiAwLjYsCiAgImZpbGxSdWxlIjogImV2ZW5vZGQiLAogICJsaW5lQ2FwIjogInJvdW5kIiwKICAibGluZUpvaW4iOiAicm91bmQiLAogICJvcGFjaXR5IjogMS4wLAogICJyYWRpdXMiOiA1LAogICJzdHJva2UiOiB0cnVlLAogICJ3ZWlnaHQiOiAzCn0KICAgICAgICAgICAgICAgICkuYWRkVG8obWFwXzIzNzZmZDJlOTgwNDQ0MDFiYTVlMDc0ZmUxODk0ZDQ1KTsKICAgICAgICAgICAgCiAgICAKICAgICAgICAgICAgdmFyIHBvcHVwX2RhYmJlNmJhNjM4NDQ2MmI4ZjlkMzVhNWQxZjkwMzAyID0gTC5wb3B1cCh7bWF4V2lkdGg6ICczMDAnfSk7CgogICAgICAgICAgICAKICAgICAgICAgICAgICAgIHZhciBodG1sXzg5ZmFjOWI2NjE0ZjQzNzBiMGM0ZmFmNTI0YzgyNjg1ID0gJCgnPGRpdiBpZD0iaHRtbF84OWZhYzliNjYxNGY0MzcwYjBjNGZhZjUyNGM4MjY4NSIgc3R5bGU9IndpZHRoOiAxMDAuMCU7IGhlaWdodDogMTAwLjAlOyI+SXRhbGlhbiBSZXN0YXVyYW50PC9kaXY+JylbMF07CiAgICAgICAgICAgICAgICBwb3B1cF9kYWJiZTZiYTYzODQ0NjJiOGY5ZDM1YTVkMWY5MDMwMi5zZXRDb250ZW50KGh0bWxfODlmYWM5YjY2MTRmNDM3MGIwYzRmYWY1MjRjODI2ODUpOwogICAgICAgICAgICAKCiAgICAgICAgICAgIGNpcmNsZV9tYXJrZXJfNmI5MDIxZTA1NTYwNGU0OWE5NmFiMGRjMmQxNDMxN2MuYmluZFBvcHVwKHBvcHVwX2RhYmJlNmJhNjM4NDQ2MmI4ZjlkMzVhNWQxZjkwMzAyKTsKCiAgICAgICAgICAgIAogICAgICAgIAogICAgCiAgICAgICAgICAgIHZhciBjaXJjbGVfbWFya2VyXzUyY2M1YWM4MWIwZDQ3ZDVhMDAwYmUyY2ZiMGQyYzk5ID0gTC5jaXJjbGVNYXJrZXIoCiAgICAgICAgICAgICAgICBbMzMuNzc1NDgwODg4OTQwNDEsLTg0LjI5OTk1ODM1Mzg4MDQ4XSwKICAgICAgICAgICAgICAgIHsKICAiYnViYmxpbmdNb3VzZUV2ZW50cyI6IHRydWUsCiAgImNvbG9yIjogImJsdWUiLAogICJkYXNoQXJyYXkiOiBudWxsLAogICJkYXNoT2Zmc2V0IjogbnVsbCwKICAiZmlsbCI6IHRydWUsCiAgImZpbGxDb2xvciI6ICJ5ZWxsb3ciLAogICJmaWxsT3BhY2l0eSI6IDAuNiwKICAiZmlsbFJ1bGUiOiAiZXZlbm9kZCIsCiAgImxpbmVDYXAiOiAicm91bmQiLAogICJsaW5lSm9pbiI6ICJyb3VuZCIsCiAgIm9wYWNpdHkiOiAxLjAsCiAgInJhZGl1cyI6IDUsCiAgInN0cm9rZSI6IHRydWUsCiAgIndlaWdodCI6IDMKfQogICAgICAgICAgICAgICAgKS5hZGRUbyhtYXBfMjM3NmZkMmU5ODA0NDQwMWJhNWUwNzRmZTE4OTRkNDUpOwogICAgICAgICAgICAKICAgIAogICAgICAgICAgICB2YXIgcG9wdXBfMTgwZmI5YTJhNmYyNDI0Y2E4MTU5MmI2YTExNGUyMzAgPSBMLnBvcHVwKHttYXhXaWR0aDogJzMwMCd9KTsKCiAgICAgICAgICAgIAogICAgICAgICAgICAgICAgdmFyIGh0bWxfNjcwZTBkZTdmNGM5NGNkMmFmMzdlYWY1NjQ4MThmM2MgPSAkKCc8ZGl2IGlkPSJodG1sXzY3MGUwZGU3ZjRjOTRjZDJhZjM3ZWFmNTY0ODE4ZjNjIiBzdHlsZT0id2lkdGg6IDEwMC4wJTsgaGVpZ2h0OiAxMDAuMCU7Ij5BbWVyaWNhbiBSZXN0YXVyYW50PC9kaXY+JylbMF07CiAgICAgICAgICAgICAgICBwb3B1cF8xODBmYjlhMmE2ZjI0MjRjYTgxNTkyYjZhMTE0ZTIzMC5zZXRDb250ZW50KGh0bWxfNjcwZTBkZTdmNGM5NGNkMmFmMzdlYWY1NjQ4MThmM2MpOwogICAgICAgICAgICAKCiAgICAgICAgICAgIGNpcmNsZV9tYXJrZXJfNTJjYzVhYzgxYjBkNDdkNWEwMDBiZTJjZmIwZDJjOTkuYmluZFBvcHVwKHBvcHVwXzE4MGZiOWEyYTZmMjQyNGNhODE1OTJiNmExMTRlMjMwKTsKCiAgICAgICAgICAgIAogICAgICAgIAogICAgCiAgICAgICAgICAgIHZhciBjaXJjbGVfbWFya2VyXzc3ZDQ2MGJlMWEwMTQ3OGViY2Q5YmZiMGNiMGQ2YWUzID0gTC5jaXJjbGVNYXJrZXIoCiAgICAgICAgICAgICAgICBbMzMuODEwNjA3OTg0MTcyODQsLTg0LjI3MTI2OTc1MDk3OTY4XSwKICAgICAgICAgICAgICAgIHsKICAiYnViYmxpbmdNb3VzZUV2ZW50cyI6IHRydWUsCiAgImNvbG9yIjogImJsdWUiLAogICJkYXNoQXJyYXkiOiBudWxsLAogICJkYXNoT2Zmc2V0IjogbnVsbCwKICAiZmlsbCI6IHRydWUsCiAgImZpbGxDb2xvciI6ICJ5ZWxsb3ciLAogICJmaWxsT3BhY2l0eSI6IDAuNiwKICAiZmlsbFJ1bGUiOiAiZXZlbm9kZCIsCiAgImxpbmVDYXAiOiAicm91bmQiLAogICJsaW5lSm9pbiI6ICJyb3VuZCIsCiAgIm9wYWNpdHkiOiAxLjAsCiAgInJhZGl1cyI6IDUsCiAgInN0cm9rZSI6IHRydWUsCiAgIndlaWdodCI6IDMKfQogICAgICAgICAgICAgICAgKS5hZGRUbyhtYXBfMjM3NmZkMmU5ODA0NDQwMWJhNWUwNzRmZTE4OTRkNDUpOwogICAgICAgICAgICAKICAgIAogICAgICAgICAgICB2YXIgcG9wdXBfNDQ5YTc5NjE5NjRkNGM3Zjg0NGE0Mzk3M2I1OWI4MzYgPSBMLnBvcHVwKHttYXhXaWR0aDogJzMwMCd9KTsKCiAgICAgICAgICAgIAogICAgICAgICAgICAgICAgdmFyIGh0bWxfZjk4MTdkNWZjZGQwNDY5MThjOTc0OTkxZjFlNzg2MjggPSAkKCc8ZGl2IGlkPSJodG1sX2Y5ODE3ZDVmY2RkMDQ2OTE4Yzk3NDk5MWYxZTc4NjI4IiBzdHlsZT0id2lkdGg6IDEwMC4wJTsgaGVpZ2h0OiAxMDAuMCU7Ij5Tb3V0aCBJbmRpYW4gUmVzdGF1cmFudDwvZGl2PicpWzBdOwogICAgICAgICAgICAgICAgcG9wdXBfNDQ5YTc5NjE5NjRkNGM3Zjg0NGE0Mzk3M2I1OWI4MzYuc2V0Q29udGVudChodG1sX2Y5ODE3ZDVmY2RkMDQ2OTE4Yzk3NDk5MWYxZTc4NjI4KTsKICAgICAgICAgICAgCgogICAgICAgICAgICBjaXJjbGVfbWFya2VyXzc3ZDQ2MGJlMWEwMTQ3OGViY2Q5YmZiMGNiMGQ2YWUzLmJpbmRQb3B1cChwb3B1cF80NDlhNzk2MTk2NGQ0YzdmODQ0YTQzOTczYjU5YjgzNik7CgogICAgICAgICAgICAKICAgICAgICAKICAgIAogICAgICAgICAgICB2YXIgY2lyY2xlX21hcmtlcl80M2ZiMWZiM2EzNDk0YmU1OGVmMDUzM2E4NmNmNGExMyA9IEwuY2lyY2xlTWFya2VyKAogICAgICAgICAgICAgICAgWzMzLjc3NjU3NzgsLTg0LjM1MjY4NV0sCiAgICAgICAgICAgICAgICB7CiAgImJ1YmJsaW5nTW91c2VFdmVudHMiOiB0cnVlLAogICJjb2xvciI6ICJibHVlIiwKICAiZGFzaEFycmF5IjogbnVsbCwKICAiZGFzaE9mZnNldCI6IG51bGwsCiAgImZpbGwiOiB0cnVlLAogICJmaWxsQ29sb3IiOiAieWVsbG93IiwKICAiZmlsbE9wYWNpdHkiOiAwLjYsCiAgImZpbGxSdWxlIjogImV2ZW5vZGQiLAogICJsaW5lQ2FwIjogInJvdW5kIiwKICAibGluZUpvaW4iOiAicm91bmQiLAogICJvcGFjaXR5IjogMS4wLAogICJyYWRpdXMiOiA1LAogICJzdHJva2UiOiB0cnVlLAogICJ3ZWlnaHQiOiAzCn0KICAgICAgICAgICAgICAgICkuYWRkVG8obWFwXzIzNzZmZDJlOTgwNDQ0MDFiYTVlMDc0ZmUxODk0ZDQ1KTsKICAgICAgICAgICAgCiAgICAKICAgICAgICAgICAgdmFyIHBvcHVwXzA2NDcxODI0MTIzMDRjYjY4ZjE2OTY4YmZlNGViODQyID0gTC5wb3B1cCh7bWF4V2lkdGg6ICczMDAnfSk7CgogICAgICAgICAgICAKICAgICAgICAgICAgICAgIHZhciBodG1sX2Q0MDg2MmUyZjA5ZTRlZDA4MWM5MmU3MWE1Yjg4MTEzID0gJCgnPGRpdiBpZD0iaHRtbF9kNDA4NjJlMmYwOWU0ZWQwODFjOTJlNzFhNWI4ODExMyIgc3R5bGU9IndpZHRoOiAxMDAuMCU7IGhlaWdodDogMTAwLjAlOyI+VGhhaSBSZXN0YXVyYW50PC9kaXY+JylbMF07CiAgICAgICAgICAgICAgICBwb3B1cF8wNjQ3MTgyNDEyMzA0Y2I2OGYxNjk2OGJmZTRlYjg0Mi5zZXRDb250ZW50KGh0bWxfZDQwODYyZTJmMDllNGVkMDgxYzkyZTcxYTViODgxMTMpOwogICAgICAgICAgICAKCiAgICAgICAgICAgIGNpcmNsZV9tYXJrZXJfNDNmYjFmYjNhMzQ5NGJlNThlZjA1MzNhODZjZjRhMTMuYmluZFBvcHVwKHBvcHVwXzA2NDcxODI0MTIzMDRjYjY4ZjE2OTY4YmZlNGViODQyKTsKCiAgICAgICAgICAgIAogICAgICAgIAogICAgCiAgICAgICAgICAgIHZhciBjaXJjbGVfbWFya2VyXzI0MGY5ZGEwZjNhYzRkZmFiOWE3MzNlZjkwMzk1Y2M5ID0gTC5jaXJjbGVNYXJrZXIoCiAgICAgICAgICAgICAgICBbMzMuNzY2NjQyMiwtODQuMzUyOTY0M10sCiAgICAgICAgICAgICAgICB7CiAgImJ1YmJsaW5nTW91c2VFdmVudHMiOiB0cnVlLAogICJjb2xvciI6ICJibHVlIiwKICAiZGFzaEFycmF5IjogbnVsbCwKICAiZGFzaE9mZnNldCI6IG51bGwsCiAgImZpbGwiOiB0cnVlLAogICJmaWxsQ29sb3IiOiAieWVsbG93IiwKICAiZmlsbE9wYWNpdHkiOiAwLjYsCiAgImZpbGxSdWxlIjogImV2ZW5vZGQiLAogICJsaW5lQ2FwIjogInJvdW5kIiwKICAibGluZUpvaW4iOiAicm91bmQiLAogICJvcGFjaXR5IjogMS4wLAogICJyYWRpdXMiOiA1LAogICJzdHJva2UiOiB0cnVlLAogICJ3ZWlnaHQiOiAzCn0KICAgICAgICAgICAgICAgICkuYWRkVG8obWFwXzIzNzZmZDJlOTgwNDQ0MDFiYTVlMDc0ZmUxODk0ZDQ1KTsKICAgICAgICAgICAgCiAgICAKICAgICAgICAgICAgdmFyIHBvcHVwXzg5MGFmMTI5ZDZlYjQwNTU4MjFlMjZlYjY0ZDkxM2M2ID0gTC5wb3B1cCh7bWF4V2lkdGg6ICczMDAnfSk7CgogICAgICAgICAgICAKICAgICAgICAgICAgICAgIHZhciBodG1sXzI2ZTM2NzdhMjc1YzRlNmI5MjM0YjBlZjllYmE5YzM4ID0gJCgnPGRpdiBpZD0iaHRtbF8yNmUzNjc3YTI3NWM0ZTZiOTIzNGIwZWY5ZWJhOWMzOCIgc3R5bGU9IndpZHRoOiAxMDAuMCU7IGhlaWdodDogMTAwLjAlOyI+QW1lcmljYW4gUmVzdGF1cmFudDwvZGl2PicpWzBdOwogICAgICAgICAgICAgICAgcG9wdXBfODkwYWYxMjlkNmViNDA1NTgyMWUyNmViNjRkOTEzYzYuc2V0Q29udGVudChodG1sXzI2ZTM2NzdhMjc1YzRlNmI5MjM0YjBlZjllYmE5YzM4KTsKICAgICAgICAgICAgCgogICAgICAgICAgICBjaXJjbGVfbWFya2VyXzI0MGY5ZGEwZjNhYzRkZmFiOWE3MzNlZjkwMzk1Y2M5LmJpbmRQb3B1cChwb3B1cF84OTBhZjEyOWQ2ZWI0MDU1ODIxZTI2ZWI2NGQ5MTNjNik7CgogICAgICAgICAgICAKICAgICAgICAKICAgIAogICAgICAgICAgICB2YXIgY2lyY2xlX21hcmtlcl85MzgzMTE1MGQ2YmE0OTJlYjViNTc0Yjg1MzFhMzlkYSA9IEwuY2lyY2xlTWFya2VyKAogICAgICAgICAgICAgICAgWzMzLjc4MjMyNzM1OTUxMzU5LC04NC4zNTQ2MDQzODM3NDk5XSwKICAgICAgICAgICAgICAgIHsKICAiYnViYmxpbmdNb3VzZUV2ZW50cyI6IHRydWUsCiAgImNvbG9yIjogImJsdWUiLAogICJkYXNoQXJyYXkiOiBudWxsLAogICJkYXNoT2Zmc2V0IjogbnVsbCwKICAiZmlsbCI6IHRydWUsCiAgImZpbGxDb2xvciI6ICJ5ZWxsb3ciLAogICJmaWxsT3BhY2l0eSI6IDAuNiwKICAiZmlsbFJ1bGUiOiAiZXZlbm9kZCIsCiAgImxpbmVDYXAiOiAicm91bmQiLAogICJsaW5lSm9pbiI6ICJyb3VuZCIsCiAgIm9wYWNpdHkiOiAxLjAsCiAgInJhZGl1cyI6IDUsCiAgInN0cm9rZSI6IHRydWUsCiAgIndlaWdodCI6IDMKfQogICAgICAgICAgICAgICAgKS5hZGRUbyhtYXBfMjM3NmZkMmU5ODA0NDQwMWJhNWUwNzRmZTE4OTRkNDUpOwogICAgICAgICAgICAKICAgIAogICAgICAgICAgICB2YXIgcG9wdXBfZTRlM2I1YzUwMzkyNGUxMDhkNWVhZjMyYTJlZmU5MGEgPSBMLnBvcHVwKHttYXhXaWR0aDogJzMwMCd9KTsKCiAgICAgICAgICAgIAogICAgICAgICAgICAgICAgdmFyIGh0bWxfMGNiZGE5MWMwZmRjNDZiMGI4MTlkZjgzZjk3MzRmMGYgPSAkKCc8ZGl2IGlkPSJodG1sXzBjYmRhOTFjMGZkYzQ2YjBiODE5ZGY4M2Y5NzM0ZjBmIiBzdHlsZT0id2lkdGg6IDEwMC4wJTsgaGVpZ2h0OiAxMDAuMCU7Ij5BbWVyaWNhbiBSZXN0YXVyYW50PC9kaXY+JylbMF07CiAgICAgICAgICAgICAgICBwb3B1cF9lNGUzYjVjNTAzOTI0ZTEwOGQ1ZWFmMzJhMmVmZTkwYS5zZXRDb250ZW50KGh0bWxfMGNiZGE5MWMwZmRjNDZiMGI4MTlkZjgzZjk3MzRmMGYpOwogICAgICAgICAgICAKCiAgICAgICAgICAgIGNpcmNsZV9tYXJrZXJfOTM4MzExNTBkNmJhNDkyZWI1YjU3NGI4NTMxYTM5ZGEuYmluZFBvcHVwKHBvcHVwX2U0ZTNiNWM1MDM5MjRlMTA4ZDVlYWYzMmEyZWZlOTBhKTsKCiAgICAgICAgICAgIAogICAgICAgIAogICAgCiAgICAgICAgICAgIHZhciBjaXJjbGVfbWFya2VyXzYzNGY4NzRkN2MxZDRlMmM5MjE2ZDM3ODU4ZTc2MzlmID0gTC5jaXJjbGVNYXJrZXIoCiAgICAgICAgICAgICAgICBbMzMuNzgyMzczNjc3Njk0NTgsLTg0LjM1NDc4NjYzNzI4OTQ0XSwKICAgICAgICAgICAgICAgIHsKICAiYnViYmxpbmdNb3VzZUV2ZW50cyI6IHRydWUsCiAgImNvbG9yIjogImJsdWUiLAogICJkYXNoQXJyYXkiOiBudWxsLAogICJkYXNoT2Zmc2V0IjogbnVsbCwKICAiZmlsbCI6IHRydWUsCiAgImZpbGxDb2xvciI6ICJ5ZWxsb3ciLAogICJmaWxsT3BhY2l0eSI6IDAuNiwKICAiZmlsbFJ1bGUiOiAiZXZlbm9kZCIsCiAgImxpbmVDYXAiOiAicm91bmQiLAogICJsaW5lSm9pbiI6ICJyb3VuZCIsCiAgIm9wYWNpdHkiOiAxLjAsCiAgInJhZGl1cyI6IDUsCiAgInN0cm9rZSI6IHRydWUsCiAgIndlaWdodCI6IDMKfQogICAgICAgICAgICAgICAgKS5hZGRUbyhtYXBfMjM3NmZkMmU5ODA0NDQwMWJhNWUwNzRmZTE4OTRkNDUpOwogICAgICAgICAgICAKICAgIAogICAgICAgICAgICB2YXIgcG9wdXBfMGFiNGQ3NTYyODRkNDhkYmE2YmVlNmIyMmJlNWYyYjggPSBMLnBvcHVwKHttYXhXaWR0aDogJzMwMCd9KTsKCiAgICAgICAgICAgIAogICAgICAgICAgICAgICAgdmFyIGh0bWxfMmRlNDhiODgyYzc1NDI5MGEzMmE3MjdlY2NlOTNkNjQgPSAkKCc8ZGl2IGlkPSJodG1sXzJkZTQ4Yjg4MmM3NTQyOTBhMzJhNzI3ZWNjZTkzZDY0IiBzdHlsZT0id2lkdGg6IDEwMC4wJTsgaGVpZ2h0OiAxMDAuMCU7Ij5JdGFsaWFuIFJlc3RhdXJhbnQ8L2Rpdj4nKVswXTsKICAgICAgICAgICAgICAgIHBvcHVwXzBhYjRkNzU2Mjg0ZDQ4ZGJhNmJlZTZiMjJiZTVmMmI4LnNldENvbnRlbnQoaHRtbF8yZGU0OGI4ODJjNzU0MjkwYTMyYTcyN2VjY2U5M2Q2NCk7CiAgICAgICAgICAgIAoKICAgICAgICAgICAgY2lyY2xlX21hcmtlcl82MzRmODc0ZDdjMWQ0ZTJjOTIxNmQzNzg1OGU3NjM5Zi5iaW5kUG9wdXAocG9wdXBfMGFiNGQ3NTYyODRkNDhkYmE2YmVlNmIyMmJlNWYyYjgpOwoKICAgICAgICAgICAgCiAgICAgICAgCiAgICAKICAgICAgICAgICAgdmFyIGNpcmNsZV9tYXJrZXJfYzE0Yzg1ODllNmM5NDkxOWEyMDU5ZTY4YjMwMzlhN2QgPSBMLmNpcmNsZU1hcmtlcigKICAgICAgICAgICAgICAgIFszMy43NjI0OTkyLC04NC4zNTg1ODE1XSwKICAgICAgICAgICAgICAgIHsKICAiYnViYmxpbmdNb3VzZUV2ZW50cyI6IHRydWUsCiAgImNvbG9yIjogImJsdWUiLAogICJkYXNoQXJyYXkiOiBudWxsLAogICJkYXNoT2Zmc2V0IjogbnVsbCwKICAiZmlsbCI6IHRydWUsCiAgImZpbGxDb2xvciI6ICJ5ZWxsb3ciLAogICJmaWxsT3BhY2l0eSI6IDAuNiwKICAiZmlsbFJ1bGUiOiAiZXZlbm9kZCIsCiAgImxpbmVDYXAiOiAicm91bmQiLAogICJsaW5lSm9pbiI6ICJyb3VuZCIsCiAgIm9wYWNpdHkiOiAxLjAsCiAgInJhZGl1cyI6IDUsCiAgInN0cm9rZSI6IHRydWUsCiAgIndlaWdodCI6IDMKfQogICAgICAgICAgICAgICAgKS5hZGRUbyhtYXBfMjM3NmZkMmU5ODA0NDQwMWJhNWUwNzRmZTE4OTRkNDUpOwogICAgICAgICAgICAKICAgIAogICAgICAgICAgICB2YXIgcG9wdXBfNTlkMWY0MjY3NjRkNDk5ZWE4ZmY2MGExODRhYTY2MDYgPSBMLnBvcHVwKHttYXhXaWR0aDogJzMwMCd9KTsKCiAgICAgICAgICAgIAogICAgICAgICAgICAgICAgdmFyIGh0bWxfYjlkYWJkOGIzMTgxNDhmZTg1ZGJmZGNmZDczNjY0YjEgPSAkKCc8ZGl2IGlkPSJodG1sX2I5ZGFiZDhiMzE4MTQ4ZmU4NWRiZmRjZmQ3MzY2NGIxIiBzdHlsZT0id2lkdGg6IDEwMC4wJTsgaGVpZ2h0OiAxMDAuMCU7Ij5NZXhpY2FuIFJlc3RhdXJhbnQ8L2Rpdj4nKVswXTsKICAgICAgICAgICAgICAgIHBvcHVwXzU5ZDFmNDI2NzY0ZDQ5OWVhOGZmNjBhMTg0YWE2NjA2LnNldENvbnRlbnQoaHRtbF9iOWRhYmQ4YjMxODE0OGZlODVkYmZkY2ZkNzM2NjRiMSk7CiAgICAgICAgICAgIAoKICAgICAgICAgICAgY2lyY2xlX21hcmtlcl9jMTRjODU4OWU2Yzk0OTE5YTIwNTllNjhiMzAzOWE3ZC5iaW5kUG9wdXAocG9wdXBfNTlkMWY0MjY3NjRkNDk5ZWE4ZmY2MGExODRhYTY2MDYpOwoKICAgICAgICAgICAgCiAgICAgICAgCiAgICAKICAgICAgICAgICAgdmFyIGNpcmNsZV9tYXJrZXJfNjRjM2JlZGQ5MDdlNDdkYmJjMzNmMDRjNGYxY2E1MzMgPSBMLmNpcmNsZU1hcmtlcigKICAgICAgICAgICAgICAgIFszMy44MjU3MDYxMjM0NzM4NSwtODQuMjg5NDQ4NjczMzMzMjNdLAogICAgICAgICAgICAgICAgewogICJidWJibGluZ01vdXNlRXZlbnRzIjogdHJ1ZSwKICAiY29sb3IiOiAiYmx1ZSIsCiAgImRhc2hBcnJheSI6IG51bGwsCiAgImRhc2hPZmZzZXQiOiBudWxsLAogICJmaWxsIjogdHJ1ZSwKICAiZmlsbENvbG9yIjogInllbGxvdyIsCiAgImZpbGxPcGFjaXR5IjogMC42LAogICJmaWxsUnVsZSI6ICJldmVub2RkIiwKICAibGluZUNhcCI6ICJyb3VuZCIsCiAgImxpbmVKb2luIjogInJvdW5kIiwKICAib3BhY2l0eSI6IDEuMCwKICAicmFkaXVzIjogNSwKICAic3Ryb2tlIjogdHJ1ZSwKICAid2VpZ2h0IjogMwp9CiAgICAgICAgICAgICAgICApLmFkZFRvKG1hcF8yMzc2ZmQyZTk4MDQ0NDAxYmE1ZTA3NGZlMTg5NGQ0NSk7CiAgICAgICAgICAgIAogICAgCiAgICAgICAgICAgIHZhciBwb3B1cF9kMWJhNWEzNjE2YTk0NDBmOGU3NmE3YmY4MGNjYWJmMyA9IEwucG9wdXAoe21heFdpZHRoOiAnMzAwJ30pOwoKICAgICAgICAgICAgCiAgICAgICAgICAgICAgICB2YXIgaHRtbF9hZGUzNmRjYTZhZGI0OTdmODg0NWFiMWQzMmQzYTNhNCA9ICQoJzxkaXYgaWQ9Imh0bWxfYWRlMzZkY2E2YWRiNDk3Zjg4NDVhYjFkMzJkM2EzYTQiIHN0eWxlPSJ3aWR0aDogMTAwLjAlOyBoZWlnaHQ6IDEwMC4wJTsiPkFtZXJpY2FuIFJlc3RhdXJhbnQ8L2Rpdj4nKVswXTsKICAgICAgICAgICAgICAgIHBvcHVwX2QxYmE1YTM2MTZhOTQ0MGY4ZTc2YTdiZjgwY2NhYmYzLnNldENvbnRlbnQoaHRtbF9hZGUzNmRjYTZhZGI0OTdmODg0NWFiMWQzMmQzYTNhNCk7CiAgICAgICAgICAgIAoKICAgICAgICAgICAgY2lyY2xlX21hcmtlcl82NGMzYmVkZDkwN2U0N2RiYmMzM2YwNGM0ZjFjYTUzMy5iaW5kUG9wdXAocG9wdXBfZDFiYTVhMzYxNmE5NDQwZjhlNzZhN2JmODBjY2FiZjMpOwoKICAgICAgICAgICAgCiAgICAgICAgCiAgICAKICAgICAgICAgICAgdmFyIGNpcmNsZV9tYXJrZXJfODUzYjdlYjk1ZGVjNGExNDkwNzA3MzQ4MGM0ZjBlM2YgPSBMLmNpcmNsZU1hcmtlcigKICAgICAgICAgICAgICAgIFszMy43Njg1NjYwMjI2NjgyOTYsLTg0LjM2MTMxNzMxOTk4MjJdLAogICAgICAgICAgICAgICAgewogICJidWJibGluZ01vdXNlRXZlbnRzIjogdHJ1ZSwKICAiY29sb3IiOiAiYmx1ZSIsCiAgImRhc2hBcnJheSI6IG51bGwsCiAgImRhc2hPZmZzZXQiOiBudWxsLAogICJmaWxsIjogdHJ1ZSwKICAiZmlsbENvbG9yIjogInllbGxvdyIsCiAgImZpbGxPcGFjaXR5IjogMC42LAogICJmaWxsUnVsZSI6ICJldmVub2RkIiwKICAibGluZUNhcCI6ICJyb3VuZCIsCiAgImxpbmVKb2luIjogInJvdW5kIiwKICAib3BhY2l0eSI6IDEuMCwKICAicmFkaXVzIjogNSwKICAic3Ryb2tlIjogdHJ1ZSwKICAid2VpZ2h0IjogMwp9CiAgICAgICAgICAgICAgICApLmFkZFRvKG1hcF8yMzc2ZmQyZTk4MDQ0NDAxYmE1ZTA3NGZlMTg5NGQ0NSk7CiAgICAgICAgICAgIAogICAgCiAgICAgICAgICAgIHZhciBwb3B1cF9lMmY2ZjA2OGEwZWE0YThjYjk3ZWJlOGEzZmVmMzE0NCA9IEwucG9wdXAoe21heFdpZHRoOiAnMzAwJ30pOwoKICAgICAgICAgICAgCiAgICAgICAgICAgICAgICB2YXIgaHRtbF81ZTY3NGY3YTFhNTY0ZGFhODI2YmViNTY4MmJkZmY3ZCA9ICQoJzxkaXYgaWQ9Imh0bWxfNWU2NzRmN2ExYTU2NGRhYTgyNmJlYjU2ODJiZGZmN2QiIHN0eWxlPSJ3aWR0aDogMTAwLjAlOyBoZWlnaHQ6IDEwMC4wJTsiPkFtZXJpY2FuIFJlc3RhdXJhbnQ8L2Rpdj4nKVswXTsKICAgICAgICAgICAgICAgIHBvcHVwX2UyZjZmMDY4YTBlYTRhOGNiOTdlYmU4YTNmZWYzMTQ0LnNldENvbnRlbnQoaHRtbF81ZTY3NGY3YTFhNTY0ZGFhODI2YmViNTY4MmJkZmY3ZCk7CiAgICAgICAgICAgIAoKICAgICAgICAgICAgY2lyY2xlX21hcmtlcl84NTNiN2ViOTVkZWM0YTE0OTA3MDczNDgwYzRmMGUzZi5iaW5kUG9wdXAocG9wdXBfZTJmNmYwNjhhMGVhNGE4Y2I5N2ViZThhM2ZlZjMxNDQpOwoKICAgICAgICAgICAgCiAgICAgICAgCiAgICAKICAgICAgICAgICAgdmFyIGNpcmNsZV9tYXJrZXJfODkwMjU2OGM0ZGQwNDk5YWJkZjY1ZjE3YzhiOTgyMzMgPSBMLmNpcmNsZU1hcmtlcigKICAgICAgICAgICAgICAgIFszMy44MTY2NDQ2MjIzNzM2OTQsLTg0LjMzNTU0OTMzOTc0MDg1XSwKICAgICAgICAgICAgICAgIHsKICAiYnViYmxpbmdNb3VzZUV2ZW50cyI6IHRydWUsCiAgImNvbG9yIjogImJsdWUiLAogICJkYXNoQXJyYXkiOiBudWxsLAogICJkYXNoT2Zmc2V0IjogbnVsbCwKICAiZmlsbCI6IHRydWUsCiAgImZpbGxDb2xvciI6ICJ5ZWxsb3ciLAogICJmaWxsT3BhY2l0eSI6IDAuNiwKICAiZmlsbFJ1bGUiOiAiZXZlbm9kZCIsCiAgImxpbmVDYXAiOiAicm91bmQiLAogICJsaW5lSm9pbiI6ICJyb3VuZCIsCiAgIm9wYWNpdHkiOiAxLjAsCiAgInJhZGl1cyI6IDUsCiAgInN0cm9rZSI6IHRydWUsCiAgIndlaWdodCI6IDMKfQogICAgICAgICAgICAgICAgKS5hZGRUbyhtYXBfMjM3NmZkMmU5ODA0NDQwMWJhNWUwNzRmZTE4OTRkNDUpOwogICAgICAgICAgICAKICAgIAogICAgICAgICAgICB2YXIgcG9wdXBfNjE0MGE5MjA0NDZhNDE1NDgxY2Y0NmU1MWQ1MGM1NDMgPSBMLnBvcHVwKHttYXhXaWR0aDogJzMwMCd9KTsKCiAgICAgICAgICAgIAogICAgICAgICAgICAgICAgdmFyIGh0bWxfODA3ZmQ1NmMyODM1NGE1OWJhYWQ3OGM4MzMyN2NhYjcgPSAkKCc8ZGl2IGlkPSJodG1sXzgwN2ZkNTZjMjgzNTRhNTliYWFkNzhjODMzMjdjYWI3IiBzdHlsZT0id2lkdGg6IDEwMC4wJTsgaGVpZ2h0OiAxMDAuMCU7Ij5IYXdhaWlhbiBSZXN0YXVyYW50PC9kaXY+JylbMF07CiAgICAgICAgICAgICAgICBwb3B1cF82MTQwYTkyMDQ0NmE0MTU0ODFjZjQ2ZTUxZDUwYzU0My5zZXRDb250ZW50KGh0bWxfODA3ZmQ1NmMyODM1NGE1OWJhYWQ3OGM4MzMyN2NhYjcpOwogICAgICAgICAgICAKCiAgICAgICAgICAgIGNpcmNsZV9tYXJrZXJfODkwMjU2OGM0ZGQwNDk5YWJkZjY1ZjE3YzhiOTgyMzMuYmluZFBvcHVwKHBvcHVwXzYxNDBhOTIwNDQ2YTQxNTQ4MWNmNDZlNTFkNTBjNTQzKTsKCiAgICAgICAgICAgIAogICAgICAgIAogICAgCiAgICAgICAgICAgIHZhciBjaXJjbGVfbWFya2VyXzhhODI4YTFiZGMzZDQ3YjNiYTRjNWFiM2I5NmM1NjMyID0gTC5jaXJjbGVNYXJrZXIoCiAgICAgICAgICAgICAgICBbMzMuNzczNjI4Nzc0OTEwMjIsLTg0LjM2MTQ4MTQ0MzcyNTJdLAogICAgICAgICAgICAgICAgewogICJidWJibGluZ01vdXNlRXZlbnRzIjogdHJ1ZSwKICAiY29sb3IiOiAiYmx1ZSIsCiAgImRhc2hBcnJheSI6IG51bGwsCiAgImRhc2hPZmZzZXQiOiBudWxsLAogICJmaWxsIjogdHJ1ZSwKICAiZmlsbENvbG9yIjogInllbGxvdyIsCiAgImZpbGxPcGFjaXR5IjogMC42LAogICJmaWxsUnVsZSI6ICJldmVub2RkIiwKICAibGluZUNhcCI6ICJyb3VuZCIsCiAgImxpbmVKb2luIjogInJvdW5kIiwKICAib3BhY2l0eSI6IDEuMCwKICAicmFkaXVzIjogNSwKICAic3Ryb2tlIjogdHJ1ZSwKICAid2VpZ2h0IjogMwp9CiAgICAgICAgICAgICAgICApLmFkZFRvKG1hcF8yMzc2ZmQyZTk4MDQ0NDAxYmE1ZTA3NGZlMTg5NGQ0NSk7CiAgICAgICAgICAgIAogICAgCiAgICAgICAgICAgIHZhciBwb3B1cF9jNTQ5M2FhMzE4N2M0YWI2ODBkOGEzYjA0Njk2YjQ1MSA9IEwucG9wdXAoe21heFdpZHRoOiAnMzAwJ30pOwoKICAgICAgICAgICAgCiAgICAgICAgICAgICAgICB2YXIgaHRtbF8xZjQwYjJmMGU1MTU0YjRiYmEzNDY5ZjYwZGNmNmVjMyA9ICQoJzxkaXYgaWQ9Imh0bWxfMWY0MGIyZjBlNTE1NGI0YmJhMzQ2OWY2MGRjZjZlYzMiIHN0eWxlPSJ3aWR0aDogMTAwLjAlOyBoZWlnaHQ6IDEwMC4wJTsiPkZyZW5jaCBSZXN0YXVyYW50PC9kaXY+JylbMF07CiAgICAgICAgICAgICAgICBwb3B1cF9jNTQ5M2FhMzE4N2M0YWI2ODBkOGEzYjA0Njk2YjQ1MS5zZXRDb250ZW50KGh0bWxfMWY0MGIyZjBlNTE1NGI0YmJhMzQ2OWY2MGRjZjZlYzMpOwogICAgICAgICAgICAKCiAgICAgICAgICAgIGNpcmNsZV9tYXJrZXJfOGE4MjhhMWJkYzNkNDdiM2JhNGM1YWIzYjk2YzU2MzIuYmluZFBvcHVwKHBvcHVwX2M1NDkzYWEzMTg3YzRhYjY4MGQ4YTNiMDQ2OTZiNDUxKTsKCiAgICAgICAgICAgIAogICAgICAgIAogICAgCiAgICAgICAgICAgIHZhciBjaXJjbGVfbWFya2VyXzc0MGU5MGI2OTY4MzQ5MzU4Y2E5OTllOTc1MDQ3OTYwID0gTC5jaXJjbGVNYXJrZXIoCiAgICAgICAgICAgICAgICBbMzMuNzc0MDg2NDU0MDc4MTE2LC04NC4zNjE3NjU1MjM3MDUwOV0sCiAgICAgICAgICAgICAgICB7CiAgImJ1YmJsaW5nTW91c2VFdmVudHMiOiB0cnVlLAogICJjb2xvciI6ICJibHVlIiwKICAiZGFzaEFycmF5IjogbnVsbCwKICAiZGFzaE9mZnNldCI6IG51bGwsCiAgImZpbGwiOiB0cnVlLAogICJmaWxsQ29sb3IiOiAieWVsbG93IiwKICAiZmlsbE9wYWNpdHkiOiAwLjYsCiAgImZpbGxSdWxlIjogImV2ZW5vZGQiLAogICJsaW5lQ2FwIjogInJvdW5kIiwKICAibGluZUpvaW4iOiAicm91bmQiLAogICJvcGFjaXR5IjogMS4wLAogICJyYWRpdXMiOiA1LAogICJzdHJva2UiOiB0cnVlLAogICJ3ZWlnaHQiOiAzCn0KICAgICAgICAgICAgICAgICkuYWRkVG8obWFwXzIzNzZmZDJlOTgwNDQ0MDFiYTVlMDc0ZmUxODk0ZDQ1KTsKICAgICAgICAgICAgCiAgICAKICAgICAgICAgICAgdmFyIHBvcHVwXzdhMGI1NWJiYTE1NDRmOWRhM2ZkNzRjNWEzYjc5ZGNhID0gTC5wb3B1cCh7bWF4V2lkdGg6ICczMDAnfSk7CgogICAgICAgICAgICAKICAgICAgICAgICAgICAgIHZhciBodG1sX2FlYmY5M2ZmZTk2MDQ4YTJiN2ViMWYyMTZkNDBlNTExID0gJCgnPGRpdiBpZD0iaHRtbF9hZWJmOTNmZmU5NjA0OGEyYjdlYjFmMjE2ZDQwZTUxMSIgc3R5bGU9IndpZHRoOiAxMDAuMCU7IGhlaWdodDogMTAwLjAlOyI+RmFzdCBGb29kIFJlc3RhdXJhbnQ8L2Rpdj4nKVswXTsKICAgICAgICAgICAgICAgIHBvcHVwXzdhMGI1NWJiYTE1NDRmOWRhM2ZkNzRjNWEzYjc5ZGNhLnNldENvbnRlbnQoaHRtbF9hZWJmOTNmZmU5NjA0OGEyYjdlYjFmMjE2ZDQwZTUxMSk7CiAgICAgICAgICAgIAoKICAgICAgICAgICAgY2lyY2xlX21hcmtlcl83NDBlOTBiNjk2ODM0OTM1OGNhOTk5ZTk3NTA0Nzk2MC5iaW5kUG9wdXAocG9wdXBfN2EwYjU1YmJhMTU0NGY5ZGEzZmQ3NGM1YTNiNzlkY2EpOwoKICAgICAgICAgICAgCiAgICAgICAgCiAgICAKICAgICAgICAgICAgdmFyIGNpcmNsZV9tYXJrZXJfZjcwOTI3ZWY0NThmNGZhNjlhYTVkOTNmMGVmZWJjZmUgPSBMLmNpcmNsZU1hcmtlcigKICAgICAgICAgICAgICAgIFszMy43NDY3NDY5OTQ3ODIwMSwtODQuMzU1OTQ4MzA1MzcyNzZdLAogICAgICAgICAgICAgICAgewogICJidWJibGluZ01vdXNlRXZlbnRzIjogdHJ1ZSwKICAiY29sb3IiOiAiYmx1ZSIsCiAgImRhc2hBcnJheSI6IG51bGwsCiAgImRhc2hPZmZzZXQiOiBudWxsLAogICJmaWxsIjogdHJ1ZSwKICAiZmlsbENvbG9yIjogInllbGxvdyIsCiAgImZpbGxPcGFjaXR5IjogMC42LAogICJmaWxsUnVsZSI6ICJldmVub2RkIiwKICAibGluZUNhcCI6ICJyb3VuZCIsCiAgImxpbmVKb2luIjogInJvdW5kIiwKICAib3BhY2l0eSI6IDEuMCwKICAicmFkaXVzIjogNSwKICAic3Ryb2tlIjogdHJ1ZSwKICAid2VpZ2h0IjogMwp9CiAgICAgICAgICAgICAgICApLmFkZFRvKG1hcF8yMzc2ZmQyZTk4MDQ0NDAxYmE1ZTA3NGZlMTg5NGQ0NSk7CiAgICAgICAgICAgIAogICAgCiAgICAgICAgICAgIHZhciBwb3B1cF8zMTU0OWIxYTA0YmY0ZDdjOWM0ZWYwNjI2ZjdjM2UyMSA9IEwucG9wdXAoe21heFdpZHRoOiAnMzAwJ30pOwoKICAgICAgICAgICAgCiAgICAgICAgICAgICAgICB2YXIgaHRtbF8xM2E3MWZlNzkwNzk0YTdjODk0YTNmZjJkMzEyODc0MSA9ICQoJzxkaXYgaWQ9Imh0bWxfMTNhNzFmZTc5MDc5NGE3Yzg5NGEzZmYyZDMxMjg3NDEiIHN0eWxlPSJ3aWR0aDogMTAwLjAlOyBoZWlnaHQ6IDEwMC4wJTsiPlNvdXRoZXJuIC8gU291bCBGb29kIFJlc3RhdXJhbnQ8L2Rpdj4nKVswXTsKICAgICAgICAgICAgICAgIHBvcHVwXzMxNTQ5YjFhMDRiZjRkN2M5YzRlZjA2MjZmN2MzZTIxLnNldENvbnRlbnQoaHRtbF8xM2E3MWZlNzkwNzk0YTdjODk0YTNmZjJkMzEyODc0MSk7CiAgICAgICAgICAgIAoKICAgICAgICAgICAgY2lyY2xlX21hcmtlcl9mNzA5MjdlZjQ1OGY0ZmE2OWFhNWQ5M2YwZWZlYmNmZS5iaW5kUG9wdXAocG9wdXBfMzE1NDliMWEwNGJmNGQ3YzljNGVmMDYyNmY3YzNlMjEpOwoKICAgICAgICAgICAgCiAgICAgICAgCiAgICAKICAgICAgICAgICAgdmFyIGNpcmNsZV9tYXJrZXJfYzJmOWJlZDMyNGYwNDJhZWIxMmEwYWMxMThkZDZiNzEgPSBMLmNpcmNsZU1hcmtlcigKICAgICAgICAgICAgICAgIFszMy43NTk2ODQ3MzUzMjc0NCwtODQuMzY0MTcyNDIwMDMwNjddLAogICAgICAgICAgICAgICAgewogICJidWJibGluZ01vdXNlRXZlbnRzIjogdHJ1ZSwKICAiY29sb3IiOiAiYmx1ZSIsCiAgImRhc2hBcnJheSI6IG51bGwsCiAgImRhc2hPZmZzZXQiOiBudWxsLAogICJmaWxsIjogdHJ1ZSwKICAiZmlsbENvbG9yIjogInllbGxvdyIsCiAgImZpbGxPcGFjaXR5IjogMC42LAogICJmaWxsUnVsZSI6ICJldmVub2RkIiwKICAibGluZUNhcCI6ICJyb3VuZCIsCiAgImxpbmVKb2luIjogInJvdW5kIiwKICAib3BhY2l0eSI6IDEuMCwKICAicmFkaXVzIjogNSwKICAic3Ryb2tlIjogdHJ1ZSwKICAid2VpZ2h0IjogMwp9CiAgICAgICAgICAgICAgICApLmFkZFRvKG1hcF8yMzc2ZmQyZTk4MDQ0NDAxYmE1ZTA3NGZlMTg5NGQ0NSk7CiAgICAgICAgICAgIAogICAgCiAgICAgICAgICAgIHZhciBwb3B1cF9hYmVhNzliZDc5ZTk0ZDJkOGMyNDYwY2U0NTJhN2RlMSA9IEwucG9wdXAoe21heFdpZHRoOiAnMzAwJ30pOwoKICAgICAgICAgICAgCiAgICAgICAgICAgICAgICB2YXIgaHRtbF84ZjdkZjQ2ZGNhMDg0M2I2ODIxNjBiMDEyZGM5YWZiOSA9ICQoJzxkaXYgaWQ9Imh0bWxfOGY3ZGY0NmRjYTA4NDNiNjgyMTYwYjAxMmRjOWFmYjkiIHN0eWxlPSJ3aWR0aDogMTAwLjAlOyBoZWlnaHQ6IDEwMC4wJTsiPkFtZXJpY2FuIFJlc3RhdXJhbnQ8L2Rpdj4nKVswXTsKICAgICAgICAgICAgICAgIHBvcHVwX2FiZWE3OWJkNzllOTRkMmQ4YzI0NjBjZTQ1MmE3ZGUxLnNldENvbnRlbnQoaHRtbF84ZjdkZjQ2ZGNhMDg0M2I2ODIxNjBiMDEyZGM5YWZiOSk7CiAgICAgICAgICAgIAoKICAgICAgICAgICAgY2lyY2xlX21hcmtlcl9jMmY5YmVkMzI0ZjA0MmFlYjEyYTBhYzExOGRkNmI3MS5iaW5kUG9wdXAocG9wdXBfYWJlYTc5YmQ3OWU5NGQyZDhjMjQ2MGNlNDUyYTdkZTEpOwoKICAgICAgICAgICAgCiAgICAgICAgCiAgICAKICAgICAgICAgICAgdmFyIGNpcmNsZV9tYXJrZXJfYjljNTdjZTMwNDE0NGQwZDkxNGQ3NTI2YzUyZDQ3MTQgPSBMLmNpcmNsZU1hcmtlcigKICAgICAgICAgICAgICAgIFszMy43NTcwMDI4MjQ0NjUzNzQsLTg0LjM2NDI5OTE0NDk3NDc1XSwKICAgICAgICAgICAgICAgIHsKICAiYnViYmxpbmdNb3VzZUV2ZW50cyI6IHRydWUsCiAgImNvbG9yIjogImJsdWUiLAogICJkYXNoQXJyYXkiOiBudWxsLAogICJkYXNoT2Zmc2V0IjogbnVsbCwKICAiZmlsbCI6IHRydWUsCiAgImZpbGxDb2xvciI6ICJ5ZWxsb3ciLAogICJmaWxsT3BhY2l0eSI6IDAuNiwKICAiZmlsbFJ1bGUiOiAiZXZlbm9kZCIsCiAgImxpbmVDYXAiOiAicm91bmQiLAogICJsaW5lSm9pbiI6ICJyb3VuZCIsCiAgIm9wYWNpdHkiOiAxLjAsCiAgInJhZGl1cyI6IDUsCiAgInN0cm9rZSI6IHRydWUsCiAgIndlaWdodCI6IDMKfQogICAgICAgICAgICAgICAgKS5hZGRUbyhtYXBfMjM3NmZkMmU5ODA0NDQwMWJhNWUwNzRmZTE4OTRkNDUpOwogICAgICAgICAgICAKICAgIAogICAgICAgICAgICB2YXIgcG9wdXBfMzc3N2I0Y2VmYjA0NDZiOWI1Nzg0YjBjMzNhOWYwYzMgPSBMLnBvcHVwKHttYXhXaWR0aDogJzMwMCd9KTsKCiAgICAgICAgICAgIAogICAgICAgICAgICAgICAgdmFyIGh0bWxfY2E5Y2FmN2Y4MTI4NGE2ODgyNmNhYTQ3YTY4OWFmZTkgPSAkKCc8ZGl2IGlkPSJodG1sX2NhOWNhZjdmODEyODRhNjg4MjZjYWE0N2E2ODlhZmU5IiBzdHlsZT0id2lkdGg6IDEwMC4wJTsgaGVpZ2h0OiAxMDAuMCU7Ij5NZXhpY2FuIFJlc3RhdXJhbnQ8L2Rpdj4nKVswXTsKICAgICAgICAgICAgICAgIHBvcHVwXzM3NzdiNGNlZmIwNDQ2YjliNTc4NGIwYzMzYTlmMGMzLnNldENvbnRlbnQoaHRtbF9jYTljYWY3ZjgxMjg0YTY4ODI2Y2FhNDdhNjg5YWZlOSk7CiAgICAgICAgICAgIAoKICAgICAgICAgICAgY2lyY2xlX21hcmtlcl9iOWM1N2NlMzA0MTQ0ZDBkOTE0ZDc1MjZjNTJkNDcxNC5iaW5kUG9wdXAocG9wdXBfMzc3N2I0Y2VmYjA0NDZiOWI1Nzg0YjBjMzNhOWYwYzMpOwoKICAgICAgICAgICAgCiAgICAgICAgCiAgICAKICAgICAgICAgICAgdmFyIGNpcmNsZV9tYXJrZXJfYWY2ZWFiMTZlYmUxNGQ2Yjg3ZDNhMWU4OWQwYjMyYjMgPSBMLmNpcmNsZU1hcmtlcigKICAgICAgICAgICAgICAgIFszMy43NDA2NzQ4ODY2OTQ5NCwtODQuMzU4MDg5MTgzMzA1ODVdLAogICAgICAgICAgICAgICAgewogICJidWJibGluZ01vdXNlRXZlbnRzIjogdHJ1ZSwKICAiY29sb3IiOiAiYmx1ZSIsCiAgImRhc2hBcnJheSI6IG51bGwsCiAgImRhc2hPZmZzZXQiOiBudWxsLAogICJmaWxsIjogdHJ1ZSwKICAiZmlsbENvbG9yIjogInllbGxvdyIsCiAgImZpbGxPcGFjaXR5IjogMC42LAogICJmaWxsUnVsZSI6ICJldmVub2RkIiwKICAibGluZUNhcCI6ICJyb3VuZCIsCiAgImxpbmVKb2luIjogInJvdW5kIiwKICAib3BhY2l0eSI6IDEuMCwKICAicmFkaXVzIjogNSwKICAic3Ryb2tlIjogdHJ1ZSwKICAid2VpZ2h0IjogMwp9CiAgICAgICAgICAgICAgICApLmFkZFRvKG1hcF8yMzc2ZmQyZTk4MDQ0NDAxYmE1ZTA3NGZlMTg5NGQ0NSk7CiAgICAgICAgICAgIAogICAgCiAgICAgICAgICAgIHZhciBwb3B1cF8zZjZjY2I0N2Y2MDk0NzkzOTA3YzFhMDVkYzg2YjYxNyA9IEwucG9wdXAoe21heFdpZHRoOiAnMzAwJ30pOwoKICAgICAgICAgICAgCiAgICAgICAgICAgICAgICB2YXIgaHRtbF82ZTQ2NmRlMTMxZjc0ZjhhYjdjODNmMmFmODVmMDRkZiA9ICQoJzxkaXYgaWQ9Imh0bWxfNmU0NjZkZTEzMWY3NGY4YWI3YzgzZjJhZjg1ZjA0ZGYiIHN0eWxlPSJ3aWR0aDogMTAwLjAlOyBoZWlnaHQ6IDEwMC4wJTsiPlJlc3RhdXJhbnQ8L2Rpdj4nKVswXTsKICAgICAgICAgICAgICAgIHBvcHVwXzNmNmNjYjQ3ZjYwOTQ3OTM5MDdjMWEwNWRjODZiNjE3LnNldENvbnRlbnQoaHRtbF82ZTQ2NmRlMTMxZjc0ZjhhYjdjODNmMmFmODVmMDRkZik7CiAgICAgICAgICAgIAoKICAgICAgICAgICAgY2lyY2xlX21hcmtlcl9hZjZlYWIxNmViZTE0ZDZiODdkM2ExZTg5ZDBiMzJiMy5iaW5kUG9wdXAocG9wdXBfM2Y2Y2NiNDdmNjA5NDc5MzkwN2MxYTA1ZGM4NmI2MTcpOwoKICAgICAgICAgICAgCiAgICAgICAgCiAgICAKICAgICAgICAgICAgdmFyIGNpcmNsZV9tYXJrZXJfNGY2ZjQwM2U3YmZkNGU0MWEyNWUyN2QyNDQ5OGIwNjYgPSBMLmNpcmNsZU1hcmtlcigKICAgICAgICAgICAgICAgIFszMy44Mzc4MTA5MzcxODUyNiwtODQuMzEwMzE5MTEyOTMzN10sCiAgICAgICAgICAgICAgICB7CiAgImJ1YmJsaW5nTW91c2VFdmVudHMiOiB0cnVlLAogICJjb2xvciI6ICJibHVlIiwKICAiZGFzaEFycmF5IjogbnVsbCwKICAiZGFzaE9mZnNldCI6IG51bGwsCiAgImZpbGwiOiB0cnVlLAogICJmaWxsQ29sb3IiOiAieWVsbG93IiwKICAiZmlsbE9wYWNpdHkiOiAwLjYsCiAgImZpbGxSdWxlIjogImV2ZW5vZGQiLAogICJsaW5lQ2FwIjogInJvdW5kIiwKICAibGluZUpvaW4iOiAicm91bmQiLAogICJvcGFjaXR5IjogMS4wLAogICJyYWRpdXMiOiA1LAogICJzdHJva2UiOiB0cnVlLAogICJ3ZWlnaHQiOiAzCn0KICAgICAgICAgICAgICAgICkuYWRkVG8obWFwXzIzNzZmZDJlOTgwNDQ0MDFiYTVlMDc0ZmUxODk0ZDQ1KTsKICAgICAgICAgICAgCiAgICAKICAgICAgICAgICAgdmFyIHBvcHVwXzgwNTA0NzRmZGIxNTRhODY4ZjU3OWNiMmU3ZDU2NWVhID0gTC5wb3B1cCh7bWF4V2lkdGg6ICczMDAnfSk7CgogICAgICAgICAgICAKICAgICAgICAgICAgICAgIHZhciBodG1sX2I1ZmZlN2JmOGIwODRmOTZiZDA2NDQ1NThmNzQzNDU2ID0gJCgnPGRpdiBpZD0iaHRtbF9iNWZmZTdiZjhiMDg0Zjk2YmQwNjQ0NTU4Zjc0MzQ1NiIgc3R5bGU9IndpZHRoOiAxMDAuMCU7IGhlaWdodDogMTAwLjAlOyI+RXRoaW9waWFuIFJlc3RhdXJhbnQ8L2Rpdj4nKVswXTsKICAgICAgICAgICAgICAgIHBvcHVwXzgwNTA0NzRmZGIxNTRhODY4ZjU3OWNiMmU3ZDU2NWVhLnNldENvbnRlbnQoaHRtbF9iNWZmZTdiZjhiMDg0Zjk2YmQwNjQ0NTU4Zjc0MzQ1Nik7CiAgICAgICAgICAgIAoKICAgICAgICAgICAgY2lyY2xlX21hcmtlcl80ZjZmNDAzZTdiZmQ0ZTQxYTI1ZTI3ZDI0NDk4YjA2Ni5iaW5kUG9wdXAocG9wdXBfODA1MDQ3NGZkYjE1NGE4NjhmNTc5Y2IyZTdkNTY1ZWEpOwoKICAgICAgICAgICAgCiAgICAgICAgCjwvc2NyaXB0Pg==\" style=\"position:absolute;width:100%;height:100%;left:0;top:0;border:none !important;\" allowfullscreen webkitallowfullscreen mozallowfullscreen></iframe></div></div>"
      ],
      "text/plain": [
       "<folium.folium.Map at 0x7f09d10a1a58>"
      ]
     },
     "execution_count": 13,
     "metadata": {},
     "output_type": "execute_result"
    }
   ],
   "source": [
    "decatur_map = folium.Map(location=[decatur['lat'], decatur['lng']], zoom_start=13)\n",
    "\n",
    "# Add restaurants to the map\n",
    "for lat, lng, label in zip(df_dec_rest.lat, df_dec_rest.lng, df_dec_rest.categories):\n",
    "    folium.features.CircleMarker(\n",
    "        [lat, lng],\n",
    "        radius=5,\n",
    "        popup=label,\n",
    "        fill=True,\n",
    "        color='blue',\n",
    "        fill_color='yellow',\n",
    "        fill_opacity=0.6\n",
    "        ).add_to(decatur_map)\n",
    "\n",
    "# display map\n",
    "decatur_map"
   ]
  },
  {
   "cell_type": "markdown",
   "metadata": {},
   "source": [
    "**Kennesaw Data Collection**"
   ]
  },
  {
   "cell_type": "code",
   "execution_count": 16,
   "metadata": {},
   "outputs": [
    {
     "data": {
      "text/plain": [
       "'There are 100 venues within 10 miles of Kennesaw center.'"
      ]
     },
     "execution_count": 16,
     "metadata": {},
     "output_type": "execute_result"
    }
   ],
   "source": [
    "kennesaw = {'lat':34.023, 'lng':-84.615}\n",
    "\n",
    "# Atlanta URL to perform venew search\n",
    "url_kennesaw = 'https://api.foursquare.com/v2/venues/explore?client_id={}&client_secret={}&ll={},{}&v={}&radius={}&limit={}'.format(CLIENT_ID, CLIENT_SECRET, kennesaw['lat'], kennesaw['lng'], VERSION, RADIUS, LIMIT)\n",
    "results_kennesaw = requests.get(url_kennesaw).json()\n",
    "\n",
    "\n",
    "# Collecting venue items into a DataFrame\n",
    "items_kennesaw = results_kennesaw['response']['groups'][0]['items']\n",
    "df_kennesaw = json_to_dataframe(items_kennesaw)\n",
    "\n",
    "'There are {} venues within 10 miles of Kennesaw center.'.format(len(results_kennesaw['response']['groups'][0]['items']))"
   ]
  },
  {
   "cell_type": "code",
   "execution_count": 17,
   "metadata": {},
   "outputs": [
    {
     "data": {
      "text/html": [
       "<div>\n",
       "<style scoped>\n",
       "    .dataframe tbody tr th:only-of-type {\n",
       "        vertical-align: middle;\n",
       "    }\n",
       "\n",
       "    .dataframe tbody tr th {\n",
       "        vertical-align: top;\n",
       "    }\n",
       "\n",
       "    .dataframe thead th {\n",
       "        text-align: right;\n",
       "    }\n",
       "</style>\n",
       "<table border=\"1\" class=\"dataframe\">\n",
       "  <thead>\n",
       "    <tr style=\"text-align: right;\">\n",
       "      <th></th>\n",
       "      <th>name</th>\n",
       "      <th>categories</th>\n",
       "      <th>address</th>\n",
       "      <th>cc</th>\n",
       "      <th>city</th>\n",
       "      <th>country</th>\n",
       "      <th>crossStreet</th>\n",
       "      <th>distance</th>\n",
       "      <th>formattedAddress</th>\n",
       "      <th>labeledLatLngs</th>\n",
       "      <th>lat</th>\n",
       "      <th>lng</th>\n",
       "      <th>postalCode</th>\n",
       "      <th>state</th>\n",
       "      <th>id</th>\n",
       "    </tr>\n",
       "  </thead>\n",
       "  <tbody>\n",
       "    <tr>\n",
       "      <th>13</th>\n",
       "      <td>Capers</td>\n",
       "      <td>American Restaurant</td>\n",
       "      <td>1659-1705 Old U.S. 41 NW</td>\n",
       "      <td>US</td>\n",
       "      <td>Acworth-Kennesaw</td>\n",
       "      <td>United States</td>\n",
       "      <td>NaN</td>\n",
       "      <td>3555</td>\n",
       "      <td>[1659-1705 Old U.S. 41 NW, Acworth-Kennesaw, G...</td>\n",
       "      <td>[{'label': 'display', 'lat': 33.99405415284648...</td>\n",
       "      <td>33.994054</td>\n",
       "      <td>-84.598705</td>\n",
       "      <td>30152</td>\n",
       "      <td>GA</td>\n",
       "      <td>4b857420f964a520f75e31e3</td>\n",
       "    </tr>\n",
       "    <tr>\n",
       "      <th>17</th>\n",
       "      <td>Carrabba's Italian Grill</td>\n",
       "      <td>Italian Restaurant</td>\n",
       "      <td>1160 Ernest W Barrett Pkwy NW</td>\n",
       "      <td>US</td>\n",
       "      <td>Kennesaw</td>\n",
       "      <td>United States</td>\n",
       "      <td>NaN</td>\n",
       "      <td>3785</td>\n",
       "      <td>[1160 Ernest W Barrett Pkwy NW, Kennesaw, GA 3...</td>\n",
       "      <td>[{'label': 'display', 'lat': 34.00108100441834...</td>\n",
       "      <td>34.001081</td>\n",
       "      <td>-84.583639</td>\n",
       "      <td>30144</td>\n",
       "      <td>GA</td>\n",
       "      <td>4b2abebdf964a520bcae24e3</td>\n",
       "    </tr>\n",
       "    <tr>\n",
       "      <th>18</th>\n",
       "      <td>Marlow's Tavern</td>\n",
       "      <td>New American Restaurant</td>\n",
       "      <td>745 Chastain Road NW, Suite 1160</td>\n",
       "      <td>US</td>\n",
       "      <td>Kennesaw</td>\n",
       "      <td>United States</td>\n",
       "      <td>at George Busbee Pkwy</td>\n",
       "      <td>4274</td>\n",
       "      <td>[745 Chastain Road NW, Suite 1160 (at George B...</td>\n",
       "      <td>[{'label': 'display', 'lat': 34.0348057, 'lng'...</td>\n",
       "      <td>34.034806</td>\n",
       "      <td>-84.570914</td>\n",
       "      <td>30144</td>\n",
       "      <td>GA</td>\n",
       "      <td>4a7cbf12f964a52073ed1fe3</td>\n",
       "    </tr>\n",
       "    <tr>\n",
       "      <th>21</th>\n",
       "      <td>Chick-fil-A</td>\n",
       "      <td>Fast Food Restaurant</td>\n",
       "      <td>830 Ernest W Barrett Pkwy Nw</td>\n",
       "      <td>US</td>\n",
       "      <td>Kennesaw</td>\n",
       "      <td>United States</td>\n",
       "      <td>NaN</td>\n",
       "      <td>4182</td>\n",
       "      <td>[830 Ernest W Barrett Pkwy Nw, Kennesaw, GA 30...</td>\n",
       "      <td>[{'label': 'display', 'lat': 34.0070494, 'lng'...</td>\n",
       "      <td>34.007049</td>\n",
       "      <td>-84.573964</td>\n",
       "      <td>30144</td>\n",
       "      <td>GA</td>\n",
       "      <td>4b4bd76af964a52049a926e3</td>\n",
       "    </tr>\n",
       "    <tr>\n",
       "      <th>24</th>\n",
       "      <td>Copeland's of New Orleans</td>\n",
       "      <td>Cajun / Creole Restaurant</td>\n",
       "      <td>1142 Ernest W Barrett Pkwy NW</td>\n",
       "      <td>US</td>\n",
       "      <td>Kennesaw</td>\n",
       "      <td>United States</td>\n",
       "      <td>at Roberts Blvd NW</td>\n",
       "      <td>3811</td>\n",
       "      <td>[1142 Ernest W Barrett Pkwy NW (at Roberts Blv...</td>\n",
       "      <td>[{'label': 'display', 'lat': 34.00161679569724...</td>\n",
       "      <td>34.001617</td>\n",
       "      <td>-84.582746</td>\n",
       "      <td>30144</td>\n",
       "      <td>GA</td>\n",
       "      <td>4ab0469ff964a520ca6620e3</td>\n",
       "    </tr>\n",
       "  </tbody>\n",
       "</table>\n",
       "</div>"
      ],
      "text/plain": [
       "                         name                 categories  \\\n",
       "13                     Capers        American Restaurant   \n",
       "17   Carrabba's Italian Grill         Italian Restaurant   \n",
       "18            Marlow's Tavern    New American Restaurant   \n",
       "21                Chick-fil-A       Fast Food Restaurant   \n",
       "24  Copeland's of New Orleans  Cajun / Creole Restaurant   \n",
       "\n",
       "                             address  cc              city        country  \\\n",
       "13          1659-1705 Old U.S. 41 NW  US  Acworth-Kennesaw  United States   \n",
       "17     1160 Ernest W Barrett Pkwy NW  US          Kennesaw  United States   \n",
       "18  745 Chastain Road NW, Suite 1160  US          Kennesaw  United States   \n",
       "21      830 Ernest W Barrett Pkwy Nw  US          Kennesaw  United States   \n",
       "24     1142 Ernest W Barrett Pkwy NW  US          Kennesaw  United States   \n",
       "\n",
       "              crossStreet  distance  \\\n",
       "13                    NaN      3555   \n",
       "17                    NaN      3785   \n",
       "18  at George Busbee Pkwy      4274   \n",
       "21                    NaN      4182   \n",
       "24     at Roberts Blvd NW      3811   \n",
       "\n",
       "                                     formattedAddress  \\\n",
       "13  [1659-1705 Old U.S. 41 NW, Acworth-Kennesaw, G...   \n",
       "17  [1160 Ernest W Barrett Pkwy NW, Kennesaw, GA 3...   \n",
       "18  [745 Chastain Road NW, Suite 1160 (at George B...   \n",
       "21  [830 Ernest W Barrett Pkwy Nw, Kennesaw, GA 30...   \n",
       "24  [1142 Ernest W Barrett Pkwy NW (at Roberts Blv...   \n",
       "\n",
       "                                       labeledLatLngs        lat        lng  \\\n",
       "13  [{'label': 'display', 'lat': 33.99405415284648...  33.994054 -84.598705   \n",
       "17  [{'label': 'display', 'lat': 34.00108100441834...  34.001081 -84.583639   \n",
       "18  [{'label': 'display', 'lat': 34.0348057, 'lng'...  34.034806 -84.570914   \n",
       "21  [{'label': 'display', 'lat': 34.0070494, 'lng'...  34.007049 -84.573964   \n",
       "24  [{'label': 'display', 'lat': 34.00161679569724...  34.001617 -84.582746   \n",
       "\n",
       "   postalCode state                        id  \n",
       "13      30152    GA  4b857420f964a520f75e31e3  \n",
       "17      30144    GA  4b2abebdf964a520bcae24e3  \n",
       "18      30144    GA  4a7cbf12f964a52073ed1fe3  \n",
       "21      30144    GA  4b4bd76af964a52049a926e3  \n",
       "24      30144    GA  4ab0469ff964a520ca6620e3  "
      ]
     },
     "execution_count": 17,
     "metadata": {},
     "output_type": "execute_result"
    }
   ],
   "source": [
    "# Collecting restaurants in our Dataframe\n",
    "df_ken_rest = df_kennesaw[df_kennesaw[\"categories\"].str.contains('Restaurant')]\n",
    "df_ken_rest.head()"
   ]
  },
  {
   "cell_type": "code",
   "execution_count": 18,
   "metadata": {},
   "outputs": [
    {
     "data": {
      "text/plain": [
       "28"
      ]
     },
     "execution_count": 18,
     "metadata": {},
     "output_type": "execute_result"
    }
   ],
   "source": [
    "# Amount of restaurants found within 10 miles of Atlanta center.\n",
    "df_ken_rest[\"categories\"].count()"
   ]
  },
  {
   "cell_type": "code",
   "execution_count": 23,
   "metadata": {},
   "outputs": [
    {
     "data": {
      "text/plain": [
       "0"
      ]
     },
     "execution_count": 23,
     "metadata": {},
     "output_type": "execute_result"
    }
   ],
   "source": [
    "# Amount of restaurants with the word Dominican in their name found within 10 miles of Atlanta center.\n",
    "df_ken_rest[\"categories\"][df_ken_rest[\"categories\"].str.contains('Dominican|Dominicano')].count()"
   ]
  },
  {
   "cell_type": "code",
   "execution_count": 27,
   "metadata": {},
   "outputs": [
    {
     "data": {
      "text/html": [
       "<div style=\"width:100%;\"><div style=\"position:relative;width:100%;height:0;padding-bottom:60%;\"><iframe src=\"data:text/html;charset=utf-8;base64,PCFET0NUWVBFIGh0bWw+CjxoZWFkPiAgICAKICAgIDxtZXRhIGh0dHAtZXF1aXY9ImNvbnRlbnQtdHlwZSIgY29udGVudD0idGV4dC9odG1sOyBjaGFyc2V0PVVURi04IiAvPgogICAgPHNjcmlwdD5MX1BSRUZFUl9DQU5WQVMgPSBmYWxzZTsgTF9OT19UT1VDSCA9IGZhbHNlOyBMX0RJU0FCTEVfM0QgPSBmYWxzZTs8L3NjcmlwdD4KICAgIDxzY3JpcHQgc3JjPSJodHRwczovL2Nkbi5qc2RlbGl2ci5uZXQvbnBtL2xlYWZsZXRAMS4yLjAvZGlzdC9sZWFmbGV0LmpzIj48L3NjcmlwdD4KICAgIDxzY3JpcHQgc3JjPSJodHRwczovL2FqYXguZ29vZ2xlYXBpcy5jb20vYWpheC9saWJzL2pxdWVyeS8xLjExLjEvanF1ZXJ5Lm1pbi5qcyI+PC9zY3JpcHQ+CiAgICA8c2NyaXB0IHNyYz0iaHR0cHM6Ly9tYXhjZG4uYm9vdHN0cmFwY2RuLmNvbS9ib290c3RyYXAvMy4yLjAvanMvYm9vdHN0cmFwLm1pbi5qcyI+PC9zY3JpcHQ+CiAgICA8c2NyaXB0IHNyYz0iaHR0cHM6Ly9jZG5qcy5jbG91ZGZsYXJlLmNvbS9hamF4L2xpYnMvTGVhZmxldC5hd2Vzb21lLW1hcmtlcnMvMi4wLjIvbGVhZmxldC5hd2Vzb21lLW1hcmtlcnMuanMiPjwvc2NyaXB0PgogICAgPGxpbmsgcmVsPSJzdHlsZXNoZWV0IiBocmVmPSJodHRwczovL2Nkbi5qc2RlbGl2ci5uZXQvbnBtL2xlYWZsZXRAMS4yLjAvZGlzdC9sZWFmbGV0LmNzcyIvPgogICAgPGxpbmsgcmVsPSJzdHlsZXNoZWV0IiBocmVmPSJodHRwczovL21heGNkbi5ib290c3RyYXBjZG4uY29tL2Jvb3RzdHJhcC8zLjIuMC9jc3MvYm9vdHN0cmFwLm1pbi5jc3MiLz4KICAgIDxsaW5rIHJlbD0ic3R5bGVzaGVldCIgaHJlZj0iaHR0cHM6Ly9tYXhjZG4uYm9vdHN0cmFwY2RuLmNvbS9ib290c3RyYXAvMy4yLjAvY3NzL2Jvb3RzdHJhcC10aGVtZS5taW4uY3NzIi8+CiAgICA8bGluayByZWw9InN0eWxlc2hlZXQiIGhyZWY9Imh0dHBzOi8vbWF4Y2RuLmJvb3RzdHJhcGNkbi5jb20vZm9udC1hd2Vzb21lLzQuNi4zL2Nzcy9mb250LWF3ZXNvbWUubWluLmNzcyIvPgogICAgPGxpbmsgcmVsPSJzdHlsZXNoZWV0IiBocmVmPSJodHRwczovL2NkbmpzLmNsb3VkZmxhcmUuY29tL2FqYXgvbGlicy9MZWFmbGV0LmF3ZXNvbWUtbWFya2Vycy8yLjAuMi9sZWFmbGV0LmF3ZXNvbWUtbWFya2Vycy5jc3MiLz4KICAgIDxsaW5rIHJlbD0ic3R5bGVzaGVldCIgaHJlZj0iaHR0cHM6Ly9yYXdnaXQuY29tL3B5dGhvbi12aXN1YWxpemF0aW9uL2ZvbGl1bS9tYXN0ZXIvZm9saXVtL3RlbXBsYXRlcy9sZWFmbGV0LmF3ZXNvbWUucm90YXRlLmNzcyIvPgogICAgPHN0eWxlPmh0bWwsIGJvZHkge3dpZHRoOiAxMDAlO2hlaWdodDogMTAwJTttYXJnaW46IDA7cGFkZGluZzogMDt9PC9zdHlsZT4KICAgIDxzdHlsZT4jbWFwIHtwb3NpdGlvbjphYnNvbHV0ZTt0b3A6MDtib3R0b206MDtyaWdodDowO2xlZnQ6MDt9PC9zdHlsZT4KICAgIAogICAgICAgICAgICA8c3R5bGU+ICNtYXBfYmIzZTY5NmVhYzZiNDg5OWE0MjAyZmU5NTk1ZjUwNDEgewogICAgICAgICAgICAgICAgcG9zaXRpb24gOiByZWxhdGl2ZTsKICAgICAgICAgICAgICAgIHdpZHRoIDogMTAwLjAlOwogICAgICAgICAgICAgICAgaGVpZ2h0OiAxMDAuMCU7CiAgICAgICAgICAgICAgICBsZWZ0OiAwLjAlOwogICAgICAgICAgICAgICAgdG9wOiAwLjAlOwogICAgICAgICAgICAgICAgfQogICAgICAgICAgICA8L3N0eWxlPgogICAgICAgIAo8L2hlYWQ+Cjxib2R5PiAgICAKICAgIAogICAgICAgICAgICA8ZGl2IGNsYXNzPSJmb2xpdW0tbWFwIiBpZD0ibWFwX2JiM2U2OTZlYWM2YjQ4OTlhNDIwMmZlOTU5NWY1MDQxIiA+PC9kaXY+CiAgICAgICAgCjwvYm9keT4KPHNjcmlwdD4gICAgCiAgICAKCiAgICAgICAgICAgIAogICAgICAgICAgICAgICAgdmFyIGJvdW5kcyA9IG51bGw7CiAgICAgICAgICAgIAoKICAgICAgICAgICAgdmFyIG1hcF9iYjNlNjk2ZWFjNmI0ODk5YTQyMDJmZTk1OTVmNTA0MSA9IEwubWFwKAogICAgICAgICAgICAgICAgICAgICAgICAgICAgICAgICAgJ21hcF9iYjNlNjk2ZWFjNmI0ODk5YTQyMDJmZTk1OTVmNTA0MScsCiAgICAgICAgICAgICAgICAgICAgICAgICAgICAgICAgICB7Y2VudGVyOiBbMzQuMDIzLC04NC42MTVdLAogICAgICAgICAgICAgICAgICAgICAgICAgICAgICAgICAgem9vbTogMTMsCiAgICAgICAgICAgICAgICAgICAgICAgICAgICAgICAgICBtYXhCb3VuZHM6IGJvdW5kcywKICAgICAgICAgICAgICAgICAgICAgICAgICAgICAgICAgIGxheWVyczogW10sCiAgICAgICAgICAgICAgICAgICAgICAgICAgICAgICAgICB3b3JsZENvcHlKdW1wOiBmYWxzZSwKICAgICAgICAgICAgICAgICAgICAgICAgICAgICAgICAgIGNyczogTC5DUlMuRVBTRzM4NTcKICAgICAgICAgICAgICAgICAgICAgICAgICAgICAgICAgfSk7CiAgICAgICAgICAgIAogICAgICAgIAogICAgCiAgICAgICAgICAgIHZhciB0aWxlX2xheWVyX2U0YWQzNTk1YzcyMjRiYTY5YjMxMWM2MDk3YWRlOTU0ID0gTC50aWxlTGF5ZXIoCiAgICAgICAgICAgICAgICAnaHR0cHM6Ly97c30udGlsZS5vcGVuc3RyZWV0bWFwLm9yZy97en0ve3h9L3t5fS5wbmcnLAogICAgICAgICAgICAgICAgewogICJhdHRyaWJ1dGlvbiI6IG51bGwsCiAgImRldGVjdFJldGluYSI6IGZhbHNlLAogICJtYXhab29tIjogMTgsCiAgIm1pblpvb20iOiAxLAogICJub1dyYXAiOiBmYWxzZSwKICAic3ViZG9tYWlucyI6ICJhYmMiCn0KICAgICAgICAgICAgICAgICkuYWRkVG8obWFwX2JiM2U2OTZlYWM2YjQ4OTlhNDIwMmZlOTU5NWY1MDQxKTsKICAgICAgICAKICAgIAogICAgICAgICAgICB2YXIgY2lyY2xlX21hcmtlcl9lMTRkZTRhYmZlZGE0YjU1YmVkZjA0MjdkZWI4MzZiYyA9IEwuY2lyY2xlTWFya2VyKAogICAgICAgICAgICAgICAgWzMzLjk5NDA1NDE1Mjg0NjQ4LC04NC41OTg3MDQ2MTEwMjI3NV0sCiAgICAgICAgICAgICAgICB7CiAgImJ1YmJsaW5nTW91c2VFdmVudHMiOiB0cnVlLAogICJjb2xvciI6ICJibHVlIiwKICAiZGFzaEFycmF5IjogbnVsbCwKICAiZGFzaE9mZnNldCI6IG51bGwsCiAgImZpbGwiOiB0cnVlLAogICJmaWxsQ29sb3IiOiAieWVsbG93IiwKICAiZmlsbE9wYWNpdHkiOiAwLjYsCiAgImZpbGxSdWxlIjogImV2ZW5vZGQiLAogICJsaW5lQ2FwIjogInJvdW5kIiwKICAibGluZUpvaW4iOiAicm91bmQiLAogICJvcGFjaXR5IjogMS4wLAogICJyYWRpdXMiOiA1LAogICJzdHJva2UiOiB0cnVlLAogICJ3ZWlnaHQiOiAzCn0KICAgICAgICAgICAgICAgICkuYWRkVG8obWFwX2JiM2U2OTZlYWM2YjQ4OTlhNDIwMmZlOTU5NWY1MDQxKTsKICAgICAgICAgICAgCiAgICAKICAgICAgICAgICAgdmFyIHBvcHVwX2YzMjQ3ZDRlOWM5YjQ2ZDhiNjFlMzM4YzU2ZDBlNDU0ID0gTC5wb3B1cCh7bWF4V2lkdGg6ICczMDAnfSk7CgogICAgICAgICAgICAKICAgICAgICAgICAgICAgIHZhciBodG1sX2YxNmI1NWMxNTFmODQ0YzFiYTg0MmVjMGU2NzZiODQ0ID0gJCgnPGRpdiBpZD0iaHRtbF9mMTZiNTVjMTUxZjg0NGMxYmE4NDJlYzBlNjc2Yjg0NCIgc3R5bGU9IndpZHRoOiAxMDAuMCU7IGhlaWdodDogMTAwLjAlOyI+QW1lcmljYW4gUmVzdGF1cmFudDwvZGl2PicpWzBdOwogICAgICAgICAgICAgICAgcG9wdXBfZjMyNDdkNGU5YzliNDZkOGI2MWUzMzhjNTZkMGU0NTQuc2V0Q29udGVudChodG1sX2YxNmI1NWMxNTFmODQ0YzFiYTg0MmVjMGU2NzZiODQ0KTsKICAgICAgICAgICAgCgogICAgICAgICAgICBjaXJjbGVfbWFya2VyX2UxNGRlNGFiZmVkYTRiNTViZWRmMDQyN2RlYjgzNmJjLmJpbmRQb3B1cChwb3B1cF9mMzI0N2Q0ZTljOWI0NmQ4YjYxZTMzOGM1NmQwZTQ1NCk7CgogICAgICAgICAgICAKICAgICAgICAKICAgIAogICAgICAgICAgICB2YXIgY2lyY2xlX21hcmtlcl9mMzEwOTgzYzA4NjU0ZDhkYWVlZjcwMTVkYjU3YjQ0ZiA9IEwuY2lyY2xlTWFya2VyKAogICAgICAgICAgICAgICAgWzM0LjAwMTA4MTAwNDQxODM0NiwtODQuNTgzNjM4OTI1MjEzNzJdLAogICAgICAgICAgICAgICAgewogICJidWJibGluZ01vdXNlRXZlbnRzIjogdHJ1ZSwKICAiY29sb3IiOiAiYmx1ZSIsCiAgImRhc2hBcnJheSI6IG51bGwsCiAgImRhc2hPZmZzZXQiOiBudWxsLAogICJmaWxsIjogdHJ1ZSwKICAiZmlsbENvbG9yIjogInllbGxvdyIsCiAgImZpbGxPcGFjaXR5IjogMC42LAogICJmaWxsUnVsZSI6ICJldmVub2RkIiwKICAibGluZUNhcCI6ICJyb3VuZCIsCiAgImxpbmVKb2luIjogInJvdW5kIiwKICAib3BhY2l0eSI6IDEuMCwKICAicmFkaXVzIjogNSwKICAic3Ryb2tlIjogdHJ1ZSwKICAid2VpZ2h0IjogMwp9CiAgICAgICAgICAgICAgICApLmFkZFRvKG1hcF9iYjNlNjk2ZWFjNmI0ODk5YTQyMDJmZTk1OTVmNTA0MSk7CiAgICAgICAgICAgIAogICAgCiAgICAgICAgICAgIHZhciBwb3B1cF8wZGIwNTUwNGNmMjM0MjI1OTFkMzA2MDg0NWYwMmE0ZCA9IEwucG9wdXAoe21heFdpZHRoOiAnMzAwJ30pOwoKICAgICAgICAgICAgCiAgICAgICAgICAgICAgICB2YXIgaHRtbF85YjMzMGNlZjg4YjQ0YzcwYjNjZmQzOTI0MDJmMDNlNyA9ICQoJzxkaXYgaWQ9Imh0bWxfOWIzMzBjZWY4OGI0NGM3MGIzY2ZkMzkyNDAyZjAzZTciIHN0eWxlPSJ3aWR0aDogMTAwLjAlOyBoZWlnaHQ6IDEwMC4wJTsiPkl0YWxpYW4gUmVzdGF1cmFudDwvZGl2PicpWzBdOwogICAgICAgICAgICAgICAgcG9wdXBfMGRiMDU1MDRjZjIzNDIyNTkxZDMwNjA4NDVmMDJhNGQuc2V0Q29udGVudChodG1sXzliMzMwY2VmODhiNDRjNzBiM2NmZDM5MjQwMmYwM2U3KTsKICAgICAgICAgICAgCgogICAgICAgICAgICBjaXJjbGVfbWFya2VyX2YzMTA5ODNjMDg2NTRkOGRhZWVmNzAxNWRiNTdiNDRmLmJpbmRQb3B1cChwb3B1cF8wZGIwNTUwNGNmMjM0MjI1OTFkMzA2MDg0NWYwMmE0ZCk7CgogICAgICAgICAgICAKICAgICAgICAKICAgIAogICAgICAgICAgICB2YXIgY2lyY2xlX21hcmtlcl8wYmY3M2VlYmM2Mjk0NWQ4YTQzMGEyMjEyNDAzZGMzZCA9IEwuY2lyY2xlTWFya2VyKAogICAgICAgICAgICAgICAgWzM0LjAzNDgwNTcsLTg0LjU3MDkxMzldLAogICAgICAgICAgICAgICAgewogICJidWJibGluZ01vdXNlRXZlbnRzIjogdHJ1ZSwKICAiY29sb3IiOiAiYmx1ZSIsCiAgImRhc2hBcnJheSI6IG51bGwsCiAgImRhc2hPZmZzZXQiOiBudWxsLAogICJmaWxsIjogdHJ1ZSwKICAiZmlsbENvbG9yIjogInllbGxvdyIsCiAgImZpbGxPcGFjaXR5IjogMC42LAogICJmaWxsUnVsZSI6ICJldmVub2RkIiwKICAibGluZUNhcCI6ICJyb3VuZCIsCiAgImxpbmVKb2luIjogInJvdW5kIiwKICAib3BhY2l0eSI6IDEuMCwKICAicmFkaXVzIjogNSwKICAic3Ryb2tlIjogdHJ1ZSwKICAid2VpZ2h0IjogMwp9CiAgICAgICAgICAgICAgICApLmFkZFRvKG1hcF9iYjNlNjk2ZWFjNmI0ODk5YTQyMDJmZTk1OTVmNTA0MSk7CiAgICAgICAgICAgIAogICAgCiAgICAgICAgICAgIHZhciBwb3B1cF80MDYyNTQ1M2JkNmU0OWNiOTU1OGE2MDU1ZjNkMWU1YSA9IEwucG9wdXAoe21heFdpZHRoOiAnMzAwJ30pOwoKICAgICAgICAgICAgCiAgICAgICAgICAgICAgICB2YXIgaHRtbF83MmRkNDQ1ODEzN2I0ODllYmVhMmNjZTJiOTBmNGNhYyA9ICQoJzxkaXYgaWQ9Imh0bWxfNzJkZDQ0NTgxMzdiNDg5ZWJlYTJjY2UyYjkwZjRjYWMiIHN0eWxlPSJ3aWR0aDogMTAwLjAlOyBoZWlnaHQ6IDEwMC4wJTsiPk5ldyBBbWVyaWNhbiBSZXN0YXVyYW50PC9kaXY+JylbMF07CiAgICAgICAgICAgICAgICBwb3B1cF80MDYyNTQ1M2JkNmU0OWNiOTU1OGE2MDU1ZjNkMWU1YS5zZXRDb250ZW50KGh0bWxfNzJkZDQ0NTgxMzdiNDg5ZWJlYTJjY2UyYjkwZjRjYWMpOwogICAgICAgICAgICAKCiAgICAgICAgICAgIGNpcmNsZV9tYXJrZXJfMGJmNzNlZWJjNjI5NDVkOGE0MzBhMjIxMjQwM2RjM2QuYmluZFBvcHVwKHBvcHVwXzQwNjI1NDUzYmQ2ZTQ5Y2I5NTU4YTYwNTVmM2QxZTVhKTsKCiAgICAgICAgICAgIAogICAgICAgIAogICAgCiAgICAgICAgICAgIHZhciBjaXJjbGVfbWFya2VyXzcwYWE1MDM3YWNkNTQwMmY5ZGUwNTBkMThjNDhjZWE0ID0gTC5jaXJjbGVNYXJrZXIoCiAgICAgICAgICAgICAgICBbMzQuMDA3MDQ5NCwtODQuNTczOTY0NF0sCiAgICAgICAgICAgICAgICB7CiAgImJ1YmJsaW5nTW91c2VFdmVudHMiOiB0cnVlLAogICJjb2xvciI6ICJibHVlIiwKICAiZGFzaEFycmF5IjogbnVsbCwKICAiZGFzaE9mZnNldCI6IG51bGwsCiAgImZpbGwiOiB0cnVlLAogICJmaWxsQ29sb3IiOiAieWVsbG93IiwKICAiZmlsbE9wYWNpdHkiOiAwLjYsCiAgImZpbGxSdWxlIjogImV2ZW5vZGQiLAogICJsaW5lQ2FwIjogInJvdW5kIiwKICAibGluZUpvaW4iOiAicm91bmQiLAogICJvcGFjaXR5IjogMS4wLAogICJyYWRpdXMiOiA1LAogICJzdHJva2UiOiB0cnVlLAogICJ3ZWlnaHQiOiAzCn0KICAgICAgICAgICAgICAgICkuYWRkVG8obWFwX2JiM2U2OTZlYWM2YjQ4OTlhNDIwMmZlOTU5NWY1MDQxKTsKICAgICAgICAgICAgCiAgICAKICAgICAgICAgICAgdmFyIHBvcHVwXzEyY2NlYTE0MGExODRiODk4NWZhOGQzMWU4MWVhYTM0ID0gTC5wb3B1cCh7bWF4V2lkdGg6ICczMDAnfSk7CgogICAgICAgICAgICAKICAgICAgICAgICAgICAgIHZhciBodG1sXzQ0M2M0NWQ1ZGZhNDQzYjViZDhiNmY1NzhmYTcyMTE2ID0gJCgnPGRpdiBpZD0iaHRtbF80NDNjNDVkNWRmYTQ0M2I1YmQ4YjZmNTc4ZmE3MjExNiIgc3R5bGU9IndpZHRoOiAxMDAuMCU7IGhlaWdodDogMTAwLjAlOyI+RmFzdCBGb29kIFJlc3RhdXJhbnQ8L2Rpdj4nKVswXTsKICAgICAgICAgICAgICAgIHBvcHVwXzEyY2NlYTE0MGExODRiODk4NWZhOGQzMWU4MWVhYTM0LnNldENvbnRlbnQoaHRtbF80NDNjNDVkNWRmYTQ0M2I1YmQ4YjZmNTc4ZmE3MjExNik7CiAgICAgICAgICAgIAoKICAgICAgICAgICAgY2lyY2xlX21hcmtlcl83MGFhNTAzN2FjZDU0MDJmOWRlMDUwZDE4YzQ4Y2VhNC5iaW5kUG9wdXAocG9wdXBfMTJjY2VhMTQwYTE4NGI4OTg1ZmE4ZDMxZTgxZWFhMzQpOwoKICAgICAgICAgICAgCiAgICAgICAgCiAgICAKICAgICAgICAgICAgdmFyIGNpcmNsZV9tYXJrZXJfOGRlZDE2Mjg2MTEyNDJiYWI4MGFhZDYwY2FiZjYzNjcgPSBMLmNpcmNsZU1hcmtlcigKICAgICAgICAgICAgICAgIFszNC4wMDE2MTY3OTU2OTcyNDUsLTg0LjU4Mjc0NTk1NTYwMjQ5XSwKICAgICAgICAgICAgICAgIHsKICAiYnViYmxpbmdNb3VzZUV2ZW50cyI6IHRydWUsCiAgImNvbG9yIjogImJsdWUiLAogICJkYXNoQXJyYXkiOiBudWxsLAogICJkYXNoT2Zmc2V0IjogbnVsbCwKICAiZmlsbCI6IHRydWUsCiAgImZpbGxDb2xvciI6ICJ5ZWxsb3ciLAogICJmaWxsT3BhY2l0eSI6IDAuNiwKICAiZmlsbFJ1bGUiOiAiZXZlbm9kZCIsCiAgImxpbmVDYXAiOiAicm91bmQiLAogICJsaW5lSm9pbiI6ICJyb3VuZCIsCiAgIm9wYWNpdHkiOiAxLjAsCiAgInJhZGl1cyI6IDUsCiAgInN0cm9rZSI6IHRydWUsCiAgIndlaWdodCI6IDMKfQogICAgICAgICAgICAgICAgKS5hZGRUbyhtYXBfYmIzZTY5NmVhYzZiNDg5OWE0MjAyZmU5NTk1ZjUwNDEpOwogICAgICAgICAgICAKICAgIAogICAgICAgICAgICB2YXIgcG9wdXBfNzQyNTBjZmI0MTViNGQwZGEyMGY1ZWMwNDM4ZjA1MzAgPSBMLnBvcHVwKHttYXhXaWR0aDogJzMwMCd9KTsKCiAgICAgICAgICAgIAogICAgICAgICAgICAgICAgdmFyIGh0bWxfOTEzZGEwZTQ5NmE0NDEwMDk3NmUwNjFhNTE0ZTk5MjUgPSAkKCc8ZGl2IGlkPSJodG1sXzkxM2RhMGU0OTZhNDQxMDA5NzZlMDYxYTUxNGU5OTI1IiBzdHlsZT0id2lkdGg6IDEwMC4wJTsgaGVpZ2h0OiAxMDAuMCU7Ij5DYWp1biAvIENyZW9sZSBSZXN0YXVyYW50PC9kaXY+JylbMF07CiAgICAgICAgICAgICAgICBwb3B1cF83NDI1MGNmYjQxNWI0ZDBkYTIwZjVlYzA0MzhmMDUzMC5zZXRDb250ZW50KGh0bWxfOTEzZGEwZTQ5NmE0NDEwMDk3NmUwNjFhNTE0ZTk5MjUpOwogICAgICAgICAgICAKCiAgICAgICAgICAgIGNpcmNsZV9tYXJrZXJfOGRlZDE2Mjg2MTEyNDJiYWI4MGFhZDYwY2FiZjYzNjcuYmluZFBvcHVwKHBvcHVwXzc0MjUwY2ZiNDE1YjRkMGRhMjBmNWVjMDQzOGYwNTMwKTsKCiAgICAgICAgICAgIAogICAgICAgIAogICAgCiAgICAgICAgICAgIHZhciBjaXJjbGVfbWFya2VyXzkyYjg2Yzg2Y2I5YTQ4NTM5MjQ4ODYyNjQ0YTZjNGY2ID0gTC5jaXJjbGVNYXJrZXIoCiAgICAgICAgICAgICAgICBbMzQuMDM0NjA2NTYxODI1MTEsLTg0LjU3MTE0ODYxMTY5ODIzXSwKICAgICAgICAgICAgICAgIHsKICAiYnViYmxpbmdNb3VzZUV2ZW50cyI6IHRydWUsCiAgImNvbG9yIjogImJsdWUiLAogICJkYXNoQXJyYXkiOiBudWxsLAogICJkYXNoT2Zmc2V0IjogbnVsbCwKICAiZmlsbCI6IHRydWUsCiAgImZpbGxDb2xvciI6ICJ5ZWxsb3ciLAogICJmaWxsT3BhY2l0eSI6IDAuNiwKICAiZmlsbFJ1bGUiOiAiZXZlbm9kZCIsCiAgImxpbmVDYXAiOiAicm91bmQiLAogICJsaW5lSm9pbiI6ICJyb3VuZCIsCiAgIm9wYWNpdHkiOiAxLjAsCiAgInJhZGl1cyI6IDUsCiAgInN0cm9rZSI6IHRydWUsCiAgIndlaWdodCI6IDMKfQogICAgICAgICAgICAgICAgKS5hZGRUbyhtYXBfYmIzZTY5NmVhYzZiNDg5OWE0MjAyZmU5NTk1ZjUwNDEpOwogICAgICAgICAgICAKICAgIAogICAgICAgICAgICB2YXIgcG9wdXBfYjRjNjNlZjRkODQxNDU4NGJhY2JhODliZjgwZTk0NzAgPSBMLnBvcHVwKHttYXhXaWR0aDogJzMwMCd9KTsKCiAgICAgICAgICAgIAogICAgICAgICAgICAgICAgdmFyIGh0bWxfNTI3YjRmMjI0NjQ3NDc2YWE1ZjhlOTdiYzkxMTQ4MjkgPSAkKCc8ZGl2IGlkPSJodG1sXzUyN2I0ZjIyNDY0NzQ3NmFhNWY4ZTk3YmM5MTE0ODI5IiBzdHlsZT0id2lkdGg6IDEwMC4wJTsgaGVpZ2h0OiAxMDAuMCU7Ij5DdWJhbiBSZXN0YXVyYW50PC9kaXY+JylbMF07CiAgICAgICAgICAgICAgICBwb3B1cF9iNGM2M2VmNGQ4NDE0NTg0YmFjYmE4OWJmODBlOTQ3MC5zZXRDb250ZW50KGh0bWxfNTI3YjRmMjI0NjQ3NDc2YWE1ZjhlOTdiYzkxMTQ4MjkpOwogICAgICAgICAgICAKCiAgICAgICAgICAgIGNpcmNsZV9tYXJrZXJfOTJiODZjODZjYjlhNDg1MzkyNDg4NjI2NDRhNmM0ZjYuYmluZFBvcHVwKHBvcHVwX2I0YzYzZWY0ZDg0MTQ1ODRiYWNiYTg5YmY4MGU5NDcwKTsKCiAgICAgICAgICAgIAogICAgICAgIAogICAgCiAgICAgICAgICAgIHZhciBjaXJjbGVfbWFya2VyXzA2MjlkYzdlMjU1NTQ5ZTFiNTY5M2E1YjIzZjZiNzZlID0gTC5jaXJjbGVNYXJrZXIoCiAgICAgICAgICAgICAgICBbMzQuMDA2MjY0MjcyOTc3MTg0LC04NC41NzI5NjgwNzI1ODU4Ml0sCiAgICAgICAgICAgICAgICB7CiAgImJ1YmJsaW5nTW91c2VFdmVudHMiOiB0cnVlLAogICJjb2xvciI6ICJibHVlIiwKICAiZGFzaEFycmF5IjogbnVsbCwKICAiZGFzaE9mZnNldCI6IG51bGwsCiAgImZpbGwiOiB0cnVlLAogICJmaWxsQ29sb3IiOiAieWVsbG93IiwKICAiZmlsbE9wYWNpdHkiOiAwLjYsCiAgImZpbGxSdWxlIjogImV2ZW5vZGQiLAogICJsaW5lQ2FwIjogInJvdW5kIiwKICAibGluZUpvaW4iOiAicm91bmQiLAogICJvcGFjaXR5IjogMS4wLAogICJyYWRpdXMiOiA1LAogICJzdHJva2UiOiB0cnVlLAogICJ3ZWlnaHQiOiAzCn0KICAgICAgICAgICAgICAgICkuYWRkVG8obWFwX2JiM2U2OTZlYWM2YjQ4OTlhNDIwMmZlOTU5NWY1MDQxKTsKICAgICAgICAgICAgCiAgICAKICAgICAgICAgICAgdmFyIHBvcHVwX2E3ZDVlNGNlNTQ2ODQ1YWFiMDYxMTBiODVjZjZhMzdhID0gTC5wb3B1cCh7bWF4V2lkdGg6ICczMDAnfSk7CgogICAgICAgICAgICAKICAgICAgICAgICAgICAgIHZhciBodG1sXzFkNDM1MmVhMTM0NzRiZjNiMGVmYzE3NTgxNWM4MmFkID0gJCgnPGRpdiBpZD0iaHRtbF8xZDQzNTJlYTEzNDc0YmYzYjBlZmMxNzU4MTVjODJhZCIgc3R5bGU9IndpZHRoOiAxMDAuMCU7IGhlaWdodDogMTAwLjAlOyI+Q2FyaWJiZWFuIFJlc3RhdXJhbnQ8L2Rpdj4nKVswXTsKICAgICAgICAgICAgICAgIHBvcHVwX2E3ZDVlNGNlNTQ2ODQ1YWFiMDYxMTBiODVjZjZhMzdhLnNldENvbnRlbnQoaHRtbF8xZDQzNTJlYTEzNDc0YmYzYjBlZmMxNzU4MTVjODJhZCk7CiAgICAgICAgICAgIAoKICAgICAgICAgICAgY2lyY2xlX21hcmtlcl8wNjI5ZGM3ZTI1NTU0OWUxYjU2OTNhNWIyM2Y2Yjc2ZS5iaW5kUG9wdXAocG9wdXBfYTdkNWU0Y2U1NDY4NDVhYWIwNjExMGI4NWNmNmEzN2EpOwoKICAgICAgICAgICAgCiAgICAgICAgCiAgICAKICAgICAgICAgICAgdmFyIGNpcmNsZV9tYXJrZXJfY2Q4Njc1ZWZlNTliNGIwOGI0NTQxOGU5ZGM0M2FhZGYgPSBMLmNpcmNsZU1hcmtlcigKICAgICAgICAgICAgICAgIFszNC4wMDkyODI2MTI2OTA5NCwtODQuNTc2MTM0NTAwMDQ1NDNdLAogICAgICAgICAgICAgICAgewogICJidWJibGluZ01vdXNlRXZlbnRzIjogdHJ1ZSwKICAiY29sb3IiOiAiYmx1ZSIsCiAgImRhc2hBcnJheSI6IG51bGwsCiAgImRhc2hPZmZzZXQiOiBudWxsLAogICJmaWxsIjogdHJ1ZSwKICAiZmlsbENvbG9yIjogInllbGxvdyIsCiAgImZpbGxPcGFjaXR5IjogMC42LAogICJmaWxsUnVsZSI6ICJldmVub2RkIiwKICAibGluZUNhcCI6ICJyb3VuZCIsCiAgImxpbmVKb2luIjogInJvdW5kIiwKICAib3BhY2l0eSI6IDEuMCwKICAicmFkaXVzIjogNSwKICAic3Ryb2tlIjogdHJ1ZSwKICAid2VpZ2h0IjogMwp9CiAgICAgICAgICAgICAgICApLmFkZFRvKG1hcF9iYjNlNjk2ZWFjNmI0ODk5YTQyMDJmZTk1OTVmNTA0MSk7CiAgICAgICAgICAgIAogICAgCiAgICAgICAgICAgIHZhciBwb3B1cF81N2ZhZDllMjRhMTM0YTllYjU4MzJiODBkYjQwZWIxMCA9IEwucG9wdXAoe21heFdpZHRoOiAnMzAwJ30pOwoKICAgICAgICAgICAgCiAgICAgICAgICAgICAgICB2YXIgaHRtbF81MTRhMDUyMWE2NWQ0MzNjOGE4YWI4MjIzMDUyZGFiNCA9ICQoJzxkaXYgaWQ9Imh0bWxfNTE0YTA1MjFhNjVkNDMzYzhhOGFiODIyMzA1MmRhYjQiIHN0eWxlPSJ3aWR0aDogMTAwLjAlOyBoZWlnaHQ6IDEwMC4wJTsiPlN1c2hpIFJlc3RhdXJhbnQ8L2Rpdj4nKVswXTsKICAgICAgICAgICAgICAgIHBvcHVwXzU3ZmFkOWUyNGExMzRhOWViNTgzMmI4MGRiNDBlYjEwLnNldENvbnRlbnQoaHRtbF81MTRhMDUyMWE2NWQ0MzNjOGE4YWI4MjIzMDUyZGFiNCk7CiAgICAgICAgICAgIAoKICAgICAgICAgICAgY2lyY2xlX21hcmtlcl9jZDg2NzVlZmU1OWI0YjA4YjQ1NDE4ZTlkYzQzYWFkZi5iaW5kUG9wdXAocG9wdXBfNTdmYWQ5ZTI0YTEzNGE5ZWI1ODMyYjgwZGI0MGViMTApOwoKICAgICAgICAgICAgCiAgICAgICAgCiAgICAKICAgICAgICAgICAgdmFyIGNpcmNsZV9tYXJrZXJfZDZhYmE4ZGEwMTI3NDgzZmI2NjEzZGU4ZmI3NDNlMzkgPSBMLmNpcmNsZU1hcmtlcigKICAgICAgICAgICAgICAgIFszNC4wMDU4MTcsLTg0LjU3NTY1XSwKICAgICAgICAgICAgICAgIHsKICAiYnViYmxpbmdNb3VzZUV2ZW50cyI6IHRydWUsCiAgImNvbG9yIjogImJsdWUiLAogICJkYXNoQXJyYXkiOiBudWxsLAogICJkYXNoT2Zmc2V0IjogbnVsbCwKICAiZmlsbCI6IHRydWUsCiAgImZpbGxDb2xvciI6ICJ5ZWxsb3ciLAogICJmaWxsT3BhY2l0eSI6IDAuNiwKICAiZmlsbFJ1bGUiOiAiZXZlbm9kZCIsCiAgImxpbmVDYXAiOiAicm91bmQiLAogICJsaW5lSm9pbiI6ICJyb3VuZCIsCiAgIm9wYWNpdHkiOiAxLjAsCiAgInJhZGl1cyI6IDUsCiAgInN0cm9rZSI6IHRydWUsCiAgIndlaWdodCI6IDMKfQogICAgICAgICAgICAgICAgKS5hZGRUbyhtYXBfYmIzZTY5NmVhYzZiNDg5OWE0MjAyZmU5NTk1ZjUwNDEpOwogICAgICAgICAgICAKICAgIAogICAgICAgICAgICB2YXIgcG9wdXBfOGQwOGVmNWY3Y2ZiNGUzNjk3NThkZWFiOTgwNGIyNjEgPSBMLnBvcHVwKHttYXhXaWR0aDogJzMwMCd9KTsKCiAgICAgICAgICAgIAogICAgICAgICAgICAgICAgdmFyIGh0bWxfMTY1Yjc3ZmZiZTAyNGMzZTgyMTFhY2VjNGUyOGQ4MDAgPSAkKCc8ZGl2IGlkPSJodG1sXzE2NWI3N2ZmYmUwMjRjM2U4MjExYWNlYzRlMjhkODAwIiBzdHlsZT0id2lkdGg6IDEwMC4wJTsgaGVpZ2h0OiAxMDAuMCU7Ij5DaGluZXNlIFJlc3RhdXJhbnQ8L2Rpdj4nKVswXTsKICAgICAgICAgICAgICAgIHBvcHVwXzhkMDhlZjVmN2NmYjRlMzY5NzU4ZGVhYjk4MDRiMjYxLnNldENvbnRlbnQoaHRtbF8xNjViNzdmZmJlMDI0YzNlODIxMWFjZWM0ZTI4ZDgwMCk7CiAgICAgICAgICAgIAoKICAgICAgICAgICAgY2lyY2xlX21hcmtlcl9kNmFiYThkYTAxMjc0ODNmYjY2MTNkZThmYjc0M2UzOS5iaW5kUG9wdXAocG9wdXBfOGQwOGVmNWY3Y2ZiNGUzNjk3NThkZWFiOTgwNGIyNjEpOwoKICAgICAgICAgICAgCiAgICAgICAgCiAgICAKICAgICAgICAgICAgdmFyIGNpcmNsZV9tYXJrZXJfZWYyMGYyZjhkYTlmNGU1M2FlNWZhYmFiMTY5NjYyZDMgPSBMLmNpcmNsZU1hcmtlcigKICAgICAgICAgICAgICAgIFszNC4wMTE5OTM5LC04NC41NjE3MjEyXSwKICAgICAgICAgICAgICAgIHsKICAiYnViYmxpbmdNb3VzZUV2ZW50cyI6IHRydWUsCiAgImNvbG9yIjogImJsdWUiLAogICJkYXNoQXJyYXkiOiBudWxsLAogICJkYXNoT2Zmc2V0IjogbnVsbCwKICAiZmlsbCI6IHRydWUsCiAgImZpbGxDb2xvciI6ICJ5ZWxsb3ciLAogICJmaWxsT3BhY2l0eSI6IDAuNiwKICAiZmlsbFJ1bGUiOiAiZXZlbm9kZCIsCiAgImxpbmVDYXAiOiAicm91bmQiLAogICJsaW5lSm9pbiI6ICJyb3VuZCIsCiAgIm9wYWNpdHkiOiAxLjAsCiAgInJhZGl1cyI6IDUsCiAgInN0cm9rZSI6IHRydWUsCiAgIndlaWdodCI6IDMKfQogICAgICAgICAgICAgICAgKS5hZGRUbyhtYXBfYmIzZTY5NmVhYzZiNDg5OWE0MjAyZmU5NTk1ZjUwNDEpOwogICAgICAgICAgICAKICAgIAogICAgICAgICAgICB2YXIgcG9wdXBfZTZhNTg1NjJmNmFhNDI5YWIzOTg3MmQ5NWZlNjZiM2EgPSBMLnBvcHVwKHttYXhXaWR0aDogJzMwMCd9KTsKCiAgICAgICAgICAgIAogICAgICAgICAgICAgICAgdmFyIGh0bWxfYmQ2N2ZjYWRlMmQ4NGUxOWI1OWQ3NDM5ZTc4ZTk5MzEgPSAkKCc8ZGl2IGlkPSJodG1sX2JkNjdmY2FkZTJkODRlMTliNTlkNzQzOWU3OGU5OTMxIiBzdHlsZT0id2lkdGg6IDEwMC4wJTsgaGVpZ2h0OiAxMDAuMCU7Ij5Tb3V0aGVybiAvIFNvdWwgRm9vZCBSZXN0YXVyYW50PC9kaXY+JylbMF07CiAgICAgICAgICAgICAgICBwb3B1cF9lNmE1ODU2MmY2YWE0MjlhYjM5ODcyZDk1ZmU2NmIzYS5zZXRDb250ZW50KGh0bWxfYmQ2N2ZjYWRlMmQ4NGUxOWI1OWQ3NDM5ZTc4ZTk5MzEpOwogICAgICAgICAgICAKCiAgICAgICAgICAgIGNpcmNsZV9tYXJrZXJfZWYyMGYyZjhkYTlmNGU1M2FlNWZhYmFiMTY5NjYyZDMuYmluZFBvcHVwKHBvcHVwX2U2YTU4NTYyZjZhYTQyOWFiMzk4NzJkOTVmZTY2YjNhKTsKCiAgICAgICAgICAgIAogICAgICAgIAogICAgCiAgICAgICAgICAgIHZhciBjaXJjbGVfbWFya2VyXzk3NTY4ZDZlMTlmYTQwOThhMWNjOTIzMDRjOWM0MDRiID0gTC5jaXJjbGVNYXJrZXIoCiAgICAgICAgICAgICAgICBbMzQuMDM1MzA4MzQ0NDAxMzEsLTg0LjU3MzIyMDA1Mzk2NDA1XSwKICAgICAgICAgICAgICAgIHsKICAiYnViYmxpbmdNb3VzZUV2ZW50cyI6IHRydWUsCiAgImNvbG9yIjogImJsdWUiLAogICJkYXNoQXJyYXkiOiBudWxsLAogICJkYXNoT2Zmc2V0IjogbnVsbCwKICAiZmlsbCI6IHRydWUsCiAgImZpbGxDb2xvciI6ICJ5ZWxsb3ciLAogICJmaWxsT3BhY2l0eSI6IDAuNiwKICAiZmlsbFJ1bGUiOiAiZXZlbm9kZCIsCiAgImxpbmVDYXAiOiAicm91bmQiLAogICJsaW5lSm9pbiI6ICJyb3VuZCIsCiAgIm9wYWNpdHkiOiAxLjAsCiAgInJhZGl1cyI6IDUsCiAgInN0cm9rZSI6IHRydWUsCiAgIndlaWdodCI6IDMKfQogICAgICAgICAgICAgICAgKS5hZGRUbyhtYXBfYmIzZTY5NmVhYzZiNDg5OWE0MjAyZmU5NTk1ZjUwNDEpOwogICAgICAgICAgICAKICAgIAogICAgICAgICAgICB2YXIgcG9wdXBfODQ0NGEyMmEyNjBlNDdmNzgzZjM3YTk5MmMzZDIzOGEgPSBMLnBvcHVwKHttYXhXaWR0aDogJzMwMCd9KTsKCiAgICAgICAgICAgIAogICAgICAgICAgICAgICAgdmFyIGh0bWxfN2I0YTgxZmZkY2FlNGY2Njg0OWNmY2MyNzAxYTEzOTAgPSAkKCc8ZGl2IGlkPSJodG1sXzdiNGE4MWZmZGNhZTRmNjY4NDljZmNjMjcwMWExMzkwIiBzdHlsZT0id2lkdGg6IDEwMC4wJTsgaGVpZ2h0OiAxMDAuMCU7Ij5HcmVlayBSZXN0YXVyYW50PC9kaXY+JylbMF07CiAgICAgICAgICAgICAgICBwb3B1cF84NDQ0YTIyYTI2MGU0N2Y3ODNmMzdhOTkyYzNkMjM4YS5zZXRDb250ZW50KGh0bWxfN2I0YTgxZmZkY2FlNGY2Njg0OWNmY2MyNzAxYTEzOTApOwogICAgICAgICAgICAKCiAgICAgICAgICAgIGNpcmNsZV9tYXJrZXJfOTc1NjhkNmUxOWZhNDA5OGExY2M5MjMwNGM5YzQwNGIuYmluZFBvcHVwKHBvcHVwXzg0NDRhMjJhMjYwZTQ3Zjc4M2YzN2E5OTJjM2QyMzhhKTsKCiAgICAgICAgICAgIAogICAgICAgIAogICAgCiAgICAgICAgICAgIHZhciBjaXJjbGVfbWFya2VyXzU4MTM4MmMzOTQ5NzRiZDlhM2FlZmQ3NjNmN2Q3YTdkID0gTC5jaXJjbGVNYXJrZXIoCiAgICAgICAgICAgICAgICBbMzQuMDUwNDU2NTQ3NDQ4NzI1LC04NC42NjMzNjg3OTk0NjAwNl0sCiAgICAgICAgICAgICAgICB7CiAgImJ1YmJsaW5nTW91c2VFdmVudHMiOiB0cnVlLAogICJjb2xvciI6ICJibHVlIiwKICAiZGFzaEFycmF5IjogbnVsbCwKICAiZGFzaE9mZnNldCI6IG51bGwsCiAgImZpbGwiOiB0cnVlLAogICJmaWxsQ29sb3IiOiAieWVsbG93IiwKICAiZmlsbE9wYWNpdHkiOiAwLjYsCiAgImZpbGxSdWxlIjogImV2ZW5vZGQiLAogICJsaW5lQ2FwIjogInJvdW5kIiwKICAibGluZUpvaW4iOiAicm91bmQiLAogICJvcGFjaXR5IjogMS4wLAogICJyYWRpdXMiOiA1LAogICJzdHJva2UiOiB0cnVlLAogICJ3ZWlnaHQiOiAzCn0KICAgICAgICAgICAgICAgICkuYWRkVG8obWFwX2JiM2U2OTZlYWM2YjQ4OTlhNDIwMmZlOTU5NWY1MDQxKTsKICAgICAgICAgICAgCiAgICAKICAgICAgICAgICAgdmFyIHBvcHVwXzFjOThkNTY1NjUzZTRmZGRhOTdiYTQ4MDliMGVhOTdmID0gTC5wb3B1cCh7bWF4V2lkdGg6ICczMDAnfSk7CgogICAgICAgICAgICAKICAgICAgICAgICAgICAgIHZhciBodG1sX2I0YTNhYTZlNTI1ZDQwNzJiY2RkYmNiOWYyNGY1NjBhID0gJCgnPGRpdiBpZD0iaHRtbF9iNGEzYWE2ZTUyNWQ0MDcyYmNkZGJjYjlmMjRmNTYwYSIgc3R5bGU9IndpZHRoOiAxMDAuMCU7IGhlaWdodDogMTAwLjAlOyI+U2VhZm9vZCBSZXN0YXVyYW50PC9kaXY+JylbMF07CiAgICAgICAgICAgICAgICBwb3B1cF8xYzk4ZDU2NTY1M2U0ZmRkYTk3YmE0ODA5YjBlYTk3Zi5zZXRDb250ZW50KGh0bWxfYjRhM2FhNmU1MjVkNDA3MmJjZGRiY2I5ZjI0ZjU2MGEpOwogICAgICAgICAgICAKCiAgICAgICAgICAgIGNpcmNsZV9tYXJrZXJfNTgxMzgyYzM5NDk3NGJkOWEzYWVmZDc2M2Y3ZDdhN2QuYmluZFBvcHVwKHBvcHVwXzFjOThkNTY1NjUzZTRmZGRhOTdiYTQ4MDliMGVhOTdmKTsKCiAgICAgICAgICAgIAogICAgICAgIAogICAgCiAgICAgICAgICAgIHZhciBjaXJjbGVfbWFya2VyXzU5ZjFhOTRlNDc5ODRlOGViYWI0ZTBiMzJiMGVmMDViID0gTC5jaXJjbGVNYXJrZXIoCiAgICAgICAgICAgICAgICBbMzQuMDMyODQxNDc3MDQ0MDIsLTg0LjU3NTA0MDcxODgyMTcxXSwKICAgICAgICAgICAgICAgIHsKICAiYnViYmxpbmdNb3VzZUV2ZW50cyI6IHRydWUsCiAgImNvbG9yIjogImJsdWUiLAogICJkYXNoQXJyYXkiOiBudWxsLAogICJkYXNoT2Zmc2V0IjogbnVsbCwKICAiZmlsbCI6IHRydWUsCiAgImZpbGxDb2xvciI6ICJ5ZWxsb3ciLAogICJmaWxsT3BhY2l0eSI6IDAuNiwKICAiZmlsbFJ1bGUiOiAiZXZlbm9kZCIsCiAgImxpbmVDYXAiOiAicm91bmQiLAogICJsaW5lSm9pbiI6ICJyb3VuZCIsCiAgIm9wYWNpdHkiOiAxLjAsCiAgInJhZGl1cyI6IDUsCiAgInN0cm9rZSI6IHRydWUsCiAgIndlaWdodCI6IDMKfQogICAgICAgICAgICAgICAgKS5hZGRUbyhtYXBfYmIzZTY5NmVhYzZiNDg5OWE0MjAyZmU5NTk1ZjUwNDEpOwogICAgICAgICAgICAKICAgIAogICAgICAgICAgICB2YXIgcG9wdXBfNDRiODZkZTdjZGZmNGMwODk4NzM0MjFhM2JkMzRkOWQgPSBMLnBvcHVwKHttYXhXaWR0aDogJzMwMCd9KTsKCiAgICAgICAgICAgIAogICAgICAgICAgICAgICAgdmFyIGh0bWxfODM2MzA4MWNmZjJkNDcxOGE3MTc2MzFmNTg2YTU5MzAgPSAkKCc8ZGl2IGlkPSJodG1sXzgzNjMwODFjZmYyZDQ3MThhNzE3NjMxZjU4NmE1OTMwIiBzdHlsZT0id2lkdGg6IDEwMC4wJTsgaGVpZ2h0OiAxMDAuMCU7Ij5BbWVyaWNhbiBSZXN0YXVyYW50PC9kaXY+JylbMF07CiAgICAgICAgICAgICAgICBwb3B1cF80NGI4NmRlN2NkZmY0YzA4OTg3MzQyMWEzYmQzNGQ5ZC5zZXRDb250ZW50KGh0bWxfODM2MzA4MWNmZjJkNDcxOGE3MTc2MzFmNTg2YTU5MzApOwogICAgICAgICAgICAKCiAgICAgICAgICAgIGNpcmNsZV9tYXJrZXJfNTlmMWE5NGU0Nzk4NGU4ZWJhYjRlMGIzMmIwZWYwNWIuYmluZFBvcHVwKHBvcHVwXzQ0Yjg2ZGU3Y2RmZjRjMDg5ODczNDIxYTNiZDM0ZDlkKTsKCiAgICAgICAgICAgIAogICAgICAgIAogICAgCiAgICAgICAgICAgIHZhciBjaXJjbGVfbWFya2VyXzIxODAxMGI4ZWQ2NzQ2NWJiMjA0NTNiN2QwMTdhMTc4ID0gTC5jaXJjbGVNYXJrZXIoCiAgICAgICAgICAgICAgICBbMzQuMDA5OTAwOCwtODQuNTc0ODU5ODAwMDAwMDFdLAogICAgICAgICAgICAgICAgewogICJidWJibGluZ01vdXNlRXZlbnRzIjogdHJ1ZSwKICAiY29sb3IiOiAiYmx1ZSIsCiAgImRhc2hBcnJheSI6IG51bGwsCiAgImRhc2hPZmZzZXQiOiBudWxsLAogICJmaWxsIjogdHJ1ZSwKICAiZmlsbENvbG9yIjogInllbGxvdyIsCiAgImZpbGxPcGFjaXR5IjogMC42LAogICJmaWxsUnVsZSI6ICJldmVub2RkIiwKICAibGluZUNhcCI6ICJyb3VuZCIsCiAgImxpbmVKb2luIjogInJvdW5kIiwKICAib3BhY2l0eSI6IDEuMCwKICAicmFkaXVzIjogNSwKICAic3Ryb2tlIjogdHJ1ZSwKICAid2VpZ2h0IjogMwp9CiAgICAgICAgICAgICAgICApLmFkZFRvKG1hcF9iYjNlNjk2ZWFjNmI0ODk5YTQyMDJmZTk1OTVmNTA0MSk7CiAgICAgICAgICAgIAogICAgCiAgICAgICAgICAgIHZhciBwb3B1cF85NGYzYzZjNjEwNjI0OWMxYWMzYWNmZTk0Y2M1NTU1NSA9IEwucG9wdXAoe21heFdpZHRoOiAnMzAwJ30pOwoKICAgICAgICAgICAgCiAgICAgICAgICAgICAgICB2YXIgaHRtbF80YjFiNjA4ZWUwOTQ0YmQ4YTRhNzFlZTk2NDE1MmZlNCA9ICQoJzxkaXYgaWQ9Imh0bWxfNGIxYjYwOGVlMDk0NGJkOGE0YTcxZWU5NjQxNTJmZTQiIHN0eWxlPSJ3aWR0aDogMTAwLjAlOyBoZWlnaHQ6IDEwMC4wJTsiPkFzaWFuIFJlc3RhdXJhbnQ8L2Rpdj4nKVswXTsKICAgICAgICAgICAgICAgIHBvcHVwXzk0ZjNjNmM2MTA2MjQ5YzFhYzNhY2ZlOTRjYzU1NTU1LnNldENvbnRlbnQoaHRtbF80YjFiNjA4ZWUwOTQ0YmQ4YTRhNzFlZTk2NDE1MmZlNCk7CiAgICAgICAgICAgIAoKICAgICAgICAgICAgY2lyY2xlX21hcmtlcl8yMTgwMTBiOGVkNjc0NjViYjIwNDUzYjdkMDE3YTE3OC5iaW5kUG9wdXAocG9wdXBfOTRmM2M2YzYxMDYyNDljMWFjM2FjZmU5NGNjNTU1NTUpOwoKICAgICAgICAgICAgCiAgICAgICAgCiAgICAKICAgICAgICAgICAgdmFyIGNpcmNsZV9tYXJrZXJfZTMxMDBhYmI0ZmJhNDJkMWE4ZTcyMzg0MzVhNjViMDMgPSBMLmNpcmNsZU1hcmtlcigKICAgICAgICAgICAgICAgIFszNC4wMzY5MTg3MDAwMDAwMSwtODQuNTY5NjcwMzEzNDkxODNdLAogICAgICAgICAgICAgICAgewogICJidWJibGluZ01vdXNlRXZlbnRzIjogdHJ1ZSwKICAiY29sb3IiOiAiYmx1ZSIsCiAgImRhc2hBcnJheSI6IG51bGwsCiAgImRhc2hPZmZzZXQiOiBudWxsLAogICJmaWxsIjogdHJ1ZSwKICAiZmlsbENvbG9yIjogInllbGxvdyIsCiAgImZpbGxPcGFjaXR5IjogMC42LAogICJmaWxsUnVsZSI6ICJldmVub2RkIiwKICAibGluZUNhcCI6ICJyb3VuZCIsCiAgImxpbmVKb2luIjogInJvdW5kIiwKICAib3BhY2l0eSI6IDEuMCwKICAicmFkaXVzIjogNSwKICAic3Ryb2tlIjogdHJ1ZSwKICAid2VpZ2h0IjogMwp9CiAgICAgICAgICAgICAgICApLmFkZFRvKG1hcF9iYjNlNjk2ZWFjNmI0ODk5YTQyMDJmZTk1OTVmNTA0MSk7CiAgICAgICAgICAgIAogICAgCiAgICAgICAgICAgIHZhciBwb3B1cF9iMzgyNzZlOTM4ZTI0ZGNhOGFmMmUyM2YxZmViNjZjZCA9IEwucG9wdXAoe21heFdpZHRoOiAnMzAwJ30pOwoKICAgICAgICAgICAgCiAgICAgICAgICAgICAgICB2YXIgaHRtbF85NmZhNzBjMGU5Njc0ODBhYTlmZjM0NGMwMjdiOWEyZSA9ICQoJzxkaXYgaWQ9Imh0bWxfOTZmYTcwYzBlOTY3NDgwYWE5ZmYzNDRjMDI3YjlhMmUiIHN0eWxlPSJ3aWR0aDogMTAwLjAlOyBoZWlnaHQ6IDEwMC4wJTsiPkZhc3QgRm9vZCBSZXN0YXVyYW50PC9kaXY+JylbMF07CiAgICAgICAgICAgICAgICBwb3B1cF9iMzgyNzZlOTM4ZTI0ZGNhOGFmMmUyM2YxZmViNjZjZC5zZXRDb250ZW50KGh0bWxfOTZmYTcwYzBlOTY3NDgwYWE5ZmYzNDRjMDI3YjlhMmUpOwogICAgICAgICAgICAKCiAgICAgICAgICAgIGNpcmNsZV9tYXJrZXJfZTMxMDBhYmI0ZmJhNDJkMWE4ZTcyMzg0MzVhNjViMDMuYmluZFBvcHVwKHBvcHVwX2IzODI3NmU5MzhlMjRkY2E4YWYyZTIzZjFmZWI2NmNkKTsKCiAgICAgICAgICAgIAogICAgICAgIAogICAgCiAgICAgICAgICAgIHZhciBjaXJjbGVfbWFya2VyX2E1NzRkNDVmMWM0MDRhYmNiNmI5NTkzZTY2NGM5NDhhID0gTC5jaXJjbGVNYXJrZXIoCiAgICAgICAgICAgICAgICBbMzQuMDEyODcxLC04NC41NzE5MzhdLAogICAgICAgICAgICAgICAgewogICJidWJibGluZ01vdXNlRXZlbnRzIjogdHJ1ZSwKICAiY29sb3IiOiAiYmx1ZSIsCiAgImRhc2hBcnJheSI6IG51bGwsCiAgImRhc2hPZmZzZXQiOiBudWxsLAogICJmaWxsIjogdHJ1ZSwKICAiZmlsbENvbG9yIjogInllbGxvdyIsCiAgImZpbGxPcGFjaXR5IjogMC42LAogICJmaWxsUnVsZSI6ICJldmVub2RkIiwKICAibGluZUNhcCI6ICJyb3VuZCIsCiAgImxpbmVKb2luIjogInJvdW5kIiwKICAib3BhY2l0eSI6IDEuMCwKICAicmFkaXVzIjogNSwKICAic3Ryb2tlIjogdHJ1ZSwKICAid2VpZ2h0IjogMwp9CiAgICAgICAgICAgICAgICApLmFkZFRvKG1hcF9iYjNlNjk2ZWFjNmI0ODk5YTQyMDJmZTk1OTVmNTA0MSk7CiAgICAgICAgICAgIAogICAgCiAgICAgICAgICAgIHZhciBwb3B1cF9hYzEzMjE1ZDBjODY0MWZiYmQ1NzMyMzBmNGQ1ZDQ0ZSA9IEwucG9wdXAoe21heFdpZHRoOiAnMzAwJ30pOwoKICAgICAgICAgICAgCiAgICAgICAgICAgICAgICB2YXIgaHRtbF83ZTlhYzIxY2MxNGQ0NzE3OThjZjMxMWRlNzNkYjU0MiA9ICQoJzxkaXYgaWQ9Imh0bWxfN2U5YWMyMWNjMTRkNDcxNzk4Y2YzMTFkZTczZGI1NDIiIHN0eWxlPSJ3aWR0aDogMTAwLjAlOyBoZWlnaHQ6IDEwMC4wJTsiPkFtZXJpY2FuIFJlc3RhdXJhbnQ8L2Rpdj4nKVswXTsKICAgICAgICAgICAgICAgIHBvcHVwX2FjMTMyMTVkMGM4NjQxZmJiZDU3MzIzMGY0ZDVkNDRlLnNldENvbnRlbnQoaHRtbF83ZTlhYzIxY2MxNGQ0NzE3OThjZjMxMWRlNzNkYjU0Mik7CiAgICAgICAgICAgIAoKICAgICAgICAgICAgY2lyY2xlX21hcmtlcl9hNTc0ZDQ1ZjFjNDA0YWJjYjZiOTU5M2U2NjRjOTQ4YS5iaW5kUG9wdXAocG9wdXBfYWMxMzIxNWQwYzg2NDFmYmJkNTczMjMwZjRkNWQ0NGUpOwoKICAgICAgICAgICAgCiAgICAgICAgCiAgICAKICAgICAgICAgICAgdmFyIGNpcmNsZV9tYXJrZXJfNDkyZDVhZTAxYWMwNGIxN2ExNDc4NmRhNWQzOTEyNzkgPSBMLmNpcmNsZU1hcmtlcigKICAgICAgICAgICAgICAgIFszNC4wMTE3MzE0MTI5NDMyOSwtODQuNTYzNTIwMDIwNjk4MzldLAogICAgICAgICAgICAgICAgewogICJidWJibGluZ01vdXNlRXZlbnRzIjogdHJ1ZSwKICAiY29sb3IiOiAiYmx1ZSIsCiAgImRhc2hBcnJheSI6IG51bGwsCiAgImRhc2hPZmZzZXQiOiBudWxsLAogICJmaWxsIjogdHJ1ZSwKICAiZmlsbENvbG9yIjogInllbGxvdyIsCiAgImZpbGxPcGFjaXR5IjogMC42LAogICJmaWxsUnVsZSI6ICJldmVub2RkIiwKICAibGluZUNhcCI6ICJyb3VuZCIsCiAgImxpbmVKb2luIjogInJvdW5kIiwKICAib3BhY2l0eSI6IDEuMCwKICAicmFkaXVzIjogNSwKICAic3Ryb2tlIjogdHJ1ZSwKICAid2VpZ2h0IjogMwp9CiAgICAgICAgICAgICAgICApLmFkZFRvKG1hcF9iYjNlNjk2ZWFjNmI0ODk5YTQyMDJmZTk1OTVmNTA0MSk7CiAgICAgICAgICAgIAogICAgCiAgICAgICAgICAgIHZhciBwb3B1cF8yODU4MzU3YzcyNzE0MDQ2YjkwOGJmOGI0Mjk2NjYwNyA9IEwucG9wdXAoe21heFdpZHRoOiAnMzAwJ30pOwoKICAgICAgICAgICAgCiAgICAgICAgICAgICAgICB2YXIgaHRtbF8yNWEwOTY3N2JjNjg0MzEwYmYxMTU3M2U0OGY0NDU2OCA9ICQoJzxkaXYgaWQ9Imh0bWxfMjVhMDk2NzdiYzY4NDMxMGJmMTE1NzNlNDhmNDQ1NjgiIHN0eWxlPSJ3aWR0aDogMTAwLjAlOyBoZWlnaHQ6IDEwMC4wJTsiPkl0YWxpYW4gUmVzdGF1cmFudDwvZGl2PicpWzBdOwogICAgICAgICAgICAgICAgcG9wdXBfMjg1ODM1N2M3MjcxNDA0NmI5MDhiZjhiNDI5NjY2MDcuc2V0Q29udGVudChodG1sXzI1YTA5Njc3YmM2ODQzMTBiZjExNTczZTQ4ZjQ0NTY4KTsKICAgICAgICAgICAgCgogICAgICAgICAgICBjaXJjbGVfbWFya2VyXzQ5MmQ1YWUwMWFjMDRiMTdhMTQ3ODZkYTVkMzkxMjc5LmJpbmRQb3B1cChwb3B1cF8yODU4MzU3YzcyNzE0MDQ2YjkwOGJmOGI0Mjk2NjYwNyk7CgogICAgICAgICAgICAKICAgICAgICAKICAgIAogICAgICAgICAgICB2YXIgY2lyY2xlX21hcmtlcl84NzYwZTM1OGMyZTA0YjM0OGMyMWE1MjNkZjg5MjYwNiA9IEwuY2lyY2xlTWFya2VyKAogICAgICAgICAgICAgICAgWzM0LjAzNzcxMTkwNDAwMzIyLC04NC41NzAzMTE1ODgxMjU1OV0sCiAgICAgICAgICAgICAgICB7CiAgImJ1YmJsaW5nTW91c2VFdmVudHMiOiB0cnVlLAogICJjb2xvciI6ICJibHVlIiwKICAiZGFzaEFycmF5IjogbnVsbCwKICAiZGFzaE9mZnNldCI6IG51bGwsCiAgImZpbGwiOiB0cnVlLAogICJmaWxsQ29sb3IiOiAieWVsbG93IiwKICAiZmlsbE9wYWNpdHkiOiAwLjYsCiAgImZpbGxSdWxlIjogImV2ZW5vZGQiLAogICJsaW5lQ2FwIjogInJvdW5kIiwKICAibGluZUpvaW4iOiAicm91bmQiLAogICJvcGFjaXR5IjogMS4wLAogICJyYWRpdXMiOiA1LAogICJzdHJva2UiOiB0cnVlLAogICJ3ZWlnaHQiOiAzCn0KICAgICAgICAgICAgICAgICkuYWRkVG8obWFwX2JiM2U2OTZlYWM2YjQ4OTlhNDIwMmZlOTU5NWY1MDQxKTsKICAgICAgICAgICAgCiAgICAKICAgICAgICAgICAgdmFyIHBvcHVwXzE0OTJlZWYwMGJmYjRlNWFiYjcwM2YyOGRkZjM1ZjFlID0gTC5wb3B1cCh7bWF4V2lkdGg6ICczMDAnfSk7CgogICAgICAgICAgICAKICAgICAgICAgICAgICAgIHZhciBodG1sXzZjZmJhNWNiZDVjYjRhZGFiZmY4ZTc5OThkODU0NDkwID0gJCgnPGRpdiBpZD0iaHRtbF82Y2ZiYTVjYmQ1Y2I0YWRhYmZmOGU3OTk4ZDg1NDQ5MCIgc3R5bGU9IndpZHRoOiAxMDAuMCU7IGhlaWdodDogMTAwLjAlOyI+TWV4aWNhbiBSZXN0YXVyYW50PC9kaXY+JylbMF07CiAgICAgICAgICAgICAgICBwb3B1cF8xNDkyZWVmMDBiZmI0ZTVhYmI3MDNmMjhkZGYzNWYxZS5zZXRDb250ZW50KGh0bWxfNmNmYmE1Y2JkNWNiNGFkYWJmZjhlNzk5OGQ4NTQ0OTApOwogICAgICAgICAgICAKCiAgICAgICAgICAgIGNpcmNsZV9tYXJrZXJfODc2MGUzNThjMmUwNGIzNDhjMjFhNTIzZGY4OTI2MDYuYmluZFBvcHVwKHBvcHVwXzE0OTJlZWYwMGJmYjRlNWFiYjcwM2YyOGRkZjM1ZjFlKTsKCiAgICAgICAgICAgIAogICAgICAgIAogICAgCiAgICAgICAgICAgIHZhciBjaXJjbGVfbWFya2VyXzhmMzExOGIzZjUwYzQ1OGRiZWU0MmRiMzYzZjg4NzQ1ID0gTC5jaXJjbGVNYXJrZXIoCiAgICAgICAgICAgICAgICBbMzQuMDM0MTk3OSwtODQuNjc4NzUxOF0sCiAgICAgICAgICAgICAgICB7CiAgImJ1YmJsaW5nTW91c2VFdmVudHMiOiB0cnVlLAogICJjb2xvciI6ICJibHVlIiwKICAiZGFzaEFycmF5IjogbnVsbCwKICAiZGFzaE9mZnNldCI6IG51bGwsCiAgImZpbGwiOiB0cnVlLAogICJmaWxsQ29sb3IiOiAieWVsbG93IiwKICAiZmlsbE9wYWNpdHkiOiAwLjYsCiAgImZpbGxSdWxlIjogImV2ZW5vZGQiLAogICJsaW5lQ2FwIjogInJvdW5kIiwKICAibGluZUpvaW4iOiAicm91bmQiLAogICJvcGFjaXR5IjogMS4wLAogICJyYWRpdXMiOiA1LAogICJzdHJva2UiOiB0cnVlLAogICJ3ZWlnaHQiOiAzCn0KICAgICAgICAgICAgICAgICkuYWRkVG8obWFwX2JiM2U2OTZlYWM2YjQ4OTlhNDIwMmZlOTU5NWY1MDQxKTsKICAgICAgICAgICAgCiAgICAKICAgICAgICAgICAgdmFyIHBvcHVwX2Y0ZDA4ZTE2NmFmZDQ5Mjc4NjY4MWFjMDVjOThlMjM3ID0gTC5wb3B1cCh7bWF4V2lkdGg6ICczMDAnfSk7CgogICAgICAgICAgICAKICAgICAgICAgICAgICAgIHZhciBodG1sXzg4NGUzNDU1Y2M4MjRkMzRiM2M5MDM2ZTdjNmY1YTM0ID0gJCgnPGRpdiBpZD0iaHRtbF84ODRlMzQ1NWNjODI0ZDM0YjNjOTAzNmU3YzZmNWEzNCIgc3R5bGU9IndpZHRoOiAxMDAuMCU7IGhlaWdodDogMTAwLjAlOyI+RmFzdCBGb29kIFJlc3RhdXJhbnQ8L2Rpdj4nKVswXTsKICAgICAgICAgICAgICAgIHBvcHVwX2Y0ZDA4ZTE2NmFmZDQ5Mjc4NjY4MWFjMDVjOThlMjM3LnNldENvbnRlbnQoaHRtbF84ODRlMzQ1NWNjODI0ZDM0YjNjOTAzNmU3YzZmNWEzNCk7CiAgICAgICAgICAgIAoKICAgICAgICAgICAgY2lyY2xlX21hcmtlcl84ZjMxMThiM2Y1MGM0NThkYmVlNDJkYjM2M2Y4ODc0NS5iaW5kUG9wdXAocG9wdXBfZjRkMDhlMTY2YWZkNDkyNzg2NjgxYWMwNWM5OGUyMzcpOwoKICAgICAgICAgICAgCiAgICAgICAgCiAgICAKICAgICAgICAgICAgdmFyIGNpcmNsZV9tYXJrZXJfNWYxOTRlMGFkOGZmNDFkYjhjNjhiNzc5MTUxMjNlNjIgPSBMLmNpcmNsZU1hcmtlcigKICAgICAgICAgICAgICAgIFszNC4wMzY5MzY5Mjk2MDQ0MiwtODQuNjc5NjE2NTY0NzUxOV0sCiAgICAgICAgICAgICAgICB7CiAgImJ1YmJsaW5nTW91c2VFdmVudHMiOiB0cnVlLAogICJjb2xvciI6ICJibHVlIiwKICAiZGFzaEFycmF5IjogbnVsbCwKICAiZGFzaE9mZnNldCI6IG51bGwsCiAgImZpbGwiOiB0cnVlLAogICJmaWxsQ29sb3IiOiAieWVsbG93IiwKICAiZmlsbE9wYWNpdHkiOiAwLjYsCiAgImZpbGxSdWxlIjogImV2ZW5vZGQiLAogICJsaW5lQ2FwIjogInJvdW5kIiwKICAibGluZUpvaW4iOiAicm91bmQiLAogICJvcGFjaXR5IjogMS4wLAogICJyYWRpdXMiOiA1LAogICJzdHJva2UiOiB0cnVlLAogICJ3ZWlnaHQiOiAzCn0KICAgICAgICAgICAgICAgICkuYWRkVG8obWFwX2JiM2U2OTZlYWM2YjQ4OTlhNDIwMmZlOTU5NWY1MDQxKTsKICAgICAgICAgICAgCiAgICAKICAgICAgICAgICAgdmFyIHBvcHVwXzc0MGY5NjMwOTg5OTQzZDc4YTU0MTA0OTY0ZWI3ODhiID0gTC5wb3B1cCh7bWF4V2lkdGg6ICczMDAnfSk7CgogICAgICAgICAgICAKICAgICAgICAgICAgICAgIHZhciBodG1sX2I1NDI4ZWEyZGQxMzQ2ZmVhODU5NDBjMTY3MjViZDg0ID0gJCgnPGRpdiBpZD0iaHRtbF9iNTQyOGVhMmRkMTM0NmZlYTg1OTQwYzE2NzI1YmQ4NCIgc3R5bGU9IndpZHRoOiAxMDAuMCU7IGhlaWdodDogMTAwLjAlOyI+TWV4aWNhbiBSZXN0YXVyYW50PC9kaXY+JylbMF07CiAgICAgICAgICAgICAgICBwb3B1cF83NDBmOTYzMDk4OTk0M2Q3OGE1NDEwNDk2NGViNzg4Yi5zZXRDb250ZW50KGh0bWxfYjU0MjhlYTJkZDEzNDZmZWE4NTk0MGMxNjcyNWJkODQpOwogICAgICAgICAgICAKCiAgICAgICAgICAgIGNpcmNsZV9tYXJrZXJfNWYxOTRlMGFkOGZmNDFkYjhjNjhiNzc5MTUxMjNlNjIuYmluZFBvcHVwKHBvcHVwXzc0MGY5NjMwOTg5OTQzZDc4YTU0MTA0OTY0ZWI3ODhiKTsKCiAgICAgICAgICAgIAogICAgICAgIAogICAgCiAgICAgICAgICAgIHZhciBjaXJjbGVfbWFya2VyXzg5YjM5ZTlmYWM3YjQ5ODU4NDEwNjhhOTY0MTU0NGNjID0gTC5jaXJjbGVNYXJrZXIoCiAgICAgICAgICAgICAgICBbMzQuMDY2MDEwNjkyMDkyNDI2LC04NC42Nzc3Mjc1MDc1MTY4XSwKICAgICAgICAgICAgICAgIHsKICAiYnViYmxpbmdNb3VzZUV2ZW50cyI6IHRydWUsCiAgImNvbG9yIjogImJsdWUiLAogICJkYXNoQXJyYXkiOiBudWxsLAogICJkYXNoT2Zmc2V0IjogbnVsbCwKICAiZmlsbCI6IHRydWUsCiAgImZpbGxDb2xvciI6ICJ5ZWxsb3ciLAogICJmaWxsT3BhY2l0eSI6IDAuNiwKICAiZmlsbFJ1bGUiOiAiZXZlbm9kZCIsCiAgImxpbmVDYXAiOiAicm91bmQiLAogICJsaW5lSm9pbiI6ICJyb3VuZCIsCiAgIm9wYWNpdHkiOiAxLjAsCiAgInJhZGl1cyI6IDUsCiAgInN0cm9rZSI6IHRydWUsCiAgIndlaWdodCI6IDMKfQogICAgICAgICAgICAgICAgKS5hZGRUbyhtYXBfYmIzZTY5NmVhYzZiNDg5OWE0MjAyZmU5NTk1ZjUwNDEpOwogICAgICAgICAgICAKICAgIAogICAgICAgICAgICB2YXIgcG9wdXBfMzhhMTI3Y2RmNjM3NDNhM2FhMzA4MzFlN2RjMDYxZjEgPSBMLnBvcHVwKHttYXhXaWR0aDogJzMwMCd9KTsKCiAgICAgICAgICAgIAogICAgICAgICAgICAgICAgdmFyIGh0bWxfODY1NWExMzljMTUwNGM3NWIzZTJhMDYzODkxZWU0Y2IgPSAkKCc8ZGl2IGlkPSJodG1sXzg2NTVhMTM5YzE1MDRjNzViM2UyYTA2Mzg5MWVlNGNiIiBzdHlsZT0id2lkdGg6IDEwMC4wJTsgaGVpZ2h0OiAxMDAuMCU7Ij5DYWp1biAvIENyZW9sZSBSZXN0YXVyYW50PC9kaXY+JylbMF07CiAgICAgICAgICAgICAgICBwb3B1cF8zOGExMjdjZGY2Mzc0M2EzYWEzMDgzMWU3ZGMwNjFmMS5zZXRDb250ZW50KGh0bWxfODY1NWExMzljMTUwNGM3NWIzZTJhMDYzODkxZWU0Y2IpOwogICAgICAgICAgICAKCiAgICAgICAgICAgIGNpcmNsZV9tYXJrZXJfODliMzllOWZhYzdiNDk4NTg0MTA2OGE5NjQxNTQ0Y2MuYmluZFBvcHVwKHBvcHVwXzM4YTEyN2NkZjYzNzQzYTNhYTMwODMxZTdkYzA2MWYxKTsKCiAgICAgICAgICAgIAogICAgICAgIAogICAgCiAgICAgICAgICAgIHZhciBjaXJjbGVfbWFya2VyX2E4NTU1ZWVhM2RiYzQxN2E5NTM5MmY0NmVkMmZiOTlhID0gTC5jaXJjbGVNYXJrZXIoCiAgICAgICAgICAgICAgICBbMzQuMDM1ODgyNTUyNjAwMDg2LC04NC42NzkxMjgxMDAwNjc4XSwKICAgICAgICAgICAgICAgIHsKICAiYnViYmxpbmdNb3VzZUV2ZW50cyI6IHRydWUsCiAgImNvbG9yIjogImJsdWUiLAogICJkYXNoQXJyYXkiOiBudWxsLAogICJkYXNoT2Zmc2V0IjogbnVsbCwKICAiZmlsbCI6IHRydWUsCiAgImZpbGxDb2xvciI6ICJ5ZWxsb3ciLAogICJmaWxsT3BhY2l0eSI6IDAuNiwKICAiZmlsbFJ1bGUiOiAiZXZlbm9kZCIsCiAgImxpbmVDYXAiOiAicm91bmQiLAogICJsaW5lSm9pbiI6ICJyb3VuZCIsCiAgIm9wYWNpdHkiOiAxLjAsCiAgInJhZGl1cyI6IDUsCiAgInN0cm9rZSI6IHRydWUsCiAgIndlaWdodCI6IDMKfQogICAgICAgICAgICAgICAgKS5hZGRUbyhtYXBfYmIzZTY5NmVhYzZiNDg5OWE0MjAyZmU5NTk1ZjUwNDEpOwogICAgICAgICAgICAKICAgIAogICAgICAgICAgICB2YXIgcG9wdXBfMGJkNmYzN2E5YjgxNDQ4ZDgzNTU0OGFjZWEwNWUwNmIgPSBMLnBvcHVwKHttYXhXaWR0aDogJzMwMCd9KTsKCiAgICAgICAgICAgIAogICAgICAgICAgICAgICAgdmFyIGh0bWxfMDRkYzM5ZWVmYmZlNDY5OGIwOTU1MmQ0ZDY3ODFkM2IgPSAkKCc8ZGl2IGlkPSJodG1sXzA0ZGMzOWVlZmJmZTQ2OThiMDk1NTJkNGQ2NzgxZDNiIiBzdHlsZT0id2lkdGg6IDEwMC4wJTsgaGVpZ2h0OiAxMDAuMCU7Ij5NZXhpY2FuIFJlc3RhdXJhbnQ8L2Rpdj4nKVswXTsKICAgICAgICAgICAgICAgIHBvcHVwXzBiZDZmMzdhOWI4MTQ0OGQ4MzU1NDhhY2VhMDVlMDZiLnNldENvbnRlbnQoaHRtbF8wNGRjMzllZWZiZmU0Njk4YjA5NTUyZDRkNjc4MWQzYik7CiAgICAgICAgICAgIAoKICAgICAgICAgICAgY2lyY2xlX21hcmtlcl9hODU1NWVlYTNkYmM0MTdhOTUzOTJmNDZlZDJmYjk5YS5iaW5kUG9wdXAocG9wdXBfMGJkNmYzN2E5YjgxNDQ4ZDgzNTU0OGFjZWEwNWUwNmIpOwoKICAgICAgICAgICAgCiAgICAgICAgCiAgICAKICAgICAgICAgICAgdmFyIGNpcmNsZV9tYXJrZXJfMmYxMjU0OWZkMWFkNGUzYzhiODBiZGQ1MTQ3YjBkY2EgPSBMLmNpcmNsZU1hcmtlcigKICAgICAgICAgICAgICAgIFszMy45NzYyNjE0MDc0ODA1NiwtODQuNTQ2NTg4NzUyNDE3MjZdLAogICAgICAgICAgICAgICAgewogICJidWJibGluZ01vdXNlRXZlbnRzIjogdHJ1ZSwKICAiY29sb3IiOiAiYmx1ZSIsCiAgImRhc2hBcnJheSI6IG51bGwsCiAgImRhc2hPZmZzZXQiOiBudWxsLAogICJmaWxsIjogdHJ1ZSwKICAiZmlsbENvbG9yIjogInllbGxvdyIsCiAgImZpbGxPcGFjaXR5IjogMC42LAogICJmaWxsUnVsZSI6ICJldmVub2RkIiwKICAibGluZUNhcCI6ICJyb3VuZCIsCiAgImxpbmVKb2luIjogInJvdW5kIiwKICAib3BhY2l0eSI6IDEuMCwKICAicmFkaXVzIjogNSwKICAic3Ryb2tlIjogdHJ1ZSwKICAid2VpZ2h0IjogMwp9CiAgICAgICAgICAgICAgICApLmFkZFRvKG1hcF9iYjNlNjk2ZWFjNmI0ODk5YTQyMDJmZTk1OTVmNTA0MSk7CiAgICAgICAgICAgIAogICAgCiAgICAgICAgICAgIHZhciBwb3B1cF83NWFkOGY2YmFhMjU0ZTVhOTg5ZjgwY2M2MzgwNmIzNiA9IEwucG9wdXAoe21heFdpZHRoOiAnMzAwJ30pOwoKICAgICAgICAgICAgCiAgICAgICAgICAgICAgICB2YXIgaHRtbF9hMDNmM2JlZTVhODY0MWNhOGQ3Mjc3OTdhODY4MmZlYiA9ICQoJzxkaXYgaWQ9Imh0bWxfYTAzZjNiZWU1YTg2NDFjYThkNzI3Nzk3YTg2ODJmZWIiIHN0eWxlPSJ3aWR0aDogMTAwLjAlOyBoZWlnaHQ6IDEwMC4wJTsiPktvcmVhbiBSZXN0YXVyYW50PC9kaXY+JylbMF07CiAgICAgICAgICAgICAgICBwb3B1cF83NWFkOGY2YmFhMjU0ZTVhOTg5ZjgwY2M2MzgwNmIzNi5zZXRDb250ZW50KGh0bWxfYTAzZjNiZWU1YTg2NDFjYThkNzI3Nzk3YTg2ODJmZWIpOwogICAgICAgICAgICAKCiAgICAgICAgICAgIGNpcmNsZV9tYXJrZXJfMmYxMjU0OWZkMWFkNGUzYzhiODBiZGQ1MTQ3YjBkY2EuYmluZFBvcHVwKHBvcHVwXzc1YWQ4ZjZiYWEyNTRlNWE5ODlmODBjYzYzODA2YjM2KTsKCiAgICAgICAgICAgIAogICAgICAgIAogICAgCiAgICAgICAgICAgIHZhciBjaXJjbGVfbWFya2VyX2RlYmY4MDcwZjllYTQ5MWM4ODc1NTNhNjMzNWFmMzVjID0gTC5jaXJjbGVNYXJrZXIoCiAgICAgICAgICAgICAgICBbMzQuMDY1NzgwNTY1MTQ0NTgsLTg0LjY3NzE2MzQ0MTc5OTRdLAogICAgICAgICAgICAgICAgewogICJidWJibGluZ01vdXNlRXZlbnRzIjogdHJ1ZSwKICAiY29sb3IiOiAiYmx1ZSIsCiAgImRhc2hBcnJheSI6IG51bGwsCiAgImRhc2hPZmZzZXQiOiBudWxsLAogICJmaWxsIjogdHJ1ZSwKICAiZmlsbENvbG9yIjogInllbGxvdyIsCiAgImZpbGxPcGFjaXR5IjogMC42LAogICJmaWxsUnVsZSI6ICJldmVub2RkIiwKICAibGluZUNhcCI6ICJyb3VuZCIsCiAgImxpbmVKb2luIjogInJvdW5kIiwKICAib3BhY2l0eSI6IDEuMCwKICAicmFkaXVzIjogNSwKICAic3Ryb2tlIjogdHJ1ZSwKICAid2VpZ2h0IjogMwp9CiAgICAgICAgICAgICAgICApLmFkZFRvKG1hcF9iYjNlNjk2ZWFjNmI0ODk5YTQyMDJmZTk1OTVmNTA0MSk7CiAgICAgICAgICAgIAogICAgCiAgICAgICAgICAgIHZhciBwb3B1cF85MzI5MTA1MjcxNTY0M2E4YjNmZjU5N2VkYTM3MWQwYSA9IEwucG9wdXAoe21heFdpZHRoOiAnMzAwJ30pOwoKICAgICAgICAgICAgCiAgICAgICAgICAgICAgICB2YXIgaHRtbF8xMTY3MDNjNjU1Zjc0OGRkOWExNzE4MDk0MjE5MTZjZCA9ICQoJzxkaXYgaWQ9Imh0bWxfMTE2NzAzYzY1NWY3NDhkZDlhMTcxODA5NDIxOTE2Y2QiIHN0eWxlPSJ3aWR0aDogMTAwLjAlOyBoZWlnaHQ6IDEwMC4wJTsiPkl0YWxpYW4gUmVzdGF1cmFudDwvZGl2PicpWzBdOwogICAgICAgICAgICAgICAgcG9wdXBfOTMyOTEwNTI3MTU2NDNhOGIzZmY1OTdlZGEzNzFkMGEuc2V0Q29udGVudChodG1sXzExNjcwM2M2NTVmNzQ4ZGQ5YTE3MTgwOTQyMTkxNmNkKTsKICAgICAgICAgICAgCgogICAgICAgICAgICBjaXJjbGVfbWFya2VyX2RlYmY4MDcwZjllYTQ5MWM4ODc1NTNhNjMzNWFmMzVjLmJpbmRQb3B1cChwb3B1cF85MzI5MTA1MjcxNTY0M2E4YjNmZjU5N2VkYTM3MWQwYSk7CgogICAgICAgICAgICAKICAgICAgICAKICAgIAogICAgICAgICAgICB2YXIgY2lyY2xlX21hcmtlcl82MDNhMmRhY2ZkNDk0NDI5OTM0YTg0ZjFiMGQ4YmE1NiA9IEwuY2lyY2xlTWFya2VyKAogICAgICAgICAgICAgICAgWzMzLjk0Nzk1NTI3MDgzMDM2LC04NC42MjYyNzgyMTM1NTc2XSwKICAgICAgICAgICAgICAgIHsKICAiYnViYmxpbmdNb3VzZUV2ZW50cyI6IHRydWUsCiAgImNvbG9yIjogImJsdWUiLAogICJkYXNoQXJyYXkiOiBudWxsLAogICJkYXNoT2Zmc2V0IjogbnVsbCwKICAiZmlsbCI6IHRydWUsCiAgImZpbGxDb2xvciI6ICJ5ZWxsb3ciLAogICJmaWxsT3BhY2l0eSI6IDAuNiwKICAiZmlsbFJ1bGUiOiAiZXZlbm9kZCIsCiAgImxpbmVDYXAiOiAicm91bmQiLAogICJsaW5lSm9pbiI6ICJyb3VuZCIsCiAgIm9wYWNpdHkiOiAxLjAsCiAgInJhZGl1cyI6IDUsCiAgInN0cm9rZSI6IHRydWUsCiAgIndlaWdodCI6IDMKfQogICAgICAgICAgICAgICAgKS5hZGRUbyhtYXBfYmIzZTY5NmVhYzZiNDg5OWE0MjAyZmU5NTk1ZjUwNDEpOwogICAgICAgICAgICAKICAgIAogICAgICAgICAgICB2YXIgcG9wdXBfYzhjZTc2NzU1ODE0NGQwNDgxM2MxNWQ3YmU2NWYyYTQgPSBMLnBvcHVwKHttYXhXaWR0aDogJzMwMCd9KTsKCiAgICAgICAgICAgIAogICAgICAgICAgICAgICAgdmFyIGh0bWxfNjIwMTc0M2Y3MDM0NDY3NzlkZjkzOGFlMGYzNmM2MjYgPSAkKCc8ZGl2IGlkPSJodG1sXzYyMDE3NDNmNzAzNDQ2Nzc5ZGY5MzhhZTBmMzZjNjI2IiBzdHlsZT0id2lkdGg6IDEwMC4wJTsgaGVpZ2h0OiAxMDAuMCU7Ij5NZXhpY2FuIFJlc3RhdXJhbnQ8L2Rpdj4nKVswXTsKICAgICAgICAgICAgICAgIHBvcHVwX2M4Y2U3Njc1NTgxNDRkMDQ4MTNjMTVkN2JlNjVmMmE0LnNldENvbnRlbnQoaHRtbF82MjAxNzQzZjcwMzQ0Njc3OWRmOTM4YWUwZjM2YzYyNik7CiAgICAgICAgICAgIAoKICAgICAgICAgICAgY2lyY2xlX21hcmtlcl82MDNhMmRhY2ZkNDk0NDI5OTM0YTg0ZjFiMGQ4YmE1Ni5iaW5kUG9wdXAocG9wdXBfYzhjZTc2NzU1ODE0NGQwNDgxM2MxNWQ3YmU2NWYyYTQpOwoKICAgICAgICAgICAgCiAgICAgICAgCiAgICAKICAgICAgICAgICAgdmFyIGNpcmNsZV9tYXJrZXJfZmFkMTZiMzg0MmM1NDY1N2I2NGYxYTY4NTdkMzRjZTQgPSBMLmNpcmNsZU1hcmtlcigKICAgICAgICAgICAgICAgIFszNC4wODE5Mjk5NzM5OTEyMywtODQuNTc0OTc1NDczMjk5MDVdLAogICAgICAgICAgICAgICAgewogICJidWJibGluZ01vdXNlRXZlbnRzIjogdHJ1ZSwKICAiY29sb3IiOiAiYmx1ZSIsCiAgImRhc2hBcnJheSI6IG51bGwsCiAgImRhc2hPZmZzZXQiOiBudWxsLAogICJmaWxsIjogdHJ1ZSwKICAiZmlsbENvbG9yIjogInllbGxvdyIsCiAgImZpbGxPcGFjaXR5IjogMC42LAogICJmaWxsUnVsZSI6ICJldmVub2RkIiwKICAibGluZUNhcCI6ICJyb3VuZCIsCiAgImxpbmVKb2luIjogInJvdW5kIiwKICAib3BhY2l0eSI6IDEuMCwKICAicmFkaXVzIjogNSwKICAic3Ryb2tlIjogdHJ1ZSwKICAid2VpZ2h0IjogMwp9CiAgICAgICAgICAgICAgICApLmFkZFRvKG1hcF9iYjNlNjk2ZWFjNmI0ODk5YTQyMDJmZTk1OTVmNTA0MSk7CiAgICAgICAgICAgIAogICAgCiAgICAgICAgICAgIHZhciBwb3B1cF9iOTk4YWNmOWI3NDk0ODA4ODU1N2M5ZjBjNzk5ZmNmNCA9IEwucG9wdXAoe21heFdpZHRoOiAnMzAwJ30pOwoKICAgICAgICAgICAgCiAgICAgICAgICAgICAgICB2YXIgaHRtbF82YTQ5ZjQ0MmQ0Mzg0N2ZhYmZhNzc4MGQzODg5ZTJlOCA9ICQoJzxkaXYgaWQ9Imh0bWxfNmE0OWY0NDJkNDM4NDdmYWJmYTc3ODBkMzg4OWUyZTgiIHN0eWxlPSJ3aWR0aDogMTAwLjAlOyBoZWlnaHQ6IDEwMC4wJTsiPlRoYWkgUmVzdGF1cmFudDwvZGl2PicpWzBdOwogICAgICAgICAgICAgICAgcG9wdXBfYjk5OGFjZjliNzQ5NDgwODg1NTdjOWYwYzc5OWZjZjQuc2V0Q29udGVudChodG1sXzZhNDlmNDQyZDQzODQ3ZmFiZmE3NzgwZDM4ODllMmU4KTsKICAgICAgICAgICAgCgogICAgICAgICAgICBjaXJjbGVfbWFya2VyX2ZhZDE2YjM4NDJjNTQ2NTdiNjRmMWE2ODU3ZDM0Y2U0LmJpbmRQb3B1cChwb3B1cF9iOTk4YWNmOWI3NDk0ODA4ODU1N2M5ZjBjNzk5ZmNmNCk7CgogICAgICAgICAgICAKICAgICAgICAKICAgIAogICAgICAgICAgICB2YXIgY2lyY2xlX21hcmtlcl8wM2QwOTQzY2E4ZDk0YjE1OGNhMDM1MTU0ZDk4OWI5NiA9IEwuY2lyY2xlTWFya2VyKAogICAgICAgICAgICAgICAgWzMzLjk5ODU3MTUsLTg0LjcwNDQyNDldLAogICAgICAgICAgICAgICAgewogICJidWJibGluZ01vdXNlRXZlbnRzIjogdHJ1ZSwKICAiY29sb3IiOiAiYmx1ZSIsCiAgImRhc2hBcnJheSI6IG51bGwsCiAgImRhc2hPZmZzZXQiOiBudWxsLAogICJmaWxsIjogdHJ1ZSwKICAiZmlsbENvbG9yIjogInllbGxvdyIsCiAgImZpbGxPcGFjaXR5IjogMC42LAogICJmaWxsUnVsZSI6ICJldmVub2RkIiwKICAibGluZUNhcCI6ICJyb3VuZCIsCiAgImxpbmVKb2luIjogInJvdW5kIiwKICAib3BhY2l0eSI6IDEuMCwKICAicmFkaXVzIjogNSwKICAic3Ryb2tlIjogdHJ1ZSwKICAid2VpZ2h0IjogMwp9CiAgICAgICAgICAgICAgICApLmFkZFRvKG1hcF9iYjNlNjk2ZWFjNmI0ODk5YTQyMDJmZTk1OTVmNTA0MSk7CiAgICAgICAgICAgIAogICAgCiAgICAgICAgICAgIHZhciBwb3B1cF9hYTUzMzI2MTEwYTI0NjhmYTAxNDg2OWMzMjcyZmUyMCA9IEwucG9wdXAoe21heFdpZHRoOiAnMzAwJ30pOwoKICAgICAgICAgICAgCiAgICAgICAgICAgICAgICB2YXIgaHRtbF85NmQxZGQ2ZGJlM2U0NDhiYWNlODEwMzg0MThiZjVlZiA9ICQoJzxkaXYgaWQ9Imh0bWxfOTZkMWRkNmRiZTNlNDQ4YmFjZTgxMDM4NDE4YmY1ZWYiIHN0eWxlPSJ3aWR0aDogMTAwLjAlOyBoZWlnaHQ6IDEwMC4wJTsiPkZhc3QgRm9vZCBSZXN0YXVyYW50PC9kaXY+JylbMF07CiAgICAgICAgICAgICAgICBwb3B1cF9hYTUzMzI2MTEwYTI0NjhmYTAxNDg2OWMzMjcyZmUyMC5zZXRDb250ZW50KGh0bWxfOTZkMWRkNmRiZTNlNDQ4YmFjZTgxMDM4NDE4YmY1ZWYpOwogICAgICAgICAgICAKCiAgICAgICAgICAgIGNpcmNsZV9tYXJrZXJfMDNkMDk0M2NhOGQ5NGIxNThjYTAzNTE1NGQ5ODliOTYuYmluZFBvcHVwKHBvcHVwX2FhNTMzMjYxMTBhMjQ2OGZhMDE0ODY5YzMyNzJmZTIwKTsKCiAgICAgICAgICAgIAogICAgICAgIAogICAgCiAgICAgICAgICAgIHZhciBjaXJjbGVfbWFya2VyXzA0OTczMTgzOTExOTQ0Njk5MTk4ZDY0OTFlZWRiZWUxID0gTC5jaXJjbGVNYXJrZXIoCiAgICAgICAgICAgICAgICBbMzMuOTc3NzA1NjUxMTc0MDYsLTg0LjU1NTkwNjY0MjUyNzM1XSwKICAgICAgICAgICAgICAgIHsKICAiYnViYmxpbmdNb3VzZUV2ZW50cyI6IHRydWUsCiAgImNvbG9yIjogImJsdWUiLAogICJkYXNoQXJyYXkiOiBudWxsLAogICJkYXNoT2Zmc2V0IjogbnVsbCwKICAiZmlsbCI6IHRydWUsCiAgImZpbGxDb2xvciI6ICJ5ZWxsb3ciLAogICJmaWxsT3BhY2l0eSI6IDAuNiwKICAiZmlsbFJ1bGUiOiAiZXZlbm9kZCIsCiAgImxpbmVDYXAiOiAicm91bmQiLAogICJsaW5lSm9pbiI6ICJyb3VuZCIsCiAgIm9wYWNpdHkiOiAxLjAsCiAgInJhZGl1cyI6IDUsCiAgInN0cm9rZSI6IHRydWUsCiAgIndlaWdodCI6IDMKfQogICAgICAgICAgICAgICAgKS5hZGRUbyhtYXBfYmIzZTY5NmVhYzZiNDg5OWE0MjAyZmU5NTk1ZjUwNDEpOwogICAgICAgICAgICAKICAgIAogICAgICAgICAgICB2YXIgcG9wdXBfYWE4ODQ3OTUyNWVmNGNjOTkyY2VmYWQwNDdmMmZjYWIgPSBMLnBvcHVwKHttYXhXaWR0aDogJzMwMCd9KTsKCiAgICAgICAgICAgIAogICAgICAgICAgICAgICAgdmFyIGh0bWxfNTQzZDU3ZTRlY2ZhNDhhZmI3NjU2YmIxM2JlNmY2NjcgPSAkKCc8ZGl2IGlkPSJodG1sXzU0M2Q1N2U0ZWNmYTQ4YWZiNzY1NmJiMTNiZTZmNjY3IiBzdHlsZT0id2lkdGg6IDEwMC4wJTsgaGVpZ2h0OiAxMDAuMCU7Ij5Tb3V0aGVybiAvIFNvdWwgRm9vZCBSZXN0YXVyYW50PC9kaXY+JylbMF07CiAgICAgICAgICAgICAgICBwb3B1cF9hYTg4NDc5NTI1ZWY0Y2M5OTJjZWZhZDA0N2YyZmNhYi5zZXRDb250ZW50KGh0bWxfNTQzZDU3ZTRlY2ZhNDhhZmI3NjU2YmIxM2JlNmY2NjcpOwogICAgICAgICAgICAKCiAgICAgICAgICAgIGNpcmNsZV9tYXJrZXJfMDQ5NzMxODM5MTE5NDQ2OTkxOThkNjQ5MWVlZGJlZTEuYmluZFBvcHVwKHBvcHVwX2FhODg0Nzk1MjVlZjRjYzk5MmNlZmFkMDQ3ZjJmY2FiKTsKCiAgICAgICAgICAgIAogICAgICAgIAo8L3NjcmlwdD4=\" style=\"position:absolute;width:100%;height:100%;left:0;top:0;border:none !important;\" allowfullscreen webkitallowfullscreen mozallowfullscreen></iframe></div></div>"
      ],
      "text/plain": [
       "<folium.folium.Map at 0x7f09d0c74a58>"
      ]
     },
     "execution_count": 27,
     "metadata": {},
     "output_type": "execute_result"
    }
   ],
   "source": [
    "kennesaw_map = folium.Map(location=[kennesaw['lat'], kennesaw['lng']], zoom_start=13) # generate map centred around Ecco\n",
    "\n",
    "# Add restaurants to the map\n",
    "for lat, lng, label in zip(df_ken_rest.lat, df_ken_rest.lng, df_ken_rest.categories):\n",
    "    folium.features.CircleMarker(\n",
    "        [lat, lng],\n",
    "        radius=5,\n",
    "        popup=label,\n",
    "        fill=True,\n",
    "        color='blue',\n",
    "        fill_color='yellow',\n",
    "        fill_opacity=0.6\n",
    "        ).add_to(kennesaw_map)\n",
    "\n",
    "# display map\n",
    "kennesaw_map"
   ]
  },
  {
   "cell_type": "markdown",
   "metadata": {},
   "source": [
    "<hr size=30px></hr>"
   ]
  },
  {
   "cell_type": "markdown",
   "metadata": {},
   "source": [
    "# Capstone Project - The Battle of Neighborhoods (Week 2)"
   ]
  },
  {
   "cell_type": "markdown",
   "metadata": {},
   "source": [
    "### 3- Methodology section which represents the main component of the report where you discuss and describe any exploratory data analysis that you did, any inferential statistical testing that you performed, if any, and what machine learnings were used and why."
   ]
  },
  {
   "cell_type": "markdown",
   "metadata": {},
   "source": [
    "### 4- Results section where you discuss the results."
   ]
  },
  {
   "cell_type": "markdown",
   "metadata": {},
   "source": [
    "### 5- Discussion section where you discuss any observations you noted and any recommendations you can make based on the results."
   ]
  },
  {
   "cell_type": "markdown",
   "metadata": {},
   "source": [
    "### 6- Conclusion section where you conclude the report."
   ]
  },
  {
   "cell_type": "code",
   "execution_count": null,
   "metadata": {},
   "outputs": [],
   "source": []
  }
 ],
 "metadata": {
  "kernelspec": {
   "display_name": "Python 3",
   "language": "python",
   "name": "python3"
  },
  "language_info": {
   "codemirror_mode": {
    "name": "ipython",
    "version": 3
   },
   "file_extension": ".py",
   "mimetype": "text/x-python",
   "name": "python",
   "nbconvert_exporter": "python",
   "pygments_lexer": "ipython3",
   "version": "3.7.3"
  }
 },
 "nbformat": 4,
 "nbformat_minor": 4
}
